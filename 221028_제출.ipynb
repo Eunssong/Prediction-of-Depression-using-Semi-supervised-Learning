{
  "nbformat": 4,
  "nbformat_minor": 0,
  "metadata": {
    "colab": {
      "provenance": []
    },
    "kernelspec": {
      "name": "python3",
      "display_name": "Python 3"
    },
    "language_info": {
      "name": "python"
    }
  },
  "cells": [
    {
      "cell_type": "code",
      "execution_count": null,
      "metadata": {
        "colab": {
          "base_uri": "https://localhost:8080/"
        },
        "id": "f4xD5SBnIuB6",
        "outputId": "9284bcf0-1898-4cfe-9373-8154700b2d72"
      },
      "outputs": [
        {
          "output_type": "stream",
          "name": "stdout",
          "text": [
            "Drive already mounted at /content/drive; to attempt to forcibly remount, call drive.mount(\"/content/drive\", force_remount=True).\n"
          ]
        }
      ],
      "source": [
        "from google.colab import drive\n",
        "drive.mount('/content/drive')"
      ]
    },
    {
      "cell_type": "code",
      "source": [
        "import os\n",
        "import openpyxl\n",
        "import copy\n",
        "import numpy as np\n",
        "import pandas as pd\n",
        "import matplotlib.pyplot as plt\n",
        "import seaborn as sns\n",
        "import missingno as msno # 결측치 시각화\n",
        "plt.rc(\"font\", family=\"Malgun Gothic\")\n",
        "\n",
        "import warnings\n",
        "warnings.filterwarnings(action = 'ignore')"
      ],
      "metadata": {
        "id": "6DALfaLJJA7j"
      },
      "execution_count": null,
      "outputs": []
    },
    {
      "cell_type": "code",
      "source": [
        "# 데이터 불러오기 #  encoding = 'CP949'\n",
        "data = pd.read_csv('/content/drive/MyDrive/ICICPE_질병관리청 데이터/data.csv')"
      ],
      "metadata": {
        "id": "P_qtS83GJCKa"
      },
      "execution_count": null,
      "outputs": []
    },
    {
      "cell_type": "code",
      "source": [
        "df = copy.deepcopy(data)"
      ],
      "metadata": {
        "id": "NP20Dgt3JDzR"
      },
      "execution_count": null,
      "outputs": []
    },
    {
      "cell_type": "code",
      "source": [
        "'''\n",
        "'ID': 개인 아이디\n",
        "'region': 17개 시도\n",
        "'sex': 성별\n",
        "'age': 나이\n",
        "'incom': 소득 4분위수(개인)\n",
        "'edu': 교육수준\n",
        "'EC1_1': 경제활동 상태\n",
        "'cfam': 가구원수 9\n",
        "'allownc': 기초생활수급 여부 99 >>9\n",
        "'house': 주택소유여부 9\n",
        "'marri_2': 결혼상태 9\n",
        "'D_1_1': 주관적 건강인지 9\n",
        "'D_2_1': 최근 2주간 몸이 불편했던 경험 유무 9\n",
        "'BD1_11' : (만12세이상)1년간 음주빈도 9\n",
        "'BE3_75': 고강도 신체활동 여부: 여가\n",
        "'BP5': 2주이상 연속 우울감 여부 9\n",
        "'BP6_10':1년간 자살 생각 여부 9\n",
        "'mh_stress': 스트레스 인지율\n",
        "'BS3_1': 현재흡연여부 8 >> 9\n",
        "'DF2_pr': 우울증 현재 유병 여부  9\n",
        "'''"
      ],
      "metadata": {
        "colab": {
          "base_uri": "https://localhost:8080/",
          "height": 54
        },
        "id": "q7YNunA5JG0a",
        "outputId": "cac8e964-087f-46df-fe05-3f3ecf8524b3"
      },
      "execution_count": null,
      "outputs": [
        {
          "output_type": "execute_result",
          "data": {
            "text/plain": [
              "\"\\n'ID': 개인 아이디\\n'region': 17개 시도\\n'sex': 성별\\n'age': 나이\\n'incom': 소득 4분위수(개인)\\n'edu': 교육수준\\n'EC1_1': 경제활동 상태\\n'cfam': 가구원수 9\\n'allownc': 기초생활수급 여부 99 >>9\\n'house': 주택소유여부 9\\n'marri_2': 결혼상태 9\\n'D_1_1': 주관적 건강인지 9\\n'D_2_1': 최근 2주간 몸이 불편했던 경험 유무 9\\n'BD1_11' : (만12세이상)1년간 음주빈도 9\\n'BE3_75': 고강도 신체활동 여부: 여가\\n'BP5': 2주이상 연속 우울감 여부 9\\n'BP6_10':1년간 자살 생각 여부 9\\n'mh_stress': 스트레스 인지율\\n'BS3_1': 현재흡연여부 8 >> 9\\n'DF2_pr': 우울증 현재 유병 여부  9\\n\""
            ],
            "application/vnd.google.colaboratory.intrinsic+json": {
              "type": "string"
            }
          },
          "metadata": {},
          "execution_count": 1264
        }
      ]
    },
    {
      "cell_type": "code",
      "source": [
        "# 선택한 features로 구성된 df\n",
        "\n",
        "df = df.loc[:,['region', 'sex', 'age', 'incm', 'edu', 'EC1_1', 'cfam',\n",
        "       'allownc', 'house', 'marri_2', 'D_1_1', 'D_2_1', 'BD1_11','BE3_75', 'BP5','BP6_10', 'mh_stress', 'BS3_1', 'DF2_pr']]"
      ],
      "metadata": {
        "id": "8IpJr59UJJS4"
      },
      "execution_count": null,
      "outputs": []
    },
    {
      "cell_type": "code",
      "source": [
        "# 성인을 대상으로만 함 >>  만 19세 이상\n",
        "df = df[df['age'] >=19]\n",
        "df.info()"
      ],
      "metadata": {
        "colab": {
          "base_uri": "https://localhost:8080/"
        },
        "id": "1r_3XVVLJLoh",
        "outputId": "021bd277-e11a-4726-a59f-9c7dfc2bc2a7"
      },
      "execution_count": null,
      "outputs": [
        {
          "output_type": "stream",
          "name": "stdout",
          "text": [
            "<class 'pandas.core.frame.DataFrame'>\n",
            "Int64Index: 6133 entries, 0 to 7358\n",
            "Data columns (total 19 columns):\n",
            " #   Column     Non-Null Count  Dtype \n",
            "---  ------     --------------  ----- \n",
            " 0   region     6133 non-null   int64 \n",
            " 1   sex        6133 non-null   int64 \n",
            " 2   age        6133 non-null   int64 \n",
            " 3   incm       6133 non-null   object\n",
            " 4   edu        6133 non-null   object\n",
            " 5   EC1_1      6133 non-null   object\n",
            " 6   cfam       6133 non-null   int64 \n",
            " 7   allownc    6133 non-null   int64 \n",
            " 8   house      6133 non-null   int64 \n",
            " 9   marri_2    6133 non-null   int64 \n",
            " 10  D_1_1      6133 non-null   object\n",
            " 11  D_2_1      6133 non-null   object\n",
            " 12  BD1_11     6133 non-null   object\n",
            " 13  BE3_75     6133 non-null   object\n",
            " 14  BP5        6133 non-null   object\n",
            " 15  BP6_10     6133 non-null   object\n",
            " 16  mh_stress  6133 non-null   object\n",
            " 17  BS3_1      6133 non-null   object\n",
            " 18  DF2_pr     6133 non-null   object\n",
            "dtypes: int64(7), object(12)\n",
            "memory usage: 958.3+ KB\n"
          ]
        }
      ]
    },
    {
      "cell_type": "markdown",
      "source": [
        "# Feature 정리"
      ],
      "metadata": {
        "id": "EJ46Bfd3JO-B"
      }
    },
    {
      "cell_type": "code",
      "source": [
        "df.columns"
      ],
      "metadata": {
        "colab": {
          "base_uri": "https://localhost:8080/"
        },
        "id": "TVExcgovJQgO",
        "outputId": "b6f1483d-829e-4e15-eb5f-ef7984aacd0a"
      },
      "execution_count": null,
      "outputs": [
        {
          "output_type": "execute_result",
          "data": {
            "text/plain": [
              "Index(['region', 'sex', 'age', 'incm', 'edu', 'EC1_1', 'cfam', 'allownc',\n",
              "       'house', 'marri_2', 'D_1_1', 'D_2_1', 'BD1_11', 'BE3_75', 'BP5',\n",
              "       'BP6_10', 'mh_stress', 'BS3_1', 'DF2_pr'],\n",
              "      dtype='object')"
            ]
          },
          "metadata": {},
          "execution_count": 1267
        }
      ]
    },
    {
      "cell_type": "code",
      "source": [
        "df =df.dropna()\n",
        "df"
      ],
      "metadata": {
        "colab": {
          "base_uri": "https://localhost:8080/",
          "height": 424
        },
        "id": "KUwSNLhNJS_J",
        "outputId": "d15ceb91-862d-4e64-9a7a-d1516574c369"
      },
      "execution_count": null,
      "outputs": [
        {
          "output_type": "execute_result",
          "data": {
            "text/plain": [
              "      region  sex  age incm edu EC1_1  cfam  allownc  house  marri_2 D_1_1  \\\n",
              "0          1    1   39    1   4     1     5       20      1        1     2   \n",
              "1          1    2   39    1   4     1     5       20      1        1     2   \n",
              "5          1    1   60    4         9     4       20      2        1     9   \n",
              "6          1    2   58    4   3     1     4       20      2        1     1   \n",
              "7          1    1   56    4   4     1     4       20      2        1     1   \n",
              "...      ...  ...  ...  ...  ..   ...   ...      ...    ...      ...   ...   \n",
              "7354       8    2   61    2   3     1     2       20      2        1     3   \n",
              "7355       8    2   51    3   4     1     2       10      2        4     3   \n",
              "7356       8    2   24    3   4     1     2       10      2       88     3   \n",
              "7357       8    1   65    2   4     2     2       20      2        1     2   \n",
              "7358       8    2   57    1   3     1     2       20      2        1     4   \n",
              "\n",
              "     D_2_1 BD1_11 BE3_75 BP5 BP6_10 mh_stress BS3_1 DF2_pr  \n",
              "0        2      3      2   8      8         0     3      8  \n",
              "1        2      1      2   8      8         0     8      8  \n",
              "5        9      8      9   8      8         1     1      9  \n",
              "6        2      2      2   8      8         0     8      8  \n",
              "7        2      2      1   8      8         0     8      8  \n",
              "...    ...    ...    ...  ..    ...       ...   ...    ...  \n",
              "7354     2      2      2   8      8         0     8      8  \n",
              "7355     2      2      1   8      8         0     8      8  \n",
              "7356     2      6      2   8      8         0     1      8  \n",
              "7357     2      4      2   8      8         0     3      8  \n",
              "7358     2      2      2   8      8         0     8      0  \n",
              "\n",
              "[6133 rows x 19 columns]"
            ],
            "text/html": [
              "\n",
              "  <div id=\"df-7df30a70-967e-4867-9933-35f7b7d0f140\">\n",
              "    <div class=\"colab-df-container\">\n",
              "      <div>\n",
              "<style scoped>\n",
              "    .dataframe tbody tr th:only-of-type {\n",
              "        vertical-align: middle;\n",
              "    }\n",
              "\n",
              "    .dataframe tbody tr th {\n",
              "        vertical-align: top;\n",
              "    }\n",
              "\n",
              "    .dataframe thead th {\n",
              "        text-align: right;\n",
              "    }\n",
              "</style>\n",
              "<table border=\"1\" class=\"dataframe\">\n",
              "  <thead>\n",
              "    <tr style=\"text-align: right;\">\n",
              "      <th></th>\n",
              "      <th>region</th>\n",
              "      <th>sex</th>\n",
              "      <th>age</th>\n",
              "      <th>incm</th>\n",
              "      <th>edu</th>\n",
              "      <th>EC1_1</th>\n",
              "      <th>cfam</th>\n",
              "      <th>allownc</th>\n",
              "      <th>house</th>\n",
              "      <th>marri_2</th>\n",
              "      <th>D_1_1</th>\n",
              "      <th>D_2_1</th>\n",
              "      <th>BD1_11</th>\n",
              "      <th>BE3_75</th>\n",
              "      <th>BP5</th>\n",
              "      <th>BP6_10</th>\n",
              "      <th>mh_stress</th>\n",
              "      <th>BS3_1</th>\n",
              "      <th>DF2_pr</th>\n",
              "    </tr>\n",
              "  </thead>\n",
              "  <tbody>\n",
              "    <tr>\n",
              "      <th>0</th>\n",
              "      <td>1</td>\n",
              "      <td>1</td>\n",
              "      <td>39</td>\n",
              "      <td>1</td>\n",
              "      <td>4</td>\n",
              "      <td>1</td>\n",
              "      <td>5</td>\n",
              "      <td>20</td>\n",
              "      <td>1</td>\n",
              "      <td>1</td>\n",
              "      <td>2</td>\n",
              "      <td>2</td>\n",
              "      <td>3</td>\n",
              "      <td>2</td>\n",
              "      <td>8</td>\n",
              "      <td>8</td>\n",
              "      <td>0</td>\n",
              "      <td>3</td>\n",
              "      <td>8</td>\n",
              "    </tr>\n",
              "    <tr>\n",
              "      <th>1</th>\n",
              "      <td>1</td>\n",
              "      <td>2</td>\n",
              "      <td>39</td>\n",
              "      <td>1</td>\n",
              "      <td>4</td>\n",
              "      <td>1</td>\n",
              "      <td>5</td>\n",
              "      <td>20</td>\n",
              "      <td>1</td>\n",
              "      <td>1</td>\n",
              "      <td>2</td>\n",
              "      <td>2</td>\n",
              "      <td>1</td>\n",
              "      <td>2</td>\n",
              "      <td>8</td>\n",
              "      <td>8</td>\n",
              "      <td>0</td>\n",
              "      <td>8</td>\n",
              "      <td>8</td>\n",
              "    </tr>\n",
              "    <tr>\n",
              "      <th>5</th>\n",
              "      <td>1</td>\n",
              "      <td>1</td>\n",
              "      <td>60</td>\n",
              "      <td>4</td>\n",
              "      <td></td>\n",
              "      <td>9</td>\n",
              "      <td>4</td>\n",
              "      <td>20</td>\n",
              "      <td>2</td>\n",
              "      <td>1</td>\n",
              "      <td>9</td>\n",
              "      <td>9</td>\n",
              "      <td>8</td>\n",
              "      <td>9</td>\n",
              "      <td>8</td>\n",
              "      <td>8</td>\n",
              "      <td>1</td>\n",
              "      <td>1</td>\n",
              "      <td>9</td>\n",
              "    </tr>\n",
              "    <tr>\n",
              "      <th>6</th>\n",
              "      <td>1</td>\n",
              "      <td>2</td>\n",
              "      <td>58</td>\n",
              "      <td>4</td>\n",
              "      <td>3</td>\n",
              "      <td>1</td>\n",
              "      <td>4</td>\n",
              "      <td>20</td>\n",
              "      <td>2</td>\n",
              "      <td>1</td>\n",
              "      <td>1</td>\n",
              "      <td>2</td>\n",
              "      <td>2</td>\n",
              "      <td>2</td>\n",
              "      <td>8</td>\n",
              "      <td>8</td>\n",
              "      <td>0</td>\n",
              "      <td>8</td>\n",
              "      <td>8</td>\n",
              "    </tr>\n",
              "    <tr>\n",
              "      <th>7</th>\n",
              "      <td>1</td>\n",
              "      <td>1</td>\n",
              "      <td>56</td>\n",
              "      <td>4</td>\n",
              "      <td>4</td>\n",
              "      <td>1</td>\n",
              "      <td>4</td>\n",
              "      <td>20</td>\n",
              "      <td>2</td>\n",
              "      <td>1</td>\n",
              "      <td>1</td>\n",
              "      <td>2</td>\n",
              "      <td>2</td>\n",
              "      <td>1</td>\n",
              "      <td>8</td>\n",
              "      <td>8</td>\n",
              "      <td>0</td>\n",
              "      <td>8</td>\n",
              "      <td>8</td>\n",
              "    </tr>\n",
              "    <tr>\n",
              "      <th>...</th>\n",
              "      <td>...</td>\n",
              "      <td>...</td>\n",
              "      <td>...</td>\n",
              "      <td>...</td>\n",
              "      <td>...</td>\n",
              "      <td>...</td>\n",
              "      <td>...</td>\n",
              "      <td>...</td>\n",
              "      <td>...</td>\n",
              "      <td>...</td>\n",
              "      <td>...</td>\n",
              "      <td>...</td>\n",
              "      <td>...</td>\n",
              "      <td>...</td>\n",
              "      <td>...</td>\n",
              "      <td>...</td>\n",
              "      <td>...</td>\n",
              "      <td>...</td>\n",
              "      <td>...</td>\n",
              "    </tr>\n",
              "    <tr>\n",
              "      <th>7354</th>\n",
              "      <td>8</td>\n",
              "      <td>2</td>\n",
              "      <td>61</td>\n",
              "      <td>2</td>\n",
              "      <td>3</td>\n",
              "      <td>1</td>\n",
              "      <td>2</td>\n",
              "      <td>20</td>\n",
              "      <td>2</td>\n",
              "      <td>1</td>\n",
              "      <td>3</td>\n",
              "      <td>2</td>\n",
              "      <td>2</td>\n",
              "      <td>2</td>\n",
              "      <td>8</td>\n",
              "      <td>8</td>\n",
              "      <td>0</td>\n",
              "      <td>8</td>\n",
              "      <td>8</td>\n",
              "    </tr>\n",
              "    <tr>\n",
              "      <th>7355</th>\n",
              "      <td>8</td>\n",
              "      <td>2</td>\n",
              "      <td>51</td>\n",
              "      <td>3</td>\n",
              "      <td>4</td>\n",
              "      <td>1</td>\n",
              "      <td>2</td>\n",
              "      <td>10</td>\n",
              "      <td>2</td>\n",
              "      <td>4</td>\n",
              "      <td>3</td>\n",
              "      <td>2</td>\n",
              "      <td>2</td>\n",
              "      <td>1</td>\n",
              "      <td>8</td>\n",
              "      <td>8</td>\n",
              "      <td>0</td>\n",
              "      <td>8</td>\n",
              "      <td>8</td>\n",
              "    </tr>\n",
              "    <tr>\n",
              "      <th>7356</th>\n",
              "      <td>8</td>\n",
              "      <td>2</td>\n",
              "      <td>24</td>\n",
              "      <td>3</td>\n",
              "      <td>4</td>\n",
              "      <td>1</td>\n",
              "      <td>2</td>\n",
              "      <td>10</td>\n",
              "      <td>2</td>\n",
              "      <td>88</td>\n",
              "      <td>3</td>\n",
              "      <td>2</td>\n",
              "      <td>6</td>\n",
              "      <td>2</td>\n",
              "      <td>8</td>\n",
              "      <td>8</td>\n",
              "      <td>0</td>\n",
              "      <td>1</td>\n",
              "      <td>8</td>\n",
              "    </tr>\n",
              "    <tr>\n",
              "      <th>7357</th>\n",
              "      <td>8</td>\n",
              "      <td>1</td>\n",
              "      <td>65</td>\n",
              "      <td>2</td>\n",
              "      <td>4</td>\n",
              "      <td>2</td>\n",
              "      <td>2</td>\n",
              "      <td>20</td>\n",
              "      <td>2</td>\n",
              "      <td>1</td>\n",
              "      <td>2</td>\n",
              "      <td>2</td>\n",
              "      <td>4</td>\n",
              "      <td>2</td>\n",
              "      <td>8</td>\n",
              "      <td>8</td>\n",
              "      <td>0</td>\n",
              "      <td>3</td>\n",
              "      <td>8</td>\n",
              "    </tr>\n",
              "    <tr>\n",
              "      <th>7358</th>\n",
              "      <td>8</td>\n",
              "      <td>2</td>\n",
              "      <td>57</td>\n",
              "      <td>1</td>\n",
              "      <td>3</td>\n",
              "      <td>1</td>\n",
              "      <td>2</td>\n",
              "      <td>20</td>\n",
              "      <td>2</td>\n",
              "      <td>1</td>\n",
              "      <td>4</td>\n",
              "      <td>2</td>\n",
              "      <td>2</td>\n",
              "      <td>2</td>\n",
              "      <td>8</td>\n",
              "      <td>8</td>\n",
              "      <td>0</td>\n",
              "      <td>8</td>\n",
              "      <td>0</td>\n",
              "    </tr>\n",
              "  </tbody>\n",
              "</table>\n",
              "<p>6133 rows × 19 columns</p>\n",
              "</div>\n",
              "      <button class=\"colab-df-convert\" onclick=\"convertToInteractive('df-7df30a70-967e-4867-9933-35f7b7d0f140')\"\n",
              "              title=\"Convert this dataframe to an interactive table.\"\n",
              "              style=\"display:none;\">\n",
              "        \n",
              "  <svg xmlns=\"http://www.w3.org/2000/svg\" height=\"24px\"viewBox=\"0 0 24 24\"\n",
              "       width=\"24px\">\n",
              "    <path d=\"M0 0h24v24H0V0z\" fill=\"none\"/>\n",
              "    <path d=\"M18.56 5.44l.94 2.06.94-2.06 2.06-.94-2.06-.94-.94-2.06-.94 2.06-2.06.94zm-11 1L8.5 8.5l.94-2.06 2.06-.94-2.06-.94L8.5 2.5l-.94 2.06-2.06.94zm10 10l.94 2.06.94-2.06 2.06-.94-2.06-.94-.94-2.06-.94 2.06-2.06.94z\"/><path d=\"M17.41 7.96l-1.37-1.37c-.4-.4-.92-.59-1.43-.59-.52 0-1.04.2-1.43.59L10.3 9.45l-7.72 7.72c-.78.78-.78 2.05 0 2.83L4 21.41c.39.39.9.59 1.41.59.51 0 1.02-.2 1.41-.59l7.78-7.78 2.81-2.81c.8-.78.8-2.07 0-2.86zM5.41 20L4 18.59l7.72-7.72 1.47 1.35L5.41 20z\"/>\n",
              "  </svg>\n",
              "      </button>\n",
              "      \n",
              "  <style>\n",
              "    .colab-df-container {\n",
              "      display:flex;\n",
              "      flex-wrap:wrap;\n",
              "      gap: 12px;\n",
              "    }\n",
              "\n",
              "    .colab-df-convert {\n",
              "      background-color: #E8F0FE;\n",
              "      border: none;\n",
              "      border-radius: 50%;\n",
              "      cursor: pointer;\n",
              "      display: none;\n",
              "      fill: #1967D2;\n",
              "      height: 32px;\n",
              "      padding: 0 0 0 0;\n",
              "      width: 32px;\n",
              "    }\n",
              "\n",
              "    .colab-df-convert:hover {\n",
              "      background-color: #E2EBFA;\n",
              "      box-shadow: 0px 1px 2px rgba(60, 64, 67, 0.3), 0px 1px 3px 1px rgba(60, 64, 67, 0.15);\n",
              "      fill: #174EA6;\n",
              "    }\n",
              "\n",
              "    [theme=dark] .colab-df-convert {\n",
              "      background-color: #3B4455;\n",
              "      fill: #D2E3FC;\n",
              "    }\n",
              "\n",
              "    [theme=dark] .colab-df-convert:hover {\n",
              "      background-color: #434B5C;\n",
              "      box-shadow: 0px 1px 3px 1px rgba(0, 0, 0, 0.15);\n",
              "      filter: drop-shadow(0px 1px 2px rgba(0, 0, 0, 0.3));\n",
              "      fill: #FFFFFF;\n",
              "    }\n",
              "  </style>\n",
              "\n",
              "      <script>\n",
              "        const buttonEl =\n",
              "          document.querySelector('#df-7df30a70-967e-4867-9933-35f7b7d0f140 button.colab-df-convert');\n",
              "        buttonEl.style.display =\n",
              "          google.colab.kernel.accessAllowed ? 'block' : 'none';\n",
              "\n",
              "        async function convertToInteractive(key) {\n",
              "          const element = document.querySelector('#df-7df30a70-967e-4867-9933-35f7b7d0f140');\n",
              "          const dataTable =\n",
              "            await google.colab.kernel.invokeFunction('convertToInteractive',\n",
              "                                                     [key], {});\n",
              "          if (!dataTable) return;\n",
              "\n",
              "          const docLinkHtml = 'Like what you see? Visit the ' +\n",
              "            '<a target=\"_blank\" href=https://colab.research.google.com/notebooks/data_table.ipynb>data table notebook</a>'\n",
              "            + ' to learn more about interactive tables.';\n",
              "          element.innerHTML = '';\n",
              "          dataTable['output_type'] = 'display_data';\n",
              "          await google.colab.output.renderOutput(dataTable, element);\n",
              "          const docLink = document.createElement('div');\n",
              "          docLink.innerHTML = docLinkHtml;\n",
              "          element.appendChild(docLink);\n",
              "        }\n",
              "      </script>\n",
              "    </div>\n",
              "  </div>\n",
              "  "
            ]
          },
          "metadata": {},
          "execution_count": 1268
        }
      ]
    },
    {
      "cell_type": "code",
      "source": [
        "df = df.apply(pd.to_numeric, errors = 'coerce')"
      ],
      "metadata": {
        "id": "dlEeH-9FJUoD"
      },
      "execution_count": null,
      "outputs": []
    },
    {
      "cell_type": "code",
      "source": [
        "df['DF2_pr'].value_counts() # 우울증 해당 여부 value 개수 확인 # 다시 확인"
      ],
      "metadata": {
        "colab": {
          "base_uri": "https://localhost:8080/"
        },
        "id": "D2s5e8m5JVIr",
        "outputId": "89f4f7c2-a1eb-47ee-d8c0-c0c4c6205e35"
      },
      "execution_count": null,
      "outputs": [
        {
          "output_type": "execute_result",
          "data": {
            "text/plain": [
              "8.0    5120\n",
              "9.0     499\n",
              "1.0     188\n",
              "0.0     113\n",
              "Name: DF2_pr, dtype: int64"
            ]
          },
          "metadata": {},
          "execution_count": 1270
        }
      ]
    },
    {
      "cell_type": "code",
      "source": [
        "# allownc 10 = 있음 = 1, 20 = 없음 = 0, 99 = 모름 9, 무응답 99만 결측치 9로 처리\n",
        "df['allownc'].unique()\n",
        "df['allownc'].replace(10, 1, inplace = True)\n",
        "df['allownc'].replace(20, 0, inplace = True)\n",
        "df['allownc'].replace(99, 9, inplace = True)"
      ],
      "metadata": {
        "id": "dvpXhqNAJaDh"
      },
      "execution_count": null,
      "outputs": []
    },
    {
      "cell_type": "code",
      "source": [
        "# 흡연 유무 1,2 >> 1 흡연 // 3, 8 >> 2 무흡연\n",
        "df['BS3_1'].replace(2, 1, inplace = True)\n",
        "df['BS3_1'].replace(3, 2, inplace = True)\n",
        "df['BS3_1'].replace(8, 2, inplace = True)\n",
        "df['BS3_1'].unique()"
      ],
      "metadata": {
        "colab": {
          "base_uri": "https://localhost:8080/"
        },
        "id": "NLYAYUR6JkWJ",
        "outputId": "8efc671a-3ef5-4ab1-ccc0-59a5c6ed8416"
      },
      "execution_count": null,
      "outputs": [
        {
          "output_type": "execute_result",
          "data": {
            "text/plain": [
              "array([ 2.,  1., nan,  9.])"
            ]
          },
          "metadata": {},
          "execution_count": 1274
        }
      ]
    },
    {
      "cell_type": "code",
      "source": [
        "df['marri_2'].unique()\n",
        "df['marri_2'].replace(99, 9, inplace = True)\n",
        "df['marri_2'].replace(88, 10, inplace = True)\n",
        "# 10은 비혼"
      ],
      "metadata": {
        "id": "v2Jy6EGTJrt5"
      },
      "execution_count": null,
      "outputs": []
    },
    {
      "cell_type": "code",
      "source": [
        "df.dropna(inplace=True)"
      ],
      "metadata": {
        "id": "1DQTYNHeJukK"
      },
      "execution_count": null,
      "outputs": []
    },
    {
      "cell_type": "code",
      "source": [
        "df.drop(['BP5','BP6_10'], axis=1,inplace=True)"
      ],
      "metadata": {
        "id": "vXrOYxNLJyO6"
      },
      "execution_count": null,
      "outputs": []
    },
    {
      "cell_type": "code",
      "source": [
        "df.loc[df['house']==9]=None\n",
        "df.dropna(inplace=True)"
      ],
      "metadata": {
        "id": "8JJiSFGWJ0Ua"
      },
      "execution_count": null,
      "outputs": []
    },
    {
      "cell_type": "code",
      "source": [
        "df.loc[df['marri_2']==9]=None\n",
        "df.loc[df['marri_2']==8]=None\n",
        "df.dropna(inplace=True)"
      ],
      "metadata": {
        "id": "cL4GfXauJ4Yt"
      },
      "execution_count": null,
      "outputs": []
    },
    {
      "cell_type": "code",
      "source": [
        "df.loc[df['EC1_1']==9]=None\n",
        "df.dropna(inplace=True)"
      ],
      "metadata": {
        "id": "DIUqYBLaJ8I5"
      },
      "execution_count": null,
      "outputs": []
    },
    {
      "cell_type": "code",
      "source": [
        "df.loc[df['cfam']==9]=None\n",
        "df.dropna(inplace=True)"
      ],
      "metadata": {
        "id": "kq-hhrMHJ9MR"
      },
      "execution_count": null,
      "outputs": []
    },
    {
      "cell_type": "code",
      "source": [
        "df.loc[df['allownc']==9]=None\n",
        "df.dropna(inplace=True)"
      ],
      "metadata": {
        "id": "JLuyNZhoJ-Sx"
      },
      "execution_count": null,
      "outputs": []
    },
    {
      "cell_type": "code",
      "source": [
        "df.loc[df['D_1_1']==9]=None\n",
        "df.dropna(inplace=True)"
      ],
      "metadata": {
        "id": "dhVdX_fZKCkh"
      },
      "execution_count": null,
      "outputs": []
    },
    {
      "cell_type": "code",
      "source": [
        "df.loc[df['D_2_1']==9]=None\n",
        "df.dropna(inplace=True)"
      ],
      "metadata": {
        "id": "H36g6BRPKDqB"
      },
      "execution_count": null,
      "outputs": []
    },
    {
      "cell_type": "code",
      "source": [
        "df.loc[df['BD1_11']==9]=None\n",
        "df.dropna(inplace=True)"
      ],
      "metadata": {
        "id": "c7X3yacNKE3Z"
      },
      "execution_count": null,
      "outputs": []
    },
    {
      "cell_type": "code",
      "source": [
        "df.loc[df['BE3_75']==9]=None\n",
        "df.dropna(inplace=True)"
      ],
      "metadata": {
        "id": "Re40NwARKFuy"
      },
      "execution_count": null,
      "outputs": []
    },
    {
      "cell_type": "code",
      "source": [
        "df.loc[df['mh_stress']==9]=None\n",
        "df.dropna(inplace=True)"
      ],
      "metadata": {
        "id": "1ai8IqRzKJSa"
      },
      "execution_count": null,
      "outputs": []
    },
    {
      "cell_type": "code",
      "source": [
        "df.loc[df['BS3_1']==9]=None\n",
        "df.dropna(inplace=True)"
      ],
      "metadata": {
        "id": "JO1o2Q36KKE5"
      },
      "execution_count": null,
      "outputs": []
    },
    {
      "cell_type": "code",
      "source": [
        "plt.figure(figsize=(15,15))\n",
        "sns.heatmap(df.corr(),annot=True)"
      ],
      "metadata": {
        "id": "Fq7_g0muKLih"
      },
      "execution_count": null,
      "outputs": []
    },
    {
      "cell_type": "markdown",
      "source": [
        "## Train-Test Split"
      ],
      "metadata": {
        "id": "MN9-cCxuKXLw"
      }
    },
    {
      "cell_type": "code",
      "source": [
        "# 라벨링된 데이터 셋\n",
        "con1 = df['DF2_pr']== 1.\n",
        "con2 = df['DF2_pr']== 0.\n",
        "labeled_df = df.loc[con1 | con2 , :]"
      ],
      "metadata": {
        "id": "SOCWM5v4KaHK"
      },
      "execution_count": null,
      "outputs": []
    },
    {
      "cell_type": "code",
      "source": [
        "unlabeled_df = df.loc[df['DF2_pr']== 8.]"
      ],
      "metadata": {
        "id": "7iXs4aR1Kciq"
      },
      "execution_count": null,
      "outputs": []
    },
    {
      "cell_type": "code",
      "source": [
        "from sklearn.model_selection import train_test_split\n",
        "\n",
        "feature=labeled_df.drop(\"DF2_pr\", axis=1)\n",
        "target=labeled_df[\"DF2_pr\"]\n",
        "X_train,X_test, y_train, y_test = train_test_split(feature, target,test_size=0.4, random_state=42, stratify=target)\n",
        "X_train,X_val, y_train, y_val = train_test_split(X_train, y_train,test_size=0.3, random_state=42, stratify=y_train)"
      ],
      "metadata": {
        "id": "DybwpKFRKdqB"
      },
      "execution_count": null,
      "outputs": []
    },
    {
      "cell_type": "code",
      "source": [
        "y_train.value_counts().plot(kind='bar')"
      ],
      "metadata": {
        "colab": {
          "base_uri": "https://localhost:8080/",
          "height": 290
        },
        "id": "n_C9tavqKfSh",
        "outputId": "3144a93e-1b85-4380-bf65-f120bf142795"
      },
      "execution_count": null,
      "outputs": [
        {
          "output_type": "execute_result",
          "data": {
            "text/plain": [
              "<matplotlib.axes._subplots.AxesSubplot at 0x7fa060637ad0>"
            ]
          },
          "metadata": {},
          "execution_count": 1293
        },
        {
          "output_type": "display_data",
          "data": {
            "text/plain": [
              "<Figure size 432x288 with 1 Axes>"
            ],
            "image/png": "[encoded data removed]"
          },
          "metadata": {
            "needs_background": "light"
          }
        }
      ]
    },
    {
      "cell_type": "code",
      "source": [
        "from sklearn.preprocessing import MinMaxScaler\n",
        "Scaler = MinMaxScaler()\n",
        "X_train=Scaler.fit_transform(X_train)\n",
        "X_test=Scaler.transform(X_test)"
      ],
      "metadata": {
        "id": "EA74C-fQKfsU"
      },
      "execution_count": null,
      "outputs": []
    },
    {
      "cell_type": "code",
      "source": [],
      "metadata": {
        "id": "nbS2IOdxqwA3"
      },
      "execution_count": null,
      "outputs": []
    },
    {
      "cell_type": "code",
      "source": [
        "from imblearn.over_sampling import SMOTE\n",
        "smote = SMOTE(random_state = 0)\n",
        "X_train_over, y_train_over = smote.fit_resample(X_train, y_train)"
      ],
      "metadata": {
        "id": "rwziSv2BKg_N"
      },
      "execution_count": null,
      "outputs": []
    },
    {
      "cell_type": "code",
      "source": [
        "y_train_over.value_counts().plot(kind='bar')"
      ],
      "metadata": {
        "colab": {
          "base_uri": "https://localhost:8080/",
          "height": 290
        },
        "id": "vFQbntJiKihh",
        "outputId": "c5e0621e-0a8c-49e9-ba47-c684e2e8587a"
      },
      "execution_count": null,
      "outputs": [
        {
          "output_type": "execute_result",
          "data": {
            "text/plain": [
              "<matplotlib.axes._subplots.AxesSubplot at 0x7fa06211f4d0>"
            ]
          },
          "metadata": {},
          "execution_count": 1296
        },
        {
          "output_type": "display_data",
          "data": {
            "text/plain": [
              "<Figure size 432x288 with 1 Axes>"
            ],
            "image/png": "[encoded data removed]"
          },
          "metadata": {
            "needs_background": "light"
          }
        }
      ]
    },
    {
      "cell_type": "markdown",
      "source": [
        "## modeling"
      ],
      "metadata": {
        "id": "AldDAfXsKlwb"
      }
    },
    {
      "cell_type": "code",
      "source": [
        "from sklearn.tree import DecisionTreeClassifier\n",
        "from sklearn.metrics import accuracy_score, precision_score,f1_score, recall_score, confusion_matrix\n",
        "DT = DecisionTreeClassifier(random_state = 42)\n",
        "DT.fit(X_train,y_train)\n",
        "pred_DT=DT.predict(X_test)\n",
        "print(accuracy_score(y_test,pred_DT))\n",
        "print(precision_score(y_test,pred_DT))\n",
        "print(recall_score(y_test,pred_DT))\n",
        "print(f1_score(y_test,pred_DT))\n",
        "print(confusion_matrix(y_test,pred_DT, labels=[1,0]))"
      ],
      "metadata": {
        "colab": {
          "base_uri": "https://localhost:8080/"
        },
        "id": "2_O2d9o_Kndp",
        "outputId": "e67204a1-79e0-4ee0-e622-c3d14ba5eb6a"
      },
      "execution_count": null,
      "outputs": [
        {
          "output_type": "stream",
          "name": "stdout",
          "text": [
            "0.5416666666666666\n",
            "0.631578947368421\n",
            "0.64\n",
            "0.6357615894039735\n",
            "[[48 27]\n",
            " [28 17]]\n"
          ]
        }
      ]
    },
    {
      "cell_type": "code",
      "source": [
        "from sklearn.tree import DecisionTreeClassifier\n",
        "from sklearn.metrics import accuracy_score, precision_score,f1_score, recall_score, confusion_matrix\n",
        "DT = DecisionTreeClassifier(random_state = 42)\n",
        "DT.fit(X_train_over,y_train_over)\n",
        "pred_DT=DT.predict(X_test)\n",
        "print(accuracy_score(y_test,pred_DT))\n",
        "print(precision_score(y_test,pred_DT))\n",
        "print(recall_score(y_test,pred_DT))\n",
        "print(f1_score(y_test,pred_DT))\n",
        "print(confusion_matrix(y_test,pred_DT, labels=[1,0]))"
      ],
      "metadata": {
        "colab": {
          "base_uri": "https://localhost:8080/"
        },
        "id": "xviLrD94Ksb6",
        "outputId": "df5f6fba-eedd-4a41-f0c3-04497e35c792"
      },
      "execution_count": null,
      "outputs": [
        {
          "output_type": "stream",
          "name": "stdout",
          "text": [
            "0.5333333333333333\n",
            "0.6301369863013698\n",
            "0.6133333333333333\n",
            "0.6216216216216216\n",
            "[[46 29]\n",
            " [27 18]]\n"
          ]
        }
      ]
    },
    {
      "cell_type": "code",
      "source": [
        "from sklearn.ensemble import RandomForestClassifier, AdaBoostClassifier, VotingClassifier\n",
        "RF = RandomForestClassifier(random_state = 42)\n",
        "RF.fit(X_train,y_train)\n",
        "pred_FR=RF.predict(X_test)\n",
        "print(accuracy_score(y_test,pred_FR))\n",
        "print(precision_score(y_test,pred_FR))\n",
        "print(recall_score(y_test,pred_FR))\n",
        "print(f1_score(y_test,pred_FR))\n",
        "print(confusion_matrix(y_test,pred_FR, labels=[1,0]))"
      ],
      "metadata": {
        "colab": {
          "base_uri": "https://localhost:8080/"
        },
        "id": "gf9lKmp0Kt5i",
        "outputId": "d66cff23-c0b5-48c8-cf42-6e71aeeebff2"
      },
      "execution_count": null,
      "outputs": [
        {
          "output_type": "stream",
          "name": "stdout",
          "text": [
            "0.5333333333333333\n",
            "0.6067415730337079\n",
            "0.72\n",
            "0.6585365853658538\n",
            "[[54 21]\n",
            " [35 10]]\n"
          ]
        }
      ]
    },
    {
      "cell_type": "code",
      "source": [
        "from sklearn.ensemble import RandomForestClassifier, AdaBoostClassifier, VotingClassifier\n",
        "RF = RandomForestClassifier(random_state = 42)\n",
        "RF.fit(X_train_over,y_train_over)\n",
        "pred_FR=RF.predict(X_test)\n",
        "print(accuracy_score(y_test,pred_FR))\n",
        "print(precision_score(y_test,pred_FR))\n",
        "print(recall_score(y_test,pred_FR))\n",
        "print(f1_score(y_test,pred_FR))\n",
        "print(confusion_matrix(y_test,pred_FR, labels=[1,0]))"
      ],
      "metadata": {
        "colab": {
          "base_uri": "https://localhost:8080/"
        },
        "id": "BwtHmoB-KvOZ",
        "outputId": "f5ab5f2e-552f-4a7b-b391-64114252057c"
      },
      "execution_count": null,
      "outputs": [
        {
          "output_type": "stream",
          "name": "stdout",
          "text": [
            "0.49166666666666664\n",
            "0.5921052631578947\n",
            "0.6\n",
            "0.596026490066225\n",
            "[[45 30]\n",
            " [31 14]]\n"
          ]
        }
      ]
    },
    {
      "cell_type": "code",
      "source": [
        "from sklearn.svm import SVC\n",
        "clf = SVC(kernel = \"linear\", random_state = 1, probability=True)\n",
        "clf.fit(X_train,y_train)\n",
        "#plot_decision_function(X_train, y_train, X_test, y_test, clf)\n",
        "pred_clf=clf.predict(X_test)\n",
        "print(accuracy_score(y_test,pred_clf))\n",
        "print(precision_score(y_test,pred_clf))\n",
        "print(recall_score(y_test,pred_clf))\n",
        "print(f1_score(y_test,pred_clf))\n",
        "print(confusion_matrix(y_test,pred_clf, labels=[1,0]))"
      ],
      "metadata": {
        "colab": {
          "base_uri": "https://localhost:8080/"
        },
        "id": "elJrJC9wKw5a",
        "outputId": "becf8613-cd85-496b-9259-de22b1db1a73"
      },
      "execution_count": null,
      "outputs": [
        {
          "output_type": "stream",
          "name": "stdout",
          "text": [
            "0.5916666666666667\n",
            "0.6477272727272727\n",
            "0.76\n",
            "0.6993865030674846\n",
            "[[57 18]\n",
            " [31 14]]\n"
          ]
        }
      ]
    },
    {
      "cell_type": "markdown",
      "source": [],
      "metadata": {
        "id": "TOnnE4a3QSSV"
      }
    },
    {
      "cell_type": "code",
      "source": [
        "'''\n",
        "from sklearn.svm import SVC\n",
        "clf_ = SVC(kernel = \"linear\", random_state = 1)\n",
        "clf.fit(X_train_over,y_train_over)\n",
        "#plot_decision_function(X_train, y_train, X_test, y_test, clf)\n",
        "pred_clf=clf.predict(X_test)\n",
        "print(accuracy_score(y_test,pred_clf))\n",
        "print(precision_score(y_test,pred_clf))\n",
        "print(recall_score(y_test,pred_clf))\n",
        "print(f1_score(y_test,pred_clf))\n",
        "print(confusion_matrix(y_test,pred_clf, labels=[1,0]))\n",
        "'''"
      ],
      "metadata": {
        "colab": {
          "base_uri": "https://localhost:8080/",
          "height": 54
        },
        "id": "KEq_0S4TKyCM",
        "outputId": "036eea35-8e86-4cb4-a575-b50d4f905cfb"
      },
      "execution_count": null,
      "outputs": [
        {
          "output_type": "execute_result",
          "data": {
            "text/plain": [
              "'\\nfrom sklearn.svm import SVC\\nclf_ = SVC(kernel = \"linear\", random_state = 1)\\nclf.fit(X_train_over,y_train_over)\\n#plot_decision_function(X_train, y_train, X_test, y_test, clf)\\npred_clf=clf.predict(X_test)\\nprint(accuracy_score(y_test,pred_clf))\\nprint(precision_score(y_test,pred_clf))\\nprint(recall_score(y_test,pred_clf))\\nprint(f1_score(y_test,pred_clf))\\nprint(confusion_matrix(y_test,pred_clf, labels=[1,0]))\\n'"
            ],
            "application/vnd.google.colaboratory.intrinsic+json": {
              "type": "string"
            }
          },
          "metadata": {},
          "execution_count": 1302
        }
      ]
    },
    {
      "cell_type": "code",
      "source": [
        "from sklearn.linear_model import LogisticRegression\n",
        "lr = LogisticRegression(random_state = 42)\n",
        "lr.fit(X_train,y_train)\n",
        "pred_lr=lr.predict(X_test)\n",
        "print(accuracy_score(y_test,pred_lr))\n",
        "print(precision_score(y_test,pred_lr))\n",
        "print(recall_score(y_test,pred_lr))\n",
        "print(f1_score(y_test,pred_lr))\n",
        "print(confusion_matrix(y_test,pred_lr, labels=[1,0]))"
      ],
      "metadata": {
        "colab": {
          "base_uri": "https://localhost:8080/"
        },
        "id": "6k3kkySuKzR6",
        "outputId": "848d8ca2-2d6c-4e96-b115-6de2e7fd5c49"
      },
      "execution_count": null,
      "outputs": [
        {
          "output_type": "stream",
          "name": "stdout",
          "text": [
            "0.575\n",
            "0.6463414634146342\n",
            "0.7066666666666667\n",
            "0.6751592356687899\n",
            "[[53 22]\n",
            " [29 16]]\n"
          ]
        }
      ]
    },
    {
      "cell_type": "code",
      "source": [
        "from sklearn.linear_model import LogisticRegression\n",
        "lr = LogisticRegression(random_state = 42)\n",
        "lr.fit(X_train_over,y_train_over)\n",
        "pred_lr=lr.predict(X_test)\n",
        "print(accuracy_score(y_test,pred_lr))\n",
        "print(precision_score(y_test,pred_lr))\n",
        "print(recall_score(y_test,pred_lr))\n",
        "print(f1_score(y_test,pred_lr))\n",
        "print(confusion_matrix(y_test,pred_lr, labels=[1,0]))"
      ],
      "metadata": {
        "colab": {
          "base_uri": "https://localhost:8080/"
        },
        "id": "gWUuXGMAK0nL",
        "outputId": "5501ec17-ffdc-4d3a-ffd8-8b49b363f552"
      },
      "execution_count": null,
      "outputs": [
        {
          "output_type": "stream",
          "name": "stdout",
          "text": [
            "0.575\n",
            "0.6875\n",
            "0.5866666666666667\n",
            "0.6330935251798561\n",
            "[[44 31]\n",
            " [20 25]]\n"
          ]
        }
      ]
    },
    {
      "cell_type": "code",
      "source": [
        "ada = AdaBoostClassifier(random_state = 42)\n",
        "ada.fit(X_train,y_train)\n",
        "pred_ada=ada.predict(X_test)\n",
        "print(accuracy_score(y_test,pred_ada))\n",
        "print(precision_score(y_test,pred_ada))\n",
        "print(recall_score(y_test,pred_ada))\n",
        "print(f1_score(y_test,pred_ada))\n",
        "print(confusion_matrix(y_test,pred_ada, labels=[1,0]))"
      ],
      "metadata": {
        "colab": {
          "base_uri": "https://localhost:8080/"
        },
        "id": "o9lkpkEIK16z",
        "outputId": "d9c0d2f9-9fe0-45f3-cf13-b02b2e92ed4c"
      },
      "execution_count": null,
      "outputs": [
        {
          "output_type": "stream",
          "name": "stdout",
          "text": [
            "0.5333333333333333\n",
            "0.6091954022988506\n",
            "0.7066666666666667\n",
            "0.6543209876543209\n",
            "[[53 22]\n",
            " [34 11]]\n"
          ]
        }
      ]
    },
    {
      "cell_type": "code",
      "source": [
        "ada = AdaBoostClassifier(random_state = 42)\n",
        "ada.fit(X_train_over,y_train_over)\n",
        "pred_ada=ada.predict(X_test)\n",
        "print(accuracy_score(y_test,pred_ada))\n",
        "print(precision_score(y_test,pred_ada))\n",
        "print(recall_score(y_test,pred_ada))\n",
        "print(f1_score(y_test,pred_ada))\n",
        "print(confusion_matrix(y_test,pred_ada, labels=[1,0]))"
      ],
      "metadata": {
        "colab": {
          "base_uri": "https://localhost:8080/"
        },
        "id": "vxphCDJ5K3LD",
        "outputId": "6553d182-7a27-406f-f553-7b1708b65fb8"
      },
      "execution_count": null,
      "outputs": [
        {
          "output_type": "stream",
          "name": "stdout",
          "text": [
            "0.5583333333333333\n",
            "0.6309523809523809\n",
            "0.7066666666666667\n",
            "0.6666666666666667\n",
            "[[53 22]\n",
            " [31 14]]\n"
          ]
        }
      ]
    },
    {
      "cell_type": "code",
      "source": [
        "from xgboost import XGBClassifier as xgb\n",
        "parms = {'max_depth' :3,\\\n",
        "         'eta':0.05,\\\n",
        "         'objective': 'binary:logistic',\\\n",
        "         'eval_metric':'recall'\\\n",
        "         }\n",
        "num_rounds = 400\n",
        "#eval_list= [(dtr,'train'), (dval, 'eval')] # 학습 데이터셋은 train 또는 평가 데이터 셋은 'eval'로  명기\n",
        "#xgb_model = xgb.train(params=parms, dtrain= dtr, num_boost_round= num_rounds, early_stopping = 50, evals = eval_list)\n",
        "xgb_model = xgb(n_estimators= 500, learning_rate = 0.1, max_depth = 4)\n",
        "xgb_model.fit(X_train,y_train)\n",
        "pred_xgb=xgb_model.predict(X_test)\n",
        "print(accuracy_score(y_test,pred_xgb))\n",
        "print(precision_score(y_test,pred_xgb))\n",
        "print(recall_score(y_test,pred_xgb))\n",
        "print(f1_score(y_test,pred_xgb))\n",
        "print(confusion_matrix(y_test,pred_xgb, labels=[1,0]))"
      ],
      "metadata": {
        "colab": {
          "base_uri": "https://localhost:8080/"
        },
        "id": "FBP6PjuPK5Na",
        "outputId": "39384ccf-7f2d-4fe0-947a-7c1cf1ccd361"
      },
      "execution_count": null,
      "outputs": [
        {
          "output_type": "stream",
          "name": "stdout",
          "text": [
            "0.5416666666666666\n",
            "0.6136363636363636\n",
            "0.72\n",
            "0.6625766871165645\n",
            "[[54 21]\n",
            " [34 11]]\n"
          ]
        }
      ]
    },
    {
      "cell_type": "code",
      "source": [
        "from xgboost import XGBClassifier as xgb\n",
        "parms = {'max_depth' :3,\\\n",
        "         'eta':0.05,\\\n",
        "         'objective': 'binary:logistic',\\\n",
        "         'eval_metric':'recall'\\\n",
        "         }\n",
        "num_rounds = 400\n",
        "#eval_list= [(dtr,'train'), (dval, 'eval')] # 학습 데이터셋은 train 또는 평가 데이터 셋은 'eval'로  명기\n",
        "#xgb_model = xgb.train(params=parms, dtrain= dtr, num_boost_round= num_rounds, early_stopping = 50, evals = eval_list)\n",
        "xgb_model = xgb(n_estimators= 500, learning_rate = 0.1, max_depth = 4)\n",
        "xgb_model.fit(X_train_over,y_train_over)\n",
        "pred_xgb=xgb_model.predict(X_test)\n",
        "print(accuracy_score(y_test,pred_xgb))\n",
        "print(precision_score(y_test,pred_xgb))\n",
        "print(recall_score(y_test,pred_xgb))\n",
        "print(f1_score(y_test,pred_xgb))\n",
        "print(confusion_matrix(y_test,pred_xgb, labels=[1,0]))"
      ],
      "metadata": {
        "colab": {
          "base_uri": "https://localhost:8080/"
        },
        "id": "DME_jHzZK5yD",
        "outputId": "213a467b-79f7-4b50-e736-7dc4ff4e8f77"
      },
      "execution_count": null,
      "outputs": [
        {
          "output_type": "stream",
          "name": "stdout",
          "text": [
            "0.525\n",
            "0.6097560975609756\n",
            "0.6666666666666666\n",
            "0.6369426751592356\n",
            "[[50 25]\n",
            " [32 13]]\n"
          ]
        }
      ]
    },
    {
      "cell_type": "code",
      "source": [
        "from lightgbm import LGBMClassifier\n",
        "lgbm_400 = LGBMClassifier(n_estimators= 400)\n",
        "evals = [(X_val, y_val)]\n",
        "lgbm_400.fit(X_train, y_train, early_stopping_rounds=10, eval_metric='recall', eval_set=evals, verbose=True)\n",
        "pred_lgbm = lgbm_400.predict(X_test)\n",
        "print(accuracy_score(y_test,pred_lgbm))\n",
        "print(precision_score(y_test,pred_lgbm))\n",
        "print(recall_score(y_test,pred_lgbm))\n",
        "print(f1_score(y_test,pred_lgbm))\n",
        "print(confusion_matrix(y_test,pred_lgbm, labels=[1,0]))"
      ],
      "metadata": {
        "colab": {
          "base_uri": "https://localhost:8080/"
        },
        "id": "e_050uxnK7TT",
        "outputId": "4e720833-2631-416c-c9a9-c830d7cd7273"
      },
      "execution_count": null,
      "outputs": [
        {
          "output_type": "stream",
          "name": "stdout",
          "text": [
            "[1]\tvalid_0's binary_logloss: 0.652917\n",
            "Training until validation scores don't improve for 10 rounds.\n",
            "[2]\tvalid_0's binary_logloss: 0.652977\n",
            "[3]\tvalid_0's binary_logloss: 0.64865\n",
            "[4]\tvalid_0's binary_logloss: 0.648253\n",
            "[5]\tvalid_0's binary_logloss: 0.648121\n",
            "[6]\tvalid_0's binary_logloss: 0.648106\n",
            "[7]\tvalid_0's binary_logloss: 0.646693\n",
            "[8]\tvalid_0's binary_logloss: 0.648512\n",
            "[9]\tvalid_0's binary_logloss: 0.648226\n",
            "[10]\tvalid_0's binary_logloss: 0.648138\n",
            "[11]\tvalid_0's binary_logloss: 0.646908\n",
            "[12]\tvalid_0's binary_logloss: 0.646502\n",
            "[13]\tvalid_0's binary_logloss: 0.64781\n",
            "[14]\tvalid_0's binary_logloss: 0.648711\n",
            "[15]\tvalid_0's binary_logloss: 0.645203\n",
            "[16]\tvalid_0's binary_logloss: 0.64648\n",
            "[17]\tvalid_0's binary_logloss: 0.645846\n",
            "[18]\tvalid_0's binary_logloss: 0.645809\n",
            "[19]\tvalid_0's binary_logloss: 0.646786\n",
            "[20]\tvalid_0's binary_logloss: 0.64601\n",
            "[21]\tvalid_0's binary_logloss: 0.644301\n",
            "[22]\tvalid_0's binary_logloss: 0.644294\n",
            "[23]\tvalid_0's binary_logloss: 0.643093\n",
            "[24]\tvalid_0's binary_logloss: 0.642675\n",
            "[25]\tvalid_0's binary_logloss: 0.642681\n",
            "[26]\tvalid_0's binary_logloss: 0.643085\n",
            "[27]\tvalid_0's binary_logloss: 0.643039\n",
            "[28]\tvalid_0's binary_logloss: 0.638974\n",
            "[29]\tvalid_0's binary_logloss: 0.639067\n",
            "[30]\tvalid_0's binary_logloss: 0.635117\n",
            "[31]\tvalid_0's binary_logloss: 0.634941\n",
            "[32]\tvalid_0's binary_logloss: 0.6352\n",
            "[33]\tvalid_0's binary_logloss: 0.635834\n",
            "[34]\tvalid_0's binary_logloss: 0.635339\n",
            "[35]\tvalid_0's binary_logloss: 0.634928\n",
            "[36]\tvalid_0's binary_logloss: 0.632586\n",
            "[37]\tvalid_0's binary_logloss: 0.632545\n",
            "[38]\tvalid_0's binary_logloss: 0.632546\n",
            "[39]\tvalid_0's binary_logloss: 0.632533\n",
            "[40]\tvalid_0's binary_logloss: 0.631217\n",
            "[41]\tvalid_0's binary_logloss: 0.629672\n",
            "[42]\tvalid_0's binary_logloss: 0.630701\n",
            "[43]\tvalid_0's binary_logloss: 0.630056\n",
            "[44]\tvalid_0's binary_logloss: 0.631016\n",
            "[45]\tvalid_0's binary_logloss: 0.630113\n",
            "[46]\tvalid_0's binary_logloss: 0.631478\n",
            "[47]\tvalid_0's binary_logloss: 0.630769\n",
            "[48]\tvalid_0's binary_logloss: 0.630208\n",
            "[49]\tvalid_0's binary_logloss: 0.631189\n",
            "[50]\tvalid_0's binary_logloss: 0.631964\n",
            "[51]\tvalid_0's binary_logloss: 0.630542\n",
            "Early stopping, best iteration is:\n",
            "[41]\tvalid_0's binary_logloss: 0.629672\n",
            "0.55\n",
            "0.6235294117647059\n",
            "0.7066666666666667\n",
            "0.6625\n",
            "[[53 22]\n",
            " [32 13]]\n"
          ]
        }
      ]
    },
    {
      "cell_type": "code",
      "source": [
        "'''\n",
        "from lightgbm import LGBMClassifier\n",
        "lgbm_400_over = LGBMClassifier(n_estimators= 400)\n",
        "evals = [(X_val, y_val)]\n",
        "lgbm_400_over.fit(X_train_over, y_train_over, early_stopping_rounds=10, eval_metric='recall', eval_set=evals, verbose=True)\n",
        "pred_lgbm = lgbm_400_over.predict(X_test)\n",
        "print(accuracy_score(y_test,pred_lgbm))\n",
        "print(precision_score(y_test,pred_lgbm))\n",
        "print(recall_score(y_test,pred_lgbm))\n",
        "print(f1_score(y_test,pred_lgbm))\n",
        "print(confusion_matrix(y_test,pred_lgbm, labels=[1,0]))\n",
        "'''"
      ],
      "metadata": {
        "colab": {
          "base_uri": "https://localhost:8080/",
          "height": 54
        },
        "id": "cYO0hIRUK9xD",
        "outputId": "a857a872-fb29-4779-c395-21790e216d7b"
      },
      "execution_count": null,
      "outputs": [
        {
          "output_type": "execute_result",
          "data": {
            "text/plain": [
              "\"\\nfrom lightgbm import LGBMClassifier\\nlgbm_400_over = LGBMClassifier(n_estimators= 400)\\nevals = [(X_val, y_val)]\\nlgbm_400_over.fit(X_train_over, y_train_over, early_stopping_rounds=10, eval_metric='recall', eval_set=evals, verbose=True)\\npred_lgbm = lgbm_400_over.predict(X_test)\\nprint(accuracy_score(y_test,pred_lgbm))\\nprint(precision_score(y_test,pred_lgbm))\\nprint(recall_score(y_test,pred_lgbm))\\nprint(f1_score(y_test,pred_lgbm))\\nprint(confusion_matrix(y_test,pred_lgbm, labels=[1,0]))\\n\""
            ],
            "application/vnd.google.colaboratory.intrinsic+json": {
              "type": "string"
            }
          },
          "metadata": {},
          "execution_count": 1310
        }
      ]
    },
    {
      "cell_type": "markdown",
      "source": [
        "## Semi-Supervised learning"
      ],
      "metadata": {
        "id": "qQ_DSKaOLCno"
      }
    },
    {
      "cell_type": "code",
      "source": [
        "X_unlabeled = unlabeled_df.drop('DF2_pr', axis = 1)"
      ],
      "metadata": {
        "id": "0GmGBeYdLAcK"
      },
      "execution_count": null,
      "outputs": []
    },
    {
      "cell_type": "code",
      "source": [
        "X_unlabeled = Scaler.transform(X_unlabeled)"
      ],
      "metadata": {
        "id": "w6VW3QirLNnT"
      },
      "execution_count": null,
      "outputs": []
    },
    {
      "cell_type": "code",
      "source": [
        "X_unlabeled = pd.DataFrame(X_unlabeled)"
      ],
      "metadata": {
        "id": "tNE4sYHGLpAq"
      },
      "execution_count": null,
      "outputs": []
    },
    {
      "cell_type": "code",
      "source": [
        "lgbm_400.predict_proba(X_test)"
      ],
      "metadata": {
        "colab": {
          "base_uri": "https://localhost:8080/"
        },
        "id": "Np-KA7jbLPSU",
        "outputId": "45b35b56-c53f-4d3b-b441-789ad7c38c8d"
      },
      "execution_count": null,
      "outputs": [
        {
          "output_type": "execute_result",
          "data": {
            "text/plain": [
              "array([[0.33472582, 0.66527418],\n",
              "       [0.43404625, 0.56595375],\n",
              "       [0.19559338, 0.80440662],\n",
              "       [0.15194298, 0.84805702],\n",
              "       [0.2292068 , 0.7707932 ],\n",
              "       [0.19841678, 0.80158322],\n",
              "       [0.32147633, 0.67852367],\n",
              "       [0.35032217, 0.64967783],\n",
              "       [0.54900715, 0.45099285],\n",
              "       [0.29076395, 0.70923605],\n",
              "       [0.31791324, 0.68208676],\n",
              "       [0.45105186, 0.54894814],\n",
              "       [0.18396428, 0.81603572],\n",
              "       [0.42345254, 0.57654746],\n",
              "       [0.45545182, 0.54454818],\n",
              "       [0.50205281, 0.49794719],\n",
              "       [0.33244666, 0.66755334],\n",
              "       [0.66729613, 0.33270387],\n",
              "       [0.27118365, 0.72881635],\n",
              "       [0.07933413, 0.92066587],\n",
              "       [0.41599916, 0.58400084],\n",
              "       [0.72331586, 0.27668414],\n",
              "       [0.32425028, 0.67574972],\n",
              "       [0.35779346, 0.64220654],\n",
              "       [0.51857762, 0.48142238],\n",
              "       [0.49334279, 0.50665721],\n",
              "       [0.57545887, 0.42454113],\n",
              "       [0.41452399, 0.58547601],\n",
              "       [0.33458915, 0.66541085],\n",
              "       [0.57146009, 0.42853991],\n",
              "       [0.19558721, 0.80441279],\n",
              "       [0.27903436, 0.72096564],\n",
              "       [0.44548147, 0.55451853],\n",
              "       [0.12804439, 0.87195561],\n",
              "       [0.13345413, 0.86654587],\n",
              "       [0.39237911, 0.60762089],\n",
              "       [0.20105622, 0.79894378],\n",
              "       [0.74993674, 0.25006326],\n",
              "       [0.51546346, 0.48453654],\n",
              "       [0.29707801, 0.70292199],\n",
              "       [0.22741314, 0.77258686],\n",
              "       [0.31066941, 0.68933059],\n",
              "       [0.63407792, 0.36592208],\n",
              "       [0.59569712, 0.40430288],\n",
              "       [0.37283105, 0.62716895],\n",
              "       [0.65636777, 0.34363223],\n",
              "       [0.70985743, 0.29014257],\n",
              "       [0.16409708, 0.83590292],\n",
              "       [0.34534069, 0.65465931],\n",
              "       [0.40760914, 0.59239086],\n",
              "       [0.30663512, 0.69336488],\n",
              "       [0.38833118, 0.61166882],\n",
              "       [0.20670588, 0.79329412],\n",
              "       [0.39404509, 0.60595491],\n",
              "       [0.50566123, 0.49433877],\n",
              "       [0.57202517, 0.42797483],\n",
              "       [0.18623828, 0.81376172],\n",
              "       [0.2622281 , 0.7377719 ],\n",
              "       [0.38805374, 0.61194626],\n",
              "       [0.22101486, 0.77898514],\n",
              "       [0.33392215, 0.66607785],\n",
              "       [0.09190714, 0.90809286],\n",
              "       [0.32948803, 0.67051197],\n",
              "       [0.55725213, 0.44274787],\n",
              "       [0.57471083, 0.42528917],\n",
              "       [0.57202747, 0.42797253],\n",
              "       [0.53350412, 0.46649588],\n",
              "       [0.30040054, 0.69959946],\n",
              "       [0.57437531, 0.42562469],\n",
              "       [0.22808862, 0.77191138],\n",
              "       [0.67981342, 0.32018658],\n",
              "       [0.25087353, 0.74912647],\n",
              "       [0.54247339, 0.45752661],\n",
              "       [0.07614363, 0.92385637],\n",
              "       [0.33263648, 0.66736352],\n",
              "       [0.22218722, 0.77781278],\n",
              "       [0.58852287, 0.41147713],\n",
              "       [0.47248992, 0.52751008],\n",
              "       [0.29076395, 0.70923605],\n",
              "       [0.1555011 , 0.8444989 ],\n",
              "       [0.24012538, 0.75987462],\n",
              "       [0.44419769, 0.55580231],\n",
              "       [0.35381268, 0.64618732],\n",
              "       [0.11106582, 0.88893418],\n",
              "       [0.29613277, 0.70386723],\n",
              "       [0.56054275, 0.43945725],\n",
              "       [0.60731181, 0.39268819],\n",
              "       [0.12458424, 0.87541576],\n",
              "       [0.32450347, 0.67549653],\n",
              "       [0.43788571, 0.56211429],\n",
              "       [0.63392489, 0.36607511],\n",
              "       [0.32718666, 0.67281334],\n",
              "       [0.62359894, 0.37640106],\n",
              "       [0.62453999, 0.37546001],\n",
              "       [0.46534433, 0.53465567],\n",
              "       [0.33403016, 0.66596984],\n",
              "       [0.43975923, 0.56024077],\n",
              "       [0.10117292, 0.89882708],\n",
              "       [0.27505958, 0.72494042],\n",
              "       [0.42893163, 0.57106837],\n",
              "       [0.40899225, 0.59100775],\n",
              "       [0.31413882, 0.68586118],\n",
              "       [0.87363083, 0.12636917],\n",
              "       [0.45240613, 0.54759387],\n",
              "       [0.28014887, 0.71985113],\n",
              "       [0.11505066, 0.88494934],\n",
              "       [0.28390596, 0.71609404],\n",
              "       [0.10364823, 0.89635177],\n",
              "       [0.58917973, 0.41082027],\n",
              "       [0.65745749, 0.34254251],\n",
              "       [0.55865587, 0.44134413],\n",
              "       [0.2588887 , 0.7411113 ],\n",
              "       [0.37283105, 0.62716895],\n",
              "       [0.18128155, 0.81871845],\n",
              "       [0.40618083, 0.59381917],\n",
              "       [0.34482261, 0.65517739],\n",
              "       [0.56922106, 0.43077894],\n",
              "       [0.80218314, 0.19781686],\n",
              "       [0.1709352 , 0.8290648 ],\n",
              "       [0.69515073, 0.30484927]])"
            ]
          },
          "metadata": {},
          "execution_count": 1314
        }
      ]
    },
    {
      "cell_type": "code",
      "source": [
        "pd.DataFrame(lgbm_400.predict_proba(X_unlabeled)).describe()"
      ],
      "metadata": {
        "colab": {
          "base_uri": "https://localhost:8080/",
          "height": 300
        },
        "id": "-7zQz97SLSjC",
        "outputId": "ee37e266-7d1e-40a9-f6dc-639733dac4d2"
      },
      "execution_count": null,
      "outputs": [
        {
          "output_type": "execute_result",
          "data": {
            "text/plain": [
              "                 0            1\n",
              "count  5083.000000  5083.000000\n",
              "mean      0.556418     0.443582\n",
              "std       0.193627     0.193627\n",
              "min       0.039697     0.121245\n",
              "25%       0.415082     0.286555\n",
              "50%       0.589573     0.410427\n",
              "75%       0.713445     0.584918\n",
              "max       0.878755     0.960303"
            ],
            "text/html": [
              "\n",
              "  <div id=\"df-797eacec-1009-49af-8231-60e8db9572ce\">\n",
              "    <div class=\"colab-df-container\">\n",
              "      <div>\n",
              "<style scoped>\n",
              "    .dataframe tbody tr th:only-of-type {\n",
              "        vertical-align: middle;\n",
              "    }\n",
              "\n",
              "    .dataframe tbody tr th {\n",
              "        vertical-align: top;\n",
              "    }\n",
              "\n",
              "    .dataframe thead th {\n",
              "        text-align: right;\n",
              "    }\n",
              "</style>\n",
              "<table border=\"1\" class=\"dataframe\">\n",
              "  <thead>\n",
              "    <tr style=\"text-align: right;\">\n",
              "      <th></th>\n",
              "      <th>0</th>\n",
              "      <th>1</th>\n",
              "    </tr>\n",
              "  </thead>\n",
              "  <tbody>\n",
              "    <tr>\n",
              "      <th>count</th>\n",
              "      <td>5083.000000</td>\n",
              "      <td>5083.000000</td>\n",
              "    </tr>\n",
              "    <tr>\n",
              "      <th>mean</th>\n",
              "      <td>0.556418</td>\n",
              "      <td>0.443582</td>\n",
              "    </tr>\n",
              "    <tr>\n",
              "      <th>std</th>\n",
              "      <td>0.193627</td>\n",
              "      <td>0.193627</td>\n",
              "    </tr>\n",
              "    <tr>\n",
              "      <th>min</th>\n",
              "      <td>0.039697</td>\n",
              "      <td>0.121245</td>\n",
              "    </tr>\n",
              "    <tr>\n",
              "      <th>25%</th>\n",
              "      <td>0.415082</td>\n",
              "      <td>0.286555</td>\n",
              "    </tr>\n",
              "    <tr>\n",
              "      <th>50%</th>\n",
              "      <td>0.589573</td>\n",
              "      <td>0.410427</td>\n",
              "    </tr>\n",
              "    <tr>\n",
              "      <th>75%</th>\n",
              "      <td>0.713445</td>\n",
              "      <td>0.584918</td>\n",
              "    </tr>\n",
              "    <tr>\n",
              "      <th>max</th>\n",
              "      <td>0.878755</td>\n",
              "      <td>0.960303</td>\n",
              "    </tr>\n",
              "  </tbody>\n",
              "</table>\n",
              "</div>\n",
              "      <button class=\"colab-df-convert\" onclick=\"convertToInteractive('df-797eacec-1009-49af-8231-60e8db9572ce')\"\n",
              "              title=\"Convert this dataframe to an interactive table.\"\n",
              "              style=\"display:none;\">\n",
              "        \n",
              "  <svg xmlns=\"http://www.w3.org/2000/svg\" height=\"24px\"viewBox=\"0 0 24 24\"\n",
              "       width=\"24px\">\n",
              "    <path d=\"M0 0h24v24H0V0z\" fill=\"none\"/>\n",
              "    <path d=\"M18.56 5.44l.94 2.06.94-2.06 2.06-.94-2.06-.94-.94-2.06-.94 2.06-2.06.94zm-11 1L8.5 8.5l.94-2.06 2.06-.94-2.06-.94L8.5 2.5l-.94 2.06-2.06.94zm10 10l.94 2.06.94-2.06 2.06-.94-2.06-.94-.94-2.06-.94 2.06-2.06.94z\"/><path d=\"M17.41 7.96l-1.37-1.37c-.4-.4-.92-.59-1.43-.59-.52 0-1.04.2-1.43.59L10.3 9.45l-7.72 7.72c-.78.78-.78 2.05 0 2.83L4 21.41c.39.39.9.59 1.41.59.51 0 1.02-.2 1.41-.59l7.78-7.78 2.81-2.81c.8-.78.8-2.07 0-2.86zM5.41 20L4 18.59l7.72-7.72 1.47 1.35L5.41 20z\"/>\n",
              "  </svg>\n",
              "      </button>\n",
              "      \n",
              "  <style>\n",
              "    .colab-df-container {\n",
              "      display:flex;\n",
              "      flex-wrap:wrap;\n",
              "      gap: 12px;\n",
              "    }\n",
              "\n",
              "    .colab-df-convert {\n",
              "      background-color: #E8F0FE;\n",
              "      border: none;\n",
              "      border-radius: 50%;\n",
              "      cursor: pointer;\n",
              "      display: none;\n",
              "      fill: #1967D2;\n",
              "      height: 32px;\n",
              "      padding: 0 0 0 0;\n",
              "      width: 32px;\n",
              "    }\n",
              "\n",
              "    .colab-df-convert:hover {\n",
              "      background-color: #E2EBFA;\n",
              "      box-shadow: 0px 1px 2px rgba(60, 64, 67, 0.3), 0px 1px 3px 1px rgba(60, 64, 67, 0.15);\n",
              "      fill: #174EA6;\n",
              "    }\n",
              "\n",
              "    [theme=dark] .colab-df-convert {\n",
              "      background-color: #3B4455;\n",
              "      fill: #D2E3FC;\n",
              "    }\n",
              "\n",
              "    [theme=dark] .colab-df-convert:hover {\n",
              "      background-color: #434B5C;\n",
              "      box-shadow: 0px 1px 3px 1px rgba(0, 0, 0, 0.15);\n",
              "      filter: drop-shadow(0px 1px 2px rgba(0, 0, 0, 0.3));\n",
              "      fill: #FFFFFF;\n",
              "    }\n",
              "  </style>\n",
              "\n",
              "      <script>\n",
              "        const buttonEl =\n",
              "          document.querySelector('#df-797eacec-1009-49af-8231-60e8db9572ce button.colab-df-convert');\n",
              "        buttonEl.style.display =\n",
              "          google.colab.kernel.accessAllowed ? 'block' : 'none';\n",
              "\n",
              "        async function convertToInteractive(key) {\n",
              "          const element = document.querySelector('#df-797eacec-1009-49af-8231-60e8db9572ce');\n",
              "          const dataTable =\n",
              "            await google.colab.kernel.invokeFunction('convertToInteractive',\n",
              "                                                     [key], {});\n",
              "          if (!dataTable) return;\n",
              "\n",
              "          const docLinkHtml = 'Like what you see? Visit the ' +\n",
              "            '<a target=\"_blank\" href=https://colab.research.google.com/notebooks/data_table.ipynb>data table notebook</a>'\n",
              "            + ' to learn more about interactive tables.';\n",
              "          element.innerHTML = '';\n",
              "          dataTable['output_type'] = 'display_data';\n",
              "          await google.colab.output.renderOutput(dataTable, element);\n",
              "          const docLink = document.createElement('div');\n",
              "          docLink.innerHTML = docLinkHtml;\n",
              "          element.appendChild(docLink);\n",
              "        }\n",
              "      </script>\n",
              "    </div>\n",
              "  </div>\n",
              "  "
            ]
          },
          "metadata": {},
          "execution_count": 1315
        }
      ]
    },
    {
      "cell_type": "code",
      "source": [
        "X_train = pd.DataFrame(X_train)\n",
        "X_train"
      ],
      "metadata": {
        "colab": {
          "base_uri": "https://localhost:8080/",
          "height": 424
        },
        "id": "Vtpim5V0LxES",
        "outputId": "e0f40ef5-5675-4eeb-90bb-5e43e5e5829a"
      },
      "execution_count": null,
      "outputs": [
        {
          "output_type": "execute_result",
          "data": {
            "text/plain": [
              "        0    1         2         3         4    5    6    7    8         9   \\\n",
              "0    0.500  1.0  0.066667  0.000000  0.666667  1.0  0.6  0.0  0.0  1.000000   \n",
              "1    0.250  1.0  0.716667  0.666667  0.000000  0.0  0.2  0.0  1.0  0.000000   \n",
              "2    0.000  1.0  0.516667  1.000000  1.000000  0.0  0.2  0.0  0.5  0.000000   \n",
              "3    0.000  1.0  0.766667  0.000000  0.000000  0.0  0.0  0.0  0.0  0.111111   \n",
              "4    0.875  1.0  0.816667  0.000000  0.000000  1.0  0.2  0.0  0.5  0.000000   \n",
              "..     ...  ...       ...       ...       ...  ...  ...  ...  ...       ...   \n",
              "120  0.500  1.0  0.450000  0.000000  1.000000  1.0  0.8  0.0  0.0  0.000000   \n",
              "121  0.500  1.0  0.033333  0.666667  0.666667  1.0  0.4  0.0  0.5  1.000000   \n",
              "122  0.500  1.0  0.566667  0.000000  0.666667  0.0  0.2  0.0  0.5  0.000000   \n",
              "123  0.875  1.0  0.833333  0.666667  0.666667  1.0  0.2  0.0  1.0  0.000000   \n",
              "124  0.000  1.0  0.616667  0.666667  1.000000  1.0  0.6  0.0  0.5  0.000000   \n",
              "\n",
              "       10   11        12   13   14   15  \n",
              "0    0.50  1.0  0.000000  1.0  1.0  1.0  \n",
              "1    0.75  0.0  1.000000  1.0  0.0  1.0  \n",
              "2    0.50  1.0  0.285714  1.0  1.0  1.0  \n",
              "3    0.50  1.0  1.000000  1.0  0.0  1.0  \n",
              "4    0.50  1.0  1.000000  1.0  1.0  1.0  \n",
              "..    ...  ...       ...  ...  ...  ...  \n",
              "120  0.50  1.0  0.142857  1.0  0.0  1.0  \n",
              "121  0.75  1.0  0.285714  0.0  1.0  0.0  \n",
              "122  0.50  1.0  0.285714  1.0  1.0  1.0  \n",
              "123  0.75  1.0  0.000000  1.0  0.0  1.0  \n",
              "124  0.50  1.0  0.142857  1.0  0.0  1.0  \n",
              "\n",
              "[125 rows x 16 columns]"
            ],
            "text/html": [
              "\n",
              "  <div id=\"df-162e3def-6dc9-41e0-9708-e5218303ca94\">\n",
              "    <div class=\"colab-df-container\">\n",
              "      <div>\n",
              "<style scoped>\n",
              "    .dataframe tbody tr th:only-of-type {\n",
              "        vertical-align: middle;\n",
              "    }\n",
              "\n",
              "    .dataframe tbody tr th {\n",
              "        vertical-align: top;\n",
              "    }\n",
              "\n",
              "    .dataframe thead th {\n",
              "        text-align: right;\n",
              "    }\n",
              "</style>\n",
              "<table border=\"1\" class=\"dataframe\">\n",
              "  <thead>\n",
              "    <tr style=\"text-align: right;\">\n",
              "      <th></th>\n",
              "      <th>0</th>\n",
              "      <th>1</th>\n",
              "      <th>2</th>\n",
              "      <th>3</th>\n",
              "      <th>4</th>\n",
              "      <th>5</th>\n",
              "      <th>6</th>\n",
              "      <th>7</th>\n",
              "      <th>8</th>\n",
              "      <th>9</th>\n",
              "      <th>10</th>\n",
              "      <th>11</th>\n",
              "      <th>12</th>\n",
              "      <th>13</th>\n",
              "      <th>14</th>\n",
              "      <th>15</th>\n",
              "    </tr>\n",
              "  </thead>\n",
              "  <tbody>\n",
              "    <tr>\n",
              "      <th>0</th>\n",
              "      <td>0.500</td>\n",
              "      <td>1.0</td>\n",
              "      <td>0.066667</td>\n",
              "      <td>0.000000</td>\n",
              "      <td>0.666667</td>\n",
              "      <td>1.0</td>\n",
              "      <td>0.6</td>\n",
              "      <td>0.0</td>\n",
              "      <td>0.0</td>\n",
              "      <td>1.000000</td>\n",
              "      <td>0.50</td>\n",
              "      <td>1.0</td>\n",
              "      <td>0.000000</td>\n",
              "      <td>1.0</td>\n",
              "      <td>1.0</td>\n",
              "      <td>1.0</td>\n",
              "    </tr>\n",
              "    <tr>\n",
              "      <th>1</th>\n",
              "      <td>0.250</td>\n",
              "      <td>1.0</td>\n",
              "      <td>0.716667</td>\n",
              "      <td>0.666667</td>\n",
              "      <td>0.000000</td>\n",
              "      <td>0.0</td>\n",
              "      <td>0.2</td>\n",
              "      <td>0.0</td>\n",
              "      <td>1.0</td>\n",
              "      <td>0.000000</td>\n",
              "      <td>0.75</td>\n",
              "      <td>0.0</td>\n",
              "      <td>1.000000</td>\n",
              "      <td>1.0</td>\n",
              "      <td>0.0</td>\n",
              "      <td>1.0</td>\n",
              "    </tr>\n",
              "    <tr>\n",
              "      <th>2</th>\n",
              "      <td>0.000</td>\n",
              "      <td>1.0</td>\n",
              "      <td>0.516667</td>\n",
              "      <td>1.000000</td>\n",
              "      <td>1.000000</td>\n",
              "      <td>0.0</td>\n",
              "      <td>0.2</td>\n",
              "      <td>0.0</td>\n",
              "      <td>0.5</td>\n",
              "      <td>0.000000</td>\n",
              "      <td>0.50</td>\n",
              "      <td>1.0</td>\n",
              "      <td>0.285714</td>\n",
              "      <td>1.0</td>\n",
              "      <td>1.0</td>\n",
              "      <td>1.0</td>\n",
              "    </tr>\n",
              "    <tr>\n",
              "      <th>3</th>\n",
              "      <td>0.000</td>\n",
              "      <td>1.0</td>\n",
              "      <td>0.766667</td>\n",
              "      <td>0.000000</td>\n",
              "      <td>0.000000</td>\n",
              "      <td>0.0</td>\n",
              "      <td>0.0</td>\n",
              "      <td>0.0</td>\n",
              "      <td>0.0</td>\n",
              "      <td>0.111111</td>\n",
              "      <td>0.50</td>\n",
              "      <td>1.0</td>\n",
              "      <td>1.000000</td>\n",
              "      <td>1.0</td>\n",
              "      <td>0.0</td>\n",
              "      <td>1.0</td>\n",
              "    </tr>\n",
              "    <tr>\n",
              "      <th>4</th>\n",
              "      <td>0.875</td>\n",
              "      <td>1.0</td>\n",
              "      <td>0.816667</td>\n",
              "      <td>0.000000</td>\n",
              "      <td>0.000000</td>\n",
              "      <td>1.0</td>\n",
              "      <td>0.2</td>\n",
              "      <td>0.0</td>\n",
              "      <td>0.5</td>\n",
              "      <td>0.000000</td>\n",
              "      <td>0.50</td>\n",
              "      <td>1.0</td>\n",
              "      <td>1.000000</td>\n",
              "      <td>1.0</td>\n",
              "      <td>1.0</td>\n",
              "      <td>1.0</td>\n",
              "    </tr>\n",
              "    <tr>\n",
              "      <th>...</th>\n",
              "      <td>...</td>\n",
              "      <td>...</td>\n",
              "      <td>...</td>\n",
              "      <td>...</td>\n",
              "      <td>...</td>\n",
              "      <td>...</td>\n",
              "      <td>...</td>\n",
              "      <td>...</td>\n",
              "      <td>...</td>\n",
              "      <td>...</td>\n",
              "      <td>...</td>\n",
              "      <td>...</td>\n",
              "      <td>...</td>\n",
              "      <td>...</td>\n",
              "      <td>...</td>\n",
              "      <td>...</td>\n",
              "    </tr>\n",
              "    <tr>\n",
              "      <th>120</th>\n",
              "      <td>0.500</td>\n",
              "      <td>1.0</td>\n",
              "      <td>0.450000</td>\n",
              "      <td>0.000000</td>\n",
              "      <td>1.000000</td>\n",
              "      <td>1.0</td>\n",
              "      <td>0.8</td>\n",
              "      <td>0.0</td>\n",
              "      <td>0.0</td>\n",
              "      <td>0.000000</td>\n",
              "      <td>0.50</td>\n",
              "      <td>1.0</td>\n",
              "      <td>0.142857</td>\n",
              "      <td>1.0</td>\n",
              "      <td>0.0</td>\n",
              "      <td>1.0</td>\n",
              "    </tr>\n",
              "    <tr>\n",
              "      <th>121</th>\n",
              "      <td>0.500</td>\n",
              "      <td>1.0</td>\n",
              "      <td>0.033333</td>\n",
              "      <td>0.666667</td>\n",
              "      <td>0.666667</td>\n",
              "      <td>1.0</td>\n",
              "      <td>0.4</td>\n",
              "      <td>0.0</td>\n",
              "      <td>0.5</td>\n",
              "      <td>1.000000</td>\n",
              "      <td>0.75</td>\n",
              "      <td>1.0</td>\n",
              "      <td>0.285714</td>\n",
              "      <td>0.0</td>\n",
              "      <td>1.0</td>\n",
              "      <td>0.0</td>\n",
              "    </tr>\n",
              "    <tr>\n",
              "      <th>122</th>\n",
              "      <td>0.500</td>\n",
              "      <td>1.0</td>\n",
              "      <td>0.566667</td>\n",
              "      <td>0.000000</td>\n",
              "      <td>0.666667</td>\n",
              "      <td>0.0</td>\n",
              "      <td>0.2</td>\n",
              "      <td>0.0</td>\n",
              "      <td>0.5</td>\n",
              "      <td>0.000000</td>\n",
              "      <td>0.50</td>\n",
              "      <td>1.0</td>\n",
              "      <td>0.285714</td>\n",
              "      <td>1.0</td>\n",
              "      <td>1.0</td>\n",
              "      <td>1.0</td>\n",
              "    </tr>\n",
              "    <tr>\n",
              "      <th>123</th>\n",
              "      <td>0.875</td>\n",
              "      <td>1.0</td>\n",
              "      <td>0.833333</td>\n",
              "      <td>0.666667</td>\n",
              "      <td>0.666667</td>\n",
              "      <td>1.0</td>\n",
              "      <td>0.2</td>\n",
              "      <td>0.0</td>\n",
              "      <td>1.0</td>\n",
              "      <td>0.000000</td>\n",
              "      <td>0.75</td>\n",
              "      <td>1.0</td>\n",
              "      <td>0.000000</td>\n",
              "      <td>1.0</td>\n",
              "      <td>0.0</td>\n",
              "      <td>1.0</td>\n",
              "    </tr>\n",
              "    <tr>\n",
              "      <th>124</th>\n",
              "      <td>0.000</td>\n",
              "      <td>1.0</td>\n",
              "      <td>0.616667</td>\n",
              "      <td>0.666667</td>\n",
              "      <td>1.000000</td>\n",
              "      <td>1.0</td>\n",
              "      <td>0.6</td>\n",
              "      <td>0.0</td>\n",
              "      <td>0.5</td>\n",
              "      <td>0.000000</td>\n",
              "      <td>0.50</td>\n",
              "      <td>1.0</td>\n",
              "      <td>0.142857</td>\n",
              "      <td>1.0</td>\n",
              "      <td>0.0</td>\n",
              "      <td>1.0</td>\n",
              "    </tr>\n",
              "  </tbody>\n",
              "</table>\n",
              "<p>125 rows × 16 columns</p>\n",
              "</div>\n",
              "      <button class=\"colab-df-convert\" onclick=\"convertToInteractive('df-162e3def-6dc9-41e0-9708-e5218303ca94')\"\n",
              "              title=\"Convert this dataframe to an interactive table.\"\n",
              "              style=\"display:none;\">\n",
              "        \n",
              "  <svg xmlns=\"http://www.w3.org/2000/svg\" height=\"24px\"viewBox=\"0 0 24 24\"\n",
              "       width=\"24px\">\n",
              "    <path d=\"M0 0h24v24H0V0z\" fill=\"none\"/>\n",
              "    <path d=\"M18.56 5.44l.94 2.06.94-2.06 2.06-.94-2.06-.94-.94-2.06-.94 2.06-2.06.94zm-11 1L8.5 8.5l.94-2.06 2.06-.94-2.06-.94L8.5 2.5l-.94 2.06-2.06.94zm10 10l.94 2.06.94-2.06 2.06-.94-2.06-.94-.94-2.06-.94 2.06-2.06.94z\"/><path d=\"M17.41 7.96l-1.37-1.37c-.4-.4-.92-.59-1.43-.59-.52 0-1.04.2-1.43.59L10.3 9.45l-7.72 7.72c-.78.78-.78 2.05 0 2.83L4 21.41c.39.39.9.59 1.41.59.51 0 1.02-.2 1.41-.59l7.78-7.78 2.81-2.81c.8-.78.8-2.07 0-2.86zM5.41 20L4 18.59l7.72-7.72 1.47 1.35L5.41 20z\"/>\n",
              "  </svg>\n",
              "      </button>\n",
              "      \n",
              "  <style>\n",
              "    .colab-df-container {\n",
              "      display:flex;\n",
              "      flex-wrap:wrap;\n",
              "      gap: 12px;\n",
              "    }\n",
              "\n",
              "    .colab-df-convert {\n",
              "      background-color: #E8F0FE;\n",
              "      border: none;\n",
              "      border-radius: 50%;\n",
              "      cursor: pointer;\n",
              "      display: none;\n",
              "      fill: #1967D2;\n",
              "      height: 32px;\n",
              "      padding: 0 0 0 0;\n",
              "      width: 32px;\n",
              "    }\n",
              "\n",
              "    .colab-df-convert:hover {\n",
              "      background-color: #E2EBFA;\n",
              "      box-shadow: 0px 1px 2px rgba(60, 64, 67, 0.3), 0px 1px 3px 1px rgba(60, 64, 67, 0.15);\n",
              "      fill: #174EA6;\n",
              "    }\n",
              "\n",
              "    [theme=dark] .colab-df-convert {\n",
              "      background-color: #3B4455;\n",
              "      fill: #D2E3FC;\n",
              "    }\n",
              "\n",
              "    [theme=dark] .colab-df-convert:hover {\n",
              "      background-color: #434B5C;\n",
              "      box-shadow: 0px 1px 3px 1px rgba(0, 0, 0, 0.15);\n",
              "      filter: drop-shadow(0px 1px 2px rgba(0, 0, 0, 0.3));\n",
              "      fill: #FFFFFF;\n",
              "    }\n",
              "  </style>\n",
              "\n",
              "      <script>\n",
              "        const buttonEl =\n",
              "          document.querySelector('#df-162e3def-6dc9-41e0-9708-e5218303ca94 button.colab-df-convert');\n",
              "        buttonEl.style.display =\n",
              "          google.colab.kernel.accessAllowed ? 'block' : 'none';\n",
              "\n",
              "        async function convertToInteractive(key) {\n",
              "          const element = document.querySelector('#df-162e3def-6dc9-41e0-9708-e5218303ca94');\n",
              "          const dataTable =\n",
              "            await google.colab.kernel.invokeFunction('convertToInteractive',\n",
              "                                                     [key], {});\n",
              "          if (!dataTable) return;\n",
              "\n",
              "          const docLinkHtml = 'Like what you see? Visit the ' +\n",
              "            '<a target=\"_blank\" href=https://colab.research.google.com/notebooks/data_table.ipynb>data table notebook</a>'\n",
              "            + ' to learn more about interactive tables.';\n",
              "          element.innerHTML = '';\n",
              "          dataTable['output_type'] = 'display_data';\n",
              "          await google.colab.output.renderOutput(dataTable, element);\n",
              "          const docLink = document.createElement('div');\n",
              "          docLink.innerHTML = docLinkHtml;\n",
              "          element.appendChild(docLink);\n",
              "        }\n",
              "      </script>\n",
              "    </div>\n",
              "  </div>\n",
              "  "
            ]
          },
          "metadata": {},
          "execution_count": 1316
        }
      ]
    },
    {
      "cell_type": "code",
      "source": [
        "clf.predict_proba(X_test)"
      ],
      "metadata": {
        "colab": {
          "base_uri": "https://localhost:8080/"
        },
        "id": "eMVVG3xnQbKM",
        "outputId": "1b55ab04-1ec0-48e3-f429-f019d9a33723"
      },
      "execution_count": null,
      "outputs": [
        {
          "output_type": "execute_result",
          "data": {
            "text/plain": [
              "array([[0.34440971, 0.65559029],\n",
              "       [0.42877398, 0.57122602],\n",
              "       [0.36652002, 0.63347998],\n",
              "       [0.2725029 , 0.7274971 ],\n",
              "       [0.33687346, 0.66312654],\n",
              "       [0.35975728, 0.64024272],\n",
              "       [0.37716754, 0.62283246],\n",
              "       [0.36826362, 0.63173638],\n",
              "       [0.3878953 , 0.6121047 ],\n",
              "       [0.29958592, 0.70041408],\n",
              "       [0.38861964, 0.61138036],\n",
              "       [0.40650863, 0.59349137],\n",
              "       [0.36011003, 0.63988997],\n",
              "       [0.36283749, 0.63716251],\n",
              "       [0.4245188 , 0.5754812 ],\n",
              "       [0.47173439, 0.52826561],\n",
              "       [0.35519334, 0.64480666],\n",
              "       [0.44356566, 0.55643434],\n",
              "       [0.31835327, 0.68164673],\n",
              "       [0.30508671, 0.69491329],\n",
              "       [0.3534417 , 0.6465583 ],\n",
              "       [0.50637303, 0.49362697],\n",
              "       [0.41120618, 0.58879382],\n",
              "       [0.40153405, 0.59846595],\n",
              "       [0.47836372, 0.52163628],\n",
              "       [0.38242106, 0.61757894],\n",
              "       [0.50922542, 0.49077458],\n",
              "       [0.38140392, 0.61859608],\n",
              "       [0.35345065, 0.64654935],\n",
              "       [0.40313438, 0.59686562],\n",
              "       [0.34976646, 0.65023354],\n",
              "       [0.32751194, 0.67248806],\n",
              "       [0.41967252, 0.58032748],\n",
              "       [0.2470499 , 0.7529501 ],\n",
              "       [0.27173236, 0.72826764],\n",
              "       [0.48175202, 0.51824798],\n",
              "       [0.35272986, 0.64727014],\n",
              "       [0.53847927, 0.46152073],\n",
              "       [0.37928281, 0.62071719],\n",
              "       [0.39246611, 0.60753389],\n",
              "       [0.3311849 , 0.6688151 ],\n",
              "       [0.33060953, 0.66939047],\n",
              "       [0.51579097, 0.48420903],\n",
              "       [0.39714495, 0.60285505],\n",
              "       [0.38848998, 0.61151002],\n",
              "       [0.47561966, 0.52438034],\n",
              "       [0.5       , 0.5       ],\n",
              "       [0.37812514, 0.62187486],\n",
              "       [0.33437438, 0.66562562],\n",
              "       [0.43693433, 0.56306567],\n",
              "       [0.33381538, 0.66618462],\n",
              "       [0.39881289, 0.60118711],\n",
              "       [0.33731994, 0.66268006],\n",
              "       [0.4072191 , 0.5927809 ],\n",
              "       [0.44468744, 0.55531256],\n",
              "       [0.3610673 , 0.6389327 ],\n",
              "       [0.2856456 , 0.7143544 ],\n",
              "       [0.35111314, 0.64888686],\n",
              "       [0.3063474 , 0.6936526 ],\n",
              "       [0.32794566, 0.67205434],\n",
              "       [0.33772408, 0.66227592],\n",
              "       [0.34002386, 0.65997614],\n",
              "       [0.45149055, 0.54850945],\n",
              "       [0.41755755, 0.58244245],\n",
              "       [0.55470788, 0.44529212],\n",
              "       [0.40163571, 0.59836429],\n",
              "       [0.51982858, 0.48017142],\n",
              "       [0.36800261, 0.63199739],\n",
              "       [0.38204114, 0.61795886],\n",
              "       [0.31279581, 0.68720419],\n",
              "       [0.39865895, 0.60134105],\n",
              "       [0.34695954, 0.65304046],\n",
              "       [0.41497662, 0.58502338],\n",
              "       [0.2788407 , 0.7211593 ],\n",
              "       [0.45199653, 0.54800347],\n",
              "       [0.35476028, 0.64523972],\n",
              "       [0.37967392, 0.62032608],\n",
              "       [0.44259705, 0.55740295],\n",
              "       [0.27599557, 0.72400443],\n",
              "       [0.34272494, 0.65727506],\n",
              "       [0.40063741, 0.59936259],\n",
              "       [0.40210549, 0.59789451],\n",
              "       [0.36681022, 0.63318978],\n",
              "       [0.28597875, 0.71402125],\n",
              "       [0.39722291, 0.60277709],\n",
              "       [0.54991598, 0.45008402],\n",
              "       [0.40869147, 0.59130853],\n",
              "       [0.31024698, 0.68975302],\n",
              "       [0.35766897, 0.64233103],\n",
              "       [0.41096164, 0.58903836],\n",
              "       [0.5       , 0.5       ],\n",
              "       [0.41182308, 0.58817692],\n",
              "       [0.43997098, 0.56002902],\n",
              "       [0.45790222, 0.54209778],\n",
              "       [0.40661017, 0.59338983],\n",
              "       [0.35525826, 0.64474174],\n",
              "       [0.35381003, 0.64618997],\n",
              "       [0.33746699, 0.66253301],\n",
              "       [0.2906398 , 0.7093602 ],\n",
              "       [0.32820018, 0.67179982],\n",
              "       [0.33529685, 0.66470315],\n",
              "       [0.39286231, 0.60713769],\n",
              "       [0.52835306, 0.47164694],\n",
              "       [0.38496319, 0.61503681],\n",
              "       [0.39584772, 0.60415228],\n",
              "       [0.33155967, 0.66844033],\n",
              "       [0.4251988 , 0.5748012 ],\n",
              "       [0.32810043, 0.67189957],\n",
              "       [0.4242116 , 0.5757884 ],\n",
              "       [0.46573966, 0.53426034],\n",
              "       [0.38050237, 0.61949763],\n",
              "       [0.35308556, 0.64691444],\n",
              "       [0.40760851, 0.59239149],\n",
              "       [0.29576997, 0.70423003],\n",
              "       [0.43048186, 0.56951814],\n",
              "       [0.43983087, 0.56016913],\n",
              "       [0.41976276, 0.58023724],\n",
              "       [0.34094817, 0.65905183],\n",
              "       [0.29627149, 0.70372851],\n",
              "       [0.43012486, 0.56987514]])"
            ]
          },
          "metadata": {},
          "execution_count": 1317
        }
      ]
    },
    {
      "cell_type": "code",
      "source": [
        "# Initiate iteration counter\n",
        "iterations = 0\n",
        "\n",
        "# Containers to hold f1_scores and # of pseudo-labels\n",
        "#train_f1s = []\n",
        "test_f1s = []\n",
        "pseudo_labels = []\n",
        "\n",
        "# Assign value to initiate while loop\n",
        "high_prob = [1]\n",
        "\n",
        "# Loop will run until there are no more high-probability pseudo-labels\n",
        "\n",
        "while len(high_prob) > 0:\n",
        "    # Fit classifier and make train/test predictions\n",
        "    clf = SVC(kernel = \"linear\", random_state = 1, probability=True)\n",
        "    clf.fit(X_train,y_train)\n",
        "    #plot_decision_function(X_train, y_train, X_test, y_test, clf)\n",
        "    pred_clf=clf.predict(X_test)\n",
        "\n",
        "    #lgbm_400 = LGBMClassifier(n_estimators= 400)\n",
        "    #evals = [(X_val, y_val)]\n",
        "    #lgbm_400.fit(X_train, y_train, early_stopping_rounds=10, eval_metric='recall', eval_set=evals, verbose=True)\n",
        "    #pred_lgbm = lgbm_400.predict(X_test)\n",
        "\n",
        "    # Calculate and print iteration # and f1 scores, and store f1 scores\n",
        "    #train_f1 = f1_score(y_train, y_hat_train)\n",
        "    test_f1 = f1_score(y_test, pred_clf)\n",
        "    print(f\"Iteration {iterations}\")\n",
        "\n",
        "    #train_f1s.append(train_f1)\n",
        "    test_f1s.append(test_f1)\n",
        "\n",
        "    # Generate predictions and probabilities for unlabeled data\n",
        "\n",
        "    if len(X_unlabeled)>0 :\n",
        "      print(f\"Now predicting labels for unlabeled data...\")\n",
        "\n",
        "      print(len(X_unlabeled))\n",
        "      pred_probs = clf.predict_proba(X_unlabeled)\n",
        "      preds = clf.predict(X_unlabeled)\n",
        "      prob_0 = pred_probs[:,0]\n",
        "      prob_1 = pred_probs[:,1]\n",
        "\n",
        "      # Store predictions and probabilities in dataframe\n",
        "      df_pred_prob = pd.DataFrame([])\n",
        "      df_pred_prob['preds'] = preds\n",
        "      df_pred_prob['prob_0'] = prob_0\n",
        "      df_pred_prob['prob_1'] = prob_1\n",
        "      df_pred_prob.index = X_unlabeled.index\n",
        "\n",
        "      # Separate predictions with > 99% probability\n",
        "      high_prob = pd.concat([df_pred_prob.loc[df_pred_prob['prob_0'] > 0.65],\n",
        "                            df_pred_prob.loc[df_pred_prob['prob_1'] > 0.65]],\n",
        "                            axis=0)\n",
        "      print(f\"{len(high_prob)} high-probability predictions added to training data.\")\n",
        "\n",
        "      pseudo_labels.append(len(high_prob))\n",
        "\n",
        "      # Add pseudo-labeled data to training data\n",
        "      X_train = pd.concat([X_train, X_unlabeled.loc[high_prob.index]], axis=0)\n",
        "      y_train = pd.concat([y_train, high_prob.preds], axis=0)\n",
        "\n",
        "      index = np.arange(0, len(X_train))\n",
        "      index = np.random.shuffle(index)\n",
        "\n",
        "      X_train = X_train.values\n",
        "      y_train = y_train.values\n",
        "\n",
        "      X_train = X_train[index].reshape(-1, 16)\n",
        "      y_train = y_train[index].reshape(-1, 1)\n",
        "\n",
        "      X_train = pd.DataFrame(X_train)\n",
        "      y_train = pd.DataFrame(y_train)\n",
        "\n",
        "\n",
        "      # Drop pseudo-labeled instances from unlabeled data\n",
        "      X_unlabeled = X_unlabeled.drop(index=high_prob.index)\n",
        "      print(f\"{len(X_unlabeled)} unlabeled instances remaining.\\n\")\n",
        "\n",
        "      print(accuracy_score(y_test,pred_clf))\n",
        "      print(precision_score(y_test,pred_clf))\n",
        "      print(recall_score(y_test,pred_clf))\n",
        "      print(f1_score(y_test,pred_clf))\n",
        "\n",
        "    # Update iteration counter\n",
        "    #if len(high_prob) == 0 and iterations > 0:\n",
        "      #break\n",
        "\n",
        "    iterations += 1\n",
        "    #if len(X_unlabeled) == 0 and iterations > 0:\n",
        "      #break"
      ],
      "metadata": {
        "colab": {
          "base_uri": "https://localhost:8080/"
        },
        "id": "-23Fs9A4LXVb",
        "outputId": "e5585fc9-6fc1-4787-b679-14b1b7ed9fd7"
      },
      "execution_count": null,
      "outputs": [
        {
          "output_type": "stream",
          "name": "stdout",
          "text": [
            "Iteration 0\n",
            "Now predicting labels for unlabeled data...\n",
            "5083\n",
            "436 high-probability predictions added to training data.\n",
            "4647 unlabeled instances remaining.\n",
            "\n",
            "0.5916666666666667\n",
            "0.6477272727272727\n",
            "0.76\n",
            "0.6993865030674846\n",
            "Iteration 1\n",
            "Now predicting labels for unlabeled data...\n",
            "4647\n",
            "3482 high-probability predictions added to training data.\n",
            "1165 unlabeled instances remaining.\n",
            "\n",
            "0.6\n",
            "0.6551724137931034\n",
            "0.76\n",
            "0.7037037037037037\n",
            "Iteration 2\n",
            "Now predicting labels for unlabeled data...\n",
            "1165\n",
            "839 high-probability predictions added to training data.\n",
            "326 unlabeled instances remaining.\n",
            "\n",
            "0.5916666666666667\n",
            "0.6413043478260869\n",
            "0.7866666666666666\n",
            "0.7065868263473053\n",
            "Iteration 3\n",
            "Now predicting labels for unlabeled data...\n",
            "326\n",
            "106 high-probability predictions added to training data.\n",
            "220 unlabeled instances remaining.\n",
            "\n",
            "0.6\n",
            "0.651685393258427\n",
            "0.7733333333333333\n",
            "0.7073170731707319\n",
            "Iteration 4\n",
            "Now predicting labels for unlabeled data...\n",
            "220\n",
            "43 high-probability predictions added to training data.\n",
            "177 unlabeled instances remaining.\n",
            "\n",
            "0.6083333333333333\n",
            "0.6590909090909091\n",
            "0.7733333333333333\n",
            "0.7116564417177914\n",
            "Iteration 5\n",
            "Now predicting labels for unlabeled data...\n",
            "177\n",
            "15 high-probability predictions added to training data.\n",
            "162 unlabeled instances remaining.\n",
            "\n",
            "0.6083333333333333\n",
            "0.6590909090909091\n",
            "0.7733333333333333\n",
            "0.7116564417177914\n",
            "Iteration 6\n",
            "Now predicting labels for unlabeled data...\n",
            "162\n",
            "6 high-probability predictions added to training data.\n",
            "156 unlabeled instances remaining.\n",
            "\n",
            "0.6083333333333333\n",
            "0.6590909090909091\n",
            "0.7733333333333333\n",
            "0.7116564417177914\n",
            "Iteration 7\n",
            "Now predicting labels for unlabeled data...\n",
            "156\n",
            "9 high-probability predictions added to training data.\n",
            "147 unlabeled instances remaining.\n",
            "\n",
            "0.6083333333333333\n",
            "0.6590909090909091\n",
            "0.7733333333333333\n",
            "0.7116564417177914\n",
            "Iteration 8\n",
            "Now predicting labels for unlabeled data...\n",
            "147\n",
            "2 high-probability predictions added to training data.\n",
            "145 unlabeled instances remaining.\n",
            "\n",
            "0.6083333333333333\n",
            "0.6590909090909091\n",
            "0.7733333333333333\n",
            "0.7116564417177914\n",
            "Iteration 9\n",
            "Now predicting labels for unlabeled data...\n",
            "145\n",
            "3 high-probability predictions added to training data.\n",
            "142 unlabeled instances remaining.\n",
            "\n",
            "0.6083333333333333\n",
            "0.6590909090909091\n",
            "0.7733333333333333\n",
            "0.7116564417177914\n",
            "Iteration 10\n",
            "Now predicting labels for unlabeled data...\n",
            "142\n",
            "0 high-probability predictions added to training data.\n",
            "142 unlabeled instances remaining.\n",
            "\n",
            "0.6083333333333333\n",
            "0.6590909090909091\n",
            "0.7733333333333333\n",
            "0.7116564417177914\n"
          ]
        }
      ]
    },
    {
      "cell_type": "code",
      "source": [
        "list(range(iterations))"
      ],
      "metadata": {
        "colab": {
          "base_uri": "https://localhost:8080/"
        },
        "id": "an2WBh_AMCXr",
        "outputId": "a6a6384a-dcae-44dd-d057-f642a7c417f2"
      },
      "execution_count": null,
      "outputs": [
        {
          "output_type": "execute_result",
          "data": {
            "text/plain": [
              "[0, 1, 2, 3, 4, 5, 6, 7, 8, 9, 10]"
            ]
          },
          "metadata": {},
          "execution_count": 1319
        }
      ]
    },
    {
      "cell_type": "code",
      "source": [
        "test_f1s"
      ],
      "metadata": {
        "colab": {
          "base_uri": "https://localhost:8080/"
        },
        "id": "pG9afh4PLZMy",
        "outputId": "dafdeae3-9fbc-4f31-feb7-e22ecdd81b22"
      },
      "execution_count": null,
      "outputs": [
        {
          "output_type": "execute_result",
          "data": {
            "text/plain": [
              "[0.6993865030674846,\n",
              " 0.7037037037037037,\n",
              " 0.7065868263473053,\n",
              " 0.7073170731707319,\n",
              " 0.7116564417177914,\n",
              " 0.7116564417177914,\n",
              " 0.7116564417177914,\n",
              " 0.7116564417177914,\n",
              " 0.7116564417177914,\n",
              " 0.7116564417177914,\n",
              " 0.7116564417177914]"
            ]
          },
          "metadata": {},
          "execution_count": 1320
        }
      ]
    },
    {
      "cell_type": "code",
      "source": [
        "# Plot f1 scores and number of pseudo-labels added for all iterations\n",
        "\n",
        "fig, (ax1, ax2) = plt.subplots(nrows=2, ncols=1, figsize=(6,8))\n",
        "ax1.plot(list(range(iterations)), test_f1s)\n",
        "ax1.set_ylabel('f1 Score')\n",
        "ax2.set_xlabel('the number of learning');\n",
        "ax2.bar(list(range(iterations)), height=pseudo_labels)\n",
        "ax2.set_ylabel('Pseudo-Labels Created')\n",
        "ax2.set_xlabel('the number of learning');\n",
        "#ax3.plot(range(iterations), test_accs)\n",
        "#ax1.set_ylabel('accuracy')\n",
        "\n",
        "# View confusion matrix after self-training"
      ],
      "metadata": {
        "colab": {
          "base_uri": "https://localhost:8080/",
          "height": 497
        },
        "id": "DW4RKedMLaKy",
        "outputId": "1ba36915-2f18-4284-9760-e68d4894b7a4"
      },
      "execution_count": null,
      "outputs": [
        {
          "output_type": "display_data",
          "data": {
            "text/plain": [
              "<Figure size 432x576 with 2 Axes>"
            ],
            "image/png": "[encoded data removed]"
          },
          "metadata": {
            "needs_background": "light"
          }
        }
      ]
    },
    {
      "cell_type": "code",
      "source": [
        "sns.set_style(\"white\")\n",
        "ax = sns.barplot(x=list(range(iterations)), y=pseudo_labels)\n",
        "ax.set_xlabel('The number of learning')\n",
        "ax.set_ylabel('Pseudo-Labels Created')\n",
        "sns.set(rc = {'figure.figsize':(10,10)})\n",
        "for p in ax.patches:\n",
        "    height = p.get_height()\n",
        "    ax.text(p.get_x() + p.get_width() / 2., height + 30, height, ha = 'center', size = 12)\n",
        "plt.show()"
      ],
      "metadata": {
        "colab": {
          "base_uri": "https://localhost:8080/",
          "height": 611
        },
        "id": "NG0RnDvPVgtu",
        "outputId": "8a253bb6-9ae8-4696-d7ce-b12a6b7a0096"
      },
      "execution_count": null,
      "outputs": [
        {
          "output_type": "display_data",
          "data": {
            "text/plain": [
              "<Figure size 720x720 with 1 Axes>"
            ],
            "image/png": "[encoded data removed]"
          },
          "metadata": {}
        }
      ]
    },
    {
      "cell_type": "code",
      "source": [
        "sns.set_style(\"white\")\n",
        "ax = sns.lineplot(x=list(range(iterations)), y=test_f1s)\n",
        "ax.set_xlabel('The number of learning')\n",
        "ax.set_ylabel('f1 score')\n",
        "sns.set(rc = {'figure.figsize':(10,10)})\n",
        "for p in ax.patches:\n",
        "    height = p.get_height()\n",
        "    ax.text(p.get_x() + p.get_width() / 2., height + 30, height, ha = 'center', size = 12)\n",
        "plt.show()"
      ],
      "metadata": {
        "colab": {
          "base_uri": "https://localhost:8080/",
          "height": 611
        },
        "id": "_08UkpQ1XCkb",
        "outputId": "bf3b8d6c-bf5c-4e11-ceb8-fbb349d3d998"
      },
      "execution_count": null,
      "outputs": [
        {
          "output_type": "display_data",
          "data": {
            "text/plain": [
              "<Figure size 720x720 with 1 Axes>"
            ],
            "image/png": "[encoded data removed]"
          },
          "metadata": {}
        }
      ]
    },
    {
      "cell_type": "code",
      "source": [],
      "metadata": {
        "id": "MjAO4NGaa6AH"
      },
      "execution_count": null,
      "outputs": []
    }
  ]
}