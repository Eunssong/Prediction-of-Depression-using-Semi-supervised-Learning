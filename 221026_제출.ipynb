{
  "nbformat": 4,
  "nbformat_minor": 0,
  "metadata": {
    "colab": {
      "provenance": [],
      "collapsed_sections": [
        "-Qs__q9Lscab"
      ]
    },
    "kernelspec": {
      "name": "python3",
      "display_name": "Python 3"
    },
    "language_info": {
      "name": "python"
    }
  },
  "cells": [
    {
      "cell_type": "code",
      "source": [
        "from google.colab import drive\n",
        "drive.mount('/content/drive')"
      ],
      "metadata": {
        "colab": {
          "base_uri": "https://localhost:8080/"
        },
        "id": "wz-vJfYXpiiz",
        "outputId": "f2760cb1-b123-4e96-8611-1951e125ee33"
      },
      "execution_count": null,
      "outputs": [
        {
          "output_type": "stream",
          "name": "stdout",
          "text": [
            "Drive already mounted at /content/drive; to attempt to forcibly remount, call drive.mount(\"/content/drive\", force_remount=True).\n"
          ]
        }
      ]
    },
    {
      "cell_type": "code",
      "execution_count": null,
      "metadata": {
        "id": "-hbg04MintKA"
      },
      "outputs": [],
      "source": [
        "import os\n",
        "import openpyxl\n",
        "import copy\n",
        "import numpy as np\n",
        "import pandas as pd\n",
        "import matplotlib.pyplot as plt\n",
        "import seaborn as sns\n",
        "import missingno as msno # 결측치 시각화\n",
        "plt.rc(\"font\", family=\"Malgun Gothic\")\n",
        "\n",
        "import warnings\n",
        "warnings.filterwarnings(action = 'ignore')"
      ]
    },
    {
      "cell_type": "code",
      "source": [
        "# 데이터 불러오기 #  encoding = 'CP949'\n",
        "data = pd.read_csv('/content/drive/MyDrive/ICICPE_질병관리청 데이터/data.csv')"
      ],
      "metadata": {
        "id": "x2ZwARAMof0j"
      },
      "execution_count": null,
      "outputs": []
    },
    {
      "cell_type": "code",
      "source": [
        "df = copy.deepcopy(data)"
      ],
      "metadata": {
        "id": "ER3xF6K8s0e3"
      },
      "execution_count": null,
      "outputs": []
    },
    {
      "cell_type": "code",
      "source": [
        "df"
      ],
      "metadata": {
        "colab": {
          "base_uri": "https://localhost:8080/",
          "height": 468
        },
        "id": "dAWRWjniooWv",
        "outputId": "7c112456-6b15-4900-c534-93d51d0742d0"
      },
      "execution_count": null,
      "outputs": [
        {
          "output_type": "execute_result",
          "data": {
            "text/plain": [
              "            mod_d          ID    ID_fam  year  region  town_t  apt_t   psu  \\\n",
              "0     2022.08.10.  A801169401  A8011694  2020       1       1      2  A801   \n",
              "1     2022.08.10.  A801169402  A8011694  2020       1       1      2  A801   \n",
              "2     2022.08.10.  A801169403  A8011694  2020       1       1      2  A801   \n",
              "3     2022.08.10.  A801169404  A8011694  2020       1       1      2  A801   \n",
              "4     2022.08.10.  A801169405  A8011694  2020       1       1      2  A801   \n",
              "...           ...         ...       ...   ...     ...     ...    ...   ...   \n",
              "7354  2022.08.10.  R804366601  R8043666  2020       8       1      2  R804   \n",
              "7355  2022.08.10.  R804368301  R8043683  2020       8       1      2  R804   \n",
              "7356  2022.08.10.  R804368302  R8043683  2020       8       1      2  R804   \n",
              "7357  2022.08.10.  R804371701  R8043717  2020       8       1      2  R804   \n",
              "7358  2022.08.10.  R804371702  R8043717  2020       8       1      2  R804   \n",
              "\n",
              "      sex  age  ... LF_S10 LF_S11 LF_S12 LF_S13 LF_S14 LF_S14_1 LF_S15  \\\n",
              "0       1   39  ...      3      3      3      8      8        8      8   \n",
              "1       2   39  ...      3      3      3      8      8        8      8   \n",
              "2       1   10  ...      3      3      3      8      8        8      8   \n",
              "3       1    7  ...      3      3      3      8      8        8      8   \n",
              "4       1    4  ...      3      3      3      8      8        8      8   \n",
              "...   ...  ...  ...    ...    ...    ...    ...    ...      ...    ...   \n",
              "7354    2   61  ...      8      8      8      8      8        8      8   \n",
              "7355    2   51  ...      8      8      8      8      8        8      8   \n",
              "7356    2   24  ...      8      8      8      8      8        8      8   \n",
              "7357    1   65  ...      8      8      8      8      8        8      8   \n",
              "7358    2   57  ...      8      8      8      8      8        8      8   \n",
              "\n",
              "      LF_S16 LF_SECUR LF_SECUR_G  \n",
              "0          8        0          1  \n",
              "1          8        0          1  \n",
              "2          8        0          1  \n",
              "3          8        0          1  \n",
              "4          8        0          1  \n",
              "...      ...      ...        ...  \n",
              "7354       8        0          1  \n",
              "7355       8        0          1  \n",
              "7356       8        0          1  \n",
              "7357       8        0          1  \n",
              "7358       8        0          1  \n",
              "\n",
              "[7359 rows x 762 columns]"
            ],
            "text/html": [
              "\n",
              "  <div id=\"df-2b6a9ad4-06b5-4e2c-92c9-6fd2b2262264\">\n",
              "    <div class=\"colab-df-container\">\n",
              "      <div>\n",
              "<style scoped>\n",
              "    .dataframe tbody tr th:only-of-type {\n",
              "        vertical-align: middle;\n",
              "    }\n",
              "\n",
              "    .dataframe tbody tr th {\n",
              "        vertical-align: top;\n",
              "    }\n",
              "\n",
              "    .dataframe thead th {\n",
              "        text-align: right;\n",
              "    }\n",
              "</style>\n",
              "<table border=\"1\" class=\"dataframe\">\n",
              "  <thead>\n",
              "    <tr style=\"text-align: right;\">\n",
              "      <th></th>\n",
              "      <th>mod_d</th>\n",
              "      <th>ID</th>\n",
              "      <th>ID_fam</th>\n",
              "      <th>year</th>\n",
              "      <th>region</th>\n",
              "      <th>town_t</th>\n",
              "      <th>apt_t</th>\n",
              "      <th>psu</th>\n",
              "      <th>sex</th>\n",
              "      <th>age</th>\n",
              "      <th>...</th>\n",
              "      <th>LF_S10</th>\n",
              "      <th>LF_S11</th>\n",
              "      <th>LF_S12</th>\n",
              "      <th>LF_S13</th>\n",
              "      <th>LF_S14</th>\n",
              "      <th>LF_S14_1</th>\n",
              "      <th>LF_S15</th>\n",
              "      <th>LF_S16</th>\n",
              "      <th>LF_SECUR</th>\n",
              "      <th>LF_SECUR_G</th>\n",
              "    </tr>\n",
              "  </thead>\n",
              "  <tbody>\n",
              "    <tr>\n",
              "      <th>0</th>\n",
              "      <td>2022.08.10.</td>\n",
              "      <td>A801169401</td>\n",
              "      <td>A8011694</td>\n",
              "      <td>2020</td>\n",
              "      <td>1</td>\n",
              "      <td>1</td>\n",
              "      <td>2</td>\n",
              "      <td>A801</td>\n",
              "      <td>1</td>\n",
              "      <td>39</td>\n",
              "      <td>...</td>\n",
              "      <td>3</td>\n",
              "      <td>3</td>\n",
              "      <td>3</td>\n",
              "      <td>8</td>\n",
              "      <td>8</td>\n",
              "      <td>8</td>\n",
              "      <td>8</td>\n",
              "      <td>8</td>\n",
              "      <td>0</td>\n",
              "      <td>1</td>\n",
              "    </tr>\n",
              "    <tr>\n",
              "      <th>1</th>\n",
              "      <td>2022.08.10.</td>\n",
              "      <td>A801169402</td>\n",
              "      <td>A8011694</td>\n",
              "      <td>2020</td>\n",
              "      <td>1</td>\n",
              "      <td>1</td>\n",
              "      <td>2</td>\n",
              "      <td>A801</td>\n",
              "      <td>2</td>\n",
              "      <td>39</td>\n",
              "      <td>...</td>\n",
              "      <td>3</td>\n",
              "      <td>3</td>\n",
              "      <td>3</td>\n",
              "      <td>8</td>\n",
              "      <td>8</td>\n",
              "      <td>8</td>\n",
              "      <td>8</td>\n",
              "      <td>8</td>\n",
              "      <td>0</td>\n",
              "      <td>1</td>\n",
              "    </tr>\n",
              "    <tr>\n",
              "      <th>2</th>\n",
              "      <td>2022.08.10.</td>\n",
              "      <td>A801169403</td>\n",
              "      <td>A8011694</td>\n",
              "      <td>2020</td>\n",
              "      <td>1</td>\n",
              "      <td>1</td>\n",
              "      <td>2</td>\n",
              "      <td>A801</td>\n",
              "      <td>1</td>\n",
              "      <td>10</td>\n",
              "      <td>...</td>\n",
              "      <td>3</td>\n",
              "      <td>3</td>\n",
              "      <td>3</td>\n",
              "      <td>8</td>\n",
              "      <td>8</td>\n",
              "      <td>8</td>\n",
              "      <td>8</td>\n",
              "      <td>8</td>\n",
              "      <td>0</td>\n",
              "      <td>1</td>\n",
              "    </tr>\n",
              "    <tr>\n",
              "      <th>3</th>\n",
              "      <td>2022.08.10.</td>\n",
              "      <td>A801169404</td>\n",
              "      <td>A8011694</td>\n",
              "      <td>2020</td>\n",
              "      <td>1</td>\n",
              "      <td>1</td>\n",
              "      <td>2</td>\n",
              "      <td>A801</td>\n",
              "      <td>1</td>\n",
              "      <td>7</td>\n",
              "      <td>...</td>\n",
              "      <td>3</td>\n",
              "      <td>3</td>\n",
              "      <td>3</td>\n",
              "      <td>8</td>\n",
              "      <td>8</td>\n",
              "      <td>8</td>\n",
              "      <td>8</td>\n",
              "      <td>8</td>\n",
              "      <td>0</td>\n",
              "      <td>1</td>\n",
              "    </tr>\n",
              "    <tr>\n",
              "      <th>4</th>\n",
              "      <td>2022.08.10.</td>\n",
              "      <td>A801169405</td>\n",
              "      <td>A8011694</td>\n",
              "      <td>2020</td>\n",
              "      <td>1</td>\n",
              "      <td>1</td>\n",
              "      <td>2</td>\n",
              "      <td>A801</td>\n",
              "      <td>1</td>\n",
              "      <td>4</td>\n",
              "      <td>...</td>\n",
              "      <td>3</td>\n",
              "      <td>3</td>\n",
              "      <td>3</td>\n",
              "      <td>8</td>\n",
              "      <td>8</td>\n",
              "      <td>8</td>\n",
              "      <td>8</td>\n",
              "      <td>8</td>\n",
              "      <td>0</td>\n",
              "      <td>1</td>\n",
              "    </tr>\n",
              "    <tr>\n",
              "      <th>...</th>\n",
              "      <td>...</td>\n",
              "      <td>...</td>\n",
              "      <td>...</td>\n",
              "      <td>...</td>\n",
              "      <td>...</td>\n",
              "      <td>...</td>\n",
              "      <td>...</td>\n",
              "      <td>...</td>\n",
              "      <td>...</td>\n",
              "      <td>...</td>\n",
              "      <td>...</td>\n",
              "      <td>...</td>\n",
              "      <td>...</td>\n",
              "      <td>...</td>\n",
              "      <td>...</td>\n",
              "      <td>...</td>\n",
              "      <td>...</td>\n",
              "      <td>...</td>\n",
              "      <td>...</td>\n",
              "      <td>...</td>\n",
              "      <td>...</td>\n",
              "    </tr>\n",
              "    <tr>\n",
              "      <th>7354</th>\n",
              "      <td>2022.08.10.</td>\n",
              "      <td>R804366601</td>\n",
              "      <td>R8043666</td>\n",
              "      <td>2020</td>\n",
              "      <td>8</td>\n",
              "      <td>1</td>\n",
              "      <td>2</td>\n",
              "      <td>R804</td>\n",
              "      <td>2</td>\n",
              "      <td>61</td>\n",
              "      <td>...</td>\n",
              "      <td>8</td>\n",
              "      <td>8</td>\n",
              "      <td>8</td>\n",
              "      <td>8</td>\n",
              "      <td>8</td>\n",
              "      <td>8</td>\n",
              "      <td>8</td>\n",
              "      <td>8</td>\n",
              "      <td>0</td>\n",
              "      <td>1</td>\n",
              "    </tr>\n",
              "    <tr>\n",
              "      <th>7355</th>\n",
              "      <td>2022.08.10.</td>\n",
              "      <td>R804368301</td>\n",
              "      <td>R8043683</td>\n",
              "      <td>2020</td>\n",
              "      <td>8</td>\n",
              "      <td>1</td>\n",
              "      <td>2</td>\n",
              "      <td>R804</td>\n",
              "      <td>2</td>\n",
              "      <td>51</td>\n",
              "      <td>...</td>\n",
              "      <td>8</td>\n",
              "      <td>8</td>\n",
              "      <td>8</td>\n",
              "      <td>8</td>\n",
              "      <td>8</td>\n",
              "      <td>8</td>\n",
              "      <td>8</td>\n",
              "      <td>8</td>\n",
              "      <td>0</td>\n",
              "      <td>1</td>\n",
              "    </tr>\n",
              "    <tr>\n",
              "      <th>7356</th>\n",
              "      <td>2022.08.10.</td>\n",
              "      <td>R804368302</td>\n",
              "      <td>R8043683</td>\n",
              "      <td>2020</td>\n",
              "      <td>8</td>\n",
              "      <td>1</td>\n",
              "      <td>2</td>\n",
              "      <td>R804</td>\n",
              "      <td>2</td>\n",
              "      <td>24</td>\n",
              "      <td>...</td>\n",
              "      <td>8</td>\n",
              "      <td>8</td>\n",
              "      <td>8</td>\n",
              "      <td>8</td>\n",
              "      <td>8</td>\n",
              "      <td>8</td>\n",
              "      <td>8</td>\n",
              "      <td>8</td>\n",
              "      <td>0</td>\n",
              "      <td>1</td>\n",
              "    </tr>\n",
              "    <tr>\n",
              "      <th>7357</th>\n",
              "      <td>2022.08.10.</td>\n",
              "      <td>R804371701</td>\n",
              "      <td>R8043717</td>\n",
              "      <td>2020</td>\n",
              "      <td>8</td>\n",
              "      <td>1</td>\n",
              "      <td>2</td>\n",
              "      <td>R804</td>\n",
              "      <td>1</td>\n",
              "      <td>65</td>\n",
              "      <td>...</td>\n",
              "      <td>8</td>\n",
              "      <td>8</td>\n",
              "      <td>8</td>\n",
              "      <td>8</td>\n",
              "      <td>8</td>\n",
              "      <td>8</td>\n",
              "      <td>8</td>\n",
              "      <td>8</td>\n",
              "      <td>0</td>\n",
              "      <td>1</td>\n",
              "    </tr>\n",
              "    <tr>\n",
              "      <th>7358</th>\n",
              "      <td>2022.08.10.</td>\n",
              "      <td>R804371702</td>\n",
              "      <td>R8043717</td>\n",
              "      <td>2020</td>\n",
              "      <td>8</td>\n",
              "      <td>1</td>\n",
              "      <td>2</td>\n",
              "      <td>R804</td>\n",
              "      <td>2</td>\n",
              "      <td>57</td>\n",
              "      <td>...</td>\n",
              "      <td>8</td>\n",
              "      <td>8</td>\n",
              "      <td>8</td>\n",
              "      <td>8</td>\n",
              "      <td>8</td>\n",
              "      <td>8</td>\n",
              "      <td>8</td>\n",
              "      <td>8</td>\n",
              "      <td>0</td>\n",
              "      <td>1</td>\n",
              "    </tr>\n",
              "  </tbody>\n",
              "</table>\n",
              "<p>7359 rows × 762 columns</p>\n",
              "</div>\n",
              "      <button class=\"colab-df-convert\" onclick=\"convertToInteractive('df-2b6a9ad4-06b5-4e2c-92c9-6fd2b2262264')\"\n",
              "              title=\"Convert this dataframe to an interactive table.\"\n",
              "              style=\"display:none;\">\n",
              "        \n",
              "  <svg xmlns=\"http://www.w3.org/2000/svg\" height=\"24px\"viewBox=\"0 0 24 24\"\n",
              "       width=\"24px\">\n",
              "    <path d=\"M0 0h24v24H0V0z\" fill=\"none\"/>\n",
              "    <path d=\"M18.56 5.44l.94 2.06.94-2.06 2.06-.94-2.06-.94-.94-2.06-.94 2.06-2.06.94zm-11 1L8.5 8.5l.94-2.06 2.06-.94-2.06-.94L8.5 2.5l-.94 2.06-2.06.94zm10 10l.94 2.06.94-2.06 2.06-.94-2.06-.94-.94-2.06-.94 2.06-2.06.94z\"/><path d=\"M17.41 7.96l-1.37-1.37c-.4-.4-.92-.59-1.43-.59-.52 0-1.04.2-1.43.59L10.3 9.45l-7.72 7.72c-.78.78-.78 2.05 0 2.83L4 21.41c.39.39.9.59 1.41.59.51 0 1.02-.2 1.41-.59l7.78-7.78 2.81-2.81c.8-.78.8-2.07 0-2.86zM5.41 20L4 18.59l7.72-7.72 1.47 1.35L5.41 20z\"/>\n",
              "  </svg>\n",
              "      </button>\n",
              "      \n",
              "  <style>\n",
              "    .colab-df-container {\n",
              "      display:flex;\n",
              "      flex-wrap:wrap;\n",
              "      gap: 12px;\n",
              "    }\n",
              "\n",
              "    .colab-df-convert {\n",
              "      background-color: #E8F0FE;\n",
              "      border: none;\n",
              "      border-radius: 50%;\n",
              "      cursor: pointer;\n",
              "      display: none;\n",
              "      fill: #1967D2;\n",
              "      height: 32px;\n",
              "      padding: 0 0 0 0;\n",
              "      width: 32px;\n",
              "    }\n",
              "\n",
              "    .colab-df-convert:hover {\n",
              "      background-color: #E2EBFA;\n",
              "      box-shadow: 0px 1px 2px rgba(60, 64, 67, 0.3), 0px 1px 3px 1px rgba(60, 64, 67, 0.15);\n",
              "      fill: #174EA6;\n",
              "    }\n",
              "\n",
              "    [theme=dark] .colab-df-convert {\n",
              "      background-color: #3B4455;\n",
              "      fill: #D2E3FC;\n",
              "    }\n",
              "\n",
              "    [theme=dark] .colab-df-convert:hover {\n",
              "      background-color: #434B5C;\n",
              "      box-shadow: 0px 1px 3px 1px rgba(0, 0, 0, 0.15);\n",
              "      filter: drop-shadow(0px 1px 2px rgba(0, 0, 0, 0.3));\n",
              "      fill: #FFFFFF;\n",
              "    }\n",
              "  </style>\n",
              "\n",
              "      <script>\n",
              "        const buttonEl =\n",
              "          document.querySelector('#df-2b6a9ad4-06b5-4e2c-92c9-6fd2b2262264 button.colab-df-convert');\n",
              "        buttonEl.style.display =\n",
              "          google.colab.kernel.accessAllowed ? 'block' : 'none';\n",
              "\n",
              "        async function convertToInteractive(key) {\n",
              "          const element = document.querySelector('#df-2b6a9ad4-06b5-4e2c-92c9-6fd2b2262264');\n",
              "          const dataTable =\n",
              "            await google.colab.kernel.invokeFunction('convertToInteractive',\n",
              "                                                     [key], {});\n",
              "          if (!dataTable) return;\n",
              "\n",
              "          const docLinkHtml = 'Like what you see? Visit the ' +\n",
              "            '<a target=\"_blank\" href=https://colab.research.google.com/notebooks/data_table.ipynb>data table notebook</a>'\n",
              "            + ' to learn more about interactive tables.';\n",
              "          element.innerHTML = '';\n",
              "          dataTable['output_type'] = 'display_data';\n",
              "          await google.colab.output.renderOutput(dataTable, element);\n",
              "          const docLink = document.createElement('div');\n",
              "          docLink.innerHTML = docLinkHtml;\n",
              "          element.appendChild(docLink);\n",
              "        }\n",
              "      </script>\n",
              "    </div>\n",
              "  </div>\n",
              "  "
            ]
          },
          "metadata": {},
          "execution_count": 1030
        }
      ]
    },
    {
      "cell_type": "code",
      "source": [
        "len(df['ID'].unique())"
      ],
      "metadata": {
        "colab": {
          "base_uri": "https://localhost:8080/"
        },
        "id": "Y6aaWX8aPJj7",
        "outputId": "c96eec7d-12bb-4098-9c54-716650a1b7e9"
      },
      "execution_count": null,
      "outputs": [
        {
          "output_type": "execute_result",
          "data": {
            "text/plain": [
              "7359"
            ]
          },
          "metadata": {},
          "execution_count": 1031
        }
      ]
    },
    {
      "cell_type": "code",
      "source": [],
      "metadata": {
        "id": "f1muiBHsPQgT"
      },
      "execution_count": null,
      "outputs": []
    },
    {
      "cell_type": "code",
      "source": [
        "df.columns[0:35]"
      ],
      "metadata": {
        "colab": {
          "base_uri": "https://localhost:8080/"
        },
        "id": "grHEcpDrtZ6i",
        "outputId": "ebd1dbaa-fbc0-42d4-ecca-e08e2001e7da"
      },
      "execution_count": null,
      "outputs": [
        {
          "output_type": "execute_result",
          "data": {
            "text/plain": [
              "Index(['mod_d', 'ID', 'ID_fam', 'year', 'region', 'town_t', 'apt_t', 'psu',\n",
              "       'sex', 'age', 'age_month', 'incm', 'ho_incm', 'incm5', 'ho_incm5',\n",
              "       'edu', 'occp', 'wt_hs', 'wt_itvex', 'wt_oe', 'wt_ntr', 'wt_tot',\n",
              "       'wt_oent', 'kstrata', 'cfam', 'genertn', 'allownc', 'house', 'live_t',\n",
              "       'ainc_unit1', 'ainc_1', 'ainc', 'marri_1', 'marri_2', 'fam_rela'],\n",
              "      dtype='object')"
            ]
          },
          "metadata": {},
          "execution_count": 1032
        }
      ]
    },
    {
      "cell_type": "code",
      "source": [
        "# 1. 기본변수, 2-1 가구조사, 2-2 이환 변수 정리\n",
        "#df.drop(columns = ['ID','year','mod_d','ID_fam','town_t', 'apt_t','psu','age_month','ho_incm','ho_incm5','wt_hs', 'wt_itvex', 'wt_oe', 'wt_ntr', 'wt_tot','wt_oent', 'kstrata','genertn','live_t','ainc_unit1', 'ainc_1', 'ainc','fam_rela','tins', 'npins', 'ID_F', 'ID_M','D_2_wk'], inplace =True)"
      ],
      "metadata": {
        "id": "B507EG-asr8I"
      },
      "execution_count": null,
      "outputs": []
    },
    {
      "cell_type": "code",
      "source": [
        "df.head()"
      ],
      "metadata": {
        "colab": {
          "base_uri": "https://localhost:8080/",
          "height": 236
        },
        "id": "unFzmEE6spbo",
        "outputId": "7c1e02a8-3053-4551-a2be-e2597561ecbd"
      },
      "execution_count": null,
      "outputs": [
        {
          "output_type": "execute_result",
          "data": {
            "text/plain": [
              "         mod_d          ID    ID_fam  year  region  town_t  apt_t   psu  sex  \\\n",
              "0  2022.08.10.  A801169401  A8011694  2020       1       1      2  A801    1   \n",
              "1  2022.08.10.  A801169402  A8011694  2020       1       1      2  A801    2   \n",
              "2  2022.08.10.  A801169403  A8011694  2020       1       1      2  A801    1   \n",
              "3  2022.08.10.  A801169404  A8011694  2020       1       1      2  A801    1   \n",
              "4  2022.08.10.  A801169405  A8011694  2020       1       1      2  A801    1   \n",
              "\n",
              "   age  ... LF_S10 LF_S11 LF_S12 LF_S13 LF_S14 LF_S14_1 LF_S15  LF_S16  \\\n",
              "0   39  ...      3      3      3      8      8        8      8       8   \n",
              "1   39  ...      3      3      3      8      8        8      8       8   \n",
              "2   10  ...      3      3      3      8      8        8      8       8   \n",
              "3    7  ...      3      3      3      8      8        8      8       8   \n",
              "4    4  ...      3      3      3      8      8        8      8       8   \n",
              "\n",
              "  LF_SECUR LF_SECUR_G  \n",
              "0        0          1  \n",
              "1        0          1  \n",
              "2        0          1  \n",
              "3        0          1  \n",
              "4        0          1  \n",
              "\n",
              "[5 rows x 762 columns]"
            ],
            "text/html": [
              "\n",
              "  <div id=\"df-dfb0457c-4fd9-406b-b34c-0fa7f1198229\">\n",
              "    <div class=\"colab-df-container\">\n",
              "      <div>\n",
              "<style scoped>\n",
              "    .dataframe tbody tr th:only-of-type {\n",
              "        vertical-align: middle;\n",
              "    }\n",
              "\n",
              "    .dataframe tbody tr th {\n",
              "        vertical-align: top;\n",
              "    }\n",
              "\n",
              "    .dataframe thead th {\n",
              "        text-align: right;\n",
              "    }\n",
              "</style>\n",
              "<table border=\"1\" class=\"dataframe\">\n",
              "  <thead>\n",
              "    <tr style=\"text-align: right;\">\n",
              "      <th></th>\n",
              "      <th>mod_d</th>\n",
              "      <th>ID</th>\n",
              "      <th>ID_fam</th>\n",
              "      <th>year</th>\n",
              "      <th>region</th>\n",
              "      <th>town_t</th>\n",
              "      <th>apt_t</th>\n",
              "      <th>psu</th>\n",
              "      <th>sex</th>\n",
              "      <th>age</th>\n",
              "      <th>...</th>\n",
              "      <th>LF_S10</th>\n",
              "      <th>LF_S11</th>\n",
              "      <th>LF_S12</th>\n",
              "      <th>LF_S13</th>\n",
              "      <th>LF_S14</th>\n",
              "      <th>LF_S14_1</th>\n",
              "      <th>LF_S15</th>\n",
              "      <th>LF_S16</th>\n",
              "      <th>LF_SECUR</th>\n",
              "      <th>LF_SECUR_G</th>\n",
              "    </tr>\n",
              "  </thead>\n",
              "  <tbody>\n",
              "    <tr>\n",
              "      <th>0</th>\n",
              "      <td>2022.08.10.</td>\n",
              "      <td>A801169401</td>\n",
              "      <td>A8011694</td>\n",
              "      <td>2020</td>\n",
              "      <td>1</td>\n",
              "      <td>1</td>\n",
              "      <td>2</td>\n",
              "      <td>A801</td>\n",
              "      <td>1</td>\n",
              "      <td>39</td>\n",
              "      <td>...</td>\n",
              "      <td>3</td>\n",
              "      <td>3</td>\n",
              "      <td>3</td>\n",
              "      <td>8</td>\n",
              "      <td>8</td>\n",
              "      <td>8</td>\n",
              "      <td>8</td>\n",
              "      <td>8</td>\n",
              "      <td>0</td>\n",
              "      <td>1</td>\n",
              "    </tr>\n",
              "    <tr>\n",
              "      <th>1</th>\n",
              "      <td>2022.08.10.</td>\n",
              "      <td>A801169402</td>\n",
              "      <td>A8011694</td>\n",
              "      <td>2020</td>\n",
              "      <td>1</td>\n",
              "      <td>1</td>\n",
              "      <td>2</td>\n",
              "      <td>A801</td>\n",
              "      <td>2</td>\n",
              "      <td>39</td>\n",
              "      <td>...</td>\n",
              "      <td>3</td>\n",
              "      <td>3</td>\n",
              "      <td>3</td>\n",
              "      <td>8</td>\n",
              "      <td>8</td>\n",
              "      <td>8</td>\n",
              "      <td>8</td>\n",
              "      <td>8</td>\n",
              "      <td>0</td>\n",
              "      <td>1</td>\n",
              "    </tr>\n",
              "    <tr>\n",
              "      <th>2</th>\n",
              "      <td>2022.08.10.</td>\n",
              "      <td>A801169403</td>\n",
              "      <td>A8011694</td>\n",
              "      <td>2020</td>\n",
              "      <td>1</td>\n",
              "      <td>1</td>\n",
              "      <td>2</td>\n",
              "      <td>A801</td>\n",
              "      <td>1</td>\n",
              "      <td>10</td>\n",
              "      <td>...</td>\n",
              "      <td>3</td>\n",
              "      <td>3</td>\n",
              "      <td>3</td>\n",
              "      <td>8</td>\n",
              "      <td>8</td>\n",
              "      <td>8</td>\n",
              "      <td>8</td>\n",
              "      <td>8</td>\n",
              "      <td>0</td>\n",
              "      <td>1</td>\n",
              "    </tr>\n",
              "    <tr>\n",
              "      <th>3</th>\n",
              "      <td>2022.08.10.</td>\n",
              "      <td>A801169404</td>\n",
              "      <td>A8011694</td>\n",
              "      <td>2020</td>\n",
              "      <td>1</td>\n",
              "      <td>1</td>\n",
              "      <td>2</td>\n",
              "      <td>A801</td>\n",
              "      <td>1</td>\n",
              "      <td>7</td>\n",
              "      <td>...</td>\n",
              "      <td>3</td>\n",
              "      <td>3</td>\n",
              "      <td>3</td>\n",
              "      <td>8</td>\n",
              "      <td>8</td>\n",
              "      <td>8</td>\n",
              "      <td>8</td>\n",
              "      <td>8</td>\n",
              "      <td>0</td>\n",
              "      <td>1</td>\n",
              "    </tr>\n",
              "    <tr>\n",
              "      <th>4</th>\n",
              "      <td>2022.08.10.</td>\n",
              "      <td>A801169405</td>\n",
              "      <td>A8011694</td>\n",
              "      <td>2020</td>\n",
              "      <td>1</td>\n",
              "      <td>1</td>\n",
              "      <td>2</td>\n",
              "      <td>A801</td>\n",
              "      <td>1</td>\n",
              "      <td>4</td>\n",
              "      <td>...</td>\n",
              "      <td>3</td>\n",
              "      <td>3</td>\n",
              "      <td>3</td>\n",
              "      <td>8</td>\n",
              "      <td>8</td>\n",
              "      <td>8</td>\n",
              "      <td>8</td>\n",
              "      <td>8</td>\n",
              "      <td>0</td>\n",
              "      <td>1</td>\n",
              "    </tr>\n",
              "  </tbody>\n",
              "</table>\n",
              "<p>5 rows × 762 columns</p>\n",
              "</div>\n",
              "      <button class=\"colab-df-convert\" onclick=\"convertToInteractive('df-dfb0457c-4fd9-406b-b34c-0fa7f1198229')\"\n",
              "              title=\"Convert this dataframe to an interactive table.\"\n",
              "              style=\"display:none;\">\n",
              "        \n",
              "  <svg xmlns=\"http://www.w3.org/2000/svg\" height=\"24px\"viewBox=\"0 0 24 24\"\n",
              "       width=\"24px\">\n",
              "    <path d=\"M0 0h24v24H0V0z\" fill=\"none\"/>\n",
              "    <path d=\"M18.56 5.44l.94 2.06.94-2.06 2.06-.94-2.06-.94-.94-2.06-.94 2.06-2.06.94zm-11 1L8.5 8.5l.94-2.06 2.06-.94-2.06-.94L8.5 2.5l-.94 2.06-2.06.94zm10 10l.94 2.06.94-2.06 2.06-.94-2.06-.94-.94-2.06-.94 2.06-2.06.94z\"/><path d=\"M17.41 7.96l-1.37-1.37c-.4-.4-.92-.59-1.43-.59-.52 0-1.04.2-1.43.59L10.3 9.45l-7.72 7.72c-.78.78-.78 2.05 0 2.83L4 21.41c.39.39.9.59 1.41.59.51 0 1.02-.2 1.41-.59l7.78-7.78 2.81-2.81c.8-.78.8-2.07 0-2.86zM5.41 20L4 18.59l7.72-7.72 1.47 1.35L5.41 20z\"/>\n",
              "  </svg>\n",
              "      </button>\n",
              "      \n",
              "  <style>\n",
              "    .colab-df-container {\n",
              "      display:flex;\n",
              "      flex-wrap:wrap;\n",
              "      gap: 12px;\n",
              "    }\n",
              "\n",
              "    .colab-df-convert {\n",
              "      background-color: #E8F0FE;\n",
              "      border: none;\n",
              "      border-radius: 50%;\n",
              "      cursor: pointer;\n",
              "      display: none;\n",
              "      fill: #1967D2;\n",
              "      height: 32px;\n",
              "      padding: 0 0 0 0;\n",
              "      width: 32px;\n",
              "    }\n",
              "\n",
              "    .colab-df-convert:hover {\n",
              "      background-color: #E2EBFA;\n",
              "      box-shadow: 0px 1px 2px rgba(60, 64, 67, 0.3), 0px 1px 3px 1px rgba(60, 64, 67, 0.15);\n",
              "      fill: #174EA6;\n",
              "    }\n",
              "\n",
              "    [theme=dark] .colab-df-convert {\n",
              "      background-color: #3B4455;\n",
              "      fill: #D2E3FC;\n",
              "    }\n",
              "\n",
              "    [theme=dark] .colab-df-convert:hover {\n",
              "      background-color: #434B5C;\n",
              "      box-shadow: 0px 1px 3px 1px rgba(0, 0, 0, 0.15);\n",
              "      filter: drop-shadow(0px 1px 2px rgba(0, 0, 0, 0.3));\n",
              "      fill: #FFFFFF;\n",
              "    }\n",
              "  </style>\n",
              "\n",
              "      <script>\n",
              "        const buttonEl =\n",
              "          document.querySelector('#df-dfb0457c-4fd9-406b-b34c-0fa7f1198229 button.colab-df-convert');\n",
              "        buttonEl.style.display =\n",
              "          google.colab.kernel.accessAllowed ? 'block' : 'none';\n",
              "\n",
              "        async function convertToInteractive(key) {\n",
              "          const element = document.querySelector('#df-dfb0457c-4fd9-406b-b34c-0fa7f1198229');\n",
              "          const dataTable =\n",
              "            await google.colab.kernel.invokeFunction('convertToInteractive',\n",
              "                                                     [key], {});\n",
              "          if (!dataTable) return;\n",
              "\n",
              "          const docLinkHtml = 'Like what you see? Visit the ' +\n",
              "            '<a target=\"_blank\" href=https://colab.research.google.com/notebooks/data_table.ipynb>data table notebook</a>'\n",
              "            + ' to learn more about interactive tables.';\n",
              "          element.innerHTML = '';\n",
              "          dataTable['output_type'] = 'display_data';\n",
              "          await google.colab.output.renderOutput(dataTable, element);\n",
              "          const docLink = document.createElement('div');\n",
              "          docLink.innerHTML = docLinkHtml;\n",
              "          element.appendChild(docLink);\n",
              "        }\n",
              "      </script>\n",
              "    </div>\n",
              "  </div>\n",
              "  "
            ]
          },
          "metadata": {},
          "execution_count": 1034
        }
      ]
    },
    {
      "cell_type": "code",
      "source": [
        "# df.drop(columns = ['year'],inplace = True)"
      ],
      "metadata": {
        "id": "UBervcA-w81k"
      },
      "execution_count": null,
      "outputs": []
    },
    {
      "cell_type": "code",
      "source": [
        "df.info()"
      ],
      "metadata": {
        "colab": {
          "base_uri": "https://localhost:8080/"
        },
        "id": "1s9jduN0glUP",
        "outputId": "63fe1206-e21b-4a2a-b921-5ae413442422"
      },
      "execution_count": null,
      "outputs": [
        {
          "output_type": "stream",
          "name": "stdout",
          "text": [
            "<class 'pandas.core.frame.DataFrame'>\n",
            "RangeIndex: 7359 entries, 0 to 7358\n",
            "Columns: 762 entries, mod_d to LF_SECUR_G\n",
            "dtypes: float64(1), int64(19), object(742)\n",
            "memory usage: 42.8+ MB\n"
          ]
        }
      ]
    },
    {
      "cell_type": "code",
      "source": [
        "df['DF2_pr'].value_counts() # 우울증 해당 여부 value 개수 확인"
      ],
      "metadata": {
        "colab": {
          "base_uri": "https://localhost:8080/"
        },
        "id": "dLOC_PUkaBFM",
        "outputId": "39e7abdb-e90b-4968-afe8-42dd92d39171"
      },
      "execution_count": null,
      "outputs": [
        {
          "output_type": "execute_result",
          "data": {
            "text/plain": [
              "8    6294\n",
              "9     499\n",
              "      265\n",
              "1     188\n",
              "0     113\n",
              "Name: DF2_pr, dtype: int64"
            ]
          },
          "metadata": {},
          "execution_count": 1037
        }
      ]
    },
    {
      "cell_type": "code",
      "source": [
        "df['ID'].value_counts().sum()"
      ],
      "metadata": {
        "colab": {
          "base_uri": "https://localhost:8080/"
        },
        "id": "tJsqEiXcUuSt",
        "outputId": "be05964e-d4ae-441f-eb8e-4b548aad11b3"
      },
      "execution_count": null,
      "outputs": [
        {
          "output_type": "execute_result",
          "data": {
            "text/plain": [
              "7359"
            ]
          },
          "metadata": {},
          "execution_count": 1038
        }
      ]
    },
    {
      "cell_type": "code",
      "source": [
        "'''\n",
        "# 'ID': 개인 아이디\n",
        "'region': 17개 시도\n",
        "'sex': 성별\n",
        "'age': 나이\n",
        "'incom': 소득 4분위수(개인)\n",
        "'edu': 교육수준\n",
        "'EC1_1': 경제활동 상태\n",
        "'cfam': 가구원수 9\n",
        "'allownc': 기초생활수급 여부 99 >>9\n",
        "'house': 주택소유여부 9\n",
        "'marri_2': 결혼상태 9\n",
        "'D_1_1': 주관적 건강인지 9\n",
        "'D_2_1': 최근 2주간 몸이 불편했던 경험 유무 9\n",
        "'BD1_11' : (만12세이상)1년간 음주빈도 9\n",
        "'BE3_75': 고강도 신체활동 여부: 여가\n",
        "# 'BP5': 2주이상 연속 우울감 여부 9\n",
        "# 'BP6_10':1년간 자살 생각 여부 9\n",
        "'mh_stress': 스트레스 인지율\n",
        "'BS3_1': 현재흡연여부 8 >> 9\n",
        "'DF2_pr': 우울증 현재 유병 여부  9\n",
        "'''"
      ],
      "metadata": {
        "colab": {
          "base_uri": "https://localhost:8080/",
          "height": 73
        },
        "id": "RJ9O2oA9ymj5",
        "outputId": "011d20f5-79c1-4752-9b0b-0c3f30f62c3a"
      },
      "execution_count": null,
      "outputs": [
        {
          "output_type": "execute_result",
          "data": {
            "text/plain": [
              "\"\\n# 'ID': 개인 아이디\\n'region': 17개 시도\\n'sex': 성별\\n'age': 나이\\n'incom': 소득 4분위수(개인)\\n'edu': 교육수준\\n'EC1_1': 경제활동 상태\\n'cfam': 가구원수 9\\n'allownc': 기초생활수급 여부 99 >>9\\n'house': 주택소유여부 9\\n'marri_2': 결혼상태 9\\n'D_1_1': 주관적 건강인지 9\\n'D_2_1': 최근 2주간 몸이 불편했던 경험 유무 9\\n'BD1_11' : (만12세이상)1년간 음주빈도 9\\n'BE3_75': 고강도 신체활동 여부: 여가\\n# 'BP5': 2주이상 연속 우울감 여부 9\\n# 'BP6_10':1년간 자살 생각 여부 9\\n'mh_stress': 스트레스 인지율\\n'BS3_1': 현재흡연여부 8 >> 9\\n'DF2_pr': 우울증 현재 유병 여부  9\\n\""
            ],
            "application/vnd.google.colaboratory.intrinsic+json": {
              "type": "string"
            }
          },
          "metadata": {},
          "execution_count": 1039
        }
      ]
    },
    {
      "cell_type": "code",
      "source": [
        "# 선택한 features로 구성된 df\n",
        "\n",
        "df = df.loc[:,['region', 'sex', 'age', 'incm', 'edu', 'EC1_1', 'cfam',\n",
        "       'allownc', 'house', 'marri_2', 'D_1_1', 'D_2_1', 'BD1_11','BE3_75', 'BP5','BP6_10', 'mh_stress', 'BS3_1', 'DF2_pr']]\n",
        "\n",
        "# df = df.loc[:,['ID', 'region', 'sex', 'age', 'incm', 'incm5', 'edu', 'EC1_1', 'cfam',\n",
        "#        'allownc', 'house', 'marri_1', 'D_1_1', 'D_2_1', 'BD1_11','BE3_75', 'BP5','BP6_10', 'mh_stress', 'BS3_1', 'DF2_dg']]\n",
        "df"
      ],
      "metadata": {
        "id": "eeAmc5vaoqa_",
        "colab": {
          "base_uri": "https://localhost:8080/",
          "height": 424
        },
        "outputId": "1df4ab88-97d3-4474-f733-d3a8fa2257e8"
      },
      "execution_count": null,
      "outputs": [
        {
          "output_type": "execute_result",
          "data": {
            "text/plain": [
              "      region  sex  age incm edu EC1_1  cfam  allownc  house  marri_2 D_1_1  \\\n",
              "0          1    1   39    1   4     1     5       20      1        1     2   \n",
              "1          1    2   39    1   4     1     5       20      1        1     2   \n",
              "2          1    1   10    1   1     8     5       20      1       88     2   \n",
              "3          1    1    7    1   1     8     5       20      1       88     2   \n",
              "4          1    1    4    1   1     8     5       20      1       88     2   \n",
              "...      ...  ...  ...  ...  ..   ...   ...      ...    ...      ...   ...   \n",
              "7354       8    2   61    2   3     1     2       20      2        1     3   \n",
              "7355       8    2   51    3   4     1     2       10      2        4     3   \n",
              "7356       8    2   24    3   4     1     2       10      2       88     3   \n",
              "7357       8    1   65    2   4     2     2       20      2        1     2   \n",
              "7358       8    2   57    1   3     1     2       20      2        1     4   \n",
              "\n",
              "     D_2_1 BD1_11 BE3_75 BP5 BP6_10 mh_stress BS3_1 DF2_pr  \n",
              "0        2      3      2   8      8         0     3      8  \n",
              "1        2      1      2   8      8         0     8      8  \n",
              "2        2      8      8   8      8               8      8  \n",
              "3        2      8      8   8      8               8      8  \n",
              "4        1      8      8   8      8               8      8  \n",
              "...    ...    ...    ...  ..    ...       ...   ...    ...  \n",
              "7354     2      2      2   8      8         0     8      8  \n",
              "7355     2      2      1   8      8         0     8      8  \n",
              "7356     2      6      2   8      8         0     1      8  \n",
              "7357     2      4      2   8      8         0     3      8  \n",
              "7358     2      2      2   8      8         0     8      0  \n",
              "\n",
              "[7359 rows x 19 columns]"
            ],
            "text/html": [
              "\n",
              "  <div id=\"df-0635e8ea-38b2-44a3-8732-335f8819c59e\">\n",
              "    <div class=\"colab-df-container\">\n",
              "      <div>\n",
              "<style scoped>\n",
              "    .dataframe tbody tr th:only-of-type {\n",
              "        vertical-align: middle;\n",
              "    }\n",
              "\n",
              "    .dataframe tbody tr th {\n",
              "        vertical-align: top;\n",
              "    }\n",
              "\n",
              "    .dataframe thead th {\n",
              "        text-align: right;\n",
              "    }\n",
              "</style>\n",
              "<table border=\"1\" class=\"dataframe\">\n",
              "  <thead>\n",
              "    <tr style=\"text-align: right;\">\n",
              "      <th></th>\n",
              "      <th>region</th>\n",
              "      <th>sex</th>\n",
              "      <th>age</th>\n",
              "      <th>incm</th>\n",
              "      <th>edu</th>\n",
              "      <th>EC1_1</th>\n",
              "      <th>cfam</th>\n",
              "      <th>allownc</th>\n",
              "      <th>house</th>\n",
              "      <th>marri_2</th>\n",
              "      <th>D_1_1</th>\n",
              "      <th>D_2_1</th>\n",
              "      <th>BD1_11</th>\n",
              "      <th>BE3_75</th>\n",
              "      <th>BP5</th>\n",
              "      <th>BP6_10</th>\n",
              "      <th>mh_stress</th>\n",
              "      <th>BS3_1</th>\n",
              "      <th>DF2_pr</th>\n",
              "    </tr>\n",
              "  </thead>\n",
              "  <tbody>\n",
              "    <tr>\n",
              "      <th>0</th>\n",
              "      <td>1</td>\n",
              "      <td>1</td>\n",
              "      <td>39</td>\n",
              "      <td>1</td>\n",
              "      <td>4</td>\n",
              "      <td>1</td>\n",
              "      <td>5</td>\n",
              "      <td>20</td>\n",
              "      <td>1</td>\n",
              "      <td>1</td>\n",
              "      <td>2</td>\n",
              "      <td>2</td>\n",
              "      <td>3</td>\n",
              "      <td>2</td>\n",
              "      <td>8</td>\n",
              "      <td>8</td>\n",
              "      <td>0</td>\n",
              "      <td>3</td>\n",
              "      <td>8</td>\n",
              "    </tr>\n",
              "    <tr>\n",
              "      <th>1</th>\n",
              "      <td>1</td>\n",
              "      <td>2</td>\n",
              "      <td>39</td>\n",
              "      <td>1</td>\n",
              "      <td>4</td>\n",
              "      <td>1</td>\n",
              "      <td>5</td>\n",
              "      <td>20</td>\n",
              "      <td>1</td>\n",
              "      <td>1</td>\n",
              "      <td>2</td>\n",
              "      <td>2</td>\n",
              "      <td>1</td>\n",
              "      <td>2</td>\n",
              "      <td>8</td>\n",
              "      <td>8</td>\n",
              "      <td>0</td>\n",
              "      <td>8</td>\n",
              "      <td>8</td>\n",
              "    </tr>\n",
              "    <tr>\n",
              "      <th>2</th>\n",
              "      <td>1</td>\n",
              "      <td>1</td>\n",
              "      <td>10</td>\n",
              "      <td>1</td>\n",
              "      <td>1</td>\n",
              "      <td>8</td>\n",
              "      <td>5</td>\n",
              "      <td>20</td>\n",
              "      <td>1</td>\n",
              "      <td>88</td>\n",
              "      <td>2</td>\n",
              "      <td>2</td>\n",
              "      <td>8</td>\n",
              "      <td>8</td>\n",
              "      <td>8</td>\n",
              "      <td>8</td>\n",
              "      <td></td>\n",
              "      <td>8</td>\n",
              "      <td>8</td>\n",
              "    </tr>\n",
              "    <tr>\n",
              "      <th>3</th>\n",
              "      <td>1</td>\n",
              "      <td>1</td>\n",
              "      <td>7</td>\n",
              "      <td>1</td>\n",
              "      <td>1</td>\n",
              "      <td>8</td>\n",
              "      <td>5</td>\n",
              "      <td>20</td>\n",
              "      <td>1</td>\n",
              "      <td>88</td>\n",
              "      <td>2</td>\n",
              "      <td>2</td>\n",
              "      <td>8</td>\n",
              "      <td>8</td>\n",
              "      <td>8</td>\n",
              "      <td>8</td>\n",
              "      <td></td>\n",
              "      <td>8</td>\n",
              "      <td>8</td>\n",
              "    </tr>\n",
              "    <tr>\n",
              "      <th>4</th>\n",
              "      <td>1</td>\n",
              "      <td>1</td>\n",
              "      <td>4</td>\n",
              "      <td>1</td>\n",
              "      <td>1</td>\n",
              "      <td>8</td>\n",
              "      <td>5</td>\n",
              "      <td>20</td>\n",
              "      <td>1</td>\n",
              "      <td>88</td>\n",
              "      <td>2</td>\n",
              "      <td>1</td>\n",
              "      <td>8</td>\n",
              "      <td>8</td>\n",
              "      <td>8</td>\n",
              "      <td>8</td>\n",
              "      <td></td>\n",
              "      <td>8</td>\n",
              "      <td>8</td>\n",
              "    </tr>\n",
              "    <tr>\n",
              "      <th>...</th>\n",
              "      <td>...</td>\n",
              "      <td>...</td>\n",
              "      <td>...</td>\n",
              "      <td>...</td>\n",
              "      <td>...</td>\n",
              "      <td>...</td>\n",
              "      <td>...</td>\n",
              "      <td>...</td>\n",
              "      <td>...</td>\n",
              "      <td>...</td>\n",
              "      <td>...</td>\n",
              "      <td>...</td>\n",
              "      <td>...</td>\n",
              "      <td>...</td>\n",
              "      <td>...</td>\n",
              "      <td>...</td>\n",
              "      <td>...</td>\n",
              "      <td>...</td>\n",
              "      <td>...</td>\n",
              "    </tr>\n",
              "    <tr>\n",
              "      <th>7354</th>\n",
              "      <td>8</td>\n",
              "      <td>2</td>\n",
              "      <td>61</td>\n",
              "      <td>2</td>\n",
              "      <td>3</td>\n",
              "      <td>1</td>\n",
              "      <td>2</td>\n",
              "      <td>20</td>\n",
              "      <td>2</td>\n",
              "      <td>1</td>\n",
              "      <td>3</td>\n",
              "      <td>2</td>\n",
              "      <td>2</td>\n",
              "      <td>2</td>\n",
              "      <td>8</td>\n",
              "      <td>8</td>\n",
              "      <td>0</td>\n",
              "      <td>8</td>\n",
              "      <td>8</td>\n",
              "    </tr>\n",
              "    <tr>\n",
              "      <th>7355</th>\n",
              "      <td>8</td>\n",
              "      <td>2</td>\n",
              "      <td>51</td>\n",
              "      <td>3</td>\n",
              "      <td>4</td>\n",
              "      <td>1</td>\n",
              "      <td>2</td>\n",
              "      <td>10</td>\n",
              "      <td>2</td>\n",
              "      <td>4</td>\n",
              "      <td>3</td>\n",
              "      <td>2</td>\n",
              "      <td>2</td>\n",
              "      <td>1</td>\n",
              "      <td>8</td>\n",
              "      <td>8</td>\n",
              "      <td>0</td>\n",
              "      <td>8</td>\n",
              "      <td>8</td>\n",
              "    </tr>\n",
              "    <tr>\n",
              "      <th>7356</th>\n",
              "      <td>8</td>\n",
              "      <td>2</td>\n",
              "      <td>24</td>\n",
              "      <td>3</td>\n",
              "      <td>4</td>\n",
              "      <td>1</td>\n",
              "      <td>2</td>\n",
              "      <td>10</td>\n",
              "      <td>2</td>\n",
              "      <td>88</td>\n",
              "      <td>3</td>\n",
              "      <td>2</td>\n",
              "      <td>6</td>\n",
              "      <td>2</td>\n",
              "      <td>8</td>\n",
              "      <td>8</td>\n",
              "      <td>0</td>\n",
              "      <td>1</td>\n",
              "      <td>8</td>\n",
              "    </tr>\n",
              "    <tr>\n",
              "      <th>7357</th>\n",
              "      <td>8</td>\n",
              "      <td>1</td>\n",
              "      <td>65</td>\n",
              "      <td>2</td>\n",
              "      <td>4</td>\n",
              "      <td>2</td>\n",
              "      <td>2</td>\n",
              "      <td>20</td>\n",
              "      <td>2</td>\n",
              "      <td>1</td>\n",
              "      <td>2</td>\n",
              "      <td>2</td>\n",
              "      <td>4</td>\n",
              "      <td>2</td>\n",
              "      <td>8</td>\n",
              "      <td>8</td>\n",
              "      <td>0</td>\n",
              "      <td>3</td>\n",
              "      <td>8</td>\n",
              "    </tr>\n",
              "    <tr>\n",
              "      <th>7358</th>\n",
              "      <td>8</td>\n",
              "      <td>2</td>\n",
              "      <td>57</td>\n",
              "      <td>1</td>\n",
              "      <td>3</td>\n",
              "      <td>1</td>\n",
              "      <td>2</td>\n",
              "      <td>20</td>\n",
              "      <td>2</td>\n",
              "      <td>1</td>\n",
              "      <td>4</td>\n",
              "      <td>2</td>\n",
              "      <td>2</td>\n",
              "      <td>2</td>\n",
              "      <td>8</td>\n",
              "      <td>8</td>\n",
              "      <td>0</td>\n",
              "      <td>8</td>\n",
              "      <td>0</td>\n",
              "    </tr>\n",
              "  </tbody>\n",
              "</table>\n",
              "<p>7359 rows × 19 columns</p>\n",
              "</div>\n",
              "      <button class=\"colab-df-convert\" onclick=\"convertToInteractive('df-0635e8ea-38b2-44a3-8732-335f8819c59e')\"\n",
              "              title=\"Convert this dataframe to an interactive table.\"\n",
              "              style=\"display:none;\">\n",
              "        \n",
              "  <svg xmlns=\"http://www.w3.org/2000/svg\" height=\"24px\"viewBox=\"0 0 24 24\"\n",
              "       width=\"24px\">\n",
              "    <path d=\"M0 0h24v24H0V0z\" fill=\"none\"/>\n",
              "    <path d=\"M18.56 5.44l.94 2.06.94-2.06 2.06-.94-2.06-.94-.94-2.06-.94 2.06-2.06.94zm-11 1L8.5 8.5l.94-2.06 2.06-.94-2.06-.94L8.5 2.5l-.94 2.06-2.06.94zm10 10l.94 2.06.94-2.06 2.06-.94-2.06-.94-.94-2.06-.94 2.06-2.06.94z\"/><path d=\"M17.41 7.96l-1.37-1.37c-.4-.4-.92-.59-1.43-.59-.52 0-1.04.2-1.43.59L10.3 9.45l-7.72 7.72c-.78.78-.78 2.05 0 2.83L4 21.41c.39.39.9.59 1.41.59.51 0 1.02-.2 1.41-.59l7.78-7.78 2.81-2.81c.8-.78.8-2.07 0-2.86zM5.41 20L4 18.59l7.72-7.72 1.47 1.35L5.41 20z\"/>\n",
              "  </svg>\n",
              "      </button>\n",
              "      \n",
              "  <style>\n",
              "    .colab-df-container {\n",
              "      display:flex;\n",
              "      flex-wrap:wrap;\n",
              "      gap: 12px;\n",
              "    }\n",
              "\n",
              "    .colab-df-convert {\n",
              "      background-color: #E8F0FE;\n",
              "      border: none;\n",
              "      border-radius: 50%;\n",
              "      cursor: pointer;\n",
              "      display: none;\n",
              "      fill: #1967D2;\n",
              "      height: 32px;\n",
              "      padding: 0 0 0 0;\n",
              "      width: 32px;\n",
              "    }\n",
              "\n",
              "    .colab-df-convert:hover {\n",
              "      background-color: #E2EBFA;\n",
              "      box-shadow: 0px 1px 2px rgba(60, 64, 67, 0.3), 0px 1px 3px 1px rgba(60, 64, 67, 0.15);\n",
              "      fill: #174EA6;\n",
              "    }\n",
              "\n",
              "    [theme=dark] .colab-df-convert {\n",
              "      background-color: #3B4455;\n",
              "      fill: #D2E3FC;\n",
              "    }\n",
              "\n",
              "    [theme=dark] .colab-df-convert:hover {\n",
              "      background-color: #434B5C;\n",
              "      box-shadow: 0px 1px 3px 1px rgba(0, 0, 0, 0.15);\n",
              "      filter: drop-shadow(0px 1px 2px rgba(0, 0, 0, 0.3));\n",
              "      fill: #FFFFFF;\n",
              "    }\n",
              "  </style>\n",
              "\n",
              "      <script>\n",
              "        const buttonEl =\n",
              "          document.querySelector('#df-0635e8ea-38b2-44a3-8732-335f8819c59e button.colab-df-convert');\n",
              "        buttonEl.style.display =\n",
              "          google.colab.kernel.accessAllowed ? 'block' : 'none';\n",
              "\n",
              "        async function convertToInteractive(key) {\n",
              "          const element = document.querySelector('#df-0635e8ea-38b2-44a3-8732-335f8819c59e');\n",
              "          const dataTable =\n",
              "            await google.colab.kernel.invokeFunction('convertToInteractive',\n",
              "                                                     [key], {});\n",
              "          if (!dataTable) return;\n",
              "\n",
              "          const docLinkHtml = 'Like what you see? Visit the ' +\n",
              "            '<a target=\"_blank\" href=https://colab.research.google.com/notebooks/data_table.ipynb>data table notebook</a>'\n",
              "            + ' to learn more about interactive tables.';\n",
              "          element.innerHTML = '';\n",
              "          dataTable['output_type'] = 'display_data';\n",
              "          await google.colab.output.renderOutput(dataTable, element);\n",
              "          const docLink = document.createElement('div');\n",
              "          docLink.innerHTML = docLinkHtml;\n",
              "          element.appendChild(docLink);\n",
              "        }\n",
              "      </script>\n",
              "    </div>\n",
              "  </div>\n",
              "  "
            ]
          },
          "metadata": {},
          "execution_count": 1040
        }
      ]
    },
    {
      "cell_type": "code",
      "source": [
        "# 데이터 갯수와 데이터 타입 확인\n",
        "df.info()"
      ],
      "metadata": {
        "colab": {
          "base_uri": "https://localhost:8080/"
        },
        "id": "__2yFfja-2I4",
        "outputId": "fb79a268-ce58-4dfd-a001-a2428ebca692"
      },
      "execution_count": null,
      "outputs": [
        {
          "output_type": "stream",
          "name": "stdout",
          "text": [
            "<class 'pandas.core.frame.DataFrame'>\n",
            "RangeIndex: 7359 entries, 0 to 7358\n",
            "Data columns (total 19 columns):\n",
            " #   Column     Non-Null Count  Dtype \n",
            "---  ------     --------------  ----- \n",
            " 0   region     7359 non-null   int64 \n",
            " 1   sex        7359 non-null   int64 \n",
            " 2   age        7359 non-null   int64 \n",
            " 3   incm       7359 non-null   object\n",
            " 4   edu        7359 non-null   object\n",
            " 5   EC1_1      7359 non-null   object\n",
            " 6   cfam       7359 non-null   int64 \n",
            " 7   allownc    7359 non-null   int64 \n",
            " 8   house      7359 non-null   int64 \n",
            " 9   marri_2    7359 non-null   int64 \n",
            " 10  D_1_1      7359 non-null   object\n",
            " 11  D_2_1      7359 non-null   object\n",
            " 12  BD1_11     7359 non-null   object\n",
            " 13  BE3_75     7359 non-null   object\n",
            " 14  BP5        7359 non-null   object\n",
            " 15  BP6_10     7359 non-null   object\n",
            " 16  mh_stress  7359 non-null   object\n",
            " 17  BS3_1      7359 non-null   object\n",
            " 18  DF2_pr     7359 non-null   object\n",
            "dtypes: int64(7), object(12)\n",
            "memory usage: 1.1+ MB\n"
          ]
        }
      ]
    },
    {
      "cell_type": "code",
      "source": [
        "# 성인을 대상으로만 함 >>  만 19세 이상\n",
        "df = df[df['age'] >=19]\n",
        "df.info()"
      ],
      "metadata": {
        "colab": {
          "base_uri": "https://localhost:8080/"
        },
        "id": "7R6o3F-MFALr",
        "outputId": "27e72b14-6092-4ffa-9a2c-f17a0fa4053c"
      },
      "execution_count": null,
      "outputs": [
        {
          "output_type": "stream",
          "name": "stdout",
          "text": [
            "<class 'pandas.core.frame.DataFrame'>\n",
            "Int64Index: 6133 entries, 0 to 7358\n",
            "Data columns (total 19 columns):\n",
            " #   Column     Non-Null Count  Dtype \n",
            "---  ------     --------------  ----- \n",
            " 0   region     6133 non-null   int64 \n",
            " 1   sex        6133 non-null   int64 \n",
            " 2   age        6133 non-null   int64 \n",
            " 3   incm       6133 non-null   object\n",
            " 4   edu        6133 non-null   object\n",
            " 5   EC1_1      6133 non-null   object\n",
            " 6   cfam       6133 non-null   int64 \n",
            " 7   allownc    6133 non-null   int64 \n",
            " 8   house      6133 non-null   int64 \n",
            " 9   marri_2    6133 non-null   int64 \n",
            " 10  D_1_1      6133 non-null   object\n",
            " 11  D_2_1      6133 non-null   object\n",
            " 12  BD1_11     6133 non-null   object\n",
            " 13  BE3_75     6133 non-null   object\n",
            " 14  BP5        6133 non-null   object\n",
            " 15  BP6_10     6133 non-null   object\n",
            " 16  mh_stress  6133 non-null   object\n",
            " 17  BS3_1      6133 non-null   object\n",
            " 18  DF2_pr     6133 non-null   object\n",
            "dtypes: int64(7), object(12)\n",
            "memory usage: 958.3+ KB\n"
          ]
        }
      ]
    },
    {
      "cell_type": "code",
      "source": [
        "df['DF2_pr'].value_counts()"
      ],
      "metadata": {
        "colab": {
          "base_uri": "https://localhost:8080/"
        },
        "id": "O-52VUMvT4_Q",
        "outputId": "c9c9c4aa-7bde-40eb-e9cd-9a235f46f7e9"
      },
      "execution_count": null,
      "outputs": [
        {
          "output_type": "execute_result",
          "data": {
            "text/plain": [
              "8    5120\n",
              "9     499\n",
              "      213\n",
              "1     188\n",
              "0     113\n",
              "Name: DF2_pr, dtype: int64"
            ]
          },
          "metadata": {},
          "execution_count": 1043
        }
      ]
    },
    {
      "cell_type": "code",
      "source": [
        "%matplotlib inline\n",
        "msno.matrix(df)"
      ],
      "metadata": {
        "colab": {
          "base_uri": "https://localhost:8080/",
          "height": 677
        },
        "id": "C9qrNTudiKeq",
        "outputId": "27f49c65-4088-4d8b-bc65-496ef87919f1"
      },
      "execution_count": null,
      "outputs": [
        {
          "output_type": "execute_result",
          "data": {
            "text/plain": [
              "<matplotlib.axes._subplots.AxesSubplot at 0x7fb5a68bfc90>"
            ]
          },
          "metadata": {},
          "execution_count": 1044
        },
        {
          "output_type": "display_data",
          "data": {
            "text/plain": [
              "<Figure size 1800x720 with 2 Axes>"
            ],
            "image/png": "[encoded data removed]"
          },
          "metadata": {
            "needs_background": "light"
          }
        }
      ]
    },
    {
      "cell_type": "markdown",
      "source": [
        "# feature 정리"
      ],
      "metadata": {
        "id": "ir1O_brolqER"
      }
    },
    {
      "cell_type": "code",
      "source": [
        "df.columns"
      ],
      "metadata": {
        "colab": {
          "base_uri": "https://localhost:8080/"
        },
        "id": "xIEw7tfUl6ZR",
        "outputId": "480c3fdb-b841-4e6e-84b7-6043dcdbeaad"
      },
      "execution_count": null,
      "outputs": [
        {
          "output_type": "execute_result",
          "data": {
            "text/plain": [
              "Index(['region', 'sex', 'age', 'incm', 'edu', 'EC1_1', 'cfam', 'allownc',\n",
              "       'house', 'marri_2', 'D_1_1', 'D_2_1', 'BD1_11', 'BE3_75', 'BP5',\n",
              "       'BP6_10', 'mh_stress', 'BS3_1', 'DF2_pr'],\n",
              "      dtype='object')"
            ]
          },
          "metadata": {},
          "execution_count": 1045
        }
      ]
    },
    {
      "cell_type": "code",
      "source": [
        "df =df.dropna()\n",
        "df"
      ],
      "metadata": {
        "colab": {
          "base_uri": "https://localhost:8080/",
          "height": 424
        },
        "id": "TtVizGu_1Bkx",
        "outputId": "754ae1ff-2276-450d-b5ff-5b95e659c239"
      },
      "execution_count": null,
      "outputs": [
        {
          "output_type": "execute_result",
          "data": {
            "text/plain": [
              "      region  sex  age incm edu EC1_1  cfam  allownc  house  marri_2 D_1_1  \\\n",
              "0          1    1   39    1   4     1     5       20      1        1     2   \n",
              "1          1    2   39    1   4     1     5       20      1        1     2   \n",
              "5          1    1   60    4         9     4       20      2        1     9   \n",
              "6          1    2   58    4   3     1     4       20      2        1     1   \n",
              "7          1    1   56    4   4     1     4       20      2        1     1   \n",
              "...      ...  ...  ...  ...  ..   ...   ...      ...    ...      ...   ...   \n",
              "7354       8    2   61    2   3     1     2       20      2        1     3   \n",
              "7355       8    2   51    3   4     1     2       10      2        4     3   \n",
              "7356       8    2   24    3   4     1     2       10      2       88     3   \n",
              "7357       8    1   65    2   4     2     2       20      2        1     2   \n",
              "7358       8    2   57    1   3     1     2       20      2        1     4   \n",
              "\n",
              "     D_2_1 BD1_11 BE3_75 BP5 BP6_10 mh_stress BS3_1 DF2_pr  \n",
              "0        2      3      2   8      8         0     3      8  \n",
              "1        2      1      2   8      8         0     8      8  \n",
              "5        9      8      9   8      8         1     1      9  \n",
              "6        2      2      2   8      8         0     8      8  \n",
              "7        2      2      1   8      8         0     8      8  \n",
              "...    ...    ...    ...  ..    ...       ...   ...    ...  \n",
              "7354     2      2      2   8      8         0     8      8  \n",
              "7355     2      2      1   8      8         0     8      8  \n",
              "7356     2      6      2   8      8         0     1      8  \n",
              "7357     2      4      2   8      8         0     3      8  \n",
              "7358     2      2      2   8      8         0     8      0  \n",
              "\n",
              "[6133 rows x 19 columns]"
            ],
            "text/html": [
              "\n",
              "  <div id=\"df-c2949c98-a58d-4a9e-ae52-40a6d12f943a\">\n",
              "    <div class=\"colab-df-container\">\n",
              "      <div>\n",
              "<style scoped>\n",
              "    .dataframe tbody tr th:only-of-type {\n",
              "        vertical-align: middle;\n",
              "    }\n",
              "\n",
              "    .dataframe tbody tr th {\n",
              "        vertical-align: top;\n",
              "    }\n",
              "\n",
              "    .dataframe thead th {\n",
              "        text-align: right;\n",
              "    }\n",
              "</style>\n",
              "<table border=\"1\" class=\"dataframe\">\n",
              "  <thead>\n",
              "    <tr style=\"text-align: right;\">\n",
              "      <th></th>\n",
              "      <th>region</th>\n",
              "      <th>sex</th>\n",
              "      <th>age</th>\n",
              "      <th>incm</th>\n",
              "      <th>edu</th>\n",
              "      <th>EC1_1</th>\n",
              "      <th>cfam</th>\n",
              "      <th>allownc</th>\n",
              "      <th>house</th>\n",
              "      <th>marri_2</th>\n",
              "      <th>D_1_1</th>\n",
              "      <th>D_2_1</th>\n",
              "      <th>BD1_11</th>\n",
              "      <th>BE3_75</th>\n",
              "      <th>BP5</th>\n",
              "      <th>BP6_10</th>\n",
              "      <th>mh_stress</th>\n",
              "      <th>BS3_1</th>\n",
              "      <th>DF2_pr</th>\n",
              "    </tr>\n",
              "  </thead>\n",
              "  <tbody>\n",
              "    <tr>\n",
              "      <th>0</th>\n",
              "      <td>1</td>\n",
              "      <td>1</td>\n",
              "      <td>39</td>\n",
              "      <td>1</td>\n",
              "      <td>4</td>\n",
              "      <td>1</td>\n",
              "      <td>5</td>\n",
              "      <td>20</td>\n",
              "      <td>1</td>\n",
              "      <td>1</td>\n",
              "      <td>2</td>\n",
              "      <td>2</td>\n",
              "      <td>3</td>\n",
              "      <td>2</td>\n",
              "      <td>8</td>\n",
              "      <td>8</td>\n",
              "      <td>0</td>\n",
              "      <td>3</td>\n",
              "      <td>8</td>\n",
              "    </tr>\n",
              "    <tr>\n",
              "      <th>1</th>\n",
              "      <td>1</td>\n",
              "      <td>2</td>\n",
              "      <td>39</td>\n",
              "      <td>1</td>\n",
              "      <td>4</td>\n",
              "      <td>1</td>\n",
              "      <td>5</td>\n",
              "      <td>20</td>\n",
              "      <td>1</td>\n",
              "      <td>1</td>\n",
              "      <td>2</td>\n",
              "      <td>2</td>\n",
              "      <td>1</td>\n",
              "      <td>2</td>\n",
              "      <td>8</td>\n",
              "      <td>8</td>\n",
              "      <td>0</td>\n",
              "      <td>8</td>\n",
              "      <td>8</td>\n",
              "    </tr>\n",
              "    <tr>\n",
              "      <th>5</th>\n",
              "      <td>1</td>\n",
              "      <td>1</td>\n",
              "      <td>60</td>\n",
              "      <td>4</td>\n",
              "      <td></td>\n",
              "      <td>9</td>\n",
              "      <td>4</td>\n",
              "      <td>20</td>\n",
              "      <td>2</td>\n",
              "      <td>1</td>\n",
              "      <td>9</td>\n",
              "      <td>9</td>\n",
              "      <td>8</td>\n",
              "      <td>9</td>\n",
              "      <td>8</td>\n",
              "      <td>8</td>\n",
              "      <td>1</td>\n",
              "      <td>1</td>\n",
              "      <td>9</td>\n",
              "    </tr>\n",
              "    <tr>\n",
              "      <th>6</th>\n",
              "      <td>1</td>\n",
              "      <td>2</td>\n",
              "      <td>58</td>\n",
              "      <td>4</td>\n",
              "      <td>3</td>\n",
              "      <td>1</td>\n",
              "      <td>4</td>\n",
              "      <td>20</td>\n",
              "      <td>2</td>\n",
              "      <td>1</td>\n",
              "      <td>1</td>\n",
              "      <td>2</td>\n",
              "      <td>2</td>\n",
              "      <td>2</td>\n",
              "      <td>8</td>\n",
              "      <td>8</td>\n",
              "      <td>0</td>\n",
              "      <td>8</td>\n",
              "      <td>8</td>\n",
              "    </tr>\n",
              "    <tr>\n",
              "      <th>7</th>\n",
              "      <td>1</td>\n",
              "      <td>1</td>\n",
              "      <td>56</td>\n",
              "      <td>4</td>\n",
              "      <td>4</td>\n",
              "      <td>1</td>\n",
              "      <td>4</td>\n",
              "      <td>20</td>\n",
              "      <td>2</td>\n",
              "      <td>1</td>\n",
              "      <td>1</td>\n",
              "      <td>2</td>\n",
              "      <td>2</td>\n",
              "      <td>1</td>\n",
              "      <td>8</td>\n",
              "      <td>8</td>\n",
              "      <td>0</td>\n",
              "      <td>8</td>\n",
              "      <td>8</td>\n",
              "    </tr>\n",
              "    <tr>\n",
              "      <th>...</th>\n",
              "      <td>...</td>\n",
              "      <td>...</td>\n",
              "      <td>...</td>\n",
              "      <td>...</td>\n",
              "      <td>...</td>\n",
              "      <td>...</td>\n",
              "      <td>...</td>\n",
              "      <td>...</td>\n",
              "      <td>...</td>\n",
              "      <td>...</td>\n",
              "      <td>...</td>\n",
              "      <td>...</td>\n",
              "      <td>...</td>\n",
              "      <td>...</td>\n",
              "      <td>...</td>\n",
              "      <td>...</td>\n",
              "      <td>...</td>\n",
              "      <td>...</td>\n",
              "      <td>...</td>\n",
              "    </tr>\n",
              "    <tr>\n",
              "      <th>7354</th>\n",
              "      <td>8</td>\n",
              "      <td>2</td>\n",
              "      <td>61</td>\n",
              "      <td>2</td>\n",
              "      <td>3</td>\n",
              "      <td>1</td>\n",
              "      <td>2</td>\n",
              "      <td>20</td>\n",
              "      <td>2</td>\n",
              "      <td>1</td>\n",
              "      <td>3</td>\n",
              "      <td>2</td>\n",
              "      <td>2</td>\n",
              "      <td>2</td>\n",
              "      <td>8</td>\n",
              "      <td>8</td>\n",
              "      <td>0</td>\n",
              "      <td>8</td>\n",
              "      <td>8</td>\n",
              "    </tr>\n",
              "    <tr>\n",
              "      <th>7355</th>\n",
              "      <td>8</td>\n",
              "      <td>2</td>\n",
              "      <td>51</td>\n",
              "      <td>3</td>\n",
              "      <td>4</td>\n",
              "      <td>1</td>\n",
              "      <td>2</td>\n",
              "      <td>10</td>\n",
              "      <td>2</td>\n",
              "      <td>4</td>\n",
              "      <td>3</td>\n",
              "      <td>2</td>\n",
              "      <td>2</td>\n",
              "      <td>1</td>\n",
              "      <td>8</td>\n",
              "      <td>8</td>\n",
              "      <td>0</td>\n",
              "      <td>8</td>\n",
              "      <td>8</td>\n",
              "    </tr>\n",
              "    <tr>\n",
              "      <th>7356</th>\n",
              "      <td>8</td>\n",
              "      <td>2</td>\n",
              "      <td>24</td>\n",
              "      <td>3</td>\n",
              "      <td>4</td>\n",
              "      <td>1</td>\n",
              "      <td>2</td>\n",
              "      <td>10</td>\n",
              "      <td>2</td>\n",
              "      <td>88</td>\n",
              "      <td>3</td>\n",
              "      <td>2</td>\n",
              "      <td>6</td>\n",
              "      <td>2</td>\n",
              "      <td>8</td>\n",
              "      <td>8</td>\n",
              "      <td>0</td>\n",
              "      <td>1</td>\n",
              "      <td>8</td>\n",
              "    </tr>\n",
              "    <tr>\n",
              "      <th>7357</th>\n",
              "      <td>8</td>\n",
              "      <td>1</td>\n",
              "      <td>65</td>\n",
              "      <td>2</td>\n",
              "      <td>4</td>\n",
              "      <td>2</td>\n",
              "      <td>2</td>\n",
              "      <td>20</td>\n",
              "      <td>2</td>\n",
              "      <td>1</td>\n",
              "      <td>2</td>\n",
              "      <td>2</td>\n",
              "      <td>4</td>\n",
              "      <td>2</td>\n",
              "      <td>8</td>\n",
              "      <td>8</td>\n",
              "      <td>0</td>\n",
              "      <td>3</td>\n",
              "      <td>8</td>\n",
              "    </tr>\n",
              "    <tr>\n",
              "      <th>7358</th>\n",
              "      <td>8</td>\n",
              "      <td>2</td>\n",
              "      <td>57</td>\n",
              "      <td>1</td>\n",
              "      <td>3</td>\n",
              "      <td>1</td>\n",
              "      <td>2</td>\n",
              "      <td>20</td>\n",
              "      <td>2</td>\n",
              "      <td>1</td>\n",
              "      <td>4</td>\n",
              "      <td>2</td>\n",
              "      <td>2</td>\n",
              "      <td>2</td>\n",
              "      <td>8</td>\n",
              "      <td>8</td>\n",
              "      <td>0</td>\n",
              "      <td>8</td>\n",
              "      <td>0</td>\n",
              "    </tr>\n",
              "  </tbody>\n",
              "</table>\n",
              "<p>6133 rows × 19 columns</p>\n",
              "</div>\n",
              "      <button class=\"colab-df-convert\" onclick=\"convertToInteractive('df-c2949c98-a58d-4a9e-ae52-40a6d12f943a')\"\n",
              "              title=\"Convert this dataframe to an interactive table.\"\n",
              "              style=\"display:none;\">\n",
              "        \n",
              "  <svg xmlns=\"http://www.w3.org/2000/svg\" height=\"24px\"viewBox=\"0 0 24 24\"\n",
              "       width=\"24px\">\n",
              "    <path d=\"M0 0h24v24H0V0z\" fill=\"none\"/>\n",
              "    <path d=\"M18.56 5.44l.94 2.06.94-2.06 2.06-.94-2.06-.94-.94-2.06-.94 2.06-2.06.94zm-11 1L8.5 8.5l.94-2.06 2.06-.94-2.06-.94L8.5 2.5l-.94 2.06-2.06.94zm10 10l.94 2.06.94-2.06 2.06-.94-2.06-.94-.94-2.06-.94 2.06-2.06.94z\"/><path d=\"M17.41 7.96l-1.37-1.37c-.4-.4-.92-.59-1.43-.59-.52 0-1.04.2-1.43.59L10.3 9.45l-7.72 7.72c-.78.78-.78 2.05 0 2.83L4 21.41c.39.39.9.59 1.41.59.51 0 1.02-.2 1.41-.59l7.78-7.78 2.81-2.81c.8-.78.8-2.07 0-2.86zM5.41 20L4 18.59l7.72-7.72 1.47 1.35L5.41 20z\"/>\n",
              "  </svg>\n",
              "      </button>\n",
              "      \n",
              "  <style>\n",
              "    .colab-df-container {\n",
              "      display:flex;\n",
              "      flex-wrap:wrap;\n",
              "      gap: 12px;\n",
              "    }\n",
              "\n",
              "    .colab-df-convert {\n",
              "      background-color: #E8F0FE;\n",
              "      border: none;\n",
              "      border-radius: 50%;\n",
              "      cursor: pointer;\n",
              "      display: none;\n",
              "      fill: #1967D2;\n",
              "      height: 32px;\n",
              "      padding: 0 0 0 0;\n",
              "      width: 32px;\n",
              "    }\n",
              "\n",
              "    .colab-df-convert:hover {\n",
              "      background-color: #E2EBFA;\n",
              "      box-shadow: 0px 1px 2px rgba(60, 64, 67, 0.3), 0px 1px 3px 1px rgba(60, 64, 67, 0.15);\n",
              "      fill: #174EA6;\n",
              "    }\n",
              "\n",
              "    [theme=dark] .colab-df-convert {\n",
              "      background-color: #3B4455;\n",
              "      fill: #D2E3FC;\n",
              "    }\n",
              "\n",
              "    [theme=dark] .colab-df-convert:hover {\n",
              "      background-color: #434B5C;\n",
              "      box-shadow: 0px 1px 3px 1px rgba(0, 0, 0, 0.15);\n",
              "      filter: drop-shadow(0px 1px 2px rgba(0, 0, 0, 0.3));\n",
              "      fill: #FFFFFF;\n",
              "    }\n",
              "  </style>\n",
              "\n",
              "      <script>\n",
              "        const buttonEl =\n",
              "          document.querySelector('#df-c2949c98-a58d-4a9e-ae52-40a6d12f943a button.colab-df-convert');\n",
              "        buttonEl.style.display =\n",
              "          google.colab.kernel.accessAllowed ? 'block' : 'none';\n",
              "\n",
              "        async function convertToInteractive(key) {\n",
              "          const element = document.querySelector('#df-c2949c98-a58d-4a9e-ae52-40a6d12f943a');\n",
              "          const dataTable =\n",
              "            await google.colab.kernel.invokeFunction('convertToInteractive',\n",
              "                                                     [key], {});\n",
              "          if (!dataTable) return;\n",
              "\n",
              "          const docLinkHtml = 'Like what you see? Visit the ' +\n",
              "            '<a target=\"_blank\" href=https://colab.research.google.com/notebooks/data_table.ipynb>data table notebook</a>'\n",
              "            + ' to learn more about interactive tables.';\n",
              "          element.innerHTML = '';\n",
              "          dataTable['output_type'] = 'display_data';\n",
              "          await google.colab.output.renderOutput(dataTable, element);\n",
              "          const docLink = document.createElement('div');\n",
              "          docLink.innerHTML = docLinkHtml;\n",
              "          element.appendChild(docLink);\n",
              "        }\n",
              "      </script>\n",
              "    </div>\n",
              "  </div>\n",
              "  "
            ]
          },
          "metadata": {},
          "execution_count": 1046
        }
      ]
    },
    {
      "cell_type": "code",
      "source": [
        "# .loc[:,['incm', 'incm5', 'edu', 'EC1_1','D_1_1', 'D_2_1', 'BD1_11','BE3_75', 'BP5','BP6_10', 'mh_stress', 'BS3_1', 'DF2_dg']].\n",
        "df = df.apply(pd.to_numeric, errors = 'coerce')"
      ],
      "metadata": {
        "id": "bKwCBdrIMDUv"
      },
      "execution_count": null,
      "outputs": []
    },
    {
      "cell_type": "code",
      "source": [
        "df.info()"
      ],
      "metadata": {
        "colab": {
          "base_uri": "https://localhost:8080/"
        },
        "id": "gdRiQojEWKPe",
        "outputId": "d1a23b0f-6723-4ca5-977a-2b81727674c1"
      },
      "execution_count": null,
      "outputs": [
        {
          "output_type": "stream",
          "name": "stdout",
          "text": [
            "<class 'pandas.core.frame.DataFrame'>\n",
            "Int64Index: 6133 entries, 0 to 7358\n",
            "Data columns (total 19 columns):\n",
            " #   Column     Non-Null Count  Dtype  \n",
            "---  ------     --------------  -----  \n",
            " 0   region     6133 non-null   int64  \n",
            " 1   sex        6133 non-null   int64  \n",
            " 2   age        6133 non-null   int64  \n",
            " 3   incm       6103 non-null   float64\n",
            " 4   edu        5403 non-null   float64\n",
            " 5   EC1_1      5920 non-null   float64\n",
            " 6   cfam       6133 non-null   int64  \n",
            " 7   allownc    6133 non-null   int64  \n",
            " 8   house      6133 non-null   int64  \n",
            " 9   marri_2    6133 non-null   int64  \n",
            " 10  D_1_1      5920 non-null   float64\n",
            " 11  D_2_1      5920 non-null   float64\n",
            " 12  BD1_11     5920 non-null   float64\n",
            " 13  BE3_75     5920 non-null   float64\n",
            " 14  BP5        5920 non-null   float64\n",
            " 15  BP6_10     5920 non-null   float64\n",
            " 16  mh_stress  5854 non-null   float64\n",
            " 17  BS3_1      5920 non-null   float64\n",
            " 18  DF2_pr     5920 non-null   float64\n",
            "dtypes: float64(12), int64(7)\n",
            "memory usage: 958.3 KB\n"
          ]
        }
      ]
    },
    {
      "cell_type": "code",
      "source": [
        "df['DF2_pr'].value_counts() # 우울증 해당 여부 value 개수 확인 # 다시 확인"
      ],
      "metadata": {
        "colab": {
          "base_uri": "https://localhost:8080/"
        },
        "id": "i-rbfI3Md108",
        "outputId": "0a9d7a43-7f4c-42a3-cf5e-aa9050d1772f"
      },
      "execution_count": null,
      "outputs": [
        {
          "output_type": "execute_result",
          "data": {
            "text/plain": [
              "8.0    5120\n",
              "9.0     499\n",
              "1.0     188\n",
              "0.0     113\n",
              "Name: DF2_pr, dtype: int64"
            ]
          },
          "metadata": {},
          "execution_count": 1049
        }
      ]
    },
    {
      "cell_type": "code",
      "source": [
        "df['DF2_pr'].unique()"
      ],
      "metadata": {
        "colab": {
          "base_uri": "https://localhost:8080/"
        },
        "id": "YorDCqOgj9D5",
        "outputId": "61c54c80-e3eb-4d56-98cb-22df9e449ec1"
      },
      "execution_count": null,
      "outputs": [
        {
          "output_type": "execute_result",
          "data": {
            "text/plain": [
              "array([ 8.,  9.,  1., nan,  0.])"
            ]
          },
          "metadata": {},
          "execution_count": 1050
        }
      ]
    },
    {
      "cell_type": "code",
      "source": [
        "# df['DF2_pr'].replace(np.NAN, '9', inplace = True)\n",
        "# # df['DF2_dg'].replace(9,np.NAN, inplace = True)\n",
        "# df['DF2_pr'].value_counts()"
      ],
      "metadata": {
        "id": "J1DjKyLYeGAd"
      },
      "execution_count": null,
      "outputs": []
    },
    {
      "cell_type": "code",
      "source": [],
      "metadata": {
        "id": "7qMWn8TKoMoa"
      },
      "execution_count": null,
      "outputs": []
    },
    {
      "cell_type": "code",
      "source": [
        "# df['incm'].unique()"
      ],
      "metadata": {
        "id": "BCbcSXs9lwfS"
      },
      "execution_count": null,
      "outputs": []
    },
    {
      "cell_type": "code",
      "source": [
        "# df['incm'].value_counts()"
      ],
      "metadata": {
        "id": "Xq0HDj5knLZE"
      },
      "execution_count": null,
      "outputs": []
    },
    {
      "cell_type": "code",
      "source": [
        "# df['edu'].unique()"
      ],
      "metadata": {
        "id": "nFyC9dGnn9PK"
      },
      "execution_count": null,
      "outputs": []
    },
    {
      "cell_type": "code",
      "source": [
        "# 'EC1_1': 경제활동 상태을 모름, 무응답은 결측치로 처리\n",
        "'''\n",
        "con1 = df['EC1_1'] == 1\n",
        "con2 = df['EC1_1'] == 2\n",
        "\n",
        "df = df.loc[ con1 | con2 , :]\n",
        "'''\n",
        "df['EC1_1'].unique()\n",
        "#df['EC1_1'].replace(9, np.NAN)"
      ],
      "metadata": {
        "colab": {
          "base_uri": "https://localhost:8080/"
        },
        "id": "B_qbbkTVXRYb",
        "outputId": "ed814eb8-0979-4ffc-8c00-c2bf9b986585"
      },
      "execution_count": null,
      "outputs": [
        {
          "output_type": "execute_result",
          "data": {
            "text/plain": [
              "array([ 1.,  9.,  2., nan])"
            ]
          },
          "metadata": {},
          "execution_count": 1055
        }
      ]
    },
    {
      "cell_type": "code",
      "source": [
        "# df['cfam'].unique()"
      ],
      "metadata": {
        "id": "QsTvcYEBpP8y"
      },
      "execution_count": null,
      "outputs": []
    },
    {
      "cell_type": "code",
      "source": [
        "# # allownc 10 = 있음 = 1, 20 = 없음 = 0, 99 = 모름 9, 무응답 99만 결측치 9로 처리\n",
        "# df['allownc'].unique()\n",
        "# df['allownc'].replace(10, 1, inplace = True)\n",
        "# df['allownc'].replace(20, 0, inplace = True)\n",
        "# df['allownc'].replace(99, 9, inplace = True)"
      ],
      "metadata": {
        "id": "7DM1uTm4bQIL"
      },
      "execution_count": null,
      "outputs": []
    },
    {
      "cell_type": "code",
      "source": [
        "# df['allownc'].unique()"
      ],
      "metadata": {
        "id": "bb_dVRmZo3lL"
      },
      "execution_count": null,
      "outputs": []
    },
    {
      "cell_type": "code",
      "source": [
        "# df['house'].unique()"
      ],
      "metadata": {
        "id": "jkmgvMxao_2y"
      },
      "execution_count": null,
      "outputs": []
    },
    {
      "cell_type": "code",
      "source": [
        "# df['D_1_1'].unique()\n",
        "#, 'D_1_1', 'D_2_1', 'BD1_11', 'BE3_75',\n",
        "#       'BP5', 'BP6_10', 'mh_stress', 'BS3_1', 'DF2_dg'],"
      ],
      "metadata": {
        "id": "i1GbUWzApi5q"
      },
      "execution_count": null,
      "outputs": []
    },
    {
      "cell_type": "code",
      "source": [
        "# df['D_2_1'].unique()"
      ],
      "metadata": {
        "id": "EGTHjkaHp12q"
      },
      "execution_count": null,
      "outputs": []
    },
    {
      "cell_type": "code",
      "source": [
        "# df['BD1_11'].unique()"
      ],
      "metadata": {
        "id": "EZKKab_mqDLM"
      },
      "execution_count": null,
      "outputs": []
    },
    {
      "cell_type": "code",
      "source": [
        "# df['BE3_75'].unique()"
      ],
      "metadata": {
        "id": "i5NE1AjUqF_p"
      },
      "execution_count": null,
      "outputs": []
    },
    {
      "cell_type": "code",
      "source": [
        "# 20년: 8 비해당(성인, 소아)를 아니요2로 바꿔줌\n",
        "\n",
        "# df['BP5'].replace(8, 2, inplace = True)\n",
        "# df['BP5'].unique()"
      ],
      "metadata": {
        "id": "PhifFkI4qKDr"
      },
      "execution_count": null,
      "outputs": []
    },
    {
      "cell_type": "code",
      "source": [
        "# 20년: 8 비해당(성인, 소아)를 아니요2로 바꿔줌\n",
        "# df['BP6_10'].replace(8, 2, inplace = True)\n",
        "# df['BP6_10'].unique()"
      ],
      "metadata": {
        "id": "i1GPgQ30qWQ6"
      },
      "execution_count": null,
      "outputs": []
    },
    {
      "cell_type": "code",
      "source": [
        "# df['mh_stress'].unique()"
      ],
      "metadata": {
        "id": "ombHzb9SsTAj"
      },
      "execution_count": null,
      "outputs": []
    },
    {
      "cell_type": "code",
      "source": [
        "# 흡연 유무 1,2 >> 1 흡연 // 3, 8 >> 2 무흡연\n",
        "# df['BS3_1'].replace(2, 1, inplace = True)\n",
        "# df['BS3_1'].replace(3, 2, inplace = True)\n",
        "# df['BS3_1'].replace(8, 2, inplace = True)\n",
        "# df['BS3_1'].unique()"
      ],
      "metadata": {
        "id": "GX6eow_IsZhs"
      },
      "execution_count": null,
      "outputs": []
    },
    {
      "cell_type": "code",
      "source": [
        "# df['marri_2'].unique()\n",
        "# df['marri_2'].replace(99, 9, inplace = True)\n",
        "# df['marri_2'].replace(88, 10, inplace = True)\n",
        "# 10은 비혼"
      ],
      "metadata": {
        "id": "cLmSsBBS48wy"
      },
      "execution_count": null,
      "outputs": []
    },
    {
      "cell_type": "code",
      "source": [
        "# df['marri_2'].unique()"
      ],
      "metadata": {
        "id": "zusRUb185Yta"
      },
      "execution_count": null,
      "outputs": []
    },
    {
      "cell_type": "code",
      "source": [
        "# df['incm'] = pd.to_numeric(df['incm'], downcast = 'unsigned', errors = 'coerce')\n",
        "# df['incm5'] = pd.to_numeric(df['incm5'], downcast = 'signed', errors = 'coerce')\n",
        "# df['edu'] = pd.to_numeric(df['edu'], downcast = 'signed', errors = 'coerce')"
      ],
      "metadata": {
        "id": "DJsE6DRHGHrT"
      },
      "execution_count": null,
      "outputs": []
    },
    {
      "cell_type": "code",
      "source": [
        "# df.info()"
      ],
      "metadata": {
        "id": "L2ffTHMnPrlH"
      },
      "execution_count": null,
      "outputs": []
    },
    {
      "cell_type": "code",
      "source": [
        "df.dropna(inplace=True)"
      ],
      "metadata": {
        "id": "pgbct0yL6Ya9"
      },
      "execution_count": null,
      "outputs": []
    },
    {
      "cell_type": "code",
      "source": [
        "df.info()"
      ],
      "metadata": {
        "colab": {
          "base_uri": "https://localhost:8080/"
        },
        "id": "7TlIsuKU7xYU",
        "outputId": "5be1612d-bc2d-4ec0-863b-a8f50faedf89"
      },
      "execution_count": null,
      "outputs": [
        {
          "output_type": "stream",
          "name": "stdout",
          "text": [
            "<class 'pandas.core.frame.DataFrame'>\n",
            "Int64Index: 5386 entries, 0 to 7358\n",
            "Data columns (total 19 columns):\n",
            " #   Column     Non-Null Count  Dtype  \n",
            "---  ------     --------------  -----  \n",
            " 0   region     5386 non-null   int64  \n",
            " 1   sex        5386 non-null   int64  \n",
            " 2   age        5386 non-null   int64  \n",
            " 3   incm       5386 non-null   float64\n",
            " 4   edu        5386 non-null   float64\n",
            " 5   EC1_1      5386 non-null   float64\n",
            " 6   cfam       5386 non-null   int64  \n",
            " 7   allownc    5386 non-null   int64  \n",
            " 8   house      5386 non-null   int64  \n",
            " 9   marri_2    5386 non-null   int64  \n",
            " 10  D_1_1      5386 non-null   float64\n",
            " 11  D_2_1      5386 non-null   float64\n",
            " 12  BD1_11     5386 non-null   float64\n",
            " 13  BE3_75     5386 non-null   float64\n",
            " 14  BP5        5386 non-null   float64\n",
            " 15  BP6_10     5386 non-null   float64\n",
            " 16  mh_stress  5386 non-null   float64\n",
            " 17  BS3_1      5386 non-null   float64\n",
            " 18  DF2_pr     5386 non-null   float64\n",
            "dtypes: float64(12), int64(7)\n",
            "memory usage: 841.6 KB\n"
          ]
        }
      ]
    },
    {
      "cell_type": "code",
      "source": [
        "# df['BP5'].unique()"
      ],
      "metadata": {
        "id": "t3x-6IiM727G"
      },
      "execution_count": null,
      "outputs": []
    },
    {
      "cell_type": "code",
      "source": [
        "# df['BP6_10'].unique()"
      ],
      "metadata": {
        "id": "CCom0QaS78zu"
      },
      "execution_count": null,
      "outputs": []
    },
    {
      "cell_type": "code",
      "source": [
        "df.drop(['BP5','BP6_10'], axis=1,inplace=True)"
      ],
      "metadata": {
        "id": "ky93UhZ98CSe"
      },
      "execution_count": null,
      "outputs": []
    },
    {
      "cell_type": "markdown",
      "source": [
        "# 진짜 dataset 만들기\n",
        "## incm만 사용\n",
        "## 8, 9 는 날리기 >> 무응답은 다 날리기\n",
        "## 음주여부 데이터 넣기\n",
        "## 결혼 여부에서 상태로 수정\n",
        "### DF2_pr로 class 수정\n"
      ],
      "metadata": {
        "id": "zRs7CzYzxtAR"
      }
    },
    {
      "cell_type": "code",
      "source": [
        "# plt.figure(figsize=(15,15))\n",
        "# sns.heatmap(df.corr(),annot=True)"
      ],
      "metadata": {
        "id": "pg_XyvOZRFA3"
      },
      "execution_count": null,
      "outputs": []
    },
    {
      "cell_type": "code",
      "source": [
        "plt.figure(figsize=(15,15))\n",
        "sns.heatmap(df.corr(),annot=True)"
      ],
      "metadata": {
        "colab": {
          "base_uri": "https://localhost:8080/",
          "height": 927
        },
        "id": "I8vuxrNtWugL",
        "outputId": "dced79ec-8281-4e14-8405-d2b897973139"
      },
      "execution_count": null,
      "outputs": [
        {
          "output_type": "execute_result",
          "data": {
            "text/plain": [
              "<matplotlib.axes._subplots.AxesSubplot at 0x7fb5a579f190>"
            ]
          },
          "metadata": {},
          "execution_count": 1078
        },
        {
          "output_type": "display_data",
          "data": {
            "text/plain": [
              "<Figure size 1080x1080 with 2 Axes>"
            ],
            "image/png": "[encoded data removed]"
          },
          "metadata": {
            "needs_background": "light"
          }
        }
      ]
    },
    {
      "cell_type": "code",
      "source": [
        "# df.columns"
      ],
      "metadata": {
        "id": "1Hoq3ZDG9o2s"
      },
      "execution_count": null,
      "outputs": []
    },
    {
      "cell_type": "code",
      "source": [
        "df.columns"
      ],
      "metadata": {
        "colab": {
          "base_uri": "https://localhost:8080/"
        },
        "id": "49KXrvRwW5-3",
        "outputId": "29739752-d151-4c26-bc13-bc15ebaf57c7"
      },
      "execution_count": null,
      "outputs": [
        {
          "output_type": "execute_result",
          "data": {
            "text/plain": [
              "Index(['region', 'sex', 'age', 'incm', 'edu', 'EC1_1', 'cfam', 'allownc',\n",
              "       'house', 'marri_2', 'D_1_1', 'D_2_1', 'BD1_11', 'BE3_75', 'mh_stress',\n",
              "       'BS3_1', 'DF2_pr'],\n",
              "      dtype='object')"
            ]
          },
          "metadata": {},
          "execution_count": 1080
        }
      ]
    },
    {
      "cell_type": "code",
      "source": [
        "df['house'].value_counts()"
      ],
      "metadata": {
        "colab": {
          "base_uri": "https://localhost:8080/"
        },
        "id": "uKmlxZHORx05",
        "outputId": "284952d7-207b-4890-8363-83410054da35"
      },
      "execution_count": null,
      "outputs": [
        {
          "output_type": "execute_result",
          "data": {
            "text/plain": [
              "2    2895\n",
              "1    1739\n",
              "3     751\n",
              "9       1\n",
              "Name: house, dtype: int64"
            ]
          },
          "metadata": {},
          "execution_count": 1081
        }
      ]
    },
    {
      "cell_type": "code",
      "source": [
        "df.loc[df['house']==9]=None"
      ],
      "metadata": {
        "id": "rkL7sPVW8j4J"
      },
      "execution_count": null,
      "outputs": []
    },
    {
      "cell_type": "code",
      "source": [
        "df['house'].value_counts()"
      ],
      "metadata": {
        "colab": {
          "base_uri": "https://localhost:8080/"
        },
        "id": "V5qJolTOW99D",
        "outputId": "d5be5474-dd14-452c-f399-d7b4232d3bac"
      },
      "execution_count": null,
      "outputs": [
        {
          "output_type": "execute_result",
          "data": {
            "text/plain": [
              "2.0    2895\n",
              "1.0    1739\n",
              "3.0     751\n",
              "Name: house, dtype: int64"
            ]
          },
          "metadata": {},
          "execution_count": 1083
        }
      ]
    },
    {
      "cell_type": "code",
      "source": [
        "df.info()"
      ],
      "metadata": {
        "colab": {
          "base_uri": "https://localhost:8080/"
        },
        "id": "II0PstARXEG_",
        "outputId": "08d0d32d-0052-4846-e9d7-a183875370cf"
      },
      "execution_count": null,
      "outputs": [
        {
          "output_type": "stream",
          "name": "stdout",
          "text": [
            "<class 'pandas.core.frame.DataFrame'>\n",
            "Int64Index: 5386 entries, 0 to 7358\n",
            "Data columns (total 17 columns):\n",
            " #   Column     Non-Null Count  Dtype  \n",
            "---  ------     --------------  -----  \n",
            " 0   region     5385 non-null   float64\n",
            " 1   sex        5385 non-null   float64\n",
            " 2   age        5385 non-null   float64\n",
            " 3   incm       5385 non-null   float64\n",
            " 4   edu        5385 non-null   float64\n",
            " 5   EC1_1      5385 non-null   float64\n",
            " 6   cfam       5385 non-null   float64\n",
            " 7   allownc    5385 non-null   float64\n",
            " 8   house      5385 non-null   float64\n",
            " 9   marri_2    5385 non-null   float64\n",
            " 10  D_1_1      5385 non-null   float64\n",
            " 11  D_2_1      5385 non-null   float64\n",
            " 12  BD1_11     5385 non-null   float64\n",
            " 13  BE3_75     5385 non-null   float64\n",
            " 14  mh_stress  5385 non-null   float64\n",
            " 15  BS3_1      5385 non-null   float64\n",
            " 16  DF2_pr     5385 non-null   float64\n",
            "dtypes: float64(17)\n",
            "memory usage: 757.4 KB\n"
          ]
        }
      ]
    },
    {
      "cell_type": "code",
      "source": [
        "df.dropna(inplace=True)"
      ],
      "metadata": {
        "id": "-Nsbus0H8tlb"
      },
      "execution_count": null,
      "outputs": []
    },
    {
      "cell_type": "code",
      "source": [
        "df.info()"
      ],
      "metadata": {
        "colab": {
          "base_uri": "https://localhost:8080/"
        },
        "id": "dpwMJDZ0XJQJ",
        "outputId": "d92f4b2e-7812-4b77-90f3-dd2fc21a2c40"
      },
      "execution_count": null,
      "outputs": [
        {
          "output_type": "stream",
          "name": "stdout",
          "text": [
            "<class 'pandas.core.frame.DataFrame'>\n",
            "Int64Index: 5385 entries, 0 to 7358\n",
            "Data columns (total 17 columns):\n",
            " #   Column     Non-Null Count  Dtype  \n",
            "---  ------     --------------  -----  \n",
            " 0   region     5385 non-null   float64\n",
            " 1   sex        5385 non-null   float64\n",
            " 2   age        5385 non-null   float64\n",
            " 3   incm       5385 non-null   float64\n",
            " 4   edu        5385 non-null   float64\n",
            " 5   EC1_1      5385 non-null   float64\n",
            " 6   cfam       5385 non-null   float64\n",
            " 7   allownc    5385 non-null   float64\n",
            " 8   house      5385 non-null   float64\n",
            " 9   marri_2    5385 non-null   float64\n",
            " 10  D_1_1      5385 non-null   float64\n",
            " 11  D_2_1      5385 non-null   float64\n",
            " 12  BD1_11     5385 non-null   float64\n",
            " 13  BE3_75     5385 non-null   float64\n",
            " 14  mh_stress  5385 non-null   float64\n",
            " 15  BS3_1      5385 non-null   float64\n",
            " 16  DF2_pr     5385 non-null   float64\n",
            "dtypes: float64(17)\n",
            "memory usage: 757.3 KB\n"
          ]
        }
      ]
    },
    {
      "cell_type": "code",
      "source": [
        "df['marri_2'].value_counts()"
      ],
      "metadata": {
        "colab": {
          "base_uri": "https://localhost:8080/"
        },
        "id": "mcpYv5948unj",
        "outputId": "a2745d8c-cbe1-4fdb-cbda-cc0365f3b29e"
      },
      "execution_count": null,
      "outputs": [
        {
          "output_type": "execute_result",
          "data": {
            "text/plain": [
              "1.0     3510\n",
              "88.0    1121\n",
              "3.0      432\n",
              "4.0      275\n",
              "2.0       44\n",
              "99.0       3\n",
              "Name: marri_2, dtype: int64"
            ]
          },
          "metadata": {},
          "execution_count": 1087
        }
      ]
    },
    {
      "cell_type": "code",
      "source": [
        "df.loc[df['marri_2']==99.0]=None\n",
        "df['marri_2'].value_counts()"
      ],
      "metadata": {
        "id": "o3kSwEdv8y5U",
        "colab": {
          "base_uri": "https://localhost:8080/"
        },
        "outputId": "37ca1800-e508-44b8-c565-abca471c85f6"
      },
      "execution_count": null,
      "outputs": [
        {
          "output_type": "execute_result",
          "data": {
            "text/plain": [
              "1.0     3510\n",
              "88.0    1121\n",
              "3.0      432\n",
              "4.0      275\n",
              "2.0       44\n",
              "Name: marri_2, dtype: int64"
            ]
          },
          "metadata": {},
          "execution_count": 1088
        }
      ]
    },
    {
      "cell_type": "code",
      "source": [
        "df.dropna(inplace=True)"
      ],
      "metadata": {
        "id": "yf7TpJ2V9MNM"
      },
      "execution_count": null,
      "outputs": []
    },
    {
      "cell_type": "code",
      "source": [
        "df"
      ],
      "metadata": {
        "colab": {
          "base_uri": "https://localhost:8080/",
          "height": 424
        },
        "id": "c6o41JYE9Nyy",
        "outputId": "d9835429-cec3-4cee-fa39-eff2340dd4c8"
      },
      "execution_count": null,
      "outputs": [
        {
          "output_type": "execute_result",
          "data": {
            "text/plain": [
              "      region  sex   age  incm  edu  EC1_1  cfam  allownc  house  marri_2  \\\n",
              "0        1.0  1.0  39.0   1.0  4.0    1.0   5.0     20.0    1.0      1.0   \n",
              "1        1.0  2.0  39.0   1.0  4.0    1.0   5.0     20.0    1.0      1.0   \n",
              "6        1.0  2.0  58.0   4.0  3.0    1.0   4.0     20.0    2.0      1.0   \n",
              "7        1.0  1.0  56.0   4.0  4.0    1.0   4.0     20.0    2.0      1.0   \n",
              "8        1.0  2.0  53.0   4.0  4.0    1.0   4.0     20.0    2.0      1.0   \n",
              "...      ...  ...   ...   ...  ...    ...   ...      ...    ...      ...   \n",
              "7354     8.0  2.0  61.0   2.0  3.0    1.0   2.0     20.0    2.0      1.0   \n",
              "7355     8.0  2.0  51.0   3.0  4.0    1.0   2.0     10.0    2.0      4.0   \n",
              "7356     8.0  2.0  24.0   3.0  4.0    1.0   2.0     10.0    2.0     88.0   \n",
              "7357     8.0  1.0  65.0   2.0  4.0    2.0   2.0     20.0    2.0      1.0   \n",
              "7358     8.0  2.0  57.0   1.0  3.0    1.0   2.0     20.0    2.0      1.0   \n",
              "\n",
              "      D_1_1  D_2_1  BD1_11  BE3_75  mh_stress  BS3_1  DF2_pr  \n",
              "0       2.0    2.0     3.0     2.0        0.0    3.0     8.0  \n",
              "1       2.0    2.0     1.0     2.0        0.0    8.0     8.0  \n",
              "6       1.0    2.0     2.0     2.0        0.0    8.0     8.0  \n",
              "7       1.0    2.0     2.0     1.0        0.0    8.0     8.0  \n",
              "8       3.0    2.0     3.0     2.0        0.0    8.0     8.0  \n",
              "...     ...    ...     ...     ...        ...    ...     ...  \n",
              "7354    3.0    2.0     2.0     2.0        0.0    8.0     8.0  \n",
              "7355    3.0    2.0     2.0     1.0        0.0    8.0     8.0  \n",
              "7356    3.0    2.0     6.0     2.0        0.0    1.0     8.0  \n",
              "7357    2.0    2.0     4.0     2.0        0.0    3.0     8.0  \n",
              "7358    4.0    2.0     2.0     2.0        0.0    8.0     0.0  \n",
              "\n",
              "[5382 rows x 17 columns]"
            ],
            "text/html": [
              "\n",
              "  <div id=\"df-7f41059b-e090-4bd0-b695-5d27e1e0e433\">\n",
              "    <div class=\"colab-df-container\">\n",
              "      <div>\n",
              "<style scoped>\n",
              "    .dataframe tbody tr th:only-of-type {\n",
              "        vertical-align: middle;\n",
              "    }\n",
              "\n",
              "    .dataframe tbody tr th {\n",
              "        vertical-align: top;\n",
              "    }\n",
              "\n",
              "    .dataframe thead th {\n",
              "        text-align: right;\n",
              "    }\n",
              "</style>\n",
              "<table border=\"1\" class=\"dataframe\">\n",
              "  <thead>\n",
              "    <tr style=\"text-align: right;\">\n",
              "      <th></th>\n",
              "      <th>region</th>\n",
              "      <th>sex</th>\n",
              "      <th>age</th>\n",
              "      <th>incm</th>\n",
              "      <th>edu</th>\n",
              "      <th>EC1_1</th>\n",
              "      <th>cfam</th>\n",
              "      <th>allownc</th>\n",
              "      <th>house</th>\n",
              "      <th>marri_2</th>\n",
              "      <th>D_1_1</th>\n",
              "      <th>D_2_1</th>\n",
              "      <th>BD1_11</th>\n",
              "      <th>BE3_75</th>\n",
              "      <th>mh_stress</th>\n",
              "      <th>BS3_1</th>\n",
              "      <th>DF2_pr</th>\n",
              "    </tr>\n",
              "  </thead>\n",
              "  <tbody>\n",
              "    <tr>\n",
              "      <th>0</th>\n",
              "      <td>1.0</td>\n",
              "      <td>1.0</td>\n",
              "      <td>39.0</td>\n",
              "      <td>1.0</td>\n",
              "      <td>4.0</td>\n",
              "      <td>1.0</td>\n",
              "      <td>5.0</td>\n",
              "      <td>20.0</td>\n",
              "      <td>1.0</td>\n",
              "      <td>1.0</td>\n",
              "      <td>2.0</td>\n",
              "      <td>2.0</td>\n",
              "      <td>3.0</td>\n",
              "      <td>2.0</td>\n",
              "      <td>0.0</td>\n",
              "      <td>3.0</td>\n",
              "      <td>8.0</td>\n",
              "    </tr>\n",
              "    <tr>\n",
              "      <th>1</th>\n",
              "      <td>1.0</td>\n",
              "      <td>2.0</td>\n",
              "      <td>39.0</td>\n",
              "      <td>1.0</td>\n",
              "      <td>4.0</td>\n",
              "      <td>1.0</td>\n",
              "      <td>5.0</td>\n",
              "      <td>20.0</td>\n",
              "      <td>1.0</td>\n",
              "      <td>1.0</td>\n",
              "      <td>2.0</td>\n",
              "      <td>2.0</td>\n",
              "      <td>1.0</td>\n",
              "      <td>2.0</td>\n",
              "      <td>0.0</td>\n",
              "      <td>8.0</td>\n",
              "      <td>8.0</td>\n",
              "    </tr>\n",
              "    <tr>\n",
              "      <th>6</th>\n",
              "      <td>1.0</td>\n",
              "      <td>2.0</td>\n",
              "      <td>58.0</td>\n",
              "      <td>4.0</td>\n",
              "      <td>3.0</td>\n",
              "      <td>1.0</td>\n",
              "      <td>4.0</td>\n",
              "      <td>20.0</td>\n",
              "      <td>2.0</td>\n",
              "      <td>1.0</td>\n",
              "      <td>1.0</td>\n",
              "      <td>2.0</td>\n",
              "      <td>2.0</td>\n",
              "      <td>2.0</td>\n",
              "      <td>0.0</td>\n",
              "      <td>8.0</td>\n",
              "      <td>8.0</td>\n",
              "    </tr>\n",
              "    <tr>\n",
              "      <th>7</th>\n",
              "      <td>1.0</td>\n",
              "      <td>1.0</td>\n",
              "      <td>56.0</td>\n",
              "      <td>4.0</td>\n",
              "      <td>4.0</td>\n",
              "      <td>1.0</td>\n",
              "      <td>4.0</td>\n",
              "      <td>20.0</td>\n",
              "      <td>2.0</td>\n",
              "      <td>1.0</td>\n",
              "      <td>1.0</td>\n",
              "      <td>2.0</td>\n",
              "      <td>2.0</td>\n",
              "      <td>1.0</td>\n",
              "      <td>0.0</td>\n",
              "      <td>8.0</td>\n",
              "      <td>8.0</td>\n",
              "    </tr>\n",
              "    <tr>\n",
              "      <th>8</th>\n",
              "      <td>1.0</td>\n",
              "      <td>2.0</td>\n",
              "      <td>53.0</td>\n",
              "      <td>4.0</td>\n",
              "      <td>4.0</td>\n",
              "      <td>1.0</td>\n",
              "      <td>4.0</td>\n",
              "      <td>20.0</td>\n",
              "      <td>2.0</td>\n",
              "      <td>1.0</td>\n",
              "      <td>3.0</td>\n",
              "      <td>2.0</td>\n",
              "      <td>3.0</td>\n",
              "      <td>2.0</td>\n",
              "      <td>0.0</td>\n",
              "      <td>8.0</td>\n",
              "      <td>8.0</td>\n",
              "    </tr>\n",
              "    <tr>\n",
              "      <th>...</th>\n",
              "      <td>...</td>\n",
              "      <td>...</td>\n",
              "      <td>...</td>\n",
              "      <td>...</td>\n",
              "      <td>...</td>\n",
              "      <td>...</td>\n",
              "      <td>...</td>\n",
              "      <td>...</td>\n",
              "      <td>...</td>\n",
              "      <td>...</td>\n",
              "      <td>...</td>\n",
              "      <td>...</td>\n",
              "      <td>...</td>\n",
              "      <td>...</td>\n",
              "      <td>...</td>\n",
              "      <td>...</td>\n",
              "      <td>...</td>\n",
              "    </tr>\n",
              "    <tr>\n",
              "      <th>7354</th>\n",
              "      <td>8.0</td>\n",
              "      <td>2.0</td>\n",
              "      <td>61.0</td>\n",
              "      <td>2.0</td>\n",
              "      <td>3.0</td>\n",
              "      <td>1.0</td>\n",
              "      <td>2.0</td>\n",
              "      <td>20.0</td>\n",
              "      <td>2.0</td>\n",
              "      <td>1.0</td>\n",
              "      <td>3.0</td>\n",
              "      <td>2.0</td>\n",
              "      <td>2.0</td>\n",
              "      <td>2.0</td>\n",
              "      <td>0.0</td>\n",
              "      <td>8.0</td>\n",
              "      <td>8.0</td>\n",
              "    </tr>\n",
              "    <tr>\n",
              "      <th>7355</th>\n",
              "      <td>8.0</td>\n",
              "      <td>2.0</td>\n",
              "      <td>51.0</td>\n",
              "      <td>3.0</td>\n",
              "      <td>4.0</td>\n",
              "      <td>1.0</td>\n",
              "      <td>2.0</td>\n",
              "      <td>10.0</td>\n",
              "      <td>2.0</td>\n",
              "      <td>4.0</td>\n",
              "      <td>3.0</td>\n",
              "      <td>2.0</td>\n",
              "      <td>2.0</td>\n",
              "      <td>1.0</td>\n",
              "      <td>0.0</td>\n",
              "      <td>8.0</td>\n",
              "      <td>8.0</td>\n",
              "    </tr>\n",
              "    <tr>\n",
              "      <th>7356</th>\n",
              "      <td>8.0</td>\n",
              "      <td>2.0</td>\n",
              "      <td>24.0</td>\n",
              "      <td>3.0</td>\n",
              "      <td>4.0</td>\n",
              "      <td>1.0</td>\n",
              "      <td>2.0</td>\n",
              "      <td>10.0</td>\n",
              "      <td>2.0</td>\n",
              "      <td>88.0</td>\n",
              "      <td>3.0</td>\n",
              "      <td>2.0</td>\n",
              "      <td>6.0</td>\n",
              "      <td>2.0</td>\n",
              "      <td>0.0</td>\n",
              "      <td>1.0</td>\n",
              "      <td>8.0</td>\n",
              "    </tr>\n",
              "    <tr>\n",
              "      <th>7357</th>\n",
              "      <td>8.0</td>\n",
              "      <td>1.0</td>\n",
              "      <td>65.0</td>\n",
              "      <td>2.0</td>\n",
              "      <td>4.0</td>\n",
              "      <td>2.0</td>\n",
              "      <td>2.0</td>\n",
              "      <td>20.0</td>\n",
              "      <td>2.0</td>\n",
              "      <td>1.0</td>\n",
              "      <td>2.0</td>\n",
              "      <td>2.0</td>\n",
              "      <td>4.0</td>\n",
              "      <td>2.0</td>\n",
              "      <td>0.0</td>\n",
              "      <td>3.0</td>\n",
              "      <td>8.0</td>\n",
              "    </tr>\n",
              "    <tr>\n",
              "      <th>7358</th>\n",
              "      <td>8.0</td>\n",
              "      <td>2.0</td>\n",
              "      <td>57.0</td>\n",
              "      <td>1.0</td>\n",
              "      <td>3.0</td>\n",
              "      <td>1.0</td>\n",
              "      <td>2.0</td>\n",
              "      <td>20.0</td>\n",
              "      <td>2.0</td>\n",
              "      <td>1.0</td>\n",
              "      <td>4.0</td>\n",
              "      <td>2.0</td>\n",
              "      <td>2.0</td>\n",
              "      <td>2.0</td>\n",
              "      <td>0.0</td>\n",
              "      <td>8.0</td>\n",
              "      <td>0.0</td>\n",
              "    </tr>\n",
              "  </tbody>\n",
              "</table>\n",
              "<p>5382 rows × 17 columns</p>\n",
              "</div>\n",
              "      <button class=\"colab-df-convert\" onclick=\"convertToInteractive('df-7f41059b-e090-4bd0-b695-5d27e1e0e433')\"\n",
              "              title=\"Convert this dataframe to an interactive table.\"\n",
              "              style=\"display:none;\">\n",
              "        \n",
              "  <svg xmlns=\"http://www.w3.org/2000/svg\" height=\"24px\"viewBox=\"0 0 24 24\"\n",
              "       width=\"24px\">\n",
              "    <path d=\"M0 0h24v24H0V0z\" fill=\"none\"/>\n",
              "    <path d=\"M18.56 5.44l.94 2.06.94-2.06 2.06-.94-2.06-.94-.94-2.06-.94 2.06-2.06.94zm-11 1L8.5 8.5l.94-2.06 2.06-.94-2.06-.94L8.5 2.5l-.94 2.06-2.06.94zm10 10l.94 2.06.94-2.06 2.06-.94-2.06-.94-.94-2.06-.94 2.06-2.06.94z\"/><path d=\"M17.41 7.96l-1.37-1.37c-.4-.4-.92-.59-1.43-.59-.52 0-1.04.2-1.43.59L10.3 9.45l-7.72 7.72c-.78.78-.78 2.05 0 2.83L4 21.41c.39.39.9.59 1.41.59.51 0 1.02-.2 1.41-.59l7.78-7.78 2.81-2.81c.8-.78.8-2.07 0-2.86zM5.41 20L4 18.59l7.72-7.72 1.47 1.35L5.41 20z\"/>\n",
              "  </svg>\n",
              "      </button>\n",
              "      \n",
              "  <style>\n",
              "    .colab-df-container {\n",
              "      display:flex;\n",
              "      flex-wrap:wrap;\n",
              "      gap: 12px;\n",
              "    }\n",
              "\n",
              "    .colab-df-convert {\n",
              "      background-color: #E8F0FE;\n",
              "      border: none;\n",
              "      border-radius: 50%;\n",
              "      cursor: pointer;\n",
              "      display: none;\n",
              "      fill: #1967D2;\n",
              "      height: 32px;\n",
              "      padding: 0 0 0 0;\n",
              "      width: 32px;\n",
              "    }\n",
              "\n",
              "    .colab-df-convert:hover {\n",
              "      background-color: #E2EBFA;\n",
              "      box-shadow: 0px 1px 2px rgba(60, 64, 67, 0.3), 0px 1px 3px 1px rgba(60, 64, 67, 0.15);\n",
              "      fill: #174EA6;\n",
              "    }\n",
              "\n",
              "    [theme=dark] .colab-df-convert {\n",
              "      background-color: #3B4455;\n",
              "      fill: #D2E3FC;\n",
              "    }\n",
              "\n",
              "    [theme=dark] .colab-df-convert:hover {\n",
              "      background-color: #434B5C;\n",
              "      box-shadow: 0px 1px 3px 1px rgba(0, 0, 0, 0.15);\n",
              "      filter: drop-shadow(0px 1px 2px rgba(0, 0, 0, 0.3));\n",
              "      fill: #FFFFFF;\n",
              "    }\n",
              "  </style>\n",
              "\n",
              "      <script>\n",
              "        const buttonEl =\n",
              "          document.querySelector('#df-7f41059b-e090-4bd0-b695-5d27e1e0e433 button.colab-df-convert');\n",
              "        buttonEl.style.display =\n",
              "          google.colab.kernel.accessAllowed ? 'block' : 'none';\n",
              "\n",
              "        async function convertToInteractive(key) {\n",
              "          const element = document.querySelector('#df-7f41059b-e090-4bd0-b695-5d27e1e0e433');\n",
              "          const dataTable =\n",
              "            await google.colab.kernel.invokeFunction('convertToInteractive',\n",
              "                                                     [key], {});\n",
              "          if (!dataTable) return;\n",
              "\n",
              "          const docLinkHtml = 'Like what you see? Visit the ' +\n",
              "            '<a target=\"_blank\" href=https://colab.research.google.com/notebooks/data_table.ipynb>data table notebook</a>'\n",
              "            + ' to learn more about interactive tables.';\n",
              "          element.innerHTML = '';\n",
              "          dataTable['output_type'] = 'display_data';\n",
              "          await google.colab.output.renderOutput(dataTable, element);\n",
              "          const docLink = document.createElement('div');\n",
              "          docLink.innerHTML = docLinkHtml;\n",
              "          element.appendChild(docLink);\n",
              "        }\n",
              "      </script>\n",
              "    </div>\n",
              "  </div>\n",
              "  "
            ]
          },
          "metadata": {},
          "execution_count": 1090
        }
      ]
    },
    {
      "cell_type": "code",
      "source": [
        "df.loc[df['EC1_1']==9]=None\n",
        "df.dropna(inplace=True)"
      ],
      "metadata": {
        "id": "1UCWcjaC9VJE"
      },
      "execution_count": null,
      "outputs": []
    },
    {
      "cell_type": "code",
      "source": [
        "df.loc[df['cfam']==9]=None\n",
        "df.dropna(inplace=True)"
      ],
      "metadata": {
        "id": "SOhG0ze--Fb8"
      },
      "execution_count": null,
      "outputs": []
    },
    {
      "cell_type": "code",
      "source": [
        "df"
      ],
      "metadata": {
        "colab": {
          "base_uri": "https://localhost:8080/",
          "height": 424
        },
        "id": "whdkqy0O-M7U",
        "outputId": "c0fd2bea-1fa5-42bc-a289-3c7d5ce4fd4c"
      },
      "execution_count": null,
      "outputs": [
        {
          "output_type": "execute_result",
          "data": {
            "text/plain": [
              "      region  sex   age  incm  edu  EC1_1  cfam  allownc  house  marri_2  \\\n",
              "0        1.0  1.0  39.0   1.0  4.0    1.0   5.0     20.0    1.0      1.0   \n",
              "1        1.0  2.0  39.0   1.0  4.0    1.0   5.0     20.0    1.0      1.0   \n",
              "6        1.0  2.0  58.0   4.0  3.0    1.0   4.0     20.0    2.0      1.0   \n",
              "7        1.0  1.0  56.0   4.0  4.0    1.0   4.0     20.0    2.0      1.0   \n",
              "8        1.0  2.0  53.0   4.0  4.0    1.0   4.0     20.0    2.0      1.0   \n",
              "...      ...  ...   ...   ...  ...    ...   ...      ...    ...      ...   \n",
              "7354     8.0  2.0  61.0   2.0  3.0    1.0   2.0     20.0    2.0      1.0   \n",
              "7355     8.0  2.0  51.0   3.0  4.0    1.0   2.0     10.0    2.0      4.0   \n",
              "7356     8.0  2.0  24.0   3.0  4.0    1.0   2.0     10.0    2.0     88.0   \n",
              "7357     8.0  1.0  65.0   2.0  4.0    2.0   2.0     20.0    2.0      1.0   \n",
              "7358     8.0  2.0  57.0   1.0  3.0    1.0   2.0     20.0    2.0      1.0   \n",
              "\n",
              "      D_1_1  D_2_1  BD1_11  BE3_75  mh_stress  BS3_1  DF2_pr  \n",
              "0       2.0    2.0     3.0     2.0        0.0    3.0     8.0  \n",
              "1       2.0    2.0     1.0     2.0        0.0    8.0     8.0  \n",
              "6       1.0    2.0     2.0     2.0        0.0    8.0     8.0  \n",
              "7       1.0    2.0     2.0     1.0        0.0    8.0     8.0  \n",
              "8       3.0    2.0     3.0     2.0        0.0    8.0     8.0  \n",
              "...     ...    ...     ...     ...        ...    ...     ...  \n",
              "7354    3.0    2.0     2.0     2.0        0.0    8.0     8.0  \n",
              "7355    3.0    2.0     2.0     1.0        0.0    8.0     8.0  \n",
              "7356    3.0    2.0     6.0     2.0        0.0    1.0     8.0  \n",
              "7357    2.0    2.0     4.0     2.0        0.0    3.0     8.0  \n",
              "7358    4.0    2.0     2.0     2.0        0.0    8.0     0.0  \n",
              "\n",
              "[5382 rows x 17 columns]"
            ],
            "text/html": [
              "\n",
              "  <div id=\"df-a7f6df61-b375-4545-8e51-db37b5265d0e\">\n",
              "    <div class=\"colab-df-container\">\n",
              "      <div>\n",
              "<style scoped>\n",
              "    .dataframe tbody tr th:only-of-type {\n",
              "        vertical-align: middle;\n",
              "    }\n",
              "\n",
              "    .dataframe tbody tr th {\n",
              "        vertical-align: top;\n",
              "    }\n",
              "\n",
              "    .dataframe thead th {\n",
              "        text-align: right;\n",
              "    }\n",
              "</style>\n",
              "<table border=\"1\" class=\"dataframe\">\n",
              "  <thead>\n",
              "    <tr style=\"text-align: right;\">\n",
              "      <th></th>\n",
              "      <th>region</th>\n",
              "      <th>sex</th>\n",
              "      <th>age</th>\n",
              "      <th>incm</th>\n",
              "      <th>edu</th>\n",
              "      <th>EC1_1</th>\n",
              "      <th>cfam</th>\n",
              "      <th>allownc</th>\n",
              "      <th>house</th>\n",
              "      <th>marri_2</th>\n",
              "      <th>D_1_1</th>\n",
              "      <th>D_2_1</th>\n",
              "      <th>BD1_11</th>\n",
              "      <th>BE3_75</th>\n",
              "      <th>mh_stress</th>\n",
              "      <th>BS3_1</th>\n",
              "      <th>DF2_pr</th>\n",
              "    </tr>\n",
              "  </thead>\n",
              "  <tbody>\n",
              "    <tr>\n",
              "      <th>0</th>\n",
              "      <td>1.0</td>\n",
              "      <td>1.0</td>\n",
              "      <td>39.0</td>\n",
              "      <td>1.0</td>\n",
              "      <td>4.0</td>\n",
              "      <td>1.0</td>\n",
              "      <td>5.0</td>\n",
              "      <td>20.0</td>\n",
              "      <td>1.0</td>\n",
              "      <td>1.0</td>\n",
              "      <td>2.0</td>\n",
              "      <td>2.0</td>\n",
              "      <td>3.0</td>\n",
              "      <td>2.0</td>\n",
              "      <td>0.0</td>\n",
              "      <td>3.0</td>\n",
              "      <td>8.0</td>\n",
              "    </tr>\n",
              "    <tr>\n",
              "      <th>1</th>\n",
              "      <td>1.0</td>\n",
              "      <td>2.0</td>\n",
              "      <td>39.0</td>\n",
              "      <td>1.0</td>\n",
              "      <td>4.0</td>\n",
              "      <td>1.0</td>\n",
              "      <td>5.0</td>\n",
              "      <td>20.0</td>\n",
              "      <td>1.0</td>\n",
              "      <td>1.0</td>\n",
              "      <td>2.0</td>\n",
              "      <td>2.0</td>\n",
              "      <td>1.0</td>\n",
              "      <td>2.0</td>\n",
              "      <td>0.0</td>\n",
              "      <td>8.0</td>\n",
              "      <td>8.0</td>\n",
              "    </tr>\n",
              "    <tr>\n",
              "      <th>6</th>\n",
              "      <td>1.0</td>\n",
              "      <td>2.0</td>\n",
              "      <td>58.0</td>\n",
              "      <td>4.0</td>\n",
              "      <td>3.0</td>\n",
              "      <td>1.0</td>\n",
              "      <td>4.0</td>\n",
              "      <td>20.0</td>\n",
              "      <td>2.0</td>\n",
              "      <td>1.0</td>\n",
              "      <td>1.0</td>\n",
              "      <td>2.0</td>\n",
              "      <td>2.0</td>\n",
              "      <td>2.0</td>\n",
              "      <td>0.0</td>\n",
              "      <td>8.0</td>\n",
              "      <td>8.0</td>\n",
              "    </tr>\n",
              "    <tr>\n",
              "      <th>7</th>\n",
              "      <td>1.0</td>\n",
              "      <td>1.0</td>\n",
              "      <td>56.0</td>\n",
              "      <td>4.0</td>\n",
              "      <td>4.0</td>\n",
              "      <td>1.0</td>\n",
              "      <td>4.0</td>\n",
              "      <td>20.0</td>\n",
              "      <td>2.0</td>\n",
              "      <td>1.0</td>\n",
              "      <td>1.0</td>\n",
              "      <td>2.0</td>\n",
              "      <td>2.0</td>\n",
              "      <td>1.0</td>\n",
              "      <td>0.0</td>\n",
              "      <td>8.0</td>\n",
              "      <td>8.0</td>\n",
              "    </tr>\n",
              "    <tr>\n",
              "      <th>8</th>\n",
              "      <td>1.0</td>\n",
              "      <td>2.0</td>\n",
              "      <td>53.0</td>\n",
              "      <td>4.0</td>\n",
              "      <td>4.0</td>\n",
              "      <td>1.0</td>\n",
              "      <td>4.0</td>\n",
              "      <td>20.0</td>\n",
              "      <td>2.0</td>\n",
              "      <td>1.0</td>\n",
              "      <td>3.0</td>\n",
              "      <td>2.0</td>\n",
              "      <td>3.0</td>\n",
              "      <td>2.0</td>\n",
              "      <td>0.0</td>\n",
              "      <td>8.0</td>\n",
              "      <td>8.0</td>\n",
              "    </tr>\n",
              "    <tr>\n",
              "      <th>...</th>\n",
              "      <td>...</td>\n",
              "      <td>...</td>\n",
              "      <td>...</td>\n",
              "      <td>...</td>\n",
              "      <td>...</td>\n",
              "      <td>...</td>\n",
              "      <td>...</td>\n",
              "      <td>...</td>\n",
              "      <td>...</td>\n",
              "      <td>...</td>\n",
              "      <td>...</td>\n",
              "      <td>...</td>\n",
              "      <td>...</td>\n",
              "      <td>...</td>\n",
              "      <td>...</td>\n",
              "      <td>...</td>\n",
              "      <td>...</td>\n",
              "    </tr>\n",
              "    <tr>\n",
              "      <th>7354</th>\n",
              "      <td>8.0</td>\n",
              "      <td>2.0</td>\n",
              "      <td>61.0</td>\n",
              "      <td>2.0</td>\n",
              "      <td>3.0</td>\n",
              "      <td>1.0</td>\n",
              "      <td>2.0</td>\n",
              "      <td>20.0</td>\n",
              "      <td>2.0</td>\n",
              "      <td>1.0</td>\n",
              "      <td>3.0</td>\n",
              "      <td>2.0</td>\n",
              "      <td>2.0</td>\n",
              "      <td>2.0</td>\n",
              "      <td>0.0</td>\n",
              "      <td>8.0</td>\n",
              "      <td>8.0</td>\n",
              "    </tr>\n",
              "    <tr>\n",
              "      <th>7355</th>\n",
              "      <td>8.0</td>\n",
              "      <td>2.0</td>\n",
              "      <td>51.0</td>\n",
              "      <td>3.0</td>\n",
              "      <td>4.0</td>\n",
              "      <td>1.0</td>\n",
              "      <td>2.0</td>\n",
              "      <td>10.0</td>\n",
              "      <td>2.0</td>\n",
              "      <td>4.0</td>\n",
              "      <td>3.0</td>\n",
              "      <td>2.0</td>\n",
              "      <td>2.0</td>\n",
              "      <td>1.0</td>\n",
              "      <td>0.0</td>\n",
              "      <td>8.0</td>\n",
              "      <td>8.0</td>\n",
              "    </tr>\n",
              "    <tr>\n",
              "      <th>7356</th>\n",
              "      <td>8.0</td>\n",
              "      <td>2.0</td>\n",
              "      <td>24.0</td>\n",
              "      <td>3.0</td>\n",
              "      <td>4.0</td>\n",
              "      <td>1.0</td>\n",
              "      <td>2.0</td>\n",
              "      <td>10.0</td>\n",
              "      <td>2.0</td>\n",
              "      <td>88.0</td>\n",
              "      <td>3.0</td>\n",
              "      <td>2.0</td>\n",
              "      <td>6.0</td>\n",
              "      <td>2.0</td>\n",
              "      <td>0.0</td>\n",
              "      <td>1.0</td>\n",
              "      <td>8.0</td>\n",
              "    </tr>\n",
              "    <tr>\n",
              "      <th>7357</th>\n",
              "      <td>8.0</td>\n",
              "      <td>1.0</td>\n",
              "      <td>65.0</td>\n",
              "      <td>2.0</td>\n",
              "      <td>4.0</td>\n",
              "      <td>2.0</td>\n",
              "      <td>2.0</td>\n",
              "      <td>20.0</td>\n",
              "      <td>2.0</td>\n",
              "      <td>1.0</td>\n",
              "      <td>2.0</td>\n",
              "      <td>2.0</td>\n",
              "      <td>4.0</td>\n",
              "      <td>2.0</td>\n",
              "      <td>0.0</td>\n",
              "      <td>3.0</td>\n",
              "      <td>8.0</td>\n",
              "    </tr>\n",
              "    <tr>\n",
              "      <th>7358</th>\n",
              "      <td>8.0</td>\n",
              "      <td>2.0</td>\n",
              "      <td>57.0</td>\n",
              "      <td>1.0</td>\n",
              "      <td>3.0</td>\n",
              "      <td>1.0</td>\n",
              "      <td>2.0</td>\n",
              "      <td>20.0</td>\n",
              "      <td>2.0</td>\n",
              "      <td>1.0</td>\n",
              "      <td>4.0</td>\n",
              "      <td>2.0</td>\n",
              "      <td>2.0</td>\n",
              "      <td>2.0</td>\n",
              "      <td>0.0</td>\n",
              "      <td>8.0</td>\n",
              "      <td>0.0</td>\n",
              "    </tr>\n",
              "  </tbody>\n",
              "</table>\n",
              "<p>5382 rows × 17 columns</p>\n",
              "</div>\n",
              "      <button class=\"colab-df-convert\" onclick=\"convertToInteractive('df-a7f6df61-b375-4545-8e51-db37b5265d0e')\"\n",
              "              title=\"Convert this dataframe to an interactive table.\"\n",
              "              style=\"display:none;\">\n",
              "        \n",
              "  <svg xmlns=\"http://www.w3.org/2000/svg\" height=\"24px\"viewBox=\"0 0 24 24\"\n",
              "       width=\"24px\">\n",
              "    <path d=\"M0 0h24v24H0V0z\" fill=\"none\"/>\n",
              "    <path d=\"M18.56 5.44l.94 2.06.94-2.06 2.06-.94-2.06-.94-.94-2.06-.94 2.06-2.06.94zm-11 1L8.5 8.5l.94-2.06 2.06-.94-2.06-.94L8.5 2.5l-.94 2.06-2.06.94zm10 10l.94 2.06.94-2.06 2.06-.94-2.06-.94-.94-2.06-.94 2.06-2.06.94z\"/><path d=\"M17.41 7.96l-1.37-1.37c-.4-.4-.92-.59-1.43-.59-.52 0-1.04.2-1.43.59L10.3 9.45l-7.72 7.72c-.78.78-.78 2.05 0 2.83L4 21.41c.39.39.9.59 1.41.59.51 0 1.02-.2 1.41-.59l7.78-7.78 2.81-2.81c.8-.78.8-2.07 0-2.86zM5.41 20L4 18.59l7.72-7.72 1.47 1.35L5.41 20z\"/>\n",
              "  </svg>\n",
              "      </button>\n",
              "      \n",
              "  <style>\n",
              "    .colab-df-container {\n",
              "      display:flex;\n",
              "      flex-wrap:wrap;\n",
              "      gap: 12px;\n",
              "    }\n",
              "\n",
              "    .colab-df-convert {\n",
              "      background-color: #E8F0FE;\n",
              "      border: none;\n",
              "      border-radius: 50%;\n",
              "      cursor: pointer;\n",
              "      display: none;\n",
              "      fill: #1967D2;\n",
              "      height: 32px;\n",
              "      padding: 0 0 0 0;\n",
              "      width: 32px;\n",
              "    }\n",
              "\n",
              "    .colab-df-convert:hover {\n",
              "      background-color: #E2EBFA;\n",
              "      box-shadow: 0px 1px 2px rgba(60, 64, 67, 0.3), 0px 1px 3px 1px rgba(60, 64, 67, 0.15);\n",
              "      fill: #174EA6;\n",
              "    }\n",
              "\n",
              "    [theme=dark] .colab-df-convert {\n",
              "      background-color: #3B4455;\n",
              "      fill: #D2E3FC;\n",
              "    }\n",
              "\n",
              "    [theme=dark] .colab-df-convert:hover {\n",
              "      background-color: #434B5C;\n",
              "      box-shadow: 0px 1px 3px 1px rgba(0, 0, 0, 0.15);\n",
              "      filter: drop-shadow(0px 1px 2px rgba(0, 0, 0, 0.3));\n",
              "      fill: #FFFFFF;\n",
              "    }\n",
              "  </style>\n",
              "\n",
              "      <script>\n",
              "        const buttonEl =\n",
              "          document.querySelector('#df-a7f6df61-b375-4545-8e51-db37b5265d0e button.colab-df-convert');\n",
              "        buttonEl.style.display =\n",
              "          google.colab.kernel.accessAllowed ? 'block' : 'none';\n",
              "\n",
              "        async function convertToInteractive(key) {\n",
              "          const element = document.querySelector('#df-a7f6df61-b375-4545-8e51-db37b5265d0e');\n",
              "          const dataTable =\n",
              "            await google.colab.kernel.invokeFunction('convertToInteractive',\n",
              "                                                     [key], {});\n",
              "          if (!dataTable) return;\n",
              "\n",
              "          const docLinkHtml = 'Like what you see? Visit the ' +\n",
              "            '<a target=\"_blank\" href=https://colab.research.google.com/notebooks/data_table.ipynb>data table notebook</a>'\n",
              "            + ' to learn more about interactive tables.';\n",
              "          element.innerHTML = '';\n",
              "          dataTable['output_type'] = 'display_data';\n",
              "          await google.colab.output.renderOutput(dataTable, element);\n",
              "          const docLink = document.createElement('div');\n",
              "          docLink.innerHTML = docLinkHtml;\n",
              "          element.appendChild(docLink);\n",
              "        }\n",
              "      </script>\n",
              "    </div>\n",
              "  </div>\n",
              "  "
            ]
          },
          "metadata": {},
          "execution_count": 1093
        }
      ]
    },
    {
      "cell_type": "code",
      "source": [
        "df['allownc'].value_counts()"
      ],
      "metadata": {
        "colab": {
          "base_uri": "https://localhost:8080/"
        },
        "id": "UrH2GNmrYw_1",
        "outputId": "10cde346-9ad7-46e1-daba-de82bf0f719f"
      },
      "execution_count": null,
      "outputs": [
        {
          "output_type": "execute_result",
          "data": {
            "text/plain": [
              "20.0    5023\n",
              "10.0     359\n",
              "Name: allownc, dtype: int64"
            ]
          },
          "metadata": {},
          "execution_count": 1094
        }
      ]
    },
    {
      "cell_type": "code",
      "source": [
        "# df.loc[df['allownc']==9]=None\n",
        "# df.dropna(inplace=True)"
      ],
      "metadata": {
        "id": "oo_OOUL2-OCM"
      },
      "execution_count": null,
      "outputs": []
    },
    {
      "cell_type": "code",
      "source": [
        "# df['allownc'].value_counts()"
      ],
      "metadata": {
        "id": "FYROGD-8-em0"
      },
      "execution_count": null,
      "outputs": []
    },
    {
      "cell_type": "code",
      "source": [
        "# df"
      ],
      "metadata": {
        "id": "PcEu80s--cQr"
      },
      "execution_count": null,
      "outputs": []
    },
    {
      "cell_type": "code",
      "source": [
        "df['D_1_1'].value_counts()"
      ],
      "metadata": {
        "colab": {
          "base_uri": "https://localhost:8080/"
        },
        "id": "QR6KtM_ZY-5N",
        "outputId": "014bea32-a83d-4ed3-8e9b-8619c088a3e3"
      },
      "execution_count": null,
      "outputs": [
        {
          "output_type": "execute_result",
          "data": {
            "text/plain": [
              "3.0    2786\n",
              "2.0    1307\n",
              "4.0     862\n",
              "1.0     249\n",
              "5.0     178\n",
              "Name: D_1_1, dtype: int64"
            ]
          },
          "metadata": {},
          "execution_count": 1098
        }
      ]
    },
    {
      "cell_type": "code",
      "source": [
        "# df.loc[df['D_1_1']==9]=None\n",
        "# df.dropna(inplace=True)"
      ],
      "metadata": {
        "id": "jlY7EQY--c7i"
      },
      "execution_count": null,
      "outputs": []
    },
    {
      "cell_type": "code",
      "source": [
        "# df['D_1_1'].value_counts()"
      ],
      "metadata": {
        "id": "mYpwzIy1-pik"
      },
      "execution_count": null,
      "outputs": []
    },
    {
      "cell_type": "code",
      "source": [
        "df['D_2_1'].value_counts()"
      ],
      "metadata": {
        "colab": {
          "base_uri": "https://localhost:8080/"
        },
        "id": "8bjSjoZCZDV9",
        "outputId": "3b28bf9d-2368-431a-df3d-4b11a5d37511"
      },
      "execution_count": null,
      "outputs": [
        {
          "output_type": "execute_result",
          "data": {
            "text/plain": [
              "2.0    4457\n",
              "1.0     925\n",
              "Name: D_2_1, dtype: int64"
            ]
          },
          "metadata": {},
          "execution_count": 1101
        }
      ]
    },
    {
      "cell_type": "code",
      "source": [
        "# df.loc[df['D_2_1']==9]=None\n",
        "# df.dropna(inplace=True)"
      ],
      "metadata": {
        "id": "3I36Dwln-2jD"
      },
      "execution_count": null,
      "outputs": []
    },
    {
      "cell_type": "code",
      "source": [
        "df['BD1_11'].value_counts()"
      ],
      "metadata": {
        "colab": {
          "base_uri": "https://localhost:8080/"
        },
        "id": "n1v95Eto_BTa",
        "outputId": "2bf7ff7e-3d34-41d9-daba-3a62c0aadce8"
      },
      "execution_count": null,
      "outputs": [
        {
          "output_type": "execute_result",
          "data": {
            "text/plain": [
              "4.0    1136\n",
              "1.0    1015\n",
              "2.0    1003\n",
              "5.0     792\n",
              "8.0     593\n",
              "3.0     544\n",
              "6.0     299\n",
              "Name: BD1_11, dtype: int64"
            ]
          },
          "metadata": {},
          "execution_count": 1103
        }
      ]
    },
    {
      "cell_type": "code",
      "source": [
        "# df.loc[df['BD1_11']==9]=None\n",
        "# df.dropna(inplace=True)"
      ],
      "metadata": {
        "id": "Cm9U5j_G-6aj"
      },
      "execution_count": null,
      "outputs": []
    },
    {
      "cell_type": "code",
      "source": [
        "# df.loc[df['BE3_75']==9]=None\n",
        "# df.dropna(inplace=True)"
      ],
      "metadata": {
        "id": "PD5ci0-6_Gdk"
      },
      "execution_count": null,
      "outputs": []
    },
    {
      "cell_type": "code",
      "source": [
        "# df.loc[df['mh_stress']==9]=None\n",
        "# df.dropna(inplace=True)"
      ],
      "metadata": {
        "id": "KkLeSDmZ_PmM"
      },
      "execution_count": null,
      "outputs": []
    },
    {
      "cell_type": "code",
      "source": [
        "df.loc[df['BS3_1']==9]=None\n",
        "df.dropna(inplace=True)"
      ],
      "metadata": {
        "id": "c6eM07yc_XJM"
      },
      "execution_count": null,
      "outputs": []
    },
    {
      "cell_type": "code",
      "source": [
        "df['DF2_pr'].value_counts()"
      ],
      "metadata": {
        "colab": {
          "base_uri": "https://localhost:8080/"
        },
        "id": "YDSQrNvm_aO-",
        "outputId": "5ad7443a-d8dc-4be6-9cb7-c9866ca72341"
      },
      "execution_count": null,
      "outputs": [
        {
          "output_type": "execute_result",
          "data": {
            "text/plain": [
              "8.0    5083\n",
              "1.0     187\n",
              "0.0     112\n",
              "Name: DF2_pr, dtype: int64"
            ]
          },
          "metadata": {},
          "execution_count": 1108
        }
      ]
    },
    {
      "cell_type": "code",
      "source": [
        "df.info()"
      ],
      "metadata": {
        "colab": {
          "base_uri": "https://localhost:8080/"
        },
        "id": "BiYTh_39_f89",
        "outputId": "efc6cfad-10d7-4afb-d959-cfb1de231bca"
      },
      "execution_count": null,
      "outputs": [
        {
          "output_type": "stream",
          "name": "stdout",
          "text": [
            "<class 'pandas.core.frame.DataFrame'>\n",
            "Int64Index: 5382 entries, 0 to 7358\n",
            "Data columns (total 17 columns):\n",
            " #   Column     Non-Null Count  Dtype  \n",
            "---  ------     --------------  -----  \n",
            " 0   region     5382 non-null   float64\n",
            " 1   sex        5382 non-null   float64\n",
            " 2   age        5382 non-null   float64\n",
            " 3   incm       5382 non-null   float64\n",
            " 4   edu        5382 non-null   float64\n",
            " 5   EC1_1      5382 non-null   float64\n",
            " 6   cfam       5382 non-null   float64\n",
            " 7   allownc    5382 non-null   float64\n",
            " 8   house      5382 non-null   float64\n",
            " 9   marri_2    5382 non-null   float64\n",
            " 10  D_1_1      5382 non-null   float64\n",
            " 11  D_2_1      5382 non-null   float64\n",
            " 12  BD1_11     5382 non-null   float64\n",
            " 13  BE3_75     5382 non-null   float64\n",
            " 14  mh_stress  5382 non-null   float64\n",
            " 15  BS3_1      5382 non-null   float64\n",
            " 16  DF2_pr     5382 non-null   float64\n",
            "dtypes: float64(17)\n",
            "memory usage: 756.8 KB\n"
          ]
        }
      ]
    },
    {
      "cell_type": "code",
      "source": [
        "#sns.pairplot(df)"
      ],
      "metadata": {
        "id": "77wTzAXvFZ7F"
      },
      "execution_count": null,
      "outputs": []
    },
    {
      "cell_type": "code",
      "source": [
        "plt.figure(figsize=(15,15))\n",
        "sns.heatmap(df.corr(),annot=True)"
      ],
      "metadata": {
        "colab": {
          "base_uri": "https://localhost:8080/",
          "height": 927
        },
        "id": "hQBq_Fvx_8LN",
        "outputId": "d9fcc0f8-fd2f-4380-906b-08598c13a6f0"
      },
      "execution_count": null,
      "outputs": [
        {
          "output_type": "execute_result",
          "data": {
            "text/plain": [
              "<matplotlib.axes._subplots.AxesSubplot at 0x7fb5a5040310>"
            ]
          },
          "metadata": {},
          "execution_count": 1111
        },
        {
          "output_type": "display_data",
          "data": {
            "text/plain": [
              "<Figure size 1080x1080 with 2 Axes>"
            ],
            "image/png": "[encoded data removed]"
          },
          "metadata": {
            "needs_background": "light"
          }
        }
      ]
    },
    {
      "cell_type": "markdown",
      "source": [
        "# Train-Test Split"
      ],
      "metadata": {
        "id": "iMqA9kc2CdN3"
      }
    },
    {
      "cell_type": "code",
      "source": [],
      "metadata": {
        "id": "Ge2NLKBrTq6k"
      },
      "execution_count": null,
      "outputs": []
    },
    {
      "cell_type": "code",
      "source": [
        "'''\n",
        "con1 = df['EC1_1'] == 1\n",
        "con2 = df['EC1_1'] == 2\n",
        "\n",
        "df = df.loc[ con1 | con2 , :]\n",
        "'''"
      ],
      "metadata": {
        "colab": {
          "base_uri": "https://localhost:8080/",
          "height": 36
        },
        "id": "xCLgtg9DIzmQ",
        "outputId": "28501f2a-51c7-479c-be3d-ef6a0f5bbb69"
      },
      "execution_count": null,
      "outputs": [
        {
          "output_type": "execute_result",
          "data": {
            "text/plain": [
              "\"\\ncon1 = df['EC1_1'] == 1\\ncon2 = df['EC1_1'] == 2\\n\\ndf = df.loc[ con1 | con2 , :]\\n\""
            ],
            "application/vnd.google.colaboratory.intrinsic+json": {
              "type": "string"
            }
          },
          "metadata": {},
          "execution_count": 1112
        }
      ]
    },
    {
      "cell_type": "code",
      "source": [
        "# 라벨링된 데이터 셋\n",
        "con1 = df['DF2_pr']== 1.\n",
        "con2 = df['DF2_pr']== 0.\n",
        "labeled_df = df.loc[con1 | con2 , :]"
      ],
      "metadata": {
        "id": "PvYxMmZfIn3v"
      },
      "execution_count": null,
      "outputs": []
    },
    {
      "cell_type": "code",
      "source": [
        "labeled_df"
      ],
      "metadata": {
        "colab": {
          "base_uri": "https://localhost:8080/",
          "height": 424
        },
        "id": "dTTSvmV2N_B3",
        "outputId": "33da4e9a-ba1b-42da-d2ec-9e9d06e9cc10"
      },
      "execution_count": null,
      "outputs": [
        {
          "output_type": "execute_result",
          "data": {
            "text/plain": [
              "      region  sex   age  incm  edu  EC1_1  cfam  allownc  house  marri_2  \\\n",
              "111      1.0  2.0  53.0   3.0  4.0    1.0   5.0     20.0    2.0      1.0   \n",
              "123      1.0  2.0  60.0   1.0  4.0    2.0   1.0     10.0    1.0      4.0   \n",
              "133      1.0  2.0  51.0   3.0  4.0    2.0   2.0     20.0    2.0      1.0   \n",
              "155      1.0  1.0  76.0   2.0  1.0    2.0   2.0     20.0    2.0      1.0   \n",
              "156      1.0  2.0  70.0   1.0  3.0    2.0   2.0     20.0    2.0      1.0   \n",
              "...      ...  ...   ...   ...  ...    ...   ...      ...    ...      ...   \n",
              "7204    17.0  2.0  29.0   1.0  3.0    2.0   1.0     10.0    1.0      2.0   \n",
              "7269     8.0  2.0  24.0   4.0  4.0    1.0   3.0     20.0    2.0     88.0   \n",
              "7313     8.0  1.0  44.0   1.0  3.0    1.0   2.0     20.0    1.0     88.0   \n",
              "7350     8.0  2.0  30.0   2.0  4.0    1.0   1.0     20.0    1.0     88.0   \n",
              "7358     8.0  2.0  57.0   1.0  3.0    1.0   2.0     20.0    2.0      1.0   \n",
              "\n",
              "      D_1_1  D_2_1  BD1_11  BE3_75  mh_stress  BS3_1  DF2_pr  \n",
              "111     3.0    1.0     3.0     2.0        1.0    8.0     1.0  \n",
              "123     4.0    1.0     8.0     2.0        0.0    8.0     1.0  \n",
              "133     2.0    1.0     2.0     2.0        0.0    3.0     0.0  \n",
              "155     4.0    1.0     6.0     2.0        0.0    3.0     1.0  \n",
              "156     4.0    2.0     8.0     2.0        0.0    8.0     1.0  \n",
              "...     ...    ...     ...     ...        ...    ...     ...  \n",
              "7204    4.0    2.0     6.0     2.0        1.0    1.0     0.0  \n",
              "7269    3.0    2.0     4.0     2.0        1.0    8.0     0.0  \n",
              "7313    3.0    2.0     5.0     2.0        1.0    3.0     1.0  \n",
              "7350    3.0    2.0     3.0     2.0        1.0    8.0     1.0  \n",
              "7358    4.0    2.0     2.0     2.0        0.0    8.0     0.0  \n",
              "\n",
              "[299 rows x 17 columns]"
            ],
            "text/html": [
              "\n",
              "  <div id=\"df-28c78426-5558-4dfb-ab95-91c111ef6545\">\n",
              "    <div class=\"colab-df-container\">\n",
              "      <div>\n",
              "<style scoped>\n",
              "    .dataframe tbody tr th:only-of-type {\n",
              "        vertical-align: middle;\n",
              "    }\n",
              "\n",
              "    .dataframe tbody tr th {\n",
              "        vertical-align: top;\n",
              "    }\n",
              "\n",
              "    .dataframe thead th {\n",
              "        text-align: right;\n",
              "    }\n",
              "</style>\n",
              "<table border=\"1\" class=\"dataframe\">\n",
              "  <thead>\n",
              "    <tr style=\"text-align: right;\">\n",
              "      <th></th>\n",
              "      <th>region</th>\n",
              "      <th>sex</th>\n",
              "      <th>age</th>\n",
              "      <th>incm</th>\n",
              "      <th>edu</th>\n",
              "      <th>EC1_1</th>\n",
              "      <th>cfam</th>\n",
              "      <th>allownc</th>\n",
              "      <th>house</th>\n",
              "      <th>marri_2</th>\n",
              "      <th>D_1_1</th>\n",
              "      <th>D_2_1</th>\n",
              "      <th>BD1_11</th>\n",
              "      <th>BE3_75</th>\n",
              "      <th>mh_stress</th>\n",
              "      <th>BS3_1</th>\n",
              "      <th>DF2_pr</th>\n",
              "    </tr>\n",
              "  </thead>\n",
              "  <tbody>\n",
              "    <tr>\n",
              "      <th>111</th>\n",
              "      <td>1.0</td>\n",
              "      <td>2.0</td>\n",
              "      <td>53.0</td>\n",
              "      <td>3.0</td>\n",
              "      <td>4.0</td>\n",
              "      <td>1.0</td>\n",
              "      <td>5.0</td>\n",
              "      <td>20.0</td>\n",
              "      <td>2.0</td>\n",
              "      <td>1.0</td>\n",
              "      <td>3.0</td>\n",
              "      <td>1.0</td>\n",
              "      <td>3.0</td>\n",
              "      <td>2.0</td>\n",
              "      <td>1.0</td>\n",
              "      <td>8.0</td>\n",
              "      <td>1.0</td>\n",
              "    </tr>\n",
              "    <tr>\n",
              "      <th>123</th>\n",
              "      <td>1.0</td>\n",
              "      <td>2.0</td>\n",
              "      <td>60.0</td>\n",
              "      <td>1.0</td>\n",
              "      <td>4.0</td>\n",
              "      <td>2.0</td>\n",
              "      <td>1.0</td>\n",
              "      <td>10.0</td>\n",
              "      <td>1.0</td>\n",
              "      <td>4.0</td>\n",
              "      <td>4.0</td>\n",
              "      <td>1.0</td>\n",
              "      <td>8.0</td>\n",
              "      <td>2.0</td>\n",
              "      <td>0.0</td>\n",
              "      <td>8.0</td>\n",
              "      <td>1.0</td>\n",
              "    </tr>\n",
              "    <tr>\n",
              "      <th>133</th>\n",
              "      <td>1.0</td>\n",
              "      <td>2.0</td>\n",
              "      <td>51.0</td>\n",
              "      <td>3.0</td>\n",
              "      <td>4.0</td>\n",
              "      <td>2.0</td>\n",
              "      <td>2.0</td>\n",
              "      <td>20.0</td>\n",
              "      <td>2.0</td>\n",
              "      <td>1.0</td>\n",
              "      <td>2.0</td>\n",
              "      <td>1.0</td>\n",
              "      <td>2.0</td>\n",
              "      <td>2.0</td>\n",
              "      <td>0.0</td>\n",
              "      <td>3.0</td>\n",
              "      <td>0.0</td>\n",
              "    </tr>\n",
              "    <tr>\n",
              "      <th>155</th>\n",
              "      <td>1.0</td>\n",
              "      <td>1.0</td>\n",
              "      <td>76.0</td>\n",
              "      <td>2.0</td>\n",
              "      <td>1.0</td>\n",
              "      <td>2.0</td>\n",
              "      <td>2.0</td>\n",
              "      <td>20.0</td>\n",
              "      <td>2.0</td>\n",
              "      <td>1.0</td>\n",
              "      <td>4.0</td>\n",
              "      <td>1.0</td>\n",
              "      <td>6.0</td>\n",
              "      <td>2.0</td>\n",
              "      <td>0.0</td>\n",
              "      <td>3.0</td>\n",
              "      <td>1.0</td>\n",
              "    </tr>\n",
              "    <tr>\n",
              "      <th>156</th>\n",
              "      <td>1.0</td>\n",
              "      <td>2.0</td>\n",
              "      <td>70.0</td>\n",
              "      <td>1.0</td>\n",
              "      <td>3.0</td>\n",
              "      <td>2.0</td>\n",
              "      <td>2.0</td>\n",
              "      <td>20.0</td>\n",
              "      <td>2.0</td>\n",
              "      <td>1.0</td>\n",
              "      <td>4.0</td>\n",
              "      <td>2.0</td>\n",
              "      <td>8.0</td>\n",
              "      <td>2.0</td>\n",
              "      <td>0.0</td>\n",
              "      <td>8.0</td>\n",
              "      <td>1.0</td>\n",
              "    </tr>\n",
              "    <tr>\n",
              "      <th>...</th>\n",
              "      <td>...</td>\n",
              "      <td>...</td>\n",
              "      <td>...</td>\n",
              "      <td>...</td>\n",
              "      <td>...</td>\n",
              "      <td>...</td>\n",
              "      <td>...</td>\n",
              "      <td>...</td>\n",
              "      <td>...</td>\n",
              "      <td>...</td>\n",
              "      <td>...</td>\n",
              "      <td>...</td>\n",
              "      <td>...</td>\n",
              "      <td>...</td>\n",
              "      <td>...</td>\n",
              "      <td>...</td>\n",
              "      <td>...</td>\n",
              "    </tr>\n",
              "    <tr>\n",
              "      <th>7204</th>\n",
              "      <td>17.0</td>\n",
              "      <td>2.0</td>\n",
              "      <td>29.0</td>\n",
              "      <td>1.0</td>\n",
              "      <td>3.0</td>\n",
              "      <td>2.0</td>\n",
              "      <td>1.0</td>\n",
              "      <td>10.0</td>\n",
              "      <td>1.0</td>\n",
              "      <td>2.0</td>\n",
              "      <td>4.0</td>\n",
              "      <td>2.0</td>\n",
              "      <td>6.0</td>\n",
              "      <td>2.0</td>\n",
              "      <td>1.0</td>\n",
              "      <td>1.0</td>\n",
              "      <td>0.0</td>\n",
              "    </tr>\n",
              "    <tr>\n",
              "      <th>7269</th>\n",
              "      <td>8.0</td>\n",
              "      <td>2.0</td>\n",
              "      <td>24.0</td>\n",
              "      <td>4.0</td>\n",
              "      <td>4.0</td>\n",
              "      <td>1.0</td>\n",
              "      <td>3.0</td>\n",
              "      <td>20.0</td>\n",
              "      <td>2.0</td>\n",
              "      <td>88.0</td>\n",
              "      <td>3.0</td>\n",
              "      <td>2.0</td>\n",
              "      <td>4.0</td>\n",
              "      <td>2.0</td>\n",
              "      <td>1.0</td>\n",
              "      <td>8.0</td>\n",
              "      <td>0.0</td>\n",
              "    </tr>\n",
              "    <tr>\n",
              "      <th>7313</th>\n",
              "      <td>8.0</td>\n",
              "      <td>1.0</td>\n",
              "      <td>44.0</td>\n",
              "      <td>1.0</td>\n",
              "      <td>3.0</td>\n",
              "      <td>1.0</td>\n",
              "      <td>2.0</td>\n",
              "      <td>20.0</td>\n",
              "      <td>1.0</td>\n",
              "      <td>88.0</td>\n",
              "      <td>3.0</td>\n",
              "      <td>2.0</td>\n",
              "      <td>5.0</td>\n",
              "      <td>2.0</td>\n",
              "      <td>1.0</td>\n",
              "      <td>3.0</td>\n",
              "      <td>1.0</td>\n",
              "    </tr>\n",
              "    <tr>\n",
              "      <th>7350</th>\n",
              "      <td>8.0</td>\n",
              "      <td>2.0</td>\n",
              "      <td>30.0</td>\n",
              "      <td>2.0</td>\n",
              "      <td>4.0</td>\n",
              "      <td>1.0</td>\n",
              "      <td>1.0</td>\n",
              "      <td>20.0</td>\n",
              "      <td>1.0</td>\n",
              "      <td>88.0</td>\n",
              "      <td>3.0</td>\n",
              "      <td>2.0</td>\n",
              "      <td>3.0</td>\n",
              "      <td>2.0</td>\n",
              "      <td>1.0</td>\n",
              "      <td>8.0</td>\n",
              "      <td>1.0</td>\n",
              "    </tr>\n",
              "    <tr>\n",
              "      <th>7358</th>\n",
              "      <td>8.0</td>\n",
              "      <td>2.0</td>\n",
              "      <td>57.0</td>\n",
              "      <td>1.0</td>\n",
              "      <td>3.0</td>\n",
              "      <td>1.0</td>\n",
              "      <td>2.0</td>\n",
              "      <td>20.0</td>\n",
              "      <td>2.0</td>\n",
              "      <td>1.0</td>\n",
              "      <td>4.0</td>\n",
              "      <td>2.0</td>\n",
              "      <td>2.0</td>\n",
              "      <td>2.0</td>\n",
              "      <td>0.0</td>\n",
              "      <td>8.0</td>\n",
              "      <td>0.0</td>\n",
              "    </tr>\n",
              "  </tbody>\n",
              "</table>\n",
              "<p>299 rows × 17 columns</p>\n",
              "</div>\n",
              "      <button class=\"colab-df-convert\" onclick=\"convertToInteractive('df-28c78426-5558-4dfb-ab95-91c111ef6545')\"\n",
              "              title=\"Convert this dataframe to an interactive table.\"\n",
              "              style=\"display:none;\">\n",
              "        \n",
              "  <svg xmlns=\"http://www.w3.org/2000/svg\" height=\"24px\"viewBox=\"0 0 24 24\"\n",
              "       width=\"24px\">\n",
              "    <path d=\"M0 0h24v24H0V0z\" fill=\"none\"/>\n",
              "    <path d=\"M18.56 5.44l.94 2.06.94-2.06 2.06-.94-2.06-.94-.94-2.06-.94 2.06-2.06.94zm-11 1L8.5 8.5l.94-2.06 2.06-.94-2.06-.94L8.5 2.5l-.94 2.06-2.06.94zm10 10l.94 2.06.94-2.06 2.06-.94-2.06-.94-.94-2.06-.94 2.06-2.06.94z\"/><path d=\"M17.41 7.96l-1.37-1.37c-.4-.4-.92-.59-1.43-.59-.52 0-1.04.2-1.43.59L10.3 9.45l-7.72 7.72c-.78.78-.78 2.05 0 2.83L4 21.41c.39.39.9.59 1.41.59.51 0 1.02-.2 1.41-.59l7.78-7.78 2.81-2.81c.8-.78.8-2.07 0-2.86zM5.41 20L4 18.59l7.72-7.72 1.47 1.35L5.41 20z\"/>\n",
              "  </svg>\n",
              "      </button>\n",
              "      \n",
              "  <style>\n",
              "    .colab-df-container {\n",
              "      display:flex;\n",
              "      flex-wrap:wrap;\n",
              "      gap: 12px;\n",
              "    }\n",
              "\n",
              "    .colab-df-convert {\n",
              "      background-color: #E8F0FE;\n",
              "      border: none;\n",
              "      border-radius: 50%;\n",
              "      cursor: pointer;\n",
              "      display: none;\n",
              "      fill: #1967D2;\n",
              "      height: 32px;\n",
              "      padding: 0 0 0 0;\n",
              "      width: 32px;\n",
              "    }\n",
              "\n",
              "    .colab-df-convert:hover {\n",
              "      background-color: #E2EBFA;\n",
              "      box-shadow: 0px 1px 2px rgba(60, 64, 67, 0.3), 0px 1px 3px 1px rgba(60, 64, 67, 0.15);\n",
              "      fill: #174EA6;\n",
              "    }\n",
              "\n",
              "    [theme=dark] .colab-df-convert {\n",
              "      background-color: #3B4455;\n",
              "      fill: #D2E3FC;\n",
              "    }\n",
              "\n",
              "    [theme=dark] .colab-df-convert:hover {\n",
              "      background-color: #434B5C;\n",
              "      box-shadow: 0px 1px 3px 1px rgba(0, 0, 0, 0.15);\n",
              "      filter: drop-shadow(0px 1px 2px rgba(0, 0, 0, 0.3));\n",
              "      fill: #FFFFFF;\n",
              "    }\n",
              "  </style>\n",
              "\n",
              "      <script>\n",
              "        const buttonEl =\n",
              "          document.querySelector('#df-28c78426-5558-4dfb-ab95-91c111ef6545 button.colab-df-convert');\n",
              "        buttonEl.style.display =\n",
              "          google.colab.kernel.accessAllowed ? 'block' : 'none';\n",
              "\n",
              "        async function convertToInteractive(key) {\n",
              "          const element = document.querySelector('#df-28c78426-5558-4dfb-ab95-91c111ef6545');\n",
              "          const dataTable =\n",
              "            await google.colab.kernel.invokeFunction('convertToInteractive',\n",
              "                                                     [key], {});\n",
              "          if (!dataTable) return;\n",
              "\n",
              "          const docLinkHtml = 'Like what you see? Visit the ' +\n",
              "            '<a target=\"_blank\" href=https://colab.research.google.com/notebooks/data_table.ipynb>data table notebook</a>'\n",
              "            + ' to learn more about interactive tables.';\n",
              "          element.innerHTML = '';\n",
              "          dataTable['output_type'] = 'display_data';\n",
              "          await google.colab.output.renderOutput(dataTable, element);\n",
              "          const docLink = document.createElement('div');\n",
              "          docLink.innerHTML = docLinkHtml;\n",
              "          element.appendChild(docLink);\n",
              "        }\n",
              "      </script>\n",
              "    </div>\n",
              "  </div>\n",
              "  "
            ]
          },
          "metadata": {},
          "execution_count": 1114
        }
      ]
    },
    {
      "cell_type": "code",
      "source": [],
      "metadata": {
        "id": "e91eEbAOODOc"
      },
      "execution_count": null,
      "outputs": []
    },
    {
      "cell_type": "code",
      "source": [
        "# 라벨링되지 않은 데이터 셋\n",
        "unlabeled_df = df.loc[df['DF2_pr']== 8.]"
      ],
      "metadata": {
        "id": "Ci5VQa1LTuPU"
      },
      "execution_count": null,
      "outputs": []
    },
    {
      "cell_type": "code",
      "source": [
        "unlabeled_df"
      ],
      "metadata": {
        "id": "orFXsjzAOEbW",
        "outputId": "060d9e6d-9658-4972-8f79-273040a46167",
        "colab": {
          "base_uri": "https://localhost:8080/",
          "height": 424
        }
      },
      "execution_count": null,
      "outputs": [
        {
          "output_type": "execute_result",
          "data": {
            "text/plain": [
              "      region  sex   age  incm  edu  EC1_1  cfam  allownc  house  marri_2  \\\n",
              "0        1.0  1.0  39.0   1.0  4.0    1.0   5.0     20.0    1.0      1.0   \n",
              "1        1.0  2.0  39.0   1.0  4.0    1.0   5.0     20.0    1.0      1.0   \n",
              "6        1.0  2.0  58.0   4.0  3.0    1.0   4.0     20.0    2.0      1.0   \n",
              "7        1.0  1.0  56.0   4.0  4.0    1.0   4.0     20.0    2.0      1.0   \n",
              "8        1.0  2.0  53.0   4.0  4.0    1.0   4.0     20.0    2.0      1.0   \n",
              "...      ...  ...   ...   ...  ...    ...   ...      ...    ...      ...   \n",
              "7353     8.0  2.0  26.0   1.0  4.0    1.0   2.0     20.0    3.0     88.0   \n",
              "7354     8.0  2.0  61.0   2.0  3.0    1.0   2.0     20.0    2.0      1.0   \n",
              "7355     8.0  2.0  51.0   3.0  4.0    1.0   2.0     10.0    2.0      4.0   \n",
              "7356     8.0  2.0  24.0   3.0  4.0    1.0   2.0     10.0    2.0     88.0   \n",
              "7357     8.0  1.0  65.0   2.0  4.0    2.0   2.0     20.0    2.0      1.0   \n",
              "\n",
              "      D_1_1  D_2_1  BD1_11  BE3_75  mh_stress  BS3_1  DF2_pr  \n",
              "0       2.0    2.0     3.0     2.0        0.0    3.0     8.0  \n",
              "1       2.0    2.0     1.0     2.0        0.0    8.0     8.0  \n",
              "6       1.0    2.0     2.0     2.0        0.0    8.0     8.0  \n",
              "7       1.0    2.0     2.0     1.0        0.0    8.0     8.0  \n",
              "8       3.0    2.0     3.0     2.0        0.0    8.0     8.0  \n",
              "...     ...    ...     ...     ...        ...    ...     ...  \n",
              "7353    3.0    2.0     3.0     2.0        1.0    8.0     8.0  \n",
              "7354    3.0    2.0     2.0     2.0        0.0    8.0     8.0  \n",
              "7355    3.0    2.0     2.0     1.0        0.0    8.0     8.0  \n",
              "7356    3.0    2.0     6.0     2.0        0.0    1.0     8.0  \n",
              "7357    2.0    2.0     4.0     2.0        0.0    3.0     8.0  \n",
              "\n",
              "[5083 rows x 17 columns]"
            ],
            "text/html": [
              "\n",
              "  <div id=\"df-b0059739-61bb-4e70-b537-891a32e295b7\">\n",
              "    <div class=\"colab-df-container\">\n",
              "      <div>\n",
              "<style scoped>\n",
              "    .dataframe tbody tr th:only-of-type {\n",
              "        vertical-align: middle;\n",
              "    }\n",
              "\n",
              "    .dataframe tbody tr th {\n",
              "        vertical-align: top;\n",
              "    }\n",
              "\n",
              "    .dataframe thead th {\n",
              "        text-align: right;\n",
              "    }\n",
              "</style>\n",
              "<table border=\"1\" class=\"dataframe\">\n",
              "  <thead>\n",
              "    <tr style=\"text-align: right;\">\n",
              "      <th></th>\n",
              "      <th>region</th>\n",
              "      <th>sex</th>\n",
              "      <th>age</th>\n",
              "      <th>incm</th>\n",
              "      <th>edu</th>\n",
              "      <th>EC1_1</th>\n",
              "      <th>cfam</th>\n",
              "      <th>allownc</th>\n",
              "      <th>house</th>\n",
              "      <th>marri_2</th>\n",
              "      <th>D_1_1</th>\n",
              "      <th>D_2_1</th>\n",
              "      <th>BD1_11</th>\n",
              "      <th>BE3_75</th>\n",
              "      <th>mh_stress</th>\n",
              "      <th>BS3_1</th>\n",
              "      <th>DF2_pr</th>\n",
              "    </tr>\n",
              "  </thead>\n",
              "  <tbody>\n",
              "    <tr>\n",
              "      <th>0</th>\n",
              "      <td>1.0</td>\n",
              "      <td>1.0</td>\n",
              "      <td>39.0</td>\n",
              "      <td>1.0</td>\n",
              "      <td>4.0</td>\n",
              "      <td>1.0</td>\n",
              "      <td>5.0</td>\n",
              "      <td>20.0</td>\n",
              "      <td>1.0</td>\n",
              "      <td>1.0</td>\n",
              "      <td>2.0</td>\n",
              "      <td>2.0</td>\n",
              "      <td>3.0</td>\n",
              "      <td>2.0</td>\n",
              "      <td>0.0</td>\n",
              "      <td>3.0</td>\n",
              "      <td>8.0</td>\n",
              "    </tr>\n",
              "    <tr>\n",
              "      <th>1</th>\n",
              "      <td>1.0</td>\n",
              "      <td>2.0</td>\n",
              "      <td>39.0</td>\n",
              "      <td>1.0</td>\n",
              "      <td>4.0</td>\n",
              "      <td>1.0</td>\n",
              "      <td>5.0</td>\n",
              "      <td>20.0</td>\n",
              "      <td>1.0</td>\n",
              "      <td>1.0</td>\n",
              "      <td>2.0</td>\n",
              "      <td>2.0</td>\n",
              "      <td>1.0</td>\n",
              "      <td>2.0</td>\n",
              "      <td>0.0</td>\n",
              "      <td>8.0</td>\n",
              "      <td>8.0</td>\n",
              "    </tr>\n",
              "    <tr>\n",
              "      <th>6</th>\n",
              "      <td>1.0</td>\n",
              "      <td>2.0</td>\n",
              "      <td>58.0</td>\n",
              "      <td>4.0</td>\n",
              "      <td>3.0</td>\n",
              "      <td>1.0</td>\n",
              "      <td>4.0</td>\n",
              "      <td>20.0</td>\n",
              "      <td>2.0</td>\n",
              "      <td>1.0</td>\n",
              "      <td>1.0</td>\n",
              "      <td>2.0</td>\n",
              "      <td>2.0</td>\n",
              "      <td>2.0</td>\n",
              "      <td>0.0</td>\n",
              "      <td>8.0</td>\n",
              "      <td>8.0</td>\n",
              "    </tr>\n",
              "    <tr>\n",
              "      <th>7</th>\n",
              "      <td>1.0</td>\n",
              "      <td>1.0</td>\n",
              "      <td>56.0</td>\n",
              "      <td>4.0</td>\n",
              "      <td>4.0</td>\n",
              "      <td>1.0</td>\n",
              "      <td>4.0</td>\n",
              "      <td>20.0</td>\n",
              "      <td>2.0</td>\n",
              "      <td>1.0</td>\n",
              "      <td>1.0</td>\n",
              "      <td>2.0</td>\n",
              "      <td>2.0</td>\n",
              "      <td>1.0</td>\n",
              "      <td>0.0</td>\n",
              "      <td>8.0</td>\n",
              "      <td>8.0</td>\n",
              "    </tr>\n",
              "    <tr>\n",
              "      <th>8</th>\n",
              "      <td>1.0</td>\n",
              "      <td>2.0</td>\n",
              "      <td>53.0</td>\n",
              "      <td>4.0</td>\n",
              "      <td>4.0</td>\n",
              "      <td>1.0</td>\n",
              "      <td>4.0</td>\n",
              "      <td>20.0</td>\n",
              "      <td>2.0</td>\n",
              "      <td>1.0</td>\n",
              "      <td>3.0</td>\n",
              "      <td>2.0</td>\n",
              "      <td>3.0</td>\n",
              "      <td>2.0</td>\n",
              "      <td>0.0</td>\n",
              "      <td>8.0</td>\n",
              "      <td>8.0</td>\n",
              "    </tr>\n",
              "    <tr>\n",
              "      <th>...</th>\n",
              "      <td>...</td>\n",
              "      <td>...</td>\n",
              "      <td>...</td>\n",
              "      <td>...</td>\n",
              "      <td>...</td>\n",
              "      <td>...</td>\n",
              "      <td>...</td>\n",
              "      <td>...</td>\n",
              "      <td>...</td>\n",
              "      <td>...</td>\n",
              "      <td>...</td>\n",
              "      <td>...</td>\n",
              "      <td>...</td>\n",
              "      <td>...</td>\n",
              "      <td>...</td>\n",
              "      <td>...</td>\n",
              "      <td>...</td>\n",
              "    </tr>\n",
              "    <tr>\n",
              "      <th>7353</th>\n",
              "      <td>8.0</td>\n",
              "      <td>2.0</td>\n",
              "      <td>26.0</td>\n",
              "      <td>1.0</td>\n",
              "      <td>4.0</td>\n",
              "      <td>1.0</td>\n",
              "      <td>2.0</td>\n",
              "      <td>20.0</td>\n",
              "      <td>3.0</td>\n",
              "      <td>88.0</td>\n",
              "      <td>3.0</td>\n",
              "      <td>2.0</td>\n",
              "      <td>3.0</td>\n",
              "      <td>2.0</td>\n",
              "      <td>1.0</td>\n",
              "      <td>8.0</td>\n",
              "      <td>8.0</td>\n",
              "    </tr>\n",
              "    <tr>\n",
              "      <th>7354</th>\n",
              "      <td>8.0</td>\n",
              "      <td>2.0</td>\n",
              "      <td>61.0</td>\n",
              "      <td>2.0</td>\n",
              "      <td>3.0</td>\n",
              "      <td>1.0</td>\n",
              "      <td>2.0</td>\n",
              "      <td>20.0</td>\n",
              "      <td>2.0</td>\n",
              "      <td>1.0</td>\n",
              "      <td>3.0</td>\n",
              "      <td>2.0</td>\n",
              "      <td>2.0</td>\n",
              "      <td>2.0</td>\n",
              "      <td>0.0</td>\n",
              "      <td>8.0</td>\n",
              "      <td>8.0</td>\n",
              "    </tr>\n",
              "    <tr>\n",
              "      <th>7355</th>\n",
              "      <td>8.0</td>\n",
              "      <td>2.0</td>\n",
              "      <td>51.0</td>\n",
              "      <td>3.0</td>\n",
              "      <td>4.0</td>\n",
              "      <td>1.0</td>\n",
              "      <td>2.0</td>\n",
              "      <td>10.0</td>\n",
              "      <td>2.0</td>\n",
              "      <td>4.0</td>\n",
              "      <td>3.0</td>\n",
              "      <td>2.0</td>\n",
              "      <td>2.0</td>\n",
              "      <td>1.0</td>\n",
              "      <td>0.0</td>\n",
              "      <td>8.0</td>\n",
              "      <td>8.0</td>\n",
              "    </tr>\n",
              "    <tr>\n",
              "      <th>7356</th>\n",
              "      <td>8.0</td>\n",
              "      <td>2.0</td>\n",
              "      <td>24.0</td>\n",
              "      <td>3.0</td>\n",
              "      <td>4.0</td>\n",
              "      <td>1.0</td>\n",
              "      <td>2.0</td>\n",
              "      <td>10.0</td>\n",
              "      <td>2.0</td>\n",
              "      <td>88.0</td>\n",
              "      <td>3.0</td>\n",
              "      <td>2.0</td>\n",
              "      <td>6.0</td>\n",
              "      <td>2.0</td>\n",
              "      <td>0.0</td>\n",
              "      <td>1.0</td>\n",
              "      <td>8.0</td>\n",
              "    </tr>\n",
              "    <tr>\n",
              "      <th>7357</th>\n",
              "      <td>8.0</td>\n",
              "      <td>1.0</td>\n",
              "      <td>65.0</td>\n",
              "      <td>2.0</td>\n",
              "      <td>4.0</td>\n",
              "      <td>2.0</td>\n",
              "      <td>2.0</td>\n",
              "      <td>20.0</td>\n",
              "      <td>2.0</td>\n",
              "      <td>1.0</td>\n",
              "      <td>2.0</td>\n",
              "      <td>2.0</td>\n",
              "      <td>4.0</td>\n",
              "      <td>2.0</td>\n",
              "      <td>0.0</td>\n",
              "      <td>3.0</td>\n",
              "      <td>8.0</td>\n",
              "    </tr>\n",
              "  </tbody>\n",
              "</table>\n",
              "<p>5083 rows × 17 columns</p>\n",
              "</div>\n",
              "      <button class=\"colab-df-convert\" onclick=\"convertToInteractive('df-b0059739-61bb-4e70-b537-891a32e295b7')\"\n",
              "              title=\"Convert this dataframe to an interactive table.\"\n",
              "              style=\"display:none;\">\n",
              "        \n",
              "  <svg xmlns=\"http://www.w3.org/2000/svg\" height=\"24px\"viewBox=\"0 0 24 24\"\n",
              "       width=\"24px\">\n",
              "    <path d=\"M0 0h24v24H0V0z\" fill=\"none\"/>\n",
              "    <path d=\"M18.56 5.44l.94 2.06.94-2.06 2.06-.94-2.06-.94-.94-2.06-.94 2.06-2.06.94zm-11 1L8.5 8.5l.94-2.06 2.06-.94-2.06-.94L8.5 2.5l-.94 2.06-2.06.94zm10 10l.94 2.06.94-2.06 2.06-.94-2.06-.94-.94-2.06-.94 2.06-2.06.94z\"/><path d=\"M17.41 7.96l-1.37-1.37c-.4-.4-.92-.59-1.43-.59-.52 0-1.04.2-1.43.59L10.3 9.45l-7.72 7.72c-.78.78-.78 2.05 0 2.83L4 21.41c.39.39.9.59 1.41.59.51 0 1.02-.2 1.41-.59l7.78-7.78 2.81-2.81c.8-.78.8-2.07 0-2.86zM5.41 20L4 18.59l7.72-7.72 1.47 1.35L5.41 20z\"/>\n",
              "  </svg>\n",
              "      </button>\n",
              "      \n",
              "  <style>\n",
              "    .colab-df-container {\n",
              "      display:flex;\n",
              "      flex-wrap:wrap;\n",
              "      gap: 12px;\n",
              "    }\n",
              "\n",
              "    .colab-df-convert {\n",
              "      background-color: #E8F0FE;\n",
              "      border: none;\n",
              "      border-radius: 50%;\n",
              "      cursor: pointer;\n",
              "      display: none;\n",
              "      fill: #1967D2;\n",
              "      height: 32px;\n",
              "      padding: 0 0 0 0;\n",
              "      width: 32px;\n",
              "    }\n",
              "\n",
              "    .colab-df-convert:hover {\n",
              "      background-color: #E2EBFA;\n",
              "      box-shadow: 0px 1px 2px rgba(60, 64, 67, 0.3), 0px 1px 3px 1px rgba(60, 64, 67, 0.15);\n",
              "      fill: #174EA6;\n",
              "    }\n",
              "\n",
              "    [theme=dark] .colab-df-convert {\n",
              "      background-color: #3B4455;\n",
              "      fill: #D2E3FC;\n",
              "    }\n",
              "\n",
              "    [theme=dark] .colab-df-convert:hover {\n",
              "      background-color: #434B5C;\n",
              "      box-shadow: 0px 1px 3px 1px rgba(0, 0, 0, 0.15);\n",
              "      filter: drop-shadow(0px 1px 2px rgba(0, 0, 0, 0.3));\n",
              "      fill: #FFFFFF;\n",
              "    }\n",
              "  </style>\n",
              "\n",
              "      <script>\n",
              "        const buttonEl =\n",
              "          document.querySelector('#df-b0059739-61bb-4e70-b537-891a32e295b7 button.colab-df-convert');\n",
              "        buttonEl.style.display =\n",
              "          google.colab.kernel.accessAllowed ? 'block' : 'none';\n",
              "\n",
              "        async function convertToInteractive(key) {\n",
              "          const element = document.querySelector('#df-b0059739-61bb-4e70-b537-891a32e295b7');\n",
              "          const dataTable =\n",
              "            await google.colab.kernel.invokeFunction('convertToInteractive',\n",
              "                                                     [key], {});\n",
              "          if (!dataTable) return;\n",
              "\n",
              "          const docLinkHtml = 'Like what you see? Visit the ' +\n",
              "            '<a target=\"_blank\" href=https://colab.research.google.com/notebooks/data_table.ipynb>data table notebook</a>'\n",
              "            + ' to learn more about interactive tables.';\n",
              "          element.innerHTML = '';\n",
              "          dataTable['output_type'] = 'display_data';\n",
              "          await google.colab.output.renderOutput(dataTable, element);\n",
              "          const docLink = document.createElement('div');\n",
              "          docLink.innerHTML = docLinkHtml;\n",
              "          element.appendChild(docLink);\n",
              "        }\n",
              "      </script>\n",
              "    </div>\n",
              "  </div>\n",
              "  "
            ]
          },
          "metadata": {},
          "execution_count": 1116
        }
      ]
    },
    {
      "cell_type": "code",
      "source": [
        "from sklearn.model_selection import train_test_split\n",
        "\n",
        "X=labeled_df.drop(\"DF2_pr\", axis=1)\n",
        "y=labeled_df[\"DF2_pr\"]\n",
        "X_train,X_test, y_train, y_test = train_test_split(X, y,test_size=0.4, random_state=42, stratify=y)\n",
        "X_train,X_val, y_train, y_val = train_test_split(X_train, y_train,test_size=0.3, random_state=42, stratify=y_train)"
      ],
      "metadata": {
        "id": "oWUF5QotAB3d"
      },
      "execution_count": null,
      "outputs": []
    },
    {
      "cell_type": "code",
      "source": [
        "from sklearn.preprocessing import MinMaxScaler\n",
        "Scaler = MinMaxScaler()\n",
        "X_train=Scaler.fit_transform(X_train)\n",
        "X_test=Scaler.transform(X_test)"
      ],
      "metadata": {
        "id": "TITvVl_RdED9"
      },
      "execution_count": null,
      "outputs": []
    },
    {
      "cell_type": "code",
      "source": [
        "X_train = pd.DataFrame(X_train)"
      ],
      "metadata": {
        "id": "pQgg_oC6weDx"
      },
      "execution_count": null,
      "outputs": []
    },
    {
      "cell_type": "code",
      "source": [
        "from imblearn.over_sampling import SMOTE\n",
        "smote = SMOTE(random_state = 0)\n",
        "X_train_over, y_train_over = smote.fit_resample(X_train, y_train)"
      ],
      "metadata": {
        "id": "KKzjltIfnRKu"
      },
      "execution_count": null,
      "outputs": []
    },
    {
      "cell_type": "code",
      "source": [
        "X_train.shape"
      ],
      "metadata": {
        "colab": {
          "base_uri": "https://localhost:8080/"
        },
        "id": "f_Pb02fXXHVT",
        "outputId": "b8ef6e05-ad1b-4b6c-dfa9-f2376e3bb1ef"
      },
      "execution_count": null,
      "outputs": [
        {
          "output_type": "execute_result",
          "data": {
            "text/plain": [
              "(125, 16)"
            ]
          },
          "metadata": {},
          "execution_count": 1121
        }
      ]
    },
    {
      "cell_type": "code",
      "source": [
        "y_train.shape"
      ],
      "metadata": {
        "colab": {
          "base_uri": "https://localhost:8080/"
        },
        "id": "JkEQW-8xXJyD",
        "outputId": "906aa470-2cd4-49d7-b030-07d025a6f178"
      },
      "execution_count": null,
      "outputs": [
        {
          "output_type": "execute_result",
          "data": {
            "text/plain": [
              "(125,)"
            ]
          },
          "metadata": {},
          "execution_count": 1122
        }
      ]
    },
    {
      "cell_type": "code",
      "source": [
        "X_test.shape"
      ],
      "metadata": {
        "colab": {
          "base_uri": "https://localhost:8080/"
        },
        "id": "srhxWLMsXNOR",
        "outputId": "cf377c1f-e663-4c81-b789-d87694f241a4"
      },
      "execution_count": null,
      "outputs": [
        {
          "output_type": "execute_result",
          "data": {
            "text/plain": [
              "(120, 16)"
            ]
          },
          "metadata": {},
          "execution_count": 1123
        }
      ]
    },
    {
      "cell_type": "code",
      "source": [
        "y_test.shape"
      ],
      "metadata": {
        "colab": {
          "base_uri": "https://localhost:8080/"
        },
        "id": "6r86hVV0XReM",
        "outputId": "9154bd4c-f7aa-46ab-98eb-5f0d6234596c"
      },
      "execution_count": null,
      "outputs": [
        {
          "output_type": "execute_result",
          "data": {
            "text/plain": [
              "(120,)"
            ]
          },
          "metadata": {},
          "execution_count": 1124
        }
      ]
    },
    {
      "cell_type": "code",
      "source": [
        "y_test.unique()"
      ],
      "metadata": {
        "colab": {
          "base_uri": "https://localhost:8080/"
        },
        "id": "WXu1OuPFbkks",
        "outputId": "509613bc-536e-4a12-cb47-c26562b5c366"
      },
      "execution_count": null,
      "outputs": [
        {
          "output_type": "execute_result",
          "data": {
            "text/plain": [
              "array([1., 0.])"
            ]
          },
          "metadata": {},
          "execution_count": 1125
        }
      ]
    },
    {
      "cell_type": "markdown",
      "source": [
        "# Modeling"
      ],
      "metadata": {
        "id": "TGmcyy0ji8Hv"
      }
    },
    {
      "cell_type": "code",
      "source": [
        "from sklearn.tree import DecisionTreeClassifier\n",
        "from sklearn.metrics import accuracy_score, precision_score,f1_score, recall_score, confusion_matrix, plot_confusion_matrix\n",
        "DT = DecisionTreeClassifier(random_state = 42)\n",
        "DT.fit(X_train,y_train)\n",
        "pred_DT=DT.predict(X_test)\n",
        "print(accuracy_score(y_test,pred_DT))\n",
        "print(precision_score(y_test,pred_DT))\n",
        "print(recall_score(y_test,pred_DT))\n",
        "print(f1_score(y_test,pred_DT))\n",
        "print(confusion_matrix(y_test,pred_DT))\n",
        "\n",
        "plot_confusion_matrix(DT, X_test, y_test, cmap = 'Blues', normalize = 'true')"
      ],
      "metadata": {
        "colab": {
          "base_uri": "https://localhost:8080/",
          "height": 413
        },
        "id": "HO_0IcMoaj5n",
        "outputId": "4ca11cbf-6bea-4303-9be4-708ce58db9e6"
      },
      "execution_count": null,
      "outputs": [
        {
          "output_type": "stream",
          "name": "stdout",
          "text": [
            "0.5\n",
            "0.6086956521739131\n",
            "0.56\n",
            "0.5833333333333334\n",
            "[[18 27]\n",
            " [33 42]]\n"
          ]
        },
        {
          "output_type": "execute_result",
          "data": {
            "text/plain": [
              "<sklearn.metrics._plot.confusion_matrix.ConfusionMatrixDisplay at 0x7fb5a4ce6cd0>"
            ]
          },
          "metadata": {},
          "execution_count": 1126
        },
        {
          "output_type": "display_data",
          "data": {
            "text/plain": [
              "<Figure size 432x288 with 2 Axes>"
            ],
            "image/png": "[encoded data removed]"
          },
          "metadata": {
            "needs_background": "light"
          }
        }
      ]
    },
    {
      "cell_type": "code",
      "source": [
        "DT_over = DecisionTreeClassifier(random_state = 42)\n",
        "DT_over.fit(X_train_over,y_train_over)\n",
        "pred_DT=DT_over.predict(X_test)\n",
        "print(accuracy_score(y_test,pred_DT))\n",
        "print(precision_score(y_test,pred_DT))\n",
        "print(recall_score(y_test,pred_DT))\n",
        "print(f1_score(y_test,pred_DT))\n",
        "print(confusion_matrix(y_test,pred_DT))\n",
        "\n",
        "plot_confusion_matrix(DT_over, X_test, y_test, cmap = 'Blues', normalize = 'true')"
      ],
      "metadata": {
        "colab": {
          "base_uri": "https://localhost:8080/",
          "height": 409
        },
        "id": "G7yWS5MyVgHl",
        "outputId": "179a54ce-2533-4cfc-d1d0-a79a683fbc6f"
      },
      "execution_count": null,
      "outputs": [
        {
          "output_type": "stream",
          "name": "stdout",
          "text": [
            "0.5166666666666667\n",
            "0.6103896103896104\n",
            "0.6266666666666667\n",
            "0.618421052631579\n",
            "[[15 30]\n",
            " [28 47]]\n"
          ]
        },
        {
          "output_type": "execute_result",
          "data": {
            "text/plain": [
              "<sklearn.metrics._plot.confusion_matrix.ConfusionMatrixDisplay at 0x7fb5a4c8f090>"
            ]
          },
          "metadata": {},
          "execution_count": 1127
        },
        {
          "output_type": "display_data",
          "data": {
            "text/plain": [
              "<Figure size 432x288 with 2 Axes>"
            ],
            "image/png": "[encoded data removed]"
          },
          "metadata": {
            "needs_background": "light"
          }
        }
      ]
    },
    {
      "cell_type": "code",
      "source": [
        "from sklearn.ensemble import RandomForestClassifier, AdaBoostClassifier, VotingClassifier\n",
        "RF = RandomForestClassifier(random_state = 42)\n",
        "RF.fit(X_train,y_train)\n",
        "pred_FR=RF.predict(X_test)\n",
        "print(accuracy_score(y_test,pred_FR))\n",
        "print(precision_score(y_test,pred_FR))\n",
        "print(recall_score(y_test,pred_FR))\n",
        "print(f1_score(y_test,pred_FR))\n",
        "print(confusion_matrix(y_test,pred_FR))\n",
        "\n",
        "plot_confusion_matrix(RF, X_test, y_test, cmap = 'Blues', normalize = 'true')"
      ],
      "metadata": {
        "colab": {
          "base_uri": "https://localhost:8080/",
          "height": 413
        },
        "id": "PG2eRir2auMj",
        "outputId": "a8016a29-cd19-44a2-8979-ff3212713b15"
      },
      "execution_count": null,
      "outputs": [
        {
          "output_type": "stream",
          "name": "stdout",
          "text": [
            "0.5166666666666667\n",
            "0.5955056179775281\n",
            "0.7066666666666667\n",
            "0.6463414634146342\n",
            "[[ 9 36]\n",
            " [22 53]]\n"
          ]
        },
        {
          "output_type": "execute_result",
          "data": {
            "text/plain": [
              "<sklearn.metrics._plot.confusion_matrix.ConfusionMatrixDisplay at 0x7fb5a72ccf90>"
            ]
          },
          "metadata": {},
          "execution_count": 1128
        },
        {
          "output_type": "display_data",
          "data": {
            "text/plain": [
              "<Figure size 432x288 with 2 Axes>"
            ],
            "image/png": "[encoded data removed]"
          },
          "metadata": {
            "needs_background": "light"
          }
        }
      ]
    },
    {
      "cell_type": "code",
      "source": [
        "RF_over = RandomForestClassifier(random_state = 42)\n",
        "RF_over.fit(X_train_over,y_train_over)\n",
        "pred_FR=RF_over.predict(X_test)\n",
        "print(accuracy_score(y_test,pred_FR))\n",
        "print(precision_score(y_test,pred_FR))\n",
        "print(recall_score(y_test,pred_FR))\n",
        "print(f1_score(y_test,pred_FR))\n",
        "print(confusion_matrix(y_test,pred_FR))\n",
        "\n",
        "plot_confusion_matrix(RF_over, X_test, y_test, cmap = 'Blues')"
      ],
      "metadata": {
        "colab": {
          "base_uri": "https://localhost:8080/",
          "height": 409
        },
        "id": "Am_RX_nAc59L",
        "outputId": "35f37da5-040d-485d-a46f-041054326066"
      },
      "execution_count": null,
      "outputs": [
        {
          "output_type": "stream",
          "name": "stdout",
          "text": [
            "0.5416666666666666\n",
            "0.6190476190476191\n",
            "0.6933333333333334\n",
            "0.6540880503144655\n",
            "[[13 32]\n",
            " [23 52]]\n"
          ]
        },
        {
          "output_type": "execute_result",
          "data": {
            "text/plain": [
              "<sklearn.metrics._plot.confusion_matrix.ConfusionMatrixDisplay at 0x7fb5a726ab90>"
            ]
          },
          "metadata": {},
          "execution_count": 1129
        },
        {
          "output_type": "display_data",
          "data": {
            "text/plain": [
              "<Figure size 432x288 with 2 Axes>"
            ],
            "image/png": "[encoded data removed]"
          },
          "metadata": {
            "needs_background": "light"
          }
        }
      ]
    },
    {
      "cell_type": "code",
      "source": [
        "from sklearn.svm import SVC\n",
        "clf = SVC(kernel = \"linear\", random_state = 42)\n",
        "clf.fit(X_train,y_train)\n",
        "#plot_decision_function(X_train, y_train, X_test, y_test, clf)\n",
        "pred_clf=clf.predict(X_test)\n",
        "print(accuracy_score(y_test,pred_clf))\n",
        "print(precision_score(y_test,pred_clf))\n",
        "print(recall_score(y_test,pred_clf))\n",
        "print(f1_score(y_test,pred_clf))\n",
        "print(confusion_matrix(y_test,pred_clf))\n",
        "\n",
        "plot_confusion_matrix(clf, X_test, y_test, cmap = 'Blues')"
      ],
      "metadata": {
        "colab": {
          "base_uri": "https://localhost:8080/",
          "height": 409
        },
        "id": "0kCIMiaomtqv",
        "outputId": "e5989b54-435d-4e95-b662-cd1b8168b2bb"
      },
      "execution_count": null,
      "outputs": [
        {
          "output_type": "stream",
          "name": "stdout",
          "text": [
            "0.6083333333333333\n",
            "0.6555555555555556\n",
            "0.7866666666666666\n",
            "0.7151515151515152\n",
            "[[14 31]\n",
            " [16 59]]\n"
          ]
        },
        {
          "output_type": "execute_result",
          "data": {
            "text/plain": [
              "<sklearn.metrics._plot.confusion_matrix.ConfusionMatrixDisplay at 0x7fb5a4b5b9d0>"
            ]
          },
          "metadata": {},
          "execution_count": 1130
        },
        {
          "output_type": "display_data",
          "data": {
            "text/plain": [
              "<Figure size 432x288 with 2 Axes>"
            ],
            "image/png": "[encoded data removed]"
          },
          "metadata": {
            "needs_background": "light"
          }
        }
      ]
    },
    {
      "cell_type": "code",
      "source": [
        "from sklearn.svm import SVC\n",
        "clf_over = SVC(kernel = \"linear\", random_state = 42)\n",
        "clf_over.fit(X_train_over,y_train_over)\n",
        "#plot_decision_function(X_train, y_train, X_test, y_test, clf_over)\n",
        "pred_clf=clf_over.predict(X_test)\n",
        "print(accuracy_score(y_test,pred_clf))\n",
        "print(precision_score(y_test,pred_clf))\n",
        "print(recall_score(y_test,pred_clf))\n",
        "print(f1_score(y_test,pred_clf))\n",
        "print(confusion_matrix(y_test,pred_clf))\n",
        "\n",
        "plot_confusion_matrix(clf_over, X_test, y_test, cmap = 'Blues')"
      ],
      "metadata": {
        "colab": {
          "base_uri": "https://localhost:8080/",
          "height": 409
        },
        "id": "B1fQWzWvcAVU",
        "outputId": "df2061a6-0c43-4fa0-cde0-dad764b36747"
      },
      "execution_count": null,
      "outputs": [
        {
          "output_type": "stream",
          "name": "stdout",
          "text": [
            "0.625\n",
            "0.7419354838709677\n",
            "0.6133333333333333\n",
            "0.6715328467153284\n",
            "[[29 16]\n",
            " [29 46]]\n"
          ]
        },
        {
          "output_type": "execute_result",
          "data": {
            "text/plain": [
              "<sklearn.metrics._plot.confusion_matrix.ConfusionMatrixDisplay at 0x7fb5a71361d0>"
            ]
          },
          "metadata": {},
          "execution_count": 1131
        },
        {
          "output_type": "display_data",
          "data": {
            "text/plain": [
              "<Figure size 432x288 with 2 Axes>"
            ],
            "image/png": "[encoded data removed]"
          },
          "metadata": {
            "needs_background": "light"
          }
        }
      ]
    },
    {
      "cell_type": "code",
      "source": [
        "from sklearn.svm import SVC\n",
        "clf_rbf = SVC(kernel = \"rbf\", probability= True, random_state = 42)\n",
        "clf_rbf.fit(X_train,y_train)\n",
        "#plot_decision_function(X_train, y_train, X_test, y_test, clf_rbf)\n",
        "pred_clf=clf_rbf.predict(X_test)\n",
        "print(accuracy_score(y_test,pred_clf))\n",
        "print(precision_score(y_test,pred_clf))\n",
        "print(recall_score(y_test,pred_clf))\n",
        "print(f1_score(y_test,pred_clf))\n",
        "print(confusion_matrix(y_test,pred_clf))\n",
        "\n",
        "plot_confusion_matrix(clf_rbf, X_test, y_test, cmap = 'Blues')"
      ],
      "metadata": {
        "colab": {
          "base_uri": "https://localhost:8080/",
          "height": 409
        },
        "id": "CD7UYrjLgDRA",
        "outputId": "b4b539d9-f309-403e-8f43-5fb40f5c82d1"
      },
      "execution_count": null,
      "outputs": [
        {
          "output_type": "stream",
          "name": "stdout",
          "text": [
            "0.6166666666666667\n",
            "0.6464646464646465\n",
            "0.8533333333333334\n",
            "0.735632183908046\n",
            "[[10 35]\n",
            " [11 64]]\n"
          ]
        },
        {
          "output_type": "execute_result",
          "data": {
            "text/plain": [
              "<sklearn.metrics._plot.confusion_matrix.ConfusionMatrixDisplay at 0x7fb5a498dad0>"
            ]
          },
          "metadata": {},
          "execution_count": 1132
        },
        {
          "output_type": "display_data",
          "data": {
            "text/plain": [
              "<Figure size 432x288 with 2 Axes>"
            ],
            "image/png": "[encoded data removed]"
          },
          "metadata": {
            "needs_background": "light"
          }
        }
      ]
    },
    {
      "cell_type": "code",
      "source": [
        "from sklearn.linear_model import LogisticRegression\n",
        "lr = LogisticRegression(random_state = 42)\n",
        "lr.fit(X_train,y_train)\n",
        "pred_lr=lr.predict(X_test)\n",
        "print(accuracy_score(y_test,pred_lr))\n",
        "print(precision_score(y_test,pred_lr))\n",
        "print(recall_score(y_test,pred_lr))\n",
        "print(f1_score(y_test,pred_lr))\n",
        "print(confusion_matrix(y_test,pred_lr))\n",
        "\n",
        "plot_confusion_matrix(lr, X_test, y_test, cmap = 'Blues')"
      ],
      "metadata": {
        "colab": {
          "base_uri": "https://localhost:8080/",
          "height": 409
        },
        "id": "rw93SvK6cImU",
        "outputId": "ba2d216a-07db-46f6-9f46-c84ec9374125"
      },
      "execution_count": null,
      "outputs": [
        {
          "output_type": "stream",
          "name": "stdout",
          "text": [
            "0.6083333333333333\n",
            "0.6666666666666666\n",
            "0.7466666666666667\n",
            "0.7044025157232704\n",
            "[[17 28]\n",
            " [19 56]]\n"
          ]
        },
        {
          "output_type": "execute_result",
          "data": {
            "text/plain": [
              "<sklearn.metrics._plot.confusion_matrix.ConfusionMatrixDisplay at 0x7fb5a4b0a110>"
            ]
          },
          "metadata": {},
          "execution_count": 1133
        },
        {
          "output_type": "display_data",
          "data": {
            "text/plain": [
              "<Figure size 432x288 with 2 Axes>"
            ],
            "image/png": "[encoded data removed]"
          },
          "metadata": {
            "needs_background": "light"
          }
        }
      ]
    },
    {
      "cell_type": "code",
      "source": [
        "from sklearn.linear_model import LogisticRegression\n",
        "lr_over = LogisticRegression(random_state=42)\n",
        "lr_over.fit(X_train_over,y_train_over)\n",
        "pred_lr=lr_over.predict(X_test)\n",
        "print(accuracy_score(y_test,pred_lr))\n",
        "print(precision_score(y_test,pred_lr))\n",
        "print(recall_score(y_test,pred_lr))\n",
        "print(f1_score(y_test,pred_lr))\n",
        "print(confusion_matrix(y_test,pred_lr))\n",
        "\n",
        "plot_confusion_matrix(lr_over, X_test, y_test, cmap = 'Blues')"
      ],
      "metadata": {
        "colab": {
          "base_uri": "https://localhost:8080/",
          "height": 409
        },
        "id": "Qmpx932Pmy5U",
        "outputId": "d9e0af7c-06a5-49b2-b9f3-6650826cb415"
      },
      "execution_count": null,
      "outputs": [
        {
          "output_type": "stream",
          "name": "stdout",
          "text": [
            "0.575\n",
            "0.6875\n",
            "0.5866666666666667\n",
            "0.6330935251798561\n",
            "[[25 20]\n",
            " [31 44]]\n"
          ]
        },
        {
          "output_type": "execute_result",
          "data": {
            "text/plain": [
              "<sklearn.metrics._plot.confusion_matrix.ConfusionMatrixDisplay at 0x7fb5a4959a10>"
            ]
          },
          "metadata": {},
          "execution_count": 1134
        },
        {
          "output_type": "display_data",
          "data": {
            "text/plain": [
              "<Figure size 432x288 with 2 Axes>"
            ],
            "image/png": "[encoded data removed]"
          },
          "metadata": {
            "needs_background": "light"
          }
        }
      ]
    },
    {
      "cell_type": "code",
      "source": [
        "ada = AdaBoostClassifier()\n",
        "ada.fit(X_train,y_train)\n",
        "pred_ada=ada.predict(X_test)\n",
        "print(accuracy_score(y_test,pred_ada))\n",
        "print(precision_score(y_test,pred_ada))\n",
        "print(recall_score(y_test,pred_ada))\n",
        "print(f1_score(y_test,pred_ada))\n",
        "print(confusion_matrix(y_test,pred_ada))\n",
        "\n",
        "plot_confusion_matrix(ada, X_test, y_test, cmap = 'Blues')"
      ],
      "metadata": {
        "colab": {
          "base_uri": "https://localhost:8080/",
          "height": 409
        },
        "id": "yx1kRqtphICF",
        "outputId": "6bd96ea6-af85-4017-e3c2-ad420b9a0f9a"
      },
      "execution_count": null,
      "outputs": [
        {
          "output_type": "stream",
          "name": "stdout",
          "text": [
            "0.5166666666666667\n",
            "0.5955056179775281\n",
            "0.7066666666666667\n",
            "0.6463414634146342\n",
            "[[ 9 36]\n",
            " [22 53]]\n"
          ]
        },
        {
          "output_type": "execute_result",
          "data": {
            "text/plain": [
              "<sklearn.metrics._plot.confusion_matrix.ConfusionMatrixDisplay at 0x7fb5a6ff7990>"
            ]
          },
          "metadata": {},
          "execution_count": 1135
        },
        {
          "output_type": "display_data",
          "data": {
            "text/plain": [
              "<Figure size 432x288 with 2 Axes>"
            ],
            "image/png": "[encoded data removed]"
          },
          "metadata": {
            "needs_background": "light"
          }
        }
      ]
    },
    {
      "cell_type": "code",
      "source": [
        "ada_over = AdaBoostClassifier()\n",
        "ada_over.fit(X_train_over,y_train_over)\n",
        "pred_ada=ada_over.predict(X_test)\n",
        "print(accuracy_score(y_test,pred_ada))\n",
        "print(precision_score(y_test,pred_ada))\n",
        "print(recall_score(y_test,pred_ada))\n",
        "print(f1_score(y_test,pred_ada))\n",
        "print(confusion_matrix(y_test,pred_ada))\n",
        "plot_confusion_matrix(ada_over, X_test, y_test, cmap = 'Blues')"
      ],
      "metadata": {
        "colab": {
          "base_uri": "https://localhost:8080/",
          "height": 409
        },
        "id": "m9P0NH5mm75Y",
        "outputId": "812a4625-bd36-4a67-e259-e74e16c4c7d2"
      },
      "execution_count": null,
      "outputs": [
        {
          "output_type": "stream",
          "name": "stdout",
          "text": [
            "0.5833333333333334\n",
            "0.654320987654321\n",
            "0.7066666666666667\n",
            "0.6794871794871794\n",
            "[[17 28]\n",
            " [22 53]]\n"
          ]
        },
        {
          "output_type": "execute_result",
          "data": {
            "text/plain": [
              "<sklearn.metrics._plot.confusion_matrix.ConfusionMatrixDisplay at 0x7fb5a95b3110>"
            ]
          },
          "metadata": {},
          "execution_count": 1136
        },
        {
          "output_type": "display_data",
          "data": {
            "text/plain": [
              "<Figure size 432x288 with 2 Axes>"
            ],
            "image/png": "[encoded data removed]"
          },
          "metadata": {
            "needs_background": "light"
          }
        }
      ]
    },
    {
      "cell_type": "code",
      "source": [
        "# from xgboost import XGBClassifier as xgb\n",
        "# parms = {'max_depth' :3,\\\n",
        "#          'eta':0.05,\\\n",
        "#          'objective': 'binary:logistic',\\\n",
        "#          'eval_metric':'recall'\\\n",
        "#          }\n",
        "# num_rounds = 400\n",
        "# #eval_list= [(dtr,'train'), (dval, 'eval')] # 학습 데이터셋은 train 또는 평가 데이터 셋은 'eval'로  명기\n",
        "# #xgb_model = xgb.train(params=parms, dtrain= dtr, num_boost_round= num_rounds, early_stopping = 50, evals = eval_list)\n",
        "# xgb_model = xgb(n_estimators= 500, learning_rate = 0.1, max_depth = 4)\n",
        "# xgb_model.fit(X_train,y_train)\n",
        "# pred_xgb=xgb_model.predict(X_test)\n",
        "# print(accuracy_score(y_test,pred_xgb))\n",
        "# print(precision_score(y_test,pred_xgb))\n",
        "# print(recall_score(y_test,pred_xgb))\n",
        "# print(f1_score(y_test,pred_xgb))\n",
        "# print(confusion_matrix(y_test,pred_xgb))\n",
        "\n",
        "# plot_confusion_matrix(xgb_model, X_test, y_test, cmap = 'Blues')"
      ],
      "metadata": {
        "id": "0jFBjnzFgnCD"
      },
      "execution_count": null,
      "outputs": []
    },
    {
      "cell_type": "code",
      "source": [
        "# from xgboost import XGBClassifier as xgb\n",
        "# parms = {'max_depth' :3,\\\n",
        "#          'eta':0.05,\\\n",
        "#          'objective': 'binary:logistic',\\\n",
        "#          'eval_metric':'recall'\\\n",
        "#          }\n",
        "# num_rounds = 400\n",
        "# #eval_list= [(dtr,'train'), (dval, 'eval')] # 학습 데이터셋은 train 또는 평가 데이터 셋은 'eval'로  명기\n",
        "# #xgb_model = xgb.train(params=parms, dtrain= dtr, num_boost_round= num_rounds, early_stopping = 50, evals = eval_list)\n",
        "# xgb_model = xgb(n_estimators= 500, learning_rate = 0.1, max_depth = 4)\n",
        "# xgb_model.fit(X_train_over,y_train_over)\n",
        "# pred_xgb=xgb_model.predict(X_test)\n",
        "# print(accuracy_score(y_test,pred_xgb))\n",
        "# print(precision_score(y_test,pred_xgb))\n",
        "# print(recall_score(y_test,pred_xgb))\n",
        "# print(f1_score(y_test,pred_xgb))\n",
        "# print(confusion_matrix(y_test,pred_xgb))"
      ],
      "metadata": {
        "id": "L9b3WaEMnAGn"
      },
      "execution_count": null,
      "outputs": []
    },
    {
      "cell_type": "markdown",
      "source": [
        "0.6333333333333333\n",
        "0.6333333333333333\n",
        "1.0\n",
        "0.7755102040816326\n",
        "[[38  0]\n",
        " [22  0]]\n"
      ],
      "metadata": {
        "id": "ZKR_26gopNlc"
      }
    },
    {
      "cell_type": "code",
      "source": [
        "from lightgbm import LGBMClassifier\n",
        "lgbm_best = LGBMClassifier(n_estimators= 400, objective='binary', num_iterations = 10, num_leaves =100)\n",
        "evals = [(X_val, y_val)]\n",
        "lgbm_best.fit(X_train, y_train, early_stopping_rounds=10, eval_metric='recall', eval_set=evals, verbose=True)\n",
        "pred_lgbm = lgbm_best.predict(X_test)\n",
        "print(accuracy_score(y_test,pred_lgbm))\n",
        "print(precision_score(y_test,pred_lgbm))\n",
        "print(recall_score(y_test,pred_lgbm))\n",
        "print(f1_score(y_test,pred_lgbm))\n",
        "print(confusion_matrix(y_test,pred_lgbm))\n",
        "\n",
        "plot_confusion_matrix(lgbm_best, X_test, y_test, cmap = 'Blues')"
      ],
      "metadata": {
        "colab": {
          "base_uri": "https://localhost:8080/",
          "height": 651
        },
        "id": "dmUz0tx2pQsA",
        "outputId": "1b90b20b-7a0c-4c8b-93a6-a32be67bac9d"
      },
      "execution_count": null,
      "outputs": [
        {
          "output_type": "stream",
          "name": "stdout",
          "text": [
            "[1]\tvalid_0's binary_logloss: 0.652917\n",
            "Training until validation scores don't improve for 10 rounds.\n",
            "[2]\tvalid_0's binary_logloss: 0.652977\n",
            "[3]\tvalid_0's binary_logloss: 0.64865\n",
            "[4]\tvalid_0's binary_logloss: 0.648253\n",
            "[5]\tvalid_0's binary_logloss: 0.648121\n",
            "[6]\tvalid_0's binary_logloss: 0.648106\n",
            "[7]\tvalid_0's binary_logloss: 0.646693\n",
            "[8]\tvalid_0's binary_logloss: 0.648512\n",
            "[9]\tvalid_0's binary_logloss: 0.648226\n",
            "[10]\tvalid_0's binary_logloss: 0.648138\n",
            "Did not meet early stopping. Best iteration is:\n",
            "[7]\tvalid_0's binary_logloss: 0.646693\n",
            "0.5833333333333334\n",
            "0.6190476190476191\n",
            "0.8666666666666667\n",
            "0.7222222222222222\n",
            "[[ 5 40]\n",
            " [10 65]]\n"
          ]
        },
        {
          "output_type": "execute_result",
          "data": {
            "text/plain": [
              "<sklearn.metrics._plot.confusion_matrix.ConfusionMatrixDisplay at 0x7fb5a45b3fd0>"
            ]
          },
          "metadata": {},
          "execution_count": 1139
        },
        {
          "output_type": "display_data",
          "data": {
            "text/plain": [
              "<Figure size 432x288 with 2 Axes>"
            ],
            "image/png": "[encoded data removed]"
          },
          "metadata": {
            "needs_background": "light"
          }
        }
      ]
    },
    {
      "cell_type": "code",
      "source": [
        "# lgbm = LGBMClassifier(n_estimators= 400, objective='binary', num_iterations = 10, num_leaves =100)\n",
        "# evals = [(X_val, y_val)]\n",
        "# lgbm.fit(X_train, y_train, early_stopping_rounds=10, eval_metric='f1 score', eval_set=evals, verbose=True)\n",
        "# pred_lgbm = lgbm.predict(X_test)\n",
        "# print(accuracy_score(y_test,pred_lgbm))\n",
        "# print(precision_score(y_test,pred_lgbm))\n",
        "# print(recall_score(y_test,pred_lgbm))\n",
        "# print(f1_score(y_test,pred_lgbm))\n",
        "# print(confusion_matrix(y_test,pred_lgbm))\n",
        "\n",
        "# plot_confusion_matrix(lgbm, X_test, y_test, cmap = 'Blues')"
      ],
      "metadata": {
        "id": "NpNED2zKmnmE"
      },
      "execution_count": null,
      "outputs": []
    },
    {
      "cell_type": "code",
      "source": [
        "from lightgbm import LGBMClassifier\n",
        "lgbm = LGBMClassifier(n_estimators= 400)\n",
        "evals = [(X_val, y_val)]\n",
        "lgbm.fit(X_train, y_train, early_stopping_rounds=12, eval_metric='recall', eval_set=evals, verbose=True)\n",
        "pred_lgbm = lgbm.predict(X_test)\n",
        "print(accuracy_score(y_test,pred_lgbm))\n",
        "print(precision_score(y_test,pred_lgbm))\n",
        "print(recall_score(y_test,pred_lgbm))\n",
        "print(f1_score(y_test,pred_lgbm))\n",
        "print(confusion_matrix(y_test,pred_lgbm))\n",
        "\n",
        "plot_confusion_matrix(lgbm, X_test, y_test, cmap = 'Blues')"
      ],
      "metadata": {
        "colab": {
          "base_uri": "https://localhost:8080/",
          "height": 1000
        },
        "id": "YTvdT_mPlBDm",
        "outputId": "1caf7e25-eb5e-48cb-f6fc-37cb1dd844a6"
      },
      "execution_count": null,
      "outputs": [
        {
          "output_type": "stream",
          "name": "stdout",
          "text": [
            "[1]\tvalid_0's binary_logloss: 0.652917\n",
            "Training until validation scores don't improve for 12 rounds.\n",
            "[2]\tvalid_0's binary_logloss: 0.652977\n",
            "[3]\tvalid_0's binary_logloss: 0.64865\n",
            "[4]\tvalid_0's binary_logloss: 0.648253\n",
            "[5]\tvalid_0's binary_logloss: 0.648121\n",
            "[6]\tvalid_0's binary_logloss: 0.648106\n",
            "[7]\tvalid_0's binary_logloss: 0.646693\n",
            "[8]\tvalid_0's binary_logloss: 0.648512\n",
            "[9]\tvalid_0's binary_logloss: 0.648226\n",
            "[10]\tvalid_0's binary_logloss: 0.648138\n",
            "[11]\tvalid_0's binary_logloss: 0.646908\n",
            "[12]\tvalid_0's binary_logloss: 0.646502\n",
            "[13]\tvalid_0's binary_logloss: 0.64781\n",
            "[14]\tvalid_0's binary_logloss: 0.648711\n",
            "[15]\tvalid_0's binary_logloss: 0.645203\n",
            "[16]\tvalid_0's binary_logloss: 0.64648\n",
            "[17]\tvalid_0's binary_logloss: 0.645846\n",
            "[18]\tvalid_0's binary_logloss: 0.645809\n",
            "[19]\tvalid_0's binary_logloss: 0.640712\n",
            "[20]\tvalid_0's binary_logloss: 0.642206\n",
            "[21]\tvalid_0's binary_logloss: 0.639165\n",
            "[22]\tvalid_0's binary_logloss: 0.637476\n",
            "[23]\tvalid_0's binary_logloss: 0.637471\n",
            "[24]\tvalid_0's binary_logloss: 0.634319\n",
            "[25]\tvalid_0's binary_logloss: 0.634411\n",
            "[26]\tvalid_0's binary_logloss: 0.634312\n",
            "[27]\tvalid_0's binary_logloss: 0.634311\n",
            "[28]\tvalid_0's binary_logloss: 0.633674\n",
            "[29]\tvalid_0's binary_logloss: 0.633655\n",
            "[30]\tvalid_0's binary_logloss: 0.633526\n",
            "[31]\tvalid_0's binary_logloss: 0.633594\n",
            "[32]\tvalid_0's binary_logloss: 0.633608\n",
            "[33]\tvalid_0's binary_logloss: 0.634379\n",
            "[34]\tvalid_0's binary_logloss: 0.63431\n",
            "[35]\tvalid_0's binary_logloss: 0.634294\n",
            "[36]\tvalid_0's binary_logloss: 0.633619\n",
            "[37]\tvalid_0's binary_logloss: 0.631481\n",
            "[38]\tvalid_0's binary_logloss: 0.632049\n",
            "[39]\tvalid_0's binary_logloss: 0.632364\n",
            "[40]\tvalid_0's binary_logloss: 0.633631\n",
            "[41]\tvalid_0's binary_logloss: 0.632517\n",
            "[42]\tvalid_0's binary_logloss: 0.633164\n",
            "[43]\tvalid_0's binary_logloss: 0.633884\n",
            "[44]\tvalid_0's binary_logloss: 0.633133\n",
            "[45]\tvalid_0's binary_logloss: 0.63271\n",
            "[46]\tvalid_0's binary_logloss: 0.631961\n",
            "[47]\tvalid_0's binary_logloss: 0.631397\n",
            "[48]\tvalid_0's binary_logloss: 0.630768\n",
            "[49]\tvalid_0's binary_logloss: 0.632\n",
            "[50]\tvalid_0's binary_logloss: 0.631446\n",
            "[51]\tvalid_0's binary_logloss: 0.630103\n",
            "[52]\tvalid_0's binary_logloss: 0.631237\n",
            "[53]\tvalid_0's binary_logloss: 0.630259\n",
            "[54]\tvalid_0's binary_logloss: 0.629736\n",
            "[55]\tvalid_0's binary_logloss: 0.628923\n",
            "[56]\tvalid_0's binary_logloss: 0.630173\n",
            "[57]\tvalid_0's binary_logloss: 0.629491\n",
            "[58]\tvalid_0's binary_logloss: 0.628571\n",
            "[59]\tvalid_0's binary_logloss: 0.629048\n",
            "[60]\tvalid_0's binary_logloss: 0.630624\n",
            "[61]\tvalid_0's binary_logloss: 0.630744\n",
            "[62]\tvalid_0's binary_logloss: 0.632235\n",
            "[63]\tvalid_0's binary_logloss: 0.630604\n",
            "[64]\tvalid_0's binary_logloss: 0.631452\n",
            "[65]\tvalid_0's binary_logloss: 0.630269\n",
            "[66]\tvalid_0's binary_logloss: 0.633589\n",
            "[67]\tvalid_0's binary_logloss: 0.63191\n",
            "[68]\tvalid_0's binary_logloss: 0.630868\n",
            "[69]\tvalid_0's binary_logloss: 0.629251\n",
            "[70]\tvalid_0's binary_logloss: 0.62996\n",
            "Early stopping, best iteration is:\n",
            "[58]\tvalid_0's binary_logloss: 0.628571\n",
            "0.5333333333333333\n",
            "0.6144578313253012\n",
            "0.68\n",
            "0.6455696202531646\n",
            "[[13 32]\n",
            " [24 51]]\n"
          ]
        },
        {
          "output_type": "execute_result",
          "data": {
            "text/plain": [
              "<sklearn.metrics._plot.confusion_matrix.ConfusionMatrixDisplay at 0x7fb5a454b050>"
            ]
          },
          "metadata": {},
          "execution_count": 1141
        },
        {
          "output_type": "display_data",
          "data": {
            "text/plain": [
              "<Figure size 432x288 with 2 Axes>"
            ],
            "image/png": "[encoded data removed]"
          },
          "metadata": {
            "needs_background": "light"
          }
        }
      ]
    },
    {
      "cell_type": "code",
      "source": [
        "from lightgbm import LGBMClassifier\n",
        "lgbm = LGBMClassifier(n_estimators= 400, objective='binary', num_iterations = 10, num_leaves =100)\n",
        "evals = [(X_val, y_val)]\n",
        "lgbm.fit(X_train_over, y_train_over, early_stopping_rounds=100, eval_metric='recall', eval_set=evals, verbose=True)\n",
        "pred_lgbm = lgbm.predict(X_test)\n",
        "print(accuracy_score(y_test,pred_lgbm))\n",
        "print(precision_score(y_test,pred_lgbm))\n",
        "print(recall_score(y_test,pred_lgbm))\n",
        "print(f1_score(y_test,pred_lgbm))\n",
        "print(confusion_matrix(y_test,pred_lgbm))\n",
        "\n",
        "plot_confusion_matrix(lgbm, X_test, y_test, cmap = 'Blues')"
      ],
      "metadata": {
        "id": "tprx3clamQX-",
        "colab": {
          "base_uri": "https://localhost:8080/",
          "height": 651
        },
        "outputId": "5e35204b-fbed-42fb-de6d-804665554fc8"
      },
      "execution_count": null,
      "outputs": [
        {
          "output_type": "stream",
          "name": "stdout",
          "text": [
            "[1]\tvalid_0's binary_logloss: 0.690474\n",
            "Training until validation scores don't improve for 100 rounds.\n",
            "[2]\tvalid_0's binary_logloss: 0.68333\n",
            "[3]\tvalid_0's binary_logloss: 0.68113\n",
            "[4]\tvalid_0's binary_logloss: 0.670147\n",
            "[5]\tvalid_0's binary_logloss: 0.659707\n",
            "[6]\tvalid_0's binary_logloss: 0.656764\n",
            "[7]\tvalid_0's binary_logloss: 0.653196\n",
            "[8]\tvalid_0's binary_logloss: 0.652409\n",
            "[9]\tvalid_0's binary_logloss: 0.652548\n",
            "[10]\tvalid_0's binary_logloss: 0.652384\n",
            "Did not meet early stopping. Best iteration is:\n",
            "[10]\tvalid_0's binary_logloss: 0.652384\n",
            "0.5333333333333333\n",
            "0.6417910447761194\n",
            "0.5733333333333334\n",
            "0.6056338028169014\n",
            "[[21 24]\n",
            " [32 43]]\n"
          ]
        },
        {
          "output_type": "execute_result",
          "data": {
            "text/plain": [
              "<sklearn.metrics._plot.confusion_matrix.ConfusionMatrixDisplay at 0x7fb5a47b1890>"
            ]
          },
          "metadata": {},
          "execution_count": 1142
        },
        {
          "output_type": "display_data",
          "data": {
            "text/plain": [
              "<Figure size 432x288 with 2 Axes>"
            ],
            "image/png": "[encoded data removed]"
          },
          "metadata": {
            "needs_background": "light"
          }
        }
      ]
    },
    {
      "cell_type": "markdown",
      "source": [
        "#Semi-Supervised learning\n"
      ],
      "metadata": {
        "id": "A14AQtSQtKn8"
      }
    },
    {
      "cell_type": "code",
      "source": [
        "# 라벨링되지 않은 데이터 셋\n",
        "unlabeled_df = df.loc[df['DF2_pr']== 8.]"
      ],
      "metadata": {
        "id": "r-kUJ-C3tO0Y"
      },
      "execution_count": null,
      "outputs": []
    },
    {
      "cell_type": "code",
      "source": [
        "unlabeled_df"
      ],
      "metadata": {
        "colab": {
          "base_uri": "https://localhost:8080/",
          "height": 424
        },
        "id": "oPqS6ddatVV_",
        "outputId": "8d119980-e1ec-437d-ebdb-9c073c8bcd40"
      },
      "execution_count": null,
      "outputs": [
        {
          "output_type": "execute_result",
          "data": {
            "text/plain": [
              "      region  sex   age  incm  edu  EC1_1  cfam  allownc  house  marri_2  \\\n",
              "0        1.0  1.0  39.0   1.0  4.0    1.0   5.0     20.0    1.0      1.0   \n",
              "1        1.0  2.0  39.0   1.0  4.0    1.0   5.0     20.0    1.0      1.0   \n",
              "6        1.0  2.0  58.0   4.0  3.0    1.0   4.0     20.0    2.0      1.0   \n",
              "7        1.0  1.0  56.0   4.0  4.0    1.0   4.0     20.0    2.0      1.0   \n",
              "8        1.0  2.0  53.0   4.0  4.0    1.0   4.0     20.0    2.0      1.0   \n",
              "...      ...  ...   ...   ...  ...    ...   ...      ...    ...      ...   \n",
              "7353     8.0  2.0  26.0   1.0  4.0    1.0   2.0     20.0    3.0     88.0   \n",
              "7354     8.0  2.0  61.0   2.0  3.0    1.0   2.0     20.0    2.0      1.0   \n",
              "7355     8.0  2.0  51.0   3.0  4.0    1.0   2.0     10.0    2.0      4.0   \n",
              "7356     8.0  2.0  24.0   3.0  4.0    1.0   2.0     10.0    2.0     88.0   \n",
              "7357     8.0  1.0  65.0   2.0  4.0    2.0   2.0     20.0    2.0      1.0   \n",
              "\n",
              "      D_1_1  D_2_1  BD1_11  BE3_75  mh_stress  BS3_1  DF2_pr  \n",
              "0       2.0    2.0     3.0     2.0        0.0    3.0     8.0  \n",
              "1       2.0    2.0     1.0     2.0        0.0    8.0     8.0  \n",
              "6       1.0    2.0     2.0     2.0        0.0    8.0     8.0  \n",
              "7       1.0    2.0     2.0     1.0        0.0    8.0     8.0  \n",
              "8       3.0    2.0     3.0     2.0        0.0    8.0     8.0  \n",
              "...     ...    ...     ...     ...        ...    ...     ...  \n",
              "7353    3.0    2.0     3.0     2.0        1.0    8.0     8.0  \n",
              "7354    3.0    2.0     2.0     2.0        0.0    8.0     8.0  \n",
              "7355    3.0    2.0     2.0     1.0        0.0    8.0     8.0  \n",
              "7356    3.0    2.0     6.0     2.0        0.0    1.0     8.0  \n",
              "7357    2.0    2.0     4.0     2.0        0.0    3.0     8.0  \n",
              "\n",
              "[5083 rows x 17 columns]"
            ],
            "text/html": [
              "\n",
              "  <div id=\"df-f794b388-db1f-4492-bb3e-f75587a028dc\">\n",
              "    <div class=\"colab-df-container\">\n",
              "      <div>\n",
              "<style scoped>\n",
              "    .dataframe tbody tr th:only-of-type {\n",
              "        vertical-align: middle;\n",
              "    }\n",
              "\n",
              "    .dataframe tbody tr th {\n",
              "        vertical-align: top;\n",
              "    }\n",
              "\n",
              "    .dataframe thead th {\n",
              "        text-align: right;\n",
              "    }\n",
              "</style>\n",
              "<table border=\"1\" class=\"dataframe\">\n",
              "  <thead>\n",
              "    <tr style=\"text-align: right;\">\n",
              "      <th></th>\n",
              "      <th>region</th>\n",
              "      <th>sex</th>\n",
              "      <th>age</th>\n",
              "      <th>incm</th>\n",
              "      <th>edu</th>\n",
              "      <th>EC1_1</th>\n",
              "      <th>cfam</th>\n",
              "      <th>allownc</th>\n",
              "      <th>house</th>\n",
              "      <th>marri_2</th>\n",
              "      <th>D_1_1</th>\n",
              "      <th>D_2_1</th>\n",
              "      <th>BD1_11</th>\n",
              "      <th>BE3_75</th>\n",
              "      <th>mh_stress</th>\n",
              "      <th>BS3_1</th>\n",
              "      <th>DF2_pr</th>\n",
              "    </tr>\n",
              "  </thead>\n",
              "  <tbody>\n",
              "    <tr>\n",
              "      <th>0</th>\n",
              "      <td>1.0</td>\n",
              "      <td>1.0</td>\n",
              "      <td>39.0</td>\n",
              "      <td>1.0</td>\n",
              "      <td>4.0</td>\n",
              "      <td>1.0</td>\n",
              "      <td>5.0</td>\n",
              "      <td>20.0</td>\n",
              "      <td>1.0</td>\n",
              "      <td>1.0</td>\n",
              "      <td>2.0</td>\n",
              "      <td>2.0</td>\n",
              "      <td>3.0</td>\n",
              "      <td>2.0</td>\n",
              "      <td>0.0</td>\n",
              "      <td>3.0</td>\n",
              "      <td>8.0</td>\n",
              "    </tr>\n",
              "    <tr>\n",
              "      <th>1</th>\n",
              "      <td>1.0</td>\n",
              "      <td>2.0</td>\n",
              "      <td>39.0</td>\n",
              "      <td>1.0</td>\n",
              "      <td>4.0</td>\n",
              "      <td>1.0</td>\n",
              "      <td>5.0</td>\n",
              "      <td>20.0</td>\n",
              "      <td>1.0</td>\n",
              "      <td>1.0</td>\n",
              "      <td>2.0</td>\n",
              "      <td>2.0</td>\n",
              "      <td>1.0</td>\n",
              "      <td>2.0</td>\n",
              "      <td>0.0</td>\n",
              "      <td>8.0</td>\n",
              "      <td>8.0</td>\n",
              "    </tr>\n",
              "    <tr>\n",
              "      <th>6</th>\n",
              "      <td>1.0</td>\n",
              "      <td>2.0</td>\n",
              "      <td>58.0</td>\n",
              "      <td>4.0</td>\n",
              "      <td>3.0</td>\n",
              "      <td>1.0</td>\n",
              "      <td>4.0</td>\n",
              "      <td>20.0</td>\n",
              "      <td>2.0</td>\n",
              "      <td>1.0</td>\n",
              "      <td>1.0</td>\n",
              "      <td>2.0</td>\n",
              "      <td>2.0</td>\n",
              "      <td>2.0</td>\n",
              "      <td>0.0</td>\n",
              "      <td>8.0</td>\n",
              "      <td>8.0</td>\n",
              "    </tr>\n",
              "    <tr>\n",
              "      <th>7</th>\n",
              "      <td>1.0</td>\n",
              "      <td>1.0</td>\n",
              "      <td>56.0</td>\n",
              "      <td>4.0</td>\n",
              "      <td>4.0</td>\n",
              "      <td>1.0</td>\n",
              "      <td>4.0</td>\n",
              "      <td>20.0</td>\n",
              "      <td>2.0</td>\n",
              "      <td>1.0</td>\n",
              "      <td>1.0</td>\n",
              "      <td>2.0</td>\n",
              "      <td>2.0</td>\n",
              "      <td>1.0</td>\n",
              "      <td>0.0</td>\n",
              "      <td>8.0</td>\n",
              "      <td>8.0</td>\n",
              "    </tr>\n",
              "    <tr>\n",
              "      <th>8</th>\n",
              "      <td>1.0</td>\n",
              "      <td>2.0</td>\n",
              "      <td>53.0</td>\n",
              "      <td>4.0</td>\n",
              "      <td>4.0</td>\n",
              "      <td>1.0</td>\n",
              "      <td>4.0</td>\n",
              "      <td>20.0</td>\n",
              "      <td>2.0</td>\n",
              "      <td>1.0</td>\n",
              "      <td>3.0</td>\n",
              "      <td>2.0</td>\n",
              "      <td>3.0</td>\n",
              "      <td>2.0</td>\n",
              "      <td>0.0</td>\n",
              "      <td>8.0</td>\n",
              "      <td>8.0</td>\n",
              "    </tr>\n",
              "    <tr>\n",
              "      <th>...</th>\n",
              "      <td>...</td>\n",
              "      <td>...</td>\n",
              "      <td>...</td>\n",
              "      <td>...</td>\n",
              "      <td>...</td>\n",
              "      <td>...</td>\n",
              "      <td>...</td>\n",
              "      <td>...</td>\n",
              "      <td>...</td>\n",
              "      <td>...</td>\n",
              "      <td>...</td>\n",
              "      <td>...</td>\n",
              "      <td>...</td>\n",
              "      <td>...</td>\n",
              "      <td>...</td>\n",
              "      <td>...</td>\n",
              "      <td>...</td>\n",
              "    </tr>\n",
              "    <tr>\n",
              "      <th>7353</th>\n",
              "      <td>8.0</td>\n",
              "      <td>2.0</td>\n",
              "      <td>26.0</td>\n",
              "      <td>1.0</td>\n",
              "      <td>4.0</td>\n",
              "      <td>1.0</td>\n",
              "      <td>2.0</td>\n",
              "      <td>20.0</td>\n",
              "      <td>3.0</td>\n",
              "      <td>88.0</td>\n",
              "      <td>3.0</td>\n",
              "      <td>2.0</td>\n",
              "      <td>3.0</td>\n",
              "      <td>2.0</td>\n",
              "      <td>1.0</td>\n",
              "      <td>8.0</td>\n",
              "      <td>8.0</td>\n",
              "    </tr>\n",
              "    <tr>\n",
              "      <th>7354</th>\n",
              "      <td>8.0</td>\n",
              "      <td>2.0</td>\n",
              "      <td>61.0</td>\n",
              "      <td>2.0</td>\n",
              "      <td>3.0</td>\n",
              "      <td>1.0</td>\n",
              "      <td>2.0</td>\n",
              "      <td>20.0</td>\n",
              "      <td>2.0</td>\n",
              "      <td>1.0</td>\n",
              "      <td>3.0</td>\n",
              "      <td>2.0</td>\n",
              "      <td>2.0</td>\n",
              "      <td>2.0</td>\n",
              "      <td>0.0</td>\n",
              "      <td>8.0</td>\n",
              "      <td>8.0</td>\n",
              "    </tr>\n",
              "    <tr>\n",
              "      <th>7355</th>\n",
              "      <td>8.0</td>\n",
              "      <td>2.0</td>\n",
              "      <td>51.0</td>\n",
              "      <td>3.0</td>\n",
              "      <td>4.0</td>\n",
              "      <td>1.0</td>\n",
              "      <td>2.0</td>\n",
              "      <td>10.0</td>\n",
              "      <td>2.0</td>\n",
              "      <td>4.0</td>\n",
              "      <td>3.0</td>\n",
              "      <td>2.0</td>\n",
              "      <td>2.0</td>\n",
              "      <td>1.0</td>\n",
              "      <td>0.0</td>\n",
              "      <td>8.0</td>\n",
              "      <td>8.0</td>\n",
              "    </tr>\n",
              "    <tr>\n",
              "      <th>7356</th>\n",
              "      <td>8.0</td>\n",
              "      <td>2.0</td>\n",
              "      <td>24.0</td>\n",
              "      <td>3.0</td>\n",
              "      <td>4.0</td>\n",
              "      <td>1.0</td>\n",
              "      <td>2.0</td>\n",
              "      <td>10.0</td>\n",
              "      <td>2.0</td>\n",
              "      <td>88.0</td>\n",
              "      <td>3.0</td>\n",
              "      <td>2.0</td>\n",
              "      <td>6.0</td>\n",
              "      <td>2.0</td>\n",
              "      <td>0.0</td>\n",
              "      <td>1.0</td>\n",
              "      <td>8.0</td>\n",
              "    </tr>\n",
              "    <tr>\n",
              "      <th>7357</th>\n",
              "      <td>8.0</td>\n",
              "      <td>1.0</td>\n",
              "      <td>65.0</td>\n",
              "      <td>2.0</td>\n",
              "      <td>4.0</td>\n",
              "      <td>2.0</td>\n",
              "      <td>2.0</td>\n",
              "      <td>20.0</td>\n",
              "      <td>2.0</td>\n",
              "      <td>1.0</td>\n",
              "      <td>2.0</td>\n",
              "      <td>2.0</td>\n",
              "      <td>4.0</td>\n",
              "      <td>2.0</td>\n",
              "      <td>0.0</td>\n",
              "      <td>3.0</td>\n",
              "      <td>8.0</td>\n",
              "    </tr>\n",
              "  </tbody>\n",
              "</table>\n",
              "<p>5083 rows × 17 columns</p>\n",
              "</div>\n",
              "      <button class=\"colab-df-convert\" onclick=\"convertToInteractive('df-f794b388-db1f-4492-bb3e-f75587a028dc')\"\n",
              "              title=\"Convert this dataframe to an interactive table.\"\n",
              "              style=\"display:none;\">\n",
              "        \n",
              "  <svg xmlns=\"http://www.w3.org/2000/svg\" height=\"24px\"viewBox=\"0 0 24 24\"\n",
              "       width=\"24px\">\n",
              "    <path d=\"M0 0h24v24H0V0z\" fill=\"none\"/>\n",
              "    <path d=\"M18.56 5.44l.94 2.06.94-2.06 2.06-.94-2.06-.94-.94-2.06-.94 2.06-2.06.94zm-11 1L8.5 8.5l.94-2.06 2.06-.94-2.06-.94L8.5 2.5l-.94 2.06-2.06.94zm10 10l.94 2.06.94-2.06 2.06-.94-2.06-.94-.94-2.06-.94 2.06-2.06.94z\"/><path d=\"M17.41 7.96l-1.37-1.37c-.4-.4-.92-.59-1.43-.59-.52 0-1.04.2-1.43.59L10.3 9.45l-7.72 7.72c-.78.78-.78 2.05 0 2.83L4 21.41c.39.39.9.59 1.41.59.51 0 1.02-.2 1.41-.59l7.78-7.78 2.81-2.81c.8-.78.8-2.07 0-2.86zM5.41 20L4 18.59l7.72-7.72 1.47 1.35L5.41 20z\"/>\n",
              "  </svg>\n",
              "      </button>\n",
              "      \n",
              "  <style>\n",
              "    .colab-df-container {\n",
              "      display:flex;\n",
              "      flex-wrap:wrap;\n",
              "      gap: 12px;\n",
              "    }\n",
              "\n",
              "    .colab-df-convert {\n",
              "      background-color: #E8F0FE;\n",
              "      border: none;\n",
              "      border-radius: 50%;\n",
              "      cursor: pointer;\n",
              "      display: none;\n",
              "      fill: #1967D2;\n",
              "      height: 32px;\n",
              "      padding: 0 0 0 0;\n",
              "      width: 32px;\n",
              "    }\n",
              "\n",
              "    .colab-df-convert:hover {\n",
              "      background-color: #E2EBFA;\n",
              "      box-shadow: 0px 1px 2px rgba(60, 64, 67, 0.3), 0px 1px 3px 1px rgba(60, 64, 67, 0.15);\n",
              "      fill: #174EA6;\n",
              "    }\n",
              "\n",
              "    [theme=dark] .colab-df-convert {\n",
              "      background-color: #3B4455;\n",
              "      fill: #D2E3FC;\n",
              "    }\n",
              "\n",
              "    [theme=dark] .colab-df-convert:hover {\n",
              "      background-color: #434B5C;\n",
              "      box-shadow: 0px 1px 3px 1px rgba(0, 0, 0, 0.15);\n",
              "      filter: drop-shadow(0px 1px 2px rgba(0, 0, 0, 0.3));\n",
              "      fill: #FFFFFF;\n",
              "    }\n",
              "  </style>\n",
              "\n",
              "      <script>\n",
              "        const buttonEl =\n",
              "          document.querySelector('#df-f794b388-db1f-4492-bb3e-f75587a028dc button.colab-df-convert');\n",
              "        buttonEl.style.display =\n",
              "          google.colab.kernel.accessAllowed ? 'block' : 'none';\n",
              "\n",
              "        async function convertToInteractive(key) {\n",
              "          const element = document.querySelector('#df-f794b388-db1f-4492-bb3e-f75587a028dc');\n",
              "          const dataTable =\n",
              "            await google.colab.kernel.invokeFunction('convertToInteractive',\n",
              "                                                     [key], {});\n",
              "          if (!dataTable) return;\n",
              "\n",
              "          const docLinkHtml = 'Like what you see? Visit the ' +\n",
              "            '<a target=\"_blank\" href=https://colab.research.google.com/notebooks/data_table.ipynb>data table notebook</a>'\n",
              "            + ' to learn more about interactive tables.';\n",
              "          element.innerHTML = '';\n",
              "          dataTable['output_type'] = 'display_data';\n",
              "          await google.colab.output.renderOutput(dataTable, element);\n",
              "          const docLink = document.createElement('div');\n",
              "          docLink.innerHTML = docLinkHtml;\n",
              "          element.appendChild(docLink);\n",
              "        }\n",
              "      </script>\n",
              "    </div>\n",
              "  </div>\n",
              "  "
            ]
          },
          "metadata": {},
          "execution_count": 1144
        }
      ]
    },
    {
      "cell_type": "code",
      "source": [
        "X_unlabeled = unlabeled_df.drop('DF2_pr', axis = 1)"
      ],
      "metadata": {
        "id": "e0m70yAUoM_4"
      },
      "execution_count": null,
      "outputs": []
    },
    {
      "cell_type": "code",
      "source": [
        "X_unlabeled = Scaler.transform(X_unlabeled)"
      ],
      "metadata": {
        "id": "Mo38EFMr0PlX"
      },
      "execution_count": null,
      "outputs": []
    },
    {
      "cell_type": "code",
      "source": [
        "X_unlabeled = pd.DataFrame(X_unlabeled)"
      ],
      "metadata": {
        "id": "zs0t86ojvpQz"
      },
      "execution_count": null,
      "outputs": []
    },
    {
      "cell_type": "code",
      "source": [
        "lgbm_best.predict_proba(X_test)"
      ],
      "metadata": {
        "id": "LZR0f31qxssA",
        "colab": {
          "base_uri": "https://localhost:8080/"
        },
        "outputId": "a3f51256-ec71-476f-d561-17418361a31d"
      },
      "execution_count": null,
      "outputs": [
        {
          "output_type": "execute_result",
          "data": {
            "text/plain": [
              "array([[0.32864025, 0.67135975],\n",
              "       [0.41805057, 0.58194943],\n",
              "       [0.2498524 , 0.7501476 ],\n",
              "       [0.2498524 , 0.7501476 ],\n",
              "       [0.34974183, 0.65025817],\n",
              "       [0.2498524 , 0.7501476 ],\n",
              "       [0.38873245, 0.61126755],\n",
              "       [0.38223116, 0.61776884],\n",
              "       [0.54435467, 0.45564533],\n",
              "       [0.31995209, 0.68004791],\n",
              "       [0.37540086, 0.62459914],\n",
              "       [0.48278109, 0.51721891],\n",
              "       [0.3155315 , 0.6844685 ],\n",
              "       [0.41853118, 0.58146882],\n",
              "       [0.43927958, 0.56072042],\n",
              "       [0.45744709, 0.54255291],\n",
              "       [0.33053351, 0.66946649],\n",
              "       [0.51350891, 0.48649109],\n",
              "       [0.35701345, 0.64298655],\n",
              "       [0.2444516 , 0.7555484 ],\n",
              "       [0.37002746, 0.62997254],\n",
              "       [0.5226796 , 0.4773204 ],\n",
              "       [0.35557253, 0.64442747],\n",
              "       [0.42691188, 0.57308812],\n",
              "       [0.42632212, 0.57367788],\n",
              "       [0.39979275, 0.60020725],\n",
              "       [0.47580284, 0.52419716],\n",
              "       [0.35885945, 0.64114055],\n",
              "       [0.31995209, 0.68004791],\n",
              "       [0.54435467, 0.45564533],\n",
              "       [0.3155315 , 0.6844685 ],\n",
              "       [0.35885945, 0.64114055],\n",
              "       [0.37002746, 0.62997254],\n",
              "       [0.25346673, 0.74653327],\n",
              "       [0.2498524 , 0.7501476 ],\n",
              "       [0.40603395, 0.59396605],\n",
              "       [0.25474634, 0.74525366],\n",
              "       [0.48278109, 0.51721891],\n",
              "       [0.37411808, 0.62588192],\n",
              "       [0.37237292, 0.62762708],\n",
              "       [0.38873245, 0.61126755],\n",
              "       [0.41291276, 0.58708724],\n",
              "       [0.5226796 , 0.4773204 ],\n",
              "       [0.50425505, 0.49574495],\n",
              "       [0.38414938, 0.61585062],\n",
              "       [0.48278109, 0.51721891],\n",
              "       [0.47580284, 0.52419716],\n",
              "       [0.25474634, 0.74525366],\n",
              "       [0.41853118, 0.58146882],\n",
              "       [0.44504743, 0.55495257],\n",
              "       [0.38873245, 0.61126755],\n",
              "       [0.36972887, 0.63027113],\n",
              "       [0.35885945, 0.64114055],\n",
              "       [0.44504743, 0.55495257],\n",
              "       [0.43028125, 0.56971875],\n",
              "       [0.51350891, 0.48649109],\n",
              "       [0.2498524 , 0.7501476 ],\n",
              "       [0.38325039, 0.61674961],\n",
              "       [0.38677311, 0.61322689],\n",
              "       [0.2498524 , 0.7501476 ],\n",
              "       [0.38325039, 0.61674961],\n",
              "       [0.2399979 , 0.7600021 ],\n",
              "       [0.3919691 , 0.6080309 ],\n",
              "       [0.38707596, 0.61292404],\n",
              "       [0.51350891, 0.48649109],\n",
              "       [0.42454842, 0.57545158],\n",
              "       [0.36669675, 0.63330325],\n",
              "       [0.42691188, 0.57308812],\n",
              "       [0.42632212, 0.57367788],\n",
              "       [0.2498524 , 0.7501476 ],\n",
              "       [0.51350891, 0.48649109],\n",
              "       [0.33885674, 0.66114326],\n",
              "       [0.41805057, 0.58194943],\n",
              "       [0.23011514, 0.76988486],\n",
              "       [0.38707596, 0.61292404],\n",
              "       [0.32864025, 0.67135975],\n",
              "       [0.42632212, 0.57367788],\n",
              "       [0.38074872, 0.61925128],\n",
              "       [0.31995209, 0.68004791],\n",
              "       [0.25474634, 0.74525366],\n",
              "       [0.30521139, 0.69478861],\n",
              "       [0.4017418 , 0.5982582 ],\n",
              "       [0.42632212, 0.57367788],\n",
              "       [0.2444516 , 0.7555484 ],\n",
              "       [0.41291276, 0.58708724],\n",
              "       [0.48278109, 0.51721891],\n",
              "       [0.51350891, 0.48649109],\n",
              "       [0.25346673, 0.74653327],\n",
              "       [0.36815701, 0.63184299],\n",
              "       [0.42632212, 0.57367788],\n",
              "       [0.48278109, 0.51721891],\n",
              "       [0.32864025, 0.67135975],\n",
              "       [0.42120067, 0.57879933],\n",
              "       [0.42632212, 0.57367788],\n",
              "       [0.3919691 , 0.6080309 ],\n",
              "       [0.38414938, 0.61585062],\n",
              "       [0.51350891, 0.48649109],\n",
              "       [0.2498524 , 0.7501476 ],\n",
              "       [0.35701345, 0.64298655],\n",
              "       [0.38223116, 0.61776884],\n",
              "       [0.31995209, 0.68004791],\n",
              "       [0.37002746, 0.62997254],\n",
              "       [0.55344954, 0.44655046],\n",
              "       [0.41281317, 0.58718683],\n",
              "       [0.36669675, 0.63330325],\n",
              "       [0.23011514, 0.76988486],\n",
              "       [0.3919691 , 0.6080309 ],\n",
              "       [0.2399979 , 0.7600021 ],\n",
              "       [0.47580284, 0.52419716],\n",
              "       [0.54435467, 0.45564533],\n",
              "       [0.37237292, 0.62762708],\n",
              "       [0.33053351, 0.66946649],\n",
              "       [0.38414938, 0.61585062],\n",
              "       [0.35885945, 0.64114055],\n",
              "       [0.41853118, 0.58146882],\n",
              "       [0.38707596, 0.61292404],\n",
              "       [0.48278109, 0.51721891],\n",
              "       [0.54435467, 0.45564533],\n",
              "       [0.2498524 , 0.7501476 ],\n",
              "       [0.54435467, 0.45564533]])"
            ]
          },
          "metadata": {},
          "execution_count": 1148
        }
      ]
    },
    {
      "cell_type": "code",
      "source": [
        "pd.DataFrame(lgbm.predict_proba(X_unlabeled)).describe()"
      ],
      "metadata": {
        "colab": {
          "base_uri": "https://localhost:8080/",
          "height": 300
        },
        "id": "T5LyeGN72h0K",
        "outputId": "e97b2b92-3e28-4127-cd05-daf3cf518877"
      },
      "execution_count": null,
      "outputs": [
        {
          "output_type": "execute_result",
          "data": {
            "text/plain": [
              "                 0            1\n",
              "count  5083.000000  5083.000000\n",
              "mean      0.594128     0.405872\n",
              "std       0.121822     0.121822\n",
              "min       0.244714     0.233574\n",
              "25%       0.498193     0.294240\n",
              "50%       0.595083     0.404917\n",
              "75%       0.705760     0.501807\n",
              "max       0.766426     0.755286"
            ],
            "text/html": [
              "\n",
              "  <div id=\"df-13675a00-89bb-4bae-aa06-59b8f1e9b469\">\n",
              "    <div class=\"colab-df-container\">\n",
              "      <div>\n",
              "<style scoped>\n",
              "    .dataframe tbody tr th:only-of-type {\n",
              "        vertical-align: middle;\n",
              "    }\n",
              "\n",
              "    .dataframe tbody tr th {\n",
              "        vertical-align: top;\n",
              "    }\n",
              "\n",
              "    .dataframe thead th {\n",
              "        text-align: right;\n",
              "    }\n",
              "</style>\n",
              "<table border=\"1\" class=\"dataframe\">\n",
              "  <thead>\n",
              "    <tr style=\"text-align: right;\">\n",
              "      <th></th>\n",
              "      <th>0</th>\n",
              "      <th>1</th>\n",
              "    </tr>\n",
              "  </thead>\n",
              "  <tbody>\n",
              "    <tr>\n",
              "      <th>count</th>\n",
              "      <td>5083.000000</td>\n",
              "      <td>5083.000000</td>\n",
              "    </tr>\n",
              "    <tr>\n",
              "      <th>mean</th>\n",
              "      <td>0.594128</td>\n",
              "      <td>0.405872</td>\n",
              "    </tr>\n",
              "    <tr>\n",
              "      <th>std</th>\n",
              "      <td>0.121822</td>\n",
              "      <td>0.121822</td>\n",
              "    </tr>\n",
              "    <tr>\n",
              "      <th>min</th>\n",
              "      <td>0.244714</td>\n",
              "      <td>0.233574</td>\n",
              "    </tr>\n",
              "    <tr>\n",
              "      <th>25%</th>\n",
              "      <td>0.498193</td>\n",
              "      <td>0.294240</td>\n",
              "    </tr>\n",
              "    <tr>\n",
              "      <th>50%</th>\n",
              "      <td>0.595083</td>\n",
              "      <td>0.404917</td>\n",
              "    </tr>\n",
              "    <tr>\n",
              "      <th>75%</th>\n",
              "      <td>0.705760</td>\n",
              "      <td>0.501807</td>\n",
              "    </tr>\n",
              "    <tr>\n",
              "      <th>max</th>\n",
              "      <td>0.766426</td>\n",
              "      <td>0.755286</td>\n",
              "    </tr>\n",
              "  </tbody>\n",
              "</table>\n",
              "</div>\n",
              "      <button class=\"colab-df-convert\" onclick=\"convertToInteractive('df-13675a00-89bb-4bae-aa06-59b8f1e9b469')\"\n",
              "              title=\"Convert this dataframe to an interactive table.\"\n",
              "              style=\"display:none;\">\n",
              "        \n",
              "  <svg xmlns=\"http://www.w3.org/2000/svg\" height=\"24px\"viewBox=\"0 0 24 24\"\n",
              "       width=\"24px\">\n",
              "    <path d=\"M0 0h24v24H0V0z\" fill=\"none\"/>\n",
              "    <path d=\"M18.56 5.44l.94 2.06.94-2.06 2.06-.94-2.06-.94-.94-2.06-.94 2.06-2.06.94zm-11 1L8.5 8.5l.94-2.06 2.06-.94-2.06-.94L8.5 2.5l-.94 2.06-2.06.94zm10 10l.94 2.06.94-2.06 2.06-.94-2.06-.94-.94-2.06-.94 2.06-2.06.94z\"/><path d=\"M17.41 7.96l-1.37-1.37c-.4-.4-.92-.59-1.43-.59-.52 0-1.04.2-1.43.59L10.3 9.45l-7.72 7.72c-.78.78-.78 2.05 0 2.83L4 21.41c.39.39.9.59 1.41.59.51 0 1.02-.2 1.41-.59l7.78-7.78 2.81-2.81c.8-.78.8-2.07 0-2.86zM5.41 20L4 18.59l7.72-7.72 1.47 1.35L5.41 20z\"/>\n",
              "  </svg>\n",
              "      </button>\n",
              "      \n",
              "  <style>\n",
              "    .colab-df-container {\n",
              "      display:flex;\n",
              "      flex-wrap:wrap;\n",
              "      gap: 12px;\n",
              "    }\n",
              "\n",
              "    .colab-df-convert {\n",
              "      background-color: #E8F0FE;\n",
              "      border: none;\n",
              "      border-radius: 50%;\n",
              "      cursor: pointer;\n",
              "      display: none;\n",
              "      fill: #1967D2;\n",
              "      height: 32px;\n",
              "      padding: 0 0 0 0;\n",
              "      width: 32px;\n",
              "    }\n",
              "\n",
              "    .colab-df-convert:hover {\n",
              "      background-color: #E2EBFA;\n",
              "      box-shadow: 0px 1px 2px rgba(60, 64, 67, 0.3), 0px 1px 3px 1px rgba(60, 64, 67, 0.15);\n",
              "      fill: #174EA6;\n",
              "    }\n",
              "\n",
              "    [theme=dark] .colab-df-convert {\n",
              "      background-color: #3B4455;\n",
              "      fill: #D2E3FC;\n",
              "    }\n",
              "\n",
              "    [theme=dark] .colab-df-convert:hover {\n",
              "      background-color: #434B5C;\n",
              "      box-shadow: 0px 1px 3px 1px rgba(0, 0, 0, 0.15);\n",
              "      filter: drop-shadow(0px 1px 2px rgba(0, 0, 0, 0.3));\n",
              "      fill: #FFFFFF;\n",
              "    }\n",
              "  </style>\n",
              "\n",
              "      <script>\n",
              "        const buttonEl =\n",
              "          document.querySelector('#df-13675a00-89bb-4bae-aa06-59b8f1e9b469 button.colab-df-convert');\n",
              "        buttonEl.style.display =\n",
              "          google.colab.kernel.accessAllowed ? 'block' : 'none';\n",
              "\n",
              "        async function convertToInteractive(key) {\n",
              "          const element = document.querySelector('#df-13675a00-89bb-4bae-aa06-59b8f1e9b469');\n",
              "          const dataTable =\n",
              "            await google.colab.kernel.invokeFunction('convertToInteractive',\n",
              "                                                     [key], {});\n",
              "          if (!dataTable) return;\n",
              "\n",
              "          const docLinkHtml = 'Like what you see? Visit the ' +\n",
              "            '<a target=\"_blank\" href=https://colab.research.google.com/notebooks/data_table.ipynb>data table notebook</a>'\n",
              "            + ' to learn more about interactive tables.';\n",
              "          element.innerHTML = '';\n",
              "          dataTable['output_type'] = 'display_data';\n",
              "          await google.colab.output.renderOutput(dataTable, element);\n",
              "          const docLink = document.createElement('div');\n",
              "          docLink.innerHTML = docLinkHtml;\n",
              "          element.appendChild(docLink);\n",
              "        }\n",
              "      </script>\n",
              "    </div>\n",
              "  </div>\n",
              "  "
            ]
          },
          "metadata": {},
          "execution_count": 1149
        }
      ]
    },
    {
      "cell_type": "code",
      "source": [
        "X_train = pd.DataFrame(X_train)\n",
        "X_train"
      ],
      "metadata": {
        "colab": {
          "base_uri": "https://localhost:8080/",
          "height": 424
        },
        "id": "Rd-pIjon1g1t",
        "outputId": "7f1f6db0-4cf9-4ece-d6af-c219d624842b"
      },
      "execution_count": null,
      "outputs": [
        {
          "output_type": "execute_result",
          "data": {
            "text/plain": [
              "        0    1         2         3         4    5    6    7    8         9   \\\n",
              "0    0.500  1.0  0.066667  0.000000  0.666667  1.0  0.6  1.0  0.0  1.000000   \n",
              "1    0.250  1.0  0.716667  0.666667  0.000000  0.0  0.2  1.0  1.0  0.000000   \n",
              "2    0.000  1.0  0.516667  1.000000  1.000000  0.0  0.2  1.0  0.5  0.000000   \n",
              "3    0.000  1.0  0.766667  0.000000  0.000000  0.0  0.0  1.0  0.0  0.011494   \n",
              "4    0.875  1.0  0.816667  0.000000  0.000000  1.0  0.2  1.0  0.5  0.000000   \n",
              "..     ...  ...       ...       ...       ...  ...  ...  ...  ...       ...   \n",
              "120  0.500  1.0  0.450000  0.000000  1.000000  1.0  0.8  1.0  0.0  0.000000   \n",
              "121  0.500  1.0  0.033333  0.666667  0.666667  1.0  0.4  1.0  0.5  1.000000   \n",
              "122  0.500  1.0  0.566667  0.000000  0.666667  0.0  0.2  1.0  0.5  0.000000   \n",
              "123  0.875  1.0  0.833333  0.666667  0.666667  1.0  0.2  1.0  1.0  0.000000   \n",
              "124  0.000  1.0  0.616667  0.666667  1.000000  1.0  0.6  1.0  0.5  0.000000   \n",
              "\n",
              "       10   11        12   13   14   15  \n",
              "0    0.50  1.0  0.000000  1.0  1.0  1.0  \n",
              "1    0.75  0.0  1.000000  1.0  0.0  1.0  \n",
              "2    0.50  1.0  0.285714  1.0  1.0  1.0  \n",
              "3    0.50  1.0  1.000000  1.0  0.0  1.0  \n",
              "4    0.50  1.0  1.000000  1.0  1.0  1.0  \n",
              "..    ...  ...       ...  ...  ...  ...  \n",
              "120  0.50  1.0  0.142857  1.0  0.0  1.0  \n",
              "121  0.75  1.0  0.285714  0.0  1.0  0.0  \n",
              "122  0.50  1.0  0.285714  1.0  1.0  1.0  \n",
              "123  0.75  1.0  0.000000  1.0  0.0  1.0  \n",
              "124  0.50  1.0  0.142857  1.0  0.0  1.0  \n",
              "\n",
              "[125 rows x 16 columns]"
            ],
            "text/html": [
              "\n",
              "  <div id=\"df-6e6b6fc7-d196-4cf3-b958-bbf403ecefab\">\n",
              "    <div class=\"colab-df-container\">\n",
              "      <div>\n",
              "<style scoped>\n",
              "    .dataframe tbody tr th:only-of-type {\n",
              "        vertical-align: middle;\n",
              "    }\n",
              "\n",
              "    .dataframe tbody tr th {\n",
              "        vertical-align: top;\n",
              "    }\n",
              "\n",
              "    .dataframe thead th {\n",
              "        text-align: right;\n",
              "    }\n",
              "</style>\n",
              "<table border=\"1\" class=\"dataframe\">\n",
              "  <thead>\n",
              "    <tr style=\"text-align: right;\">\n",
              "      <th></th>\n",
              "      <th>0</th>\n",
              "      <th>1</th>\n",
              "      <th>2</th>\n",
              "      <th>3</th>\n",
              "      <th>4</th>\n",
              "      <th>5</th>\n",
              "      <th>6</th>\n",
              "      <th>7</th>\n",
              "      <th>8</th>\n",
              "      <th>9</th>\n",
              "      <th>10</th>\n",
              "      <th>11</th>\n",
              "      <th>12</th>\n",
              "      <th>13</th>\n",
              "      <th>14</th>\n",
              "      <th>15</th>\n",
              "    </tr>\n",
              "  </thead>\n",
              "  <tbody>\n",
              "    <tr>\n",
              "      <th>0</th>\n",
              "      <td>0.500</td>\n",
              "      <td>1.0</td>\n",
              "      <td>0.066667</td>\n",
              "      <td>0.000000</td>\n",
              "      <td>0.666667</td>\n",
              "      <td>1.0</td>\n",
              "      <td>0.6</td>\n",
              "      <td>1.0</td>\n",
              "      <td>0.0</td>\n",
              "      <td>1.000000</td>\n",
              "      <td>0.50</td>\n",
              "      <td>1.0</td>\n",
              "      <td>0.000000</td>\n",
              "      <td>1.0</td>\n",
              "      <td>1.0</td>\n",
              "      <td>1.0</td>\n",
              "    </tr>\n",
              "    <tr>\n",
              "      <th>1</th>\n",
              "      <td>0.250</td>\n",
              "      <td>1.0</td>\n",
              "      <td>0.716667</td>\n",
              "      <td>0.666667</td>\n",
              "      <td>0.000000</td>\n",
              "      <td>0.0</td>\n",
              "      <td>0.2</td>\n",
              "      <td>1.0</td>\n",
              "      <td>1.0</td>\n",
              "      <td>0.000000</td>\n",
              "      <td>0.75</td>\n",
              "      <td>0.0</td>\n",
              "      <td>1.000000</td>\n",
              "      <td>1.0</td>\n",
              "      <td>0.0</td>\n",
              "      <td>1.0</td>\n",
              "    </tr>\n",
              "    <tr>\n",
              "      <th>2</th>\n",
              "      <td>0.000</td>\n",
              "      <td>1.0</td>\n",
              "      <td>0.516667</td>\n",
              "      <td>1.000000</td>\n",
              "      <td>1.000000</td>\n",
              "      <td>0.0</td>\n",
              "      <td>0.2</td>\n",
              "      <td>1.0</td>\n",
              "      <td>0.5</td>\n",
              "      <td>0.000000</td>\n",
              "      <td>0.50</td>\n",
              "      <td>1.0</td>\n",
              "      <td>0.285714</td>\n",
              "      <td>1.0</td>\n",
              "      <td>1.0</td>\n",
              "      <td>1.0</td>\n",
              "    </tr>\n",
              "    <tr>\n",
              "      <th>3</th>\n",
              "      <td>0.000</td>\n",
              "      <td>1.0</td>\n",
              "      <td>0.766667</td>\n",
              "      <td>0.000000</td>\n",
              "      <td>0.000000</td>\n",
              "      <td>0.0</td>\n",
              "      <td>0.0</td>\n",
              "      <td>1.0</td>\n",
              "      <td>0.0</td>\n",
              "      <td>0.011494</td>\n",
              "      <td>0.50</td>\n",
              "      <td>1.0</td>\n",
              "      <td>1.000000</td>\n",
              "      <td>1.0</td>\n",
              "      <td>0.0</td>\n",
              "      <td>1.0</td>\n",
              "    </tr>\n",
              "    <tr>\n",
              "      <th>4</th>\n",
              "      <td>0.875</td>\n",
              "      <td>1.0</td>\n",
              "      <td>0.816667</td>\n",
              "      <td>0.000000</td>\n",
              "      <td>0.000000</td>\n",
              "      <td>1.0</td>\n",
              "      <td>0.2</td>\n",
              "      <td>1.0</td>\n",
              "      <td>0.5</td>\n",
              "      <td>0.000000</td>\n",
              "      <td>0.50</td>\n",
              "      <td>1.0</td>\n",
              "      <td>1.000000</td>\n",
              "      <td>1.0</td>\n",
              "      <td>1.0</td>\n",
              "      <td>1.0</td>\n",
              "    </tr>\n",
              "    <tr>\n",
              "      <th>...</th>\n",
              "      <td>...</td>\n",
              "      <td>...</td>\n",
              "      <td>...</td>\n",
              "      <td>...</td>\n",
              "      <td>...</td>\n",
              "      <td>...</td>\n",
              "      <td>...</td>\n",
              "      <td>...</td>\n",
              "      <td>...</td>\n",
              "      <td>...</td>\n",
              "      <td>...</td>\n",
              "      <td>...</td>\n",
              "      <td>...</td>\n",
              "      <td>...</td>\n",
              "      <td>...</td>\n",
              "      <td>...</td>\n",
              "    </tr>\n",
              "    <tr>\n",
              "      <th>120</th>\n",
              "      <td>0.500</td>\n",
              "      <td>1.0</td>\n",
              "      <td>0.450000</td>\n",
              "      <td>0.000000</td>\n",
              "      <td>1.000000</td>\n",
              "      <td>1.0</td>\n",
              "      <td>0.8</td>\n",
              "      <td>1.0</td>\n",
              "      <td>0.0</td>\n",
              "      <td>0.000000</td>\n",
              "      <td>0.50</td>\n",
              "      <td>1.0</td>\n",
              "      <td>0.142857</td>\n",
              "      <td>1.0</td>\n",
              "      <td>0.0</td>\n",
              "      <td>1.0</td>\n",
              "    </tr>\n",
              "    <tr>\n",
              "      <th>121</th>\n",
              "      <td>0.500</td>\n",
              "      <td>1.0</td>\n",
              "      <td>0.033333</td>\n",
              "      <td>0.666667</td>\n",
              "      <td>0.666667</td>\n",
              "      <td>1.0</td>\n",
              "      <td>0.4</td>\n",
              "      <td>1.0</td>\n",
              "      <td>0.5</td>\n",
              "      <td>1.000000</td>\n",
              "      <td>0.75</td>\n",
              "      <td>1.0</td>\n",
              "      <td>0.285714</td>\n",
              "      <td>0.0</td>\n",
              "      <td>1.0</td>\n",
              "      <td>0.0</td>\n",
              "    </tr>\n",
              "    <tr>\n",
              "      <th>122</th>\n",
              "      <td>0.500</td>\n",
              "      <td>1.0</td>\n",
              "      <td>0.566667</td>\n",
              "      <td>0.000000</td>\n",
              "      <td>0.666667</td>\n",
              "      <td>0.0</td>\n",
              "      <td>0.2</td>\n",
              "      <td>1.0</td>\n",
              "      <td>0.5</td>\n",
              "      <td>0.000000</td>\n",
              "      <td>0.50</td>\n",
              "      <td>1.0</td>\n",
              "      <td>0.285714</td>\n",
              "      <td>1.0</td>\n",
              "      <td>1.0</td>\n",
              "      <td>1.0</td>\n",
              "    </tr>\n",
              "    <tr>\n",
              "      <th>123</th>\n",
              "      <td>0.875</td>\n",
              "      <td>1.0</td>\n",
              "      <td>0.833333</td>\n",
              "      <td>0.666667</td>\n",
              "      <td>0.666667</td>\n",
              "      <td>1.0</td>\n",
              "      <td>0.2</td>\n",
              "      <td>1.0</td>\n",
              "      <td>1.0</td>\n",
              "      <td>0.000000</td>\n",
              "      <td>0.75</td>\n",
              "      <td>1.0</td>\n",
              "      <td>0.000000</td>\n",
              "      <td>1.0</td>\n",
              "      <td>0.0</td>\n",
              "      <td>1.0</td>\n",
              "    </tr>\n",
              "    <tr>\n",
              "      <th>124</th>\n",
              "      <td>0.000</td>\n",
              "      <td>1.0</td>\n",
              "      <td>0.616667</td>\n",
              "      <td>0.666667</td>\n",
              "      <td>1.000000</td>\n",
              "      <td>1.0</td>\n",
              "      <td>0.6</td>\n",
              "      <td>1.0</td>\n",
              "      <td>0.5</td>\n",
              "      <td>0.000000</td>\n",
              "      <td>0.50</td>\n",
              "      <td>1.0</td>\n",
              "      <td>0.142857</td>\n",
              "      <td>1.0</td>\n",
              "      <td>0.0</td>\n",
              "      <td>1.0</td>\n",
              "    </tr>\n",
              "  </tbody>\n",
              "</table>\n",
              "<p>125 rows × 16 columns</p>\n",
              "</div>\n",
              "      <button class=\"colab-df-convert\" onclick=\"convertToInteractive('df-6e6b6fc7-d196-4cf3-b958-bbf403ecefab')\"\n",
              "              title=\"Convert this dataframe to an interactive table.\"\n",
              "              style=\"display:none;\">\n",
              "        \n",
              "  <svg xmlns=\"http://www.w3.org/2000/svg\" height=\"24px\"viewBox=\"0 0 24 24\"\n",
              "       width=\"24px\">\n",
              "    <path d=\"M0 0h24v24H0V0z\" fill=\"none\"/>\n",
              "    <path d=\"M18.56 5.44l.94 2.06.94-2.06 2.06-.94-2.06-.94-.94-2.06-.94 2.06-2.06.94zm-11 1L8.5 8.5l.94-2.06 2.06-.94-2.06-.94L8.5 2.5l-.94 2.06-2.06.94zm10 10l.94 2.06.94-2.06 2.06-.94-2.06-.94-.94-2.06-.94 2.06-2.06.94z\"/><path d=\"M17.41 7.96l-1.37-1.37c-.4-.4-.92-.59-1.43-.59-.52 0-1.04.2-1.43.59L10.3 9.45l-7.72 7.72c-.78.78-.78 2.05 0 2.83L4 21.41c.39.39.9.59 1.41.59.51 0 1.02-.2 1.41-.59l7.78-7.78 2.81-2.81c.8-.78.8-2.07 0-2.86zM5.41 20L4 18.59l7.72-7.72 1.47 1.35L5.41 20z\"/>\n",
              "  </svg>\n",
              "      </button>\n",
              "      \n",
              "  <style>\n",
              "    .colab-df-container {\n",
              "      display:flex;\n",
              "      flex-wrap:wrap;\n",
              "      gap: 12px;\n",
              "    }\n",
              "\n",
              "    .colab-df-convert {\n",
              "      background-color: #E8F0FE;\n",
              "      border: none;\n",
              "      border-radius: 50%;\n",
              "      cursor: pointer;\n",
              "      display: none;\n",
              "      fill: #1967D2;\n",
              "      height: 32px;\n",
              "      padding: 0 0 0 0;\n",
              "      width: 32px;\n",
              "    }\n",
              "\n",
              "    .colab-df-convert:hover {\n",
              "      background-color: #E2EBFA;\n",
              "      box-shadow: 0px 1px 2px rgba(60, 64, 67, 0.3), 0px 1px 3px 1px rgba(60, 64, 67, 0.15);\n",
              "      fill: #174EA6;\n",
              "    }\n",
              "\n",
              "    [theme=dark] .colab-df-convert {\n",
              "      background-color: #3B4455;\n",
              "      fill: #D2E3FC;\n",
              "    }\n",
              "\n",
              "    [theme=dark] .colab-df-convert:hover {\n",
              "      background-color: #434B5C;\n",
              "      box-shadow: 0px 1px 3px 1px rgba(0, 0, 0, 0.15);\n",
              "      filter: drop-shadow(0px 1px 2px rgba(0, 0, 0, 0.3));\n",
              "      fill: #FFFFFF;\n",
              "    }\n",
              "  </style>\n",
              "\n",
              "      <script>\n",
              "        const buttonEl =\n",
              "          document.querySelector('#df-6e6b6fc7-d196-4cf3-b958-bbf403ecefab button.colab-df-convert');\n",
              "        buttonEl.style.display =\n",
              "          google.colab.kernel.accessAllowed ? 'block' : 'none';\n",
              "\n",
              "        async function convertToInteractive(key) {\n",
              "          const element = document.querySelector('#df-6e6b6fc7-d196-4cf3-b958-bbf403ecefab');\n",
              "          const dataTable =\n",
              "            await google.colab.kernel.invokeFunction('convertToInteractive',\n",
              "                                                     [key], {});\n",
              "          if (!dataTable) return;\n",
              "\n",
              "          const docLinkHtml = 'Like what you see? Visit the ' +\n",
              "            '<a target=\"_blank\" href=https://colab.research.google.com/notebooks/data_table.ipynb>data table notebook</a>'\n",
              "            + ' to learn more about interactive tables.';\n",
              "          element.innerHTML = '';\n",
              "          dataTable['output_type'] = 'display_data';\n",
              "          await google.colab.output.renderOutput(dataTable, element);\n",
              "          const docLink = document.createElement('div');\n",
              "          docLink.innerHTML = docLinkHtml;\n",
              "          element.appendChild(docLink);\n",
              "        }\n",
              "      </script>\n",
              "    </div>\n",
              "  </div>\n",
              "  "
            ]
          },
          "metadata": {},
          "execution_count": 1150
        }
      ]
    },
    {
      "cell_type": "code",
      "source": [
        "X_train_over = pd.DataFrame(X_train_over)\n",
        "X_train"
      ],
      "metadata": {
        "colab": {
          "base_uri": "https://localhost:8080/",
          "height": 424
        },
        "id": "wX74v_t45f5n",
        "outputId": "0d48a37c-8cd6-421c-a50f-0b900e97107d"
      },
      "execution_count": null,
      "outputs": [
        {
          "output_type": "execute_result",
          "data": {
            "text/plain": [
              "        0    1         2         3         4    5    6    7    8         9   \\\n",
              "0    0.500  1.0  0.066667  0.000000  0.666667  1.0  0.6  1.0  0.0  1.000000   \n",
              "1    0.250  1.0  0.716667  0.666667  0.000000  0.0  0.2  1.0  1.0  0.000000   \n",
              "2    0.000  1.0  0.516667  1.000000  1.000000  0.0  0.2  1.0  0.5  0.000000   \n",
              "3    0.000  1.0  0.766667  0.000000  0.000000  0.0  0.0  1.0  0.0  0.011494   \n",
              "4    0.875  1.0  0.816667  0.000000  0.000000  1.0  0.2  1.0  0.5  0.000000   \n",
              "..     ...  ...       ...       ...       ...  ...  ...  ...  ...       ...   \n",
              "120  0.500  1.0  0.450000  0.000000  1.000000  1.0  0.8  1.0  0.0  0.000000   \n",
              "121  0.500  1.0  0.033333  0.666667  0.666667  1.0  0.4  1.0  0.5  1.000000   \n",
              "122  0.500  1.0  0.566667  0.000000  0.666667  0.0  0.2  1.0  0.5  0.000000   \n",
              "123  0.875  1.0  0.833333  0.666667  0.666667  1.0  0.2  1.0  1.0  0.000000   \n",
              "124  0.000  1.0  0.616667  0.666667  1.000000  1.0  0.6  1.0  0.5  0.000000   \n",
              "\n",
              "       10   11        12   13   14   15  \n",
              "0    0.50  1.0  0.000000  1.0  1.0  1.0  \n",
              "1    0.75  0.0  1.000000  1.0  0.0  1.0  \n",
              "2    0.50  1.0  0.285714  1.0  1.0  1.0  \n",
              "3    0.50  1.0  1.000000  1.0  0.0  1.0  \n",
              "4    0.50  1.0  1.000000  1.0  1.0  1.0  \n",
              "..    ...  ...       ...  ...  ...  ...  \n",
              "120  0.50  1.0  0.142857  1.0  0.0  1.0  \n",
              "121  0.75  1.0  0.285714  0.0  1.0  0.0  \n",
              "122  0.50  1.0  0.285714  1.0  1.0  1.0  \n",
              "123  0.75  1.0  0.000000  1.0  0.0  1.0  \n",
              "124  0.50  1.0  0.142857  1.0  0.0  1.0  \n",
              "\n",
              "[125 rows x 16 columns]"
            ],
            "text/html": [
              "\n",
              "  <div id=\"df-8a65f572-e17a-4345-b020-55f8c6e8426d\">\n",
              "    <div class=\"colab-df-container\">\n",
              "      <div>\n",
              "<style scoped>\n",
              "    .dataframe tbody tr th:only-of-type {\n",
              "        vertical-align: middle;\n",
              "    }\n",
              "\n",
              "    .dataframe tbody tr th {\n",
              "        vertical-align: top;\n",
              "    }\n",
              "\n",
              "    .dataframe thead th {\n",
              "        text-align: right;\n",
              "    }\n",
              "</style>\n",
              "<table border=\"1\" class=\"dataframe\">\n",
              "  <thead>\n",
              "    <tr style=\"text-align: right;\">\n",
              "      <th></th>\n",
              "      <th>0</th>\n",
              "      <th>1</th>\n",
              "      <th>2</th>\n",
              "      <th>3</th>\n",
              "      <th>4</th>\n",
              "      <th>5</th>\n",
              "      <th>6</th>\n",
              "      <th>7</th>\n",
              "      <th>8</th>\n",
              "      <th>9</th>\n",
              "      <th>10</th>\n",
              "      <th>11</th>\n",
              "      <th>12</th>\n",
              "      <th>13</th>\n",
              "      <th>14</th>\n",
              "      <th>15</th>\n",
              "    </tr>\n",
              "  </thead>\n",
              "  <tbody>\n",
              "    <tr>\n",
              "      <th>0</th>\n",
              "      <td>0.500</td>\n",
              "      <td>1.0</td>\n",
              "      <td>0.066667</td>\n",
              "      <td>0.000000</td>\n",
              "      <td>0.666667</td>\n",
              "      <td>1.0</td>\n",
              "      <td>0.6</td>\n",
              "      <td>1.0</td>\n",
              "      <td>0.0</td>\n",
              "      <td>1.000000</td>\n",
              "      <td>0.50</td>\n",
              "      <td>1.0</td>\n",
              "      <td>0.000000</td>\n",
              "      <td>1.0</td>\n",
              "      <td>1.0</td>\n",
              "      <td>1.0</td>\n",
              "    </tr>\n",
              "    <tr>\n",
              "      <th>1</th>\n",
              "      <td>0.250</td>\n",
              "      <td>1.0</td>\n",
              "      <td>0.716667</td>\n",
              "      <td>0.666667</td>\n",
              "      <td>0.000000</td>\n",
              "      <td>0.0</td>\n",
              "      <td>0.2</td>\n",
              "      <td>1.0</td>\n",
              "      <td>1.0</td>\n",
              "      <td>0.000000</td>\n",
              "      <td>0.75</td>\n",
              "      <td>0.0</td>\n",
              "      <td>1.000000</td>\n",
              "      <td>1.0</td>\n",
              "      <td>0.0</td>\n",
              "      <td>1.0</td>\n",
              "    </tr>\n",
              "    <tr>\n",
              "      <th>2</th>\n",
              "      <td>0.000</td>\n",
              "      <td>1.0</td>\n",
              "      <td>0.516667</td>\n",
              "      <td>1.000000</td>\n",
              "      <td>1.000000</td>\n",
              "      <td>0.0</td>\n",
              "      <td>0.2</td>\n",
              "      <td>1.0</td>\n",
              "      <td>0.5</td>\n",
              "      <td>0.000000</td>\n",
              "      <td>0.50</td>\n",
              "      <td>1.0</td>\n",
              "      <td>0.285714</td>\n",
              "      <td>1.0</td>\n",
              "      <td>1.0</td>\n",
              "      <td>1.0</td>\n",
              "    </tr>\n",
              "    <tr>\n",
              "      <th>3</th>\n",
              "      <td>0.000</td>\n",
              "      <td>1.0</td>\n",
              "      <td>0.766667</td>\n",
              "      <td>0.000000</td>\n",
              "      <td>0.000000</td>\n",
              "      <td>0.0</td>\n",
              "      <td>0.0</td>\n",
              "      <td>1.0</td>\n",
              "      <td>0.0</td>\n",
              "      <td>0.011494</td>\n",
              "      <td>0.50</td>\n",
              "      <td>1.0</td>\n",
              "      <td>1.000000</td>\n",
              "      <td>1.0</td>\n",
              "      <td>0.0</td>\n",
              "      <td>1.0</td>\n",
              "    </tr>\n",
              "    <tr>\n",
              "      <th>4</th>\n",
              "      <td>0.875</td>\n",
              "      <td>1.0</td>\n",
              "      <td>0.816667</td>\n",
              "      <td>0.000000</td>\n",
              "      <td>0.000000</td>\n",
              "      <td>1.0</td>\n",
              "      <td>0.2</td>\n",
              "      <td>1.0</td>\n",
              "      <td>0.5</td>\n",
              "      <td>0.000000</td>\n",
              "      <td>0.50</td>\n",
              "      <td>1.0</td>\n",
              "      <td>1.000000</td>\n",
              "      <td>1.0</td>\n",
              "      <td>1.0</td>\n",
              "      <td>1.0</td>\n",
              "    </tr>\n",
              "    <tr>\n",
              "      <th>...</th>\n",
              "      <td>...</td>\n",
              "      <td>...</td>\n",
              "      <td>...</td>\n",
              "      <td>...</td>\n",
              "      <td>...</td>\n",
              "      <td>...</td>\n",
              "      <td>...</td>\n",
              "      <td>...</td>\n",
              "      <td>...</td>\n",
              "      <td>...</td>\n",
              "      <td>...</td>\n",
              "      <td>...</td>\n",
              "      <td>...</td>\n",
              "      <td>...</td>\n",
              "      <td>...</td>\n",
              "      <td>...</td>\n",
              "    </tr>\n",
              "    <tr>\n",
              "      <th>120</th>\n",
              "      <td>0.500</td>\n",
              "      <td>1.0</td>\n",
              "      <td>0.450000</td>\n",
              "      <td>0.000000</td>\n",
              "      <td>1.000000</td>\n",
              "      <td>1.0</td>\n",
              "      <td>0.8</td>\n",
              "      <td>1.0</td>\n",
              "      <td>0.0</td>\n",
              "      <td>0.000000</td>\n",
              "      <td>0.50</td>\n",
              "      <td>1.0</td>\n",
              "      <td>0.142857</td>\n",
              "      <td>1.0</td>\n",
              "      <td>0.0</td>\n",
              "      <td>1.0</td>\n",
              "    </tr>\n",
              "    <tr>\n",
              "      <th>121</th>\n",
              "      <td>0.500</td>\n",
              "      <td>1.0</td>\n",
              "      <td>0.033333</td>\n",
              "      <td>0.666667</td>\n",
              "      <td>0.666667</td>\n",
              "      <td>1.0</td>\n",
              "      <td>0.4</td>\n",
              "      <td>1.0</td>\n",
              "      <td>0.5</td>\n",
              "      <td>1.000000</td>\n",
              "      <td>0.75</td>\n",
              "      <td>1.0</td>\n",
              "      <td>0.285714</td>\n",
              "      <td>0.0</td>\n",
              "      <td>1.0</td>\n",
              "      <td>0.0</td>\n",
              "    </tr>\n",
              "    <tr>\n",
              "      <th>122</th>\n",
              "      <td>0.500</td>\n",
              "      <td>1.0</td>\n",
              "      <td>0.566667</td>\n",
              "      <td>0.000000</td>\n",
              "      <td>0.666667</td>\n",
              "      <td>0.0</td>\n",
              "      <td>0.2</td>\n",
              "      <td>1.0</td>\n",
              "      <td>0.5</td>\n",
              "      <td>0.000000</td>\n",
              "      <td>0.50</td>\n",
              "      <td>1.0</td>\n",
              "      <td>0.285714</td>\n",
              "      <td>1.0</td>\n",
              "      <td>1.0</td>\n",
              "      <td>1.0</td>\n",
              "    </tr>\n",
              "    <tr>\n",
              "      <th>123</th>\n",
              "      <td>0.875</td>\n",
              "      <td>1.0</td>\n",
              "      <td>0.833333</td>\n",
              "      <td>0.666667</td>\n",
              "      <td>0.666667</td>\n",
              "      <td>1.0</td>\n",
              "      <td>0.2</td>\n",
              "      <td>1.0</td>\n",
              "      <td>1.0</td>\n",
              "      <td>0.000000</td>\n",
              "      <td>0.75</td>\n",
              "      <td>1.0</td>\n",
              "      <td>0.000000</td>\n",
              "      <td>1.0</td>\n",
              "      <td>0.0</td>\n",
              "      <td>1.0</td>\n",
              "    </tr>\n",
              "    <tr>\n",
              "      <th>124</th>\n",
              "      <td>0.000</td>\n",
              "      <td>1.0</td>\n",
              "      <td>0.616667</td>\n",
              "      <td>0.666667</td>\n",
              "      <td>1.000000</td>\n",
              "      <td>1.0</td>\n",
              "      <td>0.6</td>\n",
              "      <td>1.0</td>\n",
              "      <td>0.5</td>\n",
              "      <td>0.000000</td>\n",
              "      <td>0.50</td>\n",
              "      <td>1.0</td>\n",
              "      <td>0.142857</td>\n",
              "      <td>1.0</td>\n",
              "      <td>0.0</td>\n",
              "      <td>1.0</td>\n",
              "    </tr>\n",
              "  </tbody>\n",
              "</table>\n",
              "<p>125 rows × 16 columns</p>\n",
              "</div>\n",
              "      <button class=\"colab-df-convert\" onclick=\"convertToInteractive('df-8a65f572-e17a-4345-b020-55f8c6e8426d')\"\n",
              "              title=\"Convert this dataframe to an interactive table.\"\n",
              "              style=\"display:none;\">\n",
              "        \n",
              "  <svg xmlns=\"http://www.w3.org/2000/svg\" height=\"24px\"viewBox=\"0 0 24 24\"\n",
              "       width=\"24px\">\n",
              "    <path d=\"M0 0h24v24H0V0z\" fill=\"none\"/>\n",
              "    <path d=\"M18.56 5.44l.94 2.06.94-2.06 2.06-.94-2.06-.94-.94-2.06-.94 2.06-2.06.94zm-11 1L8.5 8.5l.94-2.06 2.06-.94-2.06-.94L8.5 2.5l-.94 2.06-2.06.94zm10 10l.94 2.06.94-2.06 2.06-.94-2.06-.94-.94-2.06-.94 2.06-2.06.94z\"/><path d=\"M17.41 7.96l-1.37-1.37c-.4-.4-.92-.59-1.43-.59-.52 0-1.04.2-1.43.59L10.3 9.45l-7.72 7.72c-.78.78-.78 2.05 0 2.83L4 21.41c.39.39.9.59 1.41.59.51 0 1.02-.2 1.41-.59l7.78-7.78 2.81-2.81c.8-.78.8-2.07 0-2.86zM5.41 20L4 18.59l7.72-7.72 1.47 1.35L5.41 20z\"/>\n",
              "  </svg>\n",
              "      </button>\n",
              "      \n",
              "  <style>\n",
              "    .colab-df-container {\n",
              "      display:flex;\n",
              "      flex-wrap:wrap;\n",
              "      gap: 12px;\n",
              "    }\n",
              "\n",
              "    .colab-df-convert {\n",
              "      background-color: #E8F0FE;\n",
              "      border: none;\n",
              "      border-radius: 50%;\n",
              "      cursor: pointer;\n",
              "      display: none;\n",
              "      fill: #1967D2;\n",
              "      height: 32px;\n",
              "      padding: 0 0 0 0;\n",
              "      width: 32px;\n",
              "    }\n",
              "\n",
              "    .colab-df-convert:hover {\n",
              "      background-color: #E2EBFA;\n",
              "      box-shadow: 0px 1px 2px rgba(60, 64, 67, 0.3), 0px 1px 3px 1px rgba(60, 64, 67, 0.15);\n",
              "      fill: #174EA6;\n",
              "    }\n",
              "\n",
              "    [theme=dark] .colab-df-convert {\n",
              "      background-color: #3B4455;\n",
              "      fill: #D2E3FC;\n",
              "    }\n",
              "\n",
              "    [theme=dark] .colab-df-convert:hover {\n",
              "      background-color: #434B5C;\n",
              "      box-shadow: 0px 1px 3px 1px rgba(0, 0, 0, 0.15);\n",
              "      filter: drop-shadow(0px 1px 2px rgba(0, 0, 0, 0.3));\n",
              "      fill: #FFFFFF;\n",
              "    }\n",
              "  </style>\n",
              "\n",
              "      <script>\n",
              "        const buttonEl =\n",
              "          document.querySelector('#df-8a65f572-e17a-4345-b020-55f8c6e8426d button.colab-df-convert');\n",
              "        buttonEl.style.display =\n",
              "          google.colab.kernel.accessAllowed ? 'block' : 'none';\n",
              "\n",
              "        async function convertToInteractive(key) {\n",
              "          const element = document.querySelector('#df-8a65f572-e17a-4345-b020-55f8c6e8426d');\n",
              "          const dataTable =\n",
              "            await google.colab.kernel.invokeFunction('convertToInteractive',\n",
              "                                                     [key], {});\n",
              "          if (!dataTable) return;\n",
              "\n",
              "          const docLinkHtml = 'Like what you see? Visit the ' +\n",
              "            '<a target=\"_blank\" href=https://colab.research.google.com/notebooks/data_table.ipynb>data table notebook</a>'\n",
              "            + ' to learn more about interactive tables.';\n",
              "          element.innerHTML = '';\n",
              "          dataTable['output_type'] = 'display_data';\n",
              "          await google.colab.output.renderOutput(dataTable, element);\n",
              "          const docLink = document.createElement('div');\n",
              "          docLink.innerHTML = docLinkHtml;\n",
              "          element.appendChild(docLink);\n",
              "        }\n",
              "      </script>\n",
              "    </div>\n",
              "  </div>\n",
              "  "
            ]
          },
          "metadata": {},
          "execution_count": 1151
        }
      ]
    },
    {
      "cell_type": "markdown",
      "source": [
        "# 내 이론 semi"
      ],
      "metadata": {
        "id": "z15bIGqbsYLx"
      }
    },
    {
      "cell_type": "code",
      "source": [
        "'''\n",
        "from lightgbm import LGBMClassifier\n",
        "lgbm_best = LGBMClassifier(n_estimators= 400, objective='binary', num_iterations = 10, num_leaves =100)\n",
        "evals = [(X_val, y_val)]\n",
        "lgbm_best.fit(X_train, y_train, early_stopping_rounds=10, eval_metric='recall', eval_set=evals, verbose=True)\n",
        "pred_lgbm = lgbm_best.predict(X_test)\n",
        "print(accuracy_score(y_test,pred_lgbm))\n",
        "print(precision_score(y_test,pred_lgbm))\n",
        "print(recall_score(y_test,pred_lgbm))\n",
        "print(f1_score(y_test,pred_lgbm))\n",
        "print(confusion_matrix(y_test,pred_lgbm))\n",
        "\n",
        "plot_confusion_matrix(lgbm_best, X_test, y_test, cmap = 'Blues')\n",
        "'''"
      ],
      "metadata": {
        "colab": {
          "base_uri": "https://localhost:8080/",
          "height": 92
        },
        "id": "6JWfghDlsyvc",
        "outputId": "d86b0101-915a-4ef3-ddc4-283b927ebf08"
      },
      "execution_count": null,
      "outputs": [
        {
          "output_type": "execute_result",
          "data": {
            "text/plain": [
              "\"\\nfrom lightgbm import LGBMClassifier\\nlgbm_best = LGBMClassifier(n_estimators= 400, objective='binary', num_iterations = 10, num_leaves =100)\\nevals = [(X_val, y_val)]\\nlgbm_best.fit(X_train, y_train, early_stopping_rounds=10, eval_metric='recall', eval_set=evals, verbose=True)\\npred_lgbm = lgbm_best.predict(X_test)\\nprint(accuracy_score(y_test,pred_lgbm))\\nprint(precision_score(y_test,pred_lgbm))\\nprint(recall_score(y_test,pred_lgbm))\\nprint(f1_score(y_test,pred_lgbm))\\nprint(confusion_matrix(y_test,pred_lgbm))\\n\\nplot_confusion_matrix(lgbm_best, X_test, y_test, cmap = 'Blues')\\n\""
            ],
            "application/vnd.google.colaboratory.intrinsic+json": {
              "type": "string"
            }
          },
          "metadata": {},
          "execution_count": 1152
        }
      ]
    },
    {
      "cell_type": "code",
      "source": [
        "\n",
        "# Initiate iteration counter\n",
        "iterations = 0\n",
        "\n",
        "# Containers to hold f1_scores and # of pseudo-labels\n",
        "train_f1s = []\n",
        "test_f1s = []\n",
        "test_accs = [] # accuracy\n",
        "test_precis = []\n",
        "test_Recalls = []\n",
        "pseudo_labels = []\n",
        "\n",
        "# Assign value to initiate while loop\n",
        "high_prob = [1]\n",
        "\n",
        "# Loop will run until there are no more high-probability pseudo-labels\n",
        "while len(high_prob) > 0:\n",
        "\n",
        "    # Fit classifier and make train/test predictions\n",
        "    lgbm_best = LGBMClassifier(n_estimators= 400, objective='binary', num_iterations = 10, num_leaves =100)\n",
        "    evals = [(X_val, y_val)]\n",
        "    lgbm_best.fit(X_train, y_train, early_stopping_rounds=10, eval_metric='recall', eval_set=evals, verbose=True)\n",
        "    pred_lgbm = lgbm_best.predict(X_test)\n",
        "\n",
        "    #clf = LogisticRegression(max_iter=1000)\n",
        "    #clf.fit(X_train, y_train)\n",
        "    #y_hat_train = clf.predict(X_train)\n",
        "    #y_hat_test = clf.predict(X_test)\n",
        "\n",
        "    # Calculate and print iteration # and f1 scores, and store f1 scores\n",
        "    #train_f1 = f1_score(y_train, y_hat_train)\n",
        "    test_f1 = f1_score(y_test, pred_lgbm)\n",
        "    #print(type(test_f1))\n",
        "    test_acc =accuracy_score(y_test, pred_lgbm)\n",
        "    test_preci= precision_score(y_test, pred_lgbm)\n",
        "    #test_preci= test_preci.item()\n",
        "    test_Recall = recall_score(y_test, pred_lgbm)\n",
        "    #test_Recall=test_Recall.item()\n",
        "    #test_acc =test_acc.item()\n",
        "    #print(type(test_f1))\n",
        "    print(f\"Iteration {iterations}\")\n",
        "    #print(f\"Train f1: {train_f1}\")\n",
        "    print(f\"Test f1: {test_f1}\")\n",
        "    #train_f1s.append(train_f1)\n",
        "    test_f1s.append(test_f1)\n",
        "    print(f\"Test acc: {test_acc}\")\n",
        "    test_accs.append(test_acc)\n",
        "    print(f\"test preci: {test_preci}\")\n",
        "    test_precis.append(test_preci)\n",
        "    print(f\"test Recall: {test_Recall}\")\n",
        "    test_Recalls.append(test_Recall)\n",
        "\n",
        "\n",
        "    # Generate predictions and probabilities for unlabeled data\n",
        "    print(f\"Now predicting labels for unlabeled data...\")\n",
        "    pred_probs = lgbm_best.predict_proba(X_unlabeled)\n",
        "    preds = lgbm_best.predict(X_unlabeled)\n",
        "    prob_0 = pred_probs[:,0]\n",
        "    prob_1 = pred_probs[:,1]\n",
        "\n",
        "    # Store predictions and probabilities in dataframe\n",
        "    df_pred_prob = pd.DataFrame([])\n",
        "    df_pred_prob['preds'] = preds\n",
        "    df_pred_prob['prob_0'] = prob_0\n",
        "    df_pred_prob['prob_1'] = prob_1\n",
        "    df_pred_prob.index = X_unlabeled.index\n",
        "\n",
        "    # Separate predictions with > 99% probability\n",
        "    high_prob = pd.concat([df_pred_prob.loc[df_pred_prob['prob_0'] > 0.75],\n",
        "                           df_pred_prob.loc[df_pred_prob['prob_1'] > 0.75]], # + (iterations/1000)\n",
        "                          axis=0)\n",
        "    print(iterations)\n",
        "    print(f\"{len(high_prob)} high-probability predictions added to training data.\")\n",
        "\n",
        "    pseudo_labels.append(len(high_prob))\n",
        "\n",
        "    # Add pseudo-labeled data to training data\n",
        "    X_train = pd.concat([X_train, X_unlabeled.loc[high_prob.index]], axis=0)\n",
        "    y_train = pd.concat([y_train, high_prob.preds])\n",
        "\n",
        "    # Drop pseudo-labeled instances from unlabeled data\n",
        "    X_unlabeled = X_unlabeled.drop(index=high_prob.index)\n",
        "    print(f\"{len(X_unlabeled)} unlabeled instances remaining.\\n\")\n",
        "\n",
        "    iterations += 1\n",
        "\n",
        "    if len(X_unlabeled) == 0:\n",
        "      break\n",
        "    else:\n",
        "      continue\n",
        "    # Update iteration counter\n",
        "    #iterations += 1"
      ],
      "metadata": {
        "colab": {
          "base_uri": "https://localhost:8080/"
        },
        "id": "4ixkaPMtsXC6",
        "outputId": "a680fe8a-bddd-454f-8414-891b7a228488"
      },
      "execution_count": null,
      "outputs": [
        {
          "output_type": "stream",
          "name": "stdout",
          "text": [
            "[1]\tvalid_0's binary_logloss: 0.652917\n",
            "Training until validation scores don't improve for 10 rounds.\n",
            "[2]\tvalid_0's binary_logloss: 0.652977\n",
            "[3]\tvalid_0's binary_logloss: 0.64865\n",
            "[4]\tvalid_0's binary_logloss: 0.648253\n",
            "[5]\tvalid_0's binary_logloss: 0.648121\n",
            "[6]\tvalid_0's binary_logloss: 0.648106\n",
            "[7]\tvalid_0's binary_logloss: 0.646693\n",
            "[8]\tvalid_0's binary_logloss: 0.648512\n",
            "[9]\tvalid_0's binary_logloss: 0.648226\n",
            "[10]\tvalid_0's binary_logloss: 0.648138\n",
            "Did not meet early stopping. Best iteration is:\n",
            "[7]\tvalid_0's binary_logloss: 0.646693\n",
            "Iteration 0\n",
            "Test f1: 0.7222222222222222\n",
            "Test acc: 0.5833333333333334\n",
            "test preci: 0.6190476190476191\n",
            "test Recall: 0.8666666666666667\n",
            "Now predicting labels for unlabeled data...\n",
            "0\n",
            "154 high-probability predictions added to training data.\n",
            "4929 unlabeled instances remaining.\n",
            "\n",
            "[1]\tvalid_0's binary_logloss: 0.754429\n",
            "Training until validation scores don't improve for 10 rounds.\n",
            "[2]\tvalid_0's binary_logloss: 0.739842\n",
            "[3]\tvalid_0's binary_logloss: 0.729864\n",
            "[4]\tvalid_0's binary_logloss: 0.723168\n",
            "[5]\tvalid_0's binary_logloss: 0.71888\n",
            "[6]\tvalid_0's binary_logloss: 0.686739\n",
            "[7]\tvalid_0's binary_logloss: 0.680763\n",
            "[8]\tvalid_0's binary_logloss: 0.660693\n",
            "[9]\tvalid_0's binary_logloss: 0.657175\n",
            "[10]\tvalid_0's binary_logloss: 0.654764\n",
            "Did not meet early stopping. Best iteration is:\n",
            "[10]\tvalid_0's binary_logloss: 0.654764\n",
            "Iteration 1\n",
            "Test f1: 0.7513227513227514\n",
            "Test acc: 0.6083333333333333\n",
            "test preci: 0.6228070175438597\n",
            "test Recall: 0.9466666666666667\n",
            "Now predicting labels for unlabeled data...\n",
            "1\n",
            "204 high-probability predictions added to training data.\n",
            "4725 unlabeled instances remaining.\n",
            "\n",
            "[1]\tvalid_0's binary_logloss: 0.834913\n",
            "Training until validation scores don't improve for 10 rounds.\n",
            "[2]\tvalid_0's binary_logloss: 0.813995\n",
            "[3]\tvalid_0's binary_logloss: 0.788455\n",
            "[4]\tvalid_0's binary_logloss: 0.772713\n",
            "[5]\tvalid_0's binary_logloss: 0.766058\n",
            "[6]\tvalid_0's binary_logloss: 0.763594\n",
            "[7]\tvalid_0's binary_logloss: 0.765103\n",
            "[8]\tvalid_0's binary_logloss: 0.773572\n",
            "[9]\tvalid_0's binary_logloss: 0.77237\n",
            "[10]\tvalid_0's binary_logloss: 0.781849\n",
            "Did not meet early stopping. Best iteration is:\n",
            "[6]\tvalid_0's binary_logloss: 0.763594\n",
            "Iteration 2\n",
            "Test f1: 0.7692307692307693\n",
            "Test acc: 0.625\n",
            "test preci: 0.625\n",
            "test Recall: 1.0\n",
            "Now predicting labels for unlabeled data...\n",
            "2\n",
            "586 high-probability predictions added to training data.\n",
            "4139 unlabeled instances remaining.\n",
            "\n",
            "[1]\tvalid_0's binary_logloss: 0.950253\n",
            "Training until validation scores don't improve for 10 rounds.\n",
            "[2]\tvalid_0's binary_logloss: 0.827962\n",
            "[3]\tvalid_0's binary_logloss: 0.798184\n",
            "[4]\tvalid_0's binary_logloss: 0.774995\n",
            "[5]\tvalid_0's binary_logloss: 0.76043\n",
            "[6]\tvalid_0's binary_logloss: 0.761432\n",
            "[7]\tvalid_0's binary_logloss: 0.766965\n",
            "[8]\tvalid_0's binary_logloss: 0.774629\n",
            "[9]\tvalid_0's binary_logloss: 0.786098\n",
            "[10]\tvalid_0's binary_logloss: 0.796157\n",
            "Did not meet early stopping. Best iteration is:\n",
            "[5]\tvalid_0's binary_logloss: 0.76043\n",
            "Iteration 3\n",
            "Test f1: 0.7692307692307693\n",
            "Test acc: 0.625\n",
            "test preci: 0.625\n",
            "test Recall: 1.0\n",
            "Now predicting labels for unlabeled data...\n",
            "3\n",
            "1430 high-probability predictions added to training data.\n",
            "2709 unlabeled instances remaining.\n",
            "\n",
            "[1]\tvalid_0's binary_logloss: 1.36898\n",
            "Training until validation scores don't improve for 10 rounds.\n",
            "[2]\tvalid_0's binary_logloss: 1.37889\n",
            "[3]\tvalid_0's binary_logloss: 1.31554\n",
            "[4]\tvalid_0's binary_logloss: 1.25291\n",
            "[5]\tvalid_0's binary_logloss: 1.26996\n",
            "[6]\tvalid_0's binary_logloss: 1.3045\n",
            "[7]\tvalid_0's binary_logloss: 1.34012\n",
            "[8]\tvalid_0's binary_logloss: 1.37602\n",
            "[9]\tvalid_0's binary_logloss: 1.41206\n",
            "[10]\tvalid_0's binary_logloss: 1.44821\n",
            "Did not meet early stopping. Best iteration is:\n",
            "[4]\tvalid_0's binary_logloss: 1.25291\n",
            "Iteration 4\n",
            "Test f1: 0.7692307692307693\n",
            "Test acc: 0.625\n",
            "test preci: 0.625\n",
            "test Recall: 1.0\n",
            "Now predicting labels for unlabeled data...\n",
            "4\n",
            "2709 high-probability predictions added to training data.\n",
            "0 unlabeled instances remaining.\n",
            "\n"
          ]
        }
      ]
    },
    {
      "cell_type": "code",
      "source": [
        "lgbm_best.predict_proba(X_test)"
      ],
      "metadata": {
        "colab": {
          "base_uri": "https://localhost:8080/"
        },
        "id": "KBPz0S9O1VNU",
        "outputId": "d53dec99-5ea3-4156-8d55-bc16e0d58936"
      },
      "execution_count": null,
      "outputs": [
        {
          "output_type": "execute_result",
          "data": {
            "text/plain": [
              "array([[0.09636402, 0.90363598],\n",
              "       [0.01255533, 0.98744467],\n",
              "       [0.03608942, 0.96391058],\n",
              "       [0.04693451, 0.95306549],\n",
              "       [0.04360987, 0.95639013],\n",
              "       [0.02970497, 0.97029503],\n",
              "       [0.01983337, 0.98016663],\n",
              "       [0.01873904, 0.98126096],\n",
              "       [0.01696395, 0.98303605],\n",
              "       [0.01259225, 0.98740775],\n",
              "       [0.01260182, 0.98739818],\n",
              "       [0.11824111, 0.88175889],\n",
              "       [0.07543842, 0.92456158],\n",
              "       [0.01258151, 0.98741849],\n",
              "       [0.01255533, 0.98744467],\n",
              "       [0.02849074, 0.97150926],\n",
              "       [0.05521185, 0.94478815],\n",
              "       [0.01259189, 0.98740811],\n",
              "       [0.012599  , 0.987401  ],\n",
              "       [0.01260271, 0.98739729],\n",
              "       [0.01558389, 0.98441611],\n",
              "       [0.04269115, 0.95730885],\n",
              "       [0.01260302, 0.98739698],\n",
              "       [0.01948241, 0.98051759],\n",
              "       [0.01259799, 0.98740201],\n",
              "       [0.07075929, 0.92924071],\n",
              "       [0.03873818, 0.96126182],\n",
              "       [0.02028585, 0.97971415],\n",
              "       [0.0353096 , 0.9646904 ],\n",
              "       [0.01258151, 0.98741849],\n",
              "       [0.02143549, 0.97856451],\n",
              "       [0.01260302, 0.98739698],\n",
              "       [0.01257174, 0.98742826],\n",
              "       [0.03872905, 0.96127095],\n",
              "       [0.05540884, 0.94459116],\n",
              "       [0.03501556, 0.96498444],\n",
              "       [0.01260302, 0.98739698],\n",
              "       [0.14216326, 0.85783674],\n",
              "       [0.01260161, 0.98739839],\n",
              "       [0.01982777, 0.98017223],\n",
              "       [0.01979739, 0.98020261],\n",
              "       [0.03877065, 0.96122935],\n",
              "       [0.05324456, 0.94675544],\n",
              "       [0.0322804 , 0.9677196 ],\n",
              "       [0.01968209, 0.98031791],\n",
              "       [0.07941457, 0.92058543],\n",
              "       [0.04640309, 0.95359691],\n",
              "       [0.01926866, 0.98073134],\n",
              "       [0.01259364, 0.98740636],\n",
              "       [0.01983698, 0.98016302],\n",
              "       [0.01488762, 0.98511238],\n",
              "       [0.01671891, 0.98328109],\n",
              "       [0.01560092, 0.98439908],\n",
              "       [0.0310138 , 0.9689862 ],\n",
              "       [0.0186767 , 0.9813233 ],\n",
              "       [0.01259225, 0.98740775],\n",
              "       [0.04065721, 0.95934279],\n",
              "       [0.03731039, 0.96268961],\n",
              "       [0.06810299, 0.93189701],\n",
              "       [0.03047452, 0.96952548],\n",
              "       [0.01255733, 0.98744267],\n",
              "       [0.01260091, 0.98739909],\n",
              "       [0.06978461, 0.93021539],\n",
              "       [0.01258654, 0.98741346],\n",
              "       [0.02121428, 0.97878572],\n",
              "       [0.0448725 , 0.9551275 ],\n",
              "       [0.09289749, 0.90710251],\n",
              "       [0.03052194, 0.96947806],\n",
              "       [0.01700601, 0.98299399],\n",
              "       [0.01953867, 0.98046133],\n",
              "       [0.02941935, 0.97058065],\n",
              "       [0.01260187, 0.98739813],\n",
              "       [0.01255533, 0.98744467],\n",
              "       [0.0126025 , 0.9873975 ],\n",
              "       [0.03498975, 0.96501025],\n",
              "       [0.03201693, 0.96798307],\n",
              "       [0.01259252, 0.98740748],\n",
              "       [0.01549521, 0.98450479],\n",
              "       [0.02855354, 0.97144646],\n",
              "       [0.01260302, 0.98739698],\n",
              "       [0.03203238, 0.96796762],\n",
              "       [0.05937889, 0.94062111],\n",
              "       [0.01260302, 0.98739698],\n",
              "       [0.0126025 , 0.9873975 ],\n",
              "       [0.06855102, 0.93144898],\n",
              "       [0.01259692, 0.98740308],\n",
              "       [0.01505059, 0.98494941],\n",
              "       [0.0125336 , 0.9874664 ],\n",
              "       [0.01972586, 0.98027414],\n",
              "       [0.01259523, 0.98740477],\n",
              "       [0.01260302, 0.98739698],\n",
              "       [0.03838869, 0.96161131],\n",
              "       [0.12550895, 0.87449105],\n",
              "       [0.02027927, 0.97972073],\n",
              "       [0.02111541, 0.97888459],\n",
              "       [0.01259914, 0.98740086],\n",
              "       [0.01258551, 0.98741449],\n",
              "       [0.01796657, 0.98203343],\n",
              "       [0.01259936, 0.98740064],\n",
              "       [0.01874966, 0.98125034],\n",
              "       [0.02192514, 0.97807486],\n",
              "       [0.04525542, 0.95474458],\n",
              "       [0.02615961, 0.97384039],\n",
              "       [0.01260302, 0.98739698],\n",
              "       [0.01520861, 0.98479139],\n",
              "       [0.012599  , 0.987401  ],\n",
              "       [0.01257175, 0.98742825],\n",
              "       [0.01259278, 0.98740722],\n",
              "       [0.0392273 , 0.9607727 ],\n",
              "       [0.01259476, 0.98740524],\n",
              "       [0.04265888, 0.95734112],\n",
              "       [0.03874674, 0.96125326],\n",
              "       [0.04878169, 0.95121831],\n",
              "       [0.01260302, 0.98739698],\n",
              "       [0.01258689, 0.98741311],\n",
              "       [0.01260091, 0.98739909],\n",
              "       [0.01260302, 0.98739698],\n",
              "       [0.01760749, 0.98239251],\n",
              "       [0.03910378, 0.96089622],\n",
              "       [0.01259476, 0.98740524]])"
            ]
          },
          "metadata": {},
          "execution_count": 1154
        }
      ]
    },
    {
      "cell_type": "code",
      "source": [
        "# Plot f1 scores and number of pseudo-labels added for all iterations\n",
        "\n",
        "fig, (ax1, ax2) = plt.subplots(nrows=2, ncols=1, figsize=(6,8))\n",
        "ax1.plot(range(iterations), test_f1s)\n",
        "ax1.set_ylabel('f1 Score')\n",
        "ax2.bar(x=range(iterations), height=pseudo_labels)\n",
        "ax2.set_ylabel('Pseudo-Labels Created')\n",
        "ax2.set_xlabel('# Iterations');\n",
        "#ax3.plot(range(iterations), test_accs)\n",
        "#ax1.set_ylabel('accuracy')\n",
        "\n",
        "# View confusion matrix after self-training\n",
        "\n",
        "plot_confusion_matrix(lgbm_best, X_test, y_test, cmap='Blues');"
      ],
      "metadata": {
        "colab": {
          "base_uri": "https://localhost:8080/",
          "height": 759
        },
        "id": "q9RDV4Ci-19D",
        "outputId": "16334f6a-3739-4425-ecf8-9e7d6df6b071"
      },
      "execution_count": null,
      "outputs": [
        {
          "output_type": "display_data",
          "data": {
            "text/plain": [
              "<Figure size 432x576 with 2 Axes>"
            ],
            "image/png": "[encoded data removed]"
          },
          "metadata": {
            "needs_background": "light"
          }
        },
        {
          "output_type": "display_data",
          "data": {
            "text/plain": [
              "<Figure size 432x288 with 2 Axes>"
            ],
            "image/png": "[encoded data removed]"
          },
          "metadata": {
            "needs_background": "light"
          }
        }
      ]
    },
    {
      "cell_type": "code",
      "source": [
        "type(test_f1s)"
      ],
      "metadata": {
        "colab": {
          "base_uri": "https://localhost:8080/"
        },
        "id": "4S1Sjljv_fnP",
        "outputId": "f01c7738-3313-4904-f597-2faf745f06f2"
      },
      "execution_count": null,
      "outputs": [
        {
          "output_type": "execute_result",
          "data": {
            "text/plain": [
              "list"
            ]
          },
          "metadata": {},
          "execution_count": 1156
        }
      ]
    },
    {
      "cell_type": "code",
      "source": [
        "iterations"
      ],
      "metadata": {
        "colab": {
          "base_uri": "https://localhost:8080/"
        },
        "id": "43yZ8wJbLTHl",
        "outputId": "dc4cbdda-71a9-4ab9-9c36-a5a20e874768"
      },
      "execution_count": null,
      "outputs": [
        {
          "output_type": "execute_result",
          "data": {
            "text/plain": [
              "5"
            ]
          },
          "metadata": {},
          "execution_count": 1157
        }
      ]
    },
    {
      "cell_type": "code",
      "source": [
        "Range = list(range(iterations))\n",
        "Range"
      ],
      "metadata": {
        "colab": {
          "base_uri": "https://localhost:8080/"
        },
        "id": "30pVwxFpyS9q",
        "outputId": "0d49c8fa-4ed7-4e2c-c062-b04922afbd74"
      },
      "execution_count": null,
      "outputs": [
        {
          "output_type": "execute_result",
          "data": {
            "text/plain": [
              "[0, 1, 2, 3, 4]"
            ]
          },
          "metadata": {},
          "execution_count": 1158
        }
      ]
    },
    {
      "cell_type": "code",
      "source": [],
      "metadata": {
        "id": "I4NfFfn8KwOv"
      },
      "execution_count": null,
      "outputs": []
    },
    {
      "cell_type": "code",
      "source": [
        "test_f1s"
      ],
      "metadata": {
        "colab": {
          "base_uri": "https://localhost:8080/"
        },
        "id": "Kt_7YxwvIcSN",
        "outputId": "9dda5953-b3f5-498e-fe48-706e965297f0"
      },
      "execution_count": null,
      "outputs": [
        {
          "output_type": "execute_result",
          "data": {
            "text/plain": [
              "[0.7222222222222222,\n",
              " 0.7513227513227514,\n",
              " 0.7692307692307693,\n",
              " 0.7692307692307693,\n",
              " 0.7692307692307693]"
            ]
          },
          "metadata": {},
          "execution_count": 1159
        }
      ]
    },
    {
      "cell_type": "code",
      "source": [
        "# Plot f1 scores and number of pseudo-labels added for all iterations\n",
        "\n",
        "fig, ax1 = plt.subplots(nrows=1, ncols=1, figsize=(6,8))\n",
        "ax1.plot([0, 1, 2, 3, 4])\n",
        "ax1.set_ylabel('f1 Score')\n",
        "ax1.set_xticks([0,1,2,3,4])\n",
        "#ax2.bar(x=range(iterations), height=pseudo_labels)\n",
        "#ax2.set_ylabel('Pseudo-Labels Created')\n",
        "#ax2.set_xlabel('Iterations');\n",
        "#plt.grid(False)\n",
        "\n",
        "#ax3.plot(range(iterations), test_accs)\n",
        "#ax3.set_ylabel('accuracy')\n",
        "\n",
        "# View confusion matrix after self-training\n",
        "\n",
        "# plot_confusion_matrix(lgbm_best, X_test, y_test, cmap='Blues');"
      ],
      "metadata": {
        "colab": {
          "base_uri": "https://localhost:8080/",
          "height": 870
        },
        "id": "CX7CmoxKyhf-",
        "outputId": "5bbd79ce-771d-4d5d-da10-8613616987d8"
      },
      "execution_count": null,
      "outputs": [
        {
          "output_type": "error",
          "ename": "TypeError",
          "evalue": "ignored",
          "traceback": [
            "\u001b[0;31m---------------------------------------------------------------------------\u001b[0m",
            "\u001b[0;31mTypeError\u001b[0m                                 Traceback (most recent call last)",
            "\u001b[0;32m<ipython-input-1160-f22d06da76d7>\u001b[0m in \u001b[0;36m<module>\u001b[0;34m\u001b[0m\n\u001b[1;32m      4\u001b[0m \u001b[0max1\u001b[0m\u001b[0;34m.\u001b[0m\u001b[0mplot\u001b[0m\u001b[0;34m(\u001b[0m\u001b[0;34m[\u001b[0m\u001b[0;36m0\u001b[0m\u001b[0;34m,\u001b[0m \u001b[0;36m1\u001b[0m\u001b[0;34m,\u001b[0m \u001b[0;36m2\u001b[0m\u001b[0;34m,\u001b[0m \u001b[0;36m3\u001b[0m\u001b[0;34m,\u001b[0m \u001b[0;36m4\u001b[0m\u001b[0;34m]\u001b[0m\u001b[0;34m)\u001b[0m\u001b[0;34m\u001b[0m\u001b[0;34m\u001b[0m\u001b[0m\n\u001b[1;32m      5\u001b[0m \u001b[0max1\u001b[0m\u001b[0;34m.\u001b[0m\u001b[0mset_ylabel\u001b[0m\u001b[0;34m(\u001b[0m\u001b[0;34m'f1 Score'\u001b[0m\u001b[0;34m)\u001b[0m\u001b[0;34m\u001b[0m\u001b[0;34m\u001b[0m\u001b[0m\n\u001b[0;32m----> 6\u001b[0;31m \u001b[0max1\u001b[0m\u001b[0;34m.\u001b[0m\u001b[0mset_xticks\u001b[0m\u001b[0;34m(\u001b[0m\u001b[0;36m1\u001b[0m\u001b[0;34m)\u001b[0m\u001b[0;34m\u001b[0m\u001b[0;34m\u001b[0m\u001b[0m\n\u001b[0m\u001b[1;32m      7\u001b[0m \u001b[0;31m#ax2.bar(x=range(iterations), height=pseudo_labels)\u001b[0m\u001b[0;34m\u001b[0m\u001b[0;34m\u001b[0m\u001b[0;34m\u001b[0m\u001b[0m\n\u001b[1;32m      8\u001b[0m \u001b[0;31m#ax2.set_ylabel('Pseudo-Labels Created')\u001b[0m\u001b[0;34m\u001b[0m\u001b[0;34m\u001b[0m\u001b[0;34m\u001b[0m\u001b[0m\n",
            "\u001b[0;32m/usr/local/lib/python3.7/dist-packages/matplotlib/cbook/deprecation.py\u001b[0m in \u001b[0;36mwrapper\u001b[0;34m(*args, **kwargs)\u001b[0m\n\u001b[1;32m    398\u001b[0m                 \u001b[0;34m\"parameter will become keyword-only %(removal)s.\"\u001b[0m\u001b[0;34m,\u001b[0m\u001b[0;34m\u001b[0m\u001b[0;34m\u001b[0m\u001b[0m\n\u001b[1;32m    399\u001b[0m                 name=name, obj_type=f\"parameter of {func.__name__}()\")\n\u001b[0;32m--> 400\u001b[0;31m         \u001b[0;32mreturn\u001b[0m \u001b[0mfunc\u001b[0m\u001b[0;34m(\u001b[0m\u001b[0;34m*\u001b[0m\u001b[0margs\u001b[0m\u001b[0;34m,\u001b[0m \u001b[0;34m**\u001b[0m\u001b[0mkwargs\u001b[0m\u001b[0;34m)\u001b[0m\u001b[0;34m\u001b[0m\u001b[0;34m\u001b[0m\u001b[0m\n\u001b[0m\u001b[1;32m    401\u001b[0m \u001b[0;34m\u001b[0m\u001b[0m\n\u001b[1;32m    402\u001b[0m     \u001b[0;32mreturn\u001b[0m \u001b[0mwrapper\u001b[0m\u001b[0;34m\u001b[0m\u001b[0;34m\u001b[0m\u001b[0m\n",
            "\u001b[0;32m/usr/local/lib/python3.7/dist-packages/matplotlib/axes/_base.py\u001b[0m in \u001b[0;36mset_xticks\u001b[0;34m(self, ticks, minor)\u001b[0m\n\u001b[1;32m   3307\u001b[0m             \u001b[0mDefault\u001b[0m \u001b[0;32mis\u001b[0m\u001b[0;31m \u001b[0m\u001b[0;31m`\u001b[0m\u001b[0;31m`\u001b[0m\u001b[0;32mFalse\u001b[0m\u001b[0;31m`\u001b[0m\u001b[0;31m`\u001b[0m\u001b[0;34m.\u001b[0m\u001b[0;34m\u001b[0m\u001b[0;34m\u001b[0m\u001b[0m\n\u001b[1;32m   3308\u001b[0m         \"\"\"\n\u001b[0;32m-> 3309\u001b[0;31m         \u001b[0mret\u001b[0m \u001b[0;34m=\u001b[0m \u001b[0mself\u001b[0m\u001b[0;34m.\u001b[0m\u001b[0mxaxis\u001b[0m\u001b[0;34m.\u001b[0m\u001b[0mset_ticks\u001b[0m\u001b[0;34m(\u001b[0m\u001b[0mticks\u001b[0m\u001b[0;34m,\u001b[0m \u001b[0mminor\u001b[0m\u001b[0;34m=\u001b[0m\u001b[0mminor\u001b[0m\u001b[0;34m)\u001b[0m\u001b[0;34m\u001b[0m\u001b[0;34m\u001b[0m\u001b[0m\n\u001b[0m\u001b[1;32m   3310\u001b[0m         \u001b[0mself\u001b[0m\u001b[0;34m.\u001b[0m\u001b[0mstale\u001b[0m \u001b[0;34m=\u001b[0m \u001b[0;32mTrue\u001b[0m\u001b[0;34m\u001b[0m\u001b[0;34m\u001b[0m\u001b[0m\n\u001b[1;32m   3311\u001b[0m         \u001b[0;32mreturn\u001b[0m \u001b[0mret\u001b[0m\u001b[0;34m\u001b[0m\u001b[0;34m\u001b[0m\u001b[0m\n",
            "\u001b[0;32m/usr/local/lib/python3.7/dist-packages/matplotlib/cbook/deprecation.py\u001b[0m in \u001b[0;36mwrapper\u001b[0;34m(*args, **kwargs)\u001b[0m\n\u001b[1;32m    398\u001b[0m                 \u001b[0;34m\"parameter will become keyword-only %(removal)s.\"\u001b[0m\u001b[0;34m,\u001b[0m\u001b[0;34m\u001b[0m\u001b[0;34m\u001b[0m\u001b[0m\n\u001b[1;32m    399\u001b[0m                 name=name, obj_type=f\"parameter of {func.__name__}()\")\n\u001b[0;32m--> 400\u001b[0;31m         \u001b[0;32mreturn\u001b[0m \u001b[0mfunc\u001b[0m\u001b[0;34m(\u001b[0m\u001b[0;34m*\u001b[0m\u001b[0margs\u001b[0m\u001b[0;34m,\u001b[0m \u001b[0;34m**\u001b[0m\u001b[0mkwargs\u001b[0m\u001b[0;34m)\u001b[0m\u001b[0;34m\u001b[0m\u001b[0;34m\u001b[0m\u001b[0m\n\u001b[0m\u001b[1;32m    401\u001b[0m \u001b[0;34m\u001b[0m\u001b[0m\n\u001b[1;32m    402\u001b[0m     \u001b[0;32mreturn\u001b[0m \u001b[0mwrapper\u001b[0m\u001b[0;34m\u001b[0m\u001b[0;34m\u001b[0m\u001b[0m\n",
            "\u001b[0;32m/usr/local/lib/python3.7/dist-packages/matplotlib/axis.py\u001b[0m in \u001b[0;36mset_ticks\u001b[0;34m(self, ticks, minor)\u001b[0m\n\u001b[1;32m   1760\u001b[0m         \u001b[0;31m# XXX if the user changes units, the information will be lost here\u001b[0m\u001b[0;34m\u001b[0m\u001b[0;34m\u001b[0m\u001b[0;34m\u001b[0m\u001b[0m\n\u001b[1;32m   1761\u001b[0m         \u001b[0mticks\u001b[0m \u001b[0;34m=\u001b[0m \u001b[0mself\u001b[0m\u001b[0;34m.\u001b[0m\u001b[0mconvert_units\u001b[0m\u001b[0;34m(\u001b[0m\u001b[0mticks\u001b[0m\u001b[0;34m)\u001b[0m\u001b[0;34m\u001b[0m\u001b[0;34m\u001b[0m\u001b[0m\n\u001b[0;32m-> 1762\u001b[0;31m         \u001b[0;32mif\u001b[0m \u001b[0mlen\u001b[0m\u001b[0;34m(\u001b[0m\u001b[0mticks\u001b[0m\u001b[0;34m)\u001b[0m \u001b[0;34m>\u001b[0m \u001b[0;36m1\u001b[0m\u001b[0;34m:\u001b[0m\u001b[0;34m\u001b[0m\u001b[0;34m\u001b[0m\u001b[0m\n\u001b[0m\u001b[1;32m   1763\u001b[0m             \u001b[0mxleft\u001b[0m\u001b[0;34m,\u001b[0m \u001b[0mxright\u001b[0m \u001b[0;34m=\u001b[0m \u001b[0mself\u001b[0m\u001b[0;34m.\u001b[0m\u001b[0mget_view_interval\u001b[0m\u001b[0;34m(\u001b[0m\u001b[0;34m)\u001b[0m\u001b[0;34m\u001b[0m\u001b[0;34m\u001b[0m\u001b[0m\n\u001b[1;32m   1764\u001b[0m             \u001b[0;32mif\u001b[0m \u001b[0mxright\u001b[0m \u001b[0;34m>\u001b[0m \u001b[0mxleft\u001b[0m\u001b[0;34m:\u001b[0m\u001b[0;34m\u001b[0m\u001b[0;34m\u001b[0m\u001b[0m\n",
            "\u001b[0;31mTypeError\u001b[0m: object of type 'int' has no len()"
          ]
        },
        {
          "output_type": "display_data",
          "data": {
            "text/plain": [
              "<Figure size 432x576 with 1 Axes>"
            ],
            "image/png": "[encoded data removed]"
          },
          "metadata": {
            "needs_background": "light"
          }
        }
      ]
    },
    {
      "cell_type": "code",
      "source": [
        "iterations"
      ],
      "metadata": {
        "id": "0Bps97NTzldM"
      },
      "execution_count": null,
      "outputs": []
    },
    {
      "cell_type": "code",
      "source": [
        "from yellowbrick.classifier import ROCAUC\n",
        "\n",
        "lgbm_best = ROCAUC(lgbm_best)\n",
        "lgbm_best.fit(X_train, y_train)\n",
        "lgbm_best.score(X_test, y_test)\n",
        "lgbm_best.show()"
      ],
      "metadata": {
        "id": "EUmmh-9Ztu5x"
      },
      "execution_count": null,
      "outputs": []
    },
    {
      "cell_type": "code",
      "source": [
        "pred_probs.ndim"
      ],
      "metadata": {
        "id": "TmCVKwCUvK70"
      },
      "execution_count": null,
      "outputs": []
    },
    {
      "cell_type": "code",
      "source": [
        "X_unlabeled.shape"
      ],
      "metadata": {
        "id": "GUVoGBRnr4ii"
      },
      "execution_count": null,
      "outputs": []
    },
    {
      "cell_type": "code",
      "source": [
        "X_unlabeled.ndim"
      ],
      "metadata": {
        "id": "s7OFQz7Ouros"
      },
      "execution_count": null,
      "outputs": []
    },
    {
      "cell_type": "code",
      "source": [
        "type(X_unlabeled)"
      ],
      "metadata": {
        "id": "kC6uIuM3uiOc"
      },
      "execution_count": null,
      "outputs": []
    },
    {
      "cell_type": "code",
      "source": [
        "# X_test.type"
      ],
      "metadata": {
        "id": "MlbQyqnRwxu-"
      },
      "execution_count": null,
      "outputs": []
    },
    {
      "cell_type": "markdown",
      "source": [
        "# 이전 semi"
      ],
      "metadata": {
        "id": "-Qs__q9Lscab"
      }
    },
    {
      "cell_type": "code",
      "source": [
        "'''\n",
        "lgbm = LGBMClassifier(n_estimators= 400)\n",
        "\n",
        "evals = [(X_val, y_val)]\n",
        "lgbm.fit(X_train_over, y_train_over, early_stopping_rounds=100, eval_metric='recall', eval_set=evals, verbose=True)\n",
        "pred_lgbm = lgbm.predict(X_test)\n",
        "\n",
        "preds = lgbm.predict(X_unlabeled)\n",
        "preds = pd.DataFrame(preds)\n",
        "\n",
        "X_train_over = pd.concat([X_train_over, X_unlabeled], axis=0)\n",
        "y_train_over = pd.concat([y_train_over, preds])\n",
        "\n",
        "index = np.arange(0, len(X_train_over))\n",
        "index = np.random.shuffle(index)\n",
        "\n",
        "X_train_over = X_train_over.values\n",
        "y_train_over = y_train_over.values\n",
        "\n",
        "X_train_over = X_train_over[index].reshape(-1, 16)\n",
        "y_train_over = y_train_over[index].reshape(-1, 1)\n",
        "\n",
        "X_train_over = pd.DataFrame(X_train_over)\n",
        "y_train_over = pd.DataFrame(y_train_over)\n",
        "\n",
        "lgbm = LGBMClassifier(n_estimators= 400)\n",
        "\n",
        "evals = [(X_val, y_val)]\n",
        "lgbm.fit(X_train_over, y_train_over, early_stopping_rounds=100, eval_metric='recall', eval_set=evals, verbose=True)\n",
        "pred_lgbm = lgbm.predict(X_test)\n",
        "print(accuracy_score(y_test,pred_lgbm))\n",
        "print(precision_score(y_test,pred_lgbm))\n",
        "print(recall_score(y_test,pred_lgbm))\n",
        "print(f1_score(y_test,pred_lgbm))\n",
        "print(confusion_matrix(y_test,pred_lgbm, labels=[1,0]))\n",
        "'''"
      ],
      "metadata": {
        "id": "Sbtxp85e7Buc"
      },
      "execution_count": null,
      "outputs": []
    },
    {
      "cell_type": "code",
      "source": [
        "# X_train_over.shape"
      ],
      "metadata": {
        "id": "Z9uKqDbVyBku"
      },
      "execution_count": null,
      "outputs": []
    },
    {
      "cell_type": "code",
      "source": [
        "# y_train_over.shape"
      ],
      "metadata": {
        "id": "ati5HFYxyEKQ"
      },
      "execution_count": null,
      "outputs": []
    },
    {
      "cell_type": "code",
      "source": [
        "lgbm = LGBMClassifier(n_estimators= 400)\n",
        "\n",
        "evals = [(X_val, y_val)]\n",
        "lgbm.fit(X_train, y_train, early_stopping_rounds=100, eval_metric='recall', eval_set=evals, verbose=True)\n",
        "pred_lgbm = lgbm.predict(X_test)\n",
        "\n",
        "preds = lgbm.predict(X_unlabeled)\n",
        "preds = pd.DataFrame(preds)\n",
        "\n",
        "X_train = pd.concat([X_train, X_unlabeled], axis=0)\n",
        "y_train = pd.concat([y_train, preds])\n",
        "\n",
        "index = np.arange(0, len(X_train))\n",
        "index = np.random.shuffle(index)\n",
        "\n",
        "X_train = X_train.values\n",
        "y_train = y_train.values\n",
        "\n",
        "X_train = X_train[index].reshape(-1, 16)\n",
        "y_train = y_train[index].reshape(-1, 1)\n",
        "\n",
        "X_train = pd.DataFrame(X_train)\n",
        "y_train = pd.DataFrame(y_train)\n",
        "\n",
        "lgbm = LGBMClassifier(n_estimators= 400)\n",
        "\n",
        "evals = [(X_val, y_val)]\n",
        "lgbm.fit(X_train, y_train, early_stopping_rounds=100, eval_metric='recall', eval_set=evals, verbose=True)\n",
        "pred_lgbm = lgbm.predict(X_test)\n",
        "print(accuracy_score(y_test,pred_lgbm))\n",
        "print(precision_score(y_test,pred_lgbm))\n",
        "print(recall_score(y_test,pred_lgbm))\n",
        "print(f1_score(y_test,pred_lgbm))\n",
        "print(confusion_matrix(y_test,pred_lgbm, labels=[1,0]))"
      ],
      "metadata": {
        "id": "MWu0n3KLxL3Q"
      },
      "execution_count": null,
      "outputs": []
    },
    {
      "cell_type": "code",
      "source": [
        "X_train,X_test, y_train, y_test = train_test_split(feature, target,test_size=0.4, random_state=42, stratify=target)\n",
        "X_train,X_val, y_train, y_val = train_test_split(X_train, y_train,test_size=0.3, random_state=42, stratify=y_train)"
      ],
      "metadata": {
        "id": "_IV36Ef7-aJ8"
      },
      "execution_count": null,
      "outputs": []
    },
    {
      "cell_type": "code",
      "source": [
        "# 라벨링되지 않은 데이터 셋\n",
        "unlabeled_df = df.loc[df['DF2_pr']== 8.]"
      ],
      "metadata": {
        "id": "5jqaRq14DeTT"
      },
      "execution_count": null,
      "outputs": []
    },
    {
      "cell_type": "code",
      "source": [
        "X_unlabeled = unlabeled_df.drop('DF2_pr', axis = 1)"
      ],
      "metadata": {
        "id": "zmcZ64W1Dw_0"
      },
      "execution_count": null,
      "outputs": []
    },
    {
      "cell_type": "code",
      "source": [
        "y_train = y_train.values"
      ],
      "metadata": {
        "id": "gHrhMNHBL462"
      },
      "execution_count": null,
      "outputs": []
    },
    {
      "cell_type": "code",
      "source": [
        "X_unlabeled = Scaler.transform(X_unlabeled)\n",
        "X_unlabeled = pd.DataFrame(X_unlabeled)"
      ],
      "metadata": {
        "id": "oMD0reHqDnR4"
      },
      "execution_count": null,
      "outputs": []
    },
    {
      "cell_type": "code",
      "source": [
        "X_train = pd.DataFrame(X_train)\n",
        "y_train = pd.DataFrame(y_train)"
      ],
      "metadata": {
        "id": "5bK7oXeh_MUw"
      },
      "execution_count": null,
      "outputs": []
    },
    {
      "cell_type": "code",
      "source": [
        "pd.Series(y_train.values.reshape(-1)).unique()"
      ],
      "metadata": {
        "id": "UA01gW6OGwSP"
      },
      "execution_count": null,
      "outputs": []
    },
    {
      "cell_type": "code",
      "source": [
        "X_train = Scaler.transform(X_train)\n",
        "X_val = Scaler.transform(X_val)\n",
        "X_test = Scaler.transform(X_test)"
      ],
      "metadata": {
        "id": "hMQ_5-Cn-bPJ"
      },
      "execution_count": null,
      "outputs": []
    },
    {
      "cell_type": "code",
      "source": [
        "X_train = pd.DataFrame(X_train)\n",
        "y_train = pd.DataFrame(y_train)"
      ],
      "metadata": {
        "id": "vACplMDG_3y_"
      },
      "execution_count": null,
      "outputs": []
    },
    {
      "cell_type": "code",
      "source": [
        "# Initiate iteration counter\n",
        "iterations = 0\n",
        "\n",
        "# Containers to hold f1_scores and # of pseudo-labels\n",
        "#train_f1s = []\n",
        "test_f1s = []\n",
        "pseudo_labels = []\n",
        "\n",
        "# Assign value to initiate while loop\n",
        "high_prob = [1]\n",
        "\n",
        "# Loop will run until there are no more high-probability pseudo-labels\n",
        "lgbm = LGBMClassifier(n_estimators= 400)\n",
        "while len(high_prob) > 0:\n",
        "    # Fit classifier and make train/test predictions\n",
        "\n",
        "    evals = [(X_val, y_val)]\n",
        "    lgbm.fit(X_train, y_train, early_stopping_rounds=100, eval_metric='recall', eval_set=evals, verbose=False)\n",
        "    pred_lgbm = lgbm.predict(X_test)\n",
        "\n",
        "\n",
        "    '''\n",
        "    clf = LogisticRegression(max_iter=1000)\n",
        "    clf.fit(X_train, y_train)\n",
        "    y_hat_train = clf.predict(X_train)\n",
        "    y_hat_test = clf.predict(X_test)\n",
        "'''\n",
        "    # Calculate and print iteration # and f1 scores, and store f1 scores\n",
        "    #train_f1 = f1_score(y_train, y_hat_train)\n",
        "    test_f1 = f1_score(y_test, pred_lgbm)\n",
        "    print(f\"Iteration {iterations}\")\n",
        "\n",
        "    #train_f1s.append(train_f1)\n",
        "    test_f1s.append(test_f1)\n",
        "\n",
        "    # Generate predictions and probabilities for unlabeled data\n",
        "\n",
        "    if len(X_unlabeled)>0 :\n",
        "      print(f\"Now predicting labels for unlabeled data...\")\n",
        "\n",
        "      print(len(X_unlabeled))\n",
        "      pred_probs = lgbm.predict_proba(X_unlabeled)\n",
        "      preds = lgbm.predict(X_unlabeled)\n",
        "      prob_0 = pred_probs[:,0]\n",
        "      prob_1 = pred_probs[:,1]\n",
        "\n",
        "      # Store predictions and probabilities in dataframe\n",
        "      df_pred_prob = pd.DataFrame([])\n",
        "      df_pred_prob['preds'] = preds\n",
        "      df_pred_prob['prob_0'] = prob_0\n",
        "      df_pred_prob['prob_1'] = prob_1\n",
        "      df_pred_prob.index = X_unlabeled.index\n",
        "\n",
        "      # Separate predictions with > 99% probability\n",
        "      high_prob = pd.concat([df_pred_prob.loc[df_pred_prob['prob_0'] > 0.7],\n",
        "                            df_pred_prob.loc[df_pred_prob['prob_1'] > 0.7]],\n",
        "                            axis=0)\n",
        "      print(f\"{len(high_prob)} high-probability predictions added to training data.\")\n",
        "\n",
        "      pseudo_labels.append(len(high_prob))\n",
        "\n",
        "      # Add pseudo-labeled data to training data\n",
        "      X_train = pd.concat([X_train, X_unlabeled.loc[high_prob.index]], axis=0)\n",
        "      y_train = pd.concat([y_train, high_prob.preds], axis=0)\n",
        "\n",
        "      index = np.arange(0, len(X_train))\n",
        "      index = np.random.shuffle(index)\n",
        "\n",
        "      X_train = X_train.values\n",
        "      y_train = y_train.values\n",
        "\n",
        "      X_train = X_train[index].reshape(-1, 16)\n",
        "      y_train = y_train[index].reshape(-1, 1)\n",
        "\n",
        "      X_train = pd.DataFrame(X_train)\n",
        "      y_train = pd.DataFrame(y_train)\n",
        "\n",
        "\n",
        "      # Drop pseudo-labeled instances from unlabeled data\n",
        "      X_unlabeled = X_unlabeled.drop(index=high_prob.index)\n",
        "    else:\n",
        "      high_prob = []\n",
        "\n",
        "    print(f\"{len(X_unlabeled)} unlabeled instances remaining.\\n\")\n",
        "\n",
        "    print(accuracy_score(y_test,pred_lgbm))\n",
        "    print(precision_score(y_test,pred_lgbm))\n",
        "    print(recall_score(y_test,pred_lgbm))\n",
        "    print(f1_score(y_test,pred_lgbm))\n",
        "    print(confusion_matrix(y_test,pred_lgbm, labels=[1,0]))\n",
        "\n",
        "    # Update iteration counter\n",
        "    if len(high_prob) == 0 and iterations > 0:\n",
        "      break\n",
        "\n",
        "    iterations += 1\n",
        ""
      ],
      "metadata": {
        "id": "x83kfadit-x4"
      },
      "execution_count": null,
      "outputs": []
    },
    {
      "cell_type": "code",
      "source": [
        "X_train,X_test, y_train, y_test = train_test_split(feature, target,test_size=0.4, random_state=42, stratify=target)\n",
        "X_train,X_val, y_train, y_val = train_test_split(X_train, y_train,test_size=0.3, random_state=42, stratify=y_train)"
      ],
      "metadata": {
        "id": "Ruj-WQ6HMWf9"
      },
      "execution_count": null,
      "outputs": []
    },
    {
      "cell_type": "code",
      "source": [
        "# 라벨링되지 않은 데이터 셋\n",
        "unlabeled_df = df.loc[df['DF2_pr']== 8.]"
      ],
      "metadata": {
        "id": "A9ZGMFy6ziAg"
      },
      "execution_count": null,
      "outputs": []
    },
    {
      "cell_type": "code",
      "source": [
        "X_unlabeled = unlabeled_df.drop('DF2_pr', axis = 1)"
      ],
      "metadata": {
        "id": "My32Ezj9zmhL"
      },
      "execution_count": null,
      "outputs": []
    },
    {
      "cell_type": "code",
      "source": [
        "y_train = y_train.values"
      ],
      "metadata": {
        "id": "RcFGFUhYzm3A"
      },
      "execution_count": null,
      "outputs": []
    },
    {
      "cell_type": "code",
      "source": [
        "X_unlabeled = Scaler.transform(X_unlabeled)\n",
        "X_unlabeled = pd.DataFrame(X_unlabeled)"
      ],
      "metadata": {
        "id": "2dy9SYTKznBo"
      },
      "execution_count": null,
      "outputs": []
    },
    {
      "cell_type": "code",
      "source": [
        "X_train = pd.DataFrame(X_train)\n",
        "y_train = pd.DataFrame(y_train)"
      ],
      "metadata": {
        "id": "fXUnDcpcznD0"
      },
      "execution_count": null,
      "outputs": []
    },
    {
      "cell_type": "code",
      "source": [
        "X_train = Scaler.transform(X_train)\n",
        "X_val = Scaler.transform(X_val)\n",
        "X_test = Scaler.transform(X_test)"
      ],
      "metadata": {
        "id": "-K1fziktzt2g"
      },
      "execution_count": null,
      "outputs": []
    },
    {
      "cell_type": "code",
      "source": [
        "X_train = pd.DataFrame(X_train)\n",
        "y_train = pd.DataFrame(y_train)"
      ],
      "metadata": {
        "id": "Kn5jfOBxzt8l"
      },
      "execution_count": null,
      "outputs": []
    },
    {
      "cell_type": "code",
      "source": [
        "# Initiate iteration counter\n",
        "iterations = 0\n",
        "\n",
        "# Containers to hold f1_scores and # of pseudo-labels\n",
        "#train_f1s = []\n",
        "test_f1s = []\n",
        "pseudo_labels = []\n",
        "\n",
        "# Assign value to initiate while loop\n",
        "high_prob = [1]\n",
        "\n",
        "# Loop will run until there are no more high-probability pseudo-labels\n",
        "lgbm = LGBMClassifier(n_estimators= 400)\n",
        "while len(high_prob) > 0:\n",
        "    # Fit classifier and make train/test predictions\n",
        "\n",
        "    evals = [(X_val, y_val)]\n",
        "    lgbm.fit(X_train, y_train, early_stopping_rounds=100, eval_metric='recall', eval_set=evals, verbose=False)\n",
        "    pred_lgbm = lgbm.predict(X_test)\n",
        "\n",
        "\n",
        "    '''\n",
        "    clf = LogisticRegression(max_iter=1000)\n",
        "    clf.fit(X_train, y_train)\n",
        "    y_hat_train = clf.predict(X_train)\n",
        "    y_hat_test = clf.predict(X_test)\n",
        "'''\n",
        "    # Calculate and print iteration # and f1 scores, and store f1 scores\n",
        "    #train_f1 = f1_score(y_train, y_hat_train)\n",
        "    test_f1 = f1_score(y_test, pred_lgbm)\n",
        "    print(f\"Iteration {iterations}\")\n",
        "\n",
        "    #train_f1s.append(train_f1)\n",
        "    test_f1s.append(test_f1)\n",
        "\n",
        "    # Generate predictions and probabilities for unlabeled data\n",
        "\n",
        "    if len(X_unlabeled)>0 :\n",
        "      print(f\"Now predicting labels for unlabeled data...\")\n",
        "\n",
        "      print(len(X_unlabeled))\n",
        "      pred_probs = lgbm.predict_proba(X_unlabeled)\n",
        "      preds = lgbm.predict(X_unlabeled)\n",
        "      prob_0 = pred_probs[:,0]\n",
        "      prob_1 = pred_probs[:,1]\n",
        "\n",
        "      # Store predictions and probabilities in dataframe\n",
        "      df_pred_prob = pd.DataFrame([])\n",
        "      df_pred_prob['preds'] = preds\n",
        "      df_pred_prob['prob_0'] = prob_0\n",
        "      df_pred_prob['prob_1'] = prob_1\n",
        "      df_pred_prob.index = X_unlabeled.index\n",
        "\n",
        "      # Separate predictions with > 99% probability\n",
        "      high_prob = pd.concat([df_pred_prob.loc[df_pred_prob['prob_0'] > 0.6],\n",
        "                            df_pred_prob.loc[df_pred_prob['prob_1'] > 0.6]],\n",
        "                            axis=0)\n",
        "      print(f\"{len(high_prob)} high-probability predictions added to training data.\")\n",
        "\n",
        "      pseudo_labels.append(len(high_prob))\n",
        "\n",
        "      # Add pseudo-labeled data to training data\n",
        "      X_train = pd.concat([X_train, X_unlabeled.loc[high_prob.index]], axis=0)\n",
        "      y_train = pd.concat([y_train, high_prob.preds], axis=0)\n",
        "\n",
        "      index = np.arange(0, len(X_train))\n",
        "      index = np.random.shuffle(index)\n",
        "\n",
        "# Random\n",
        "      X_train = X_train.values\n",
        "      y_train = y_train.values\n",
        "\n",
        "      X_train = X_train[index].reshape(-1, 16)\n",
        "      y_train = y_train[index].reshape(-1, 1)\n",
        "\n",
        "      X_train = pd.DataFrame(X_train)\n",
        "      y_train = pd.DataFrame(y_train)\n",
        "\n",
        "\n",
        "      # Drop pseudo-labeled instances from unlabeled data\n",
        "      X_unlabeled = X_unlabeled.drop(index=high_prob.index)\n",
        "    else:\n",
        "      high_prob = []\n",
        "\n",
        "    print(f\"{len(X_unlabeled)} unlabeled instances remaining.\\n\")\n",
        "\n",
        "    print(accuracy_score(y_test,pred_lgbm))\n",
        "    print(precision_score(y_test,pred_lgbm))\n",
        "    print(recall_score(y_test,pred_lgbm))\n",
        "    print(f1_score(y_test,pred_lgbm))\n",
        "    print(confusion_matrix(y_test,pred_lgbm, labels=[1,0]))\n",
        "\n",
        "    # Update iteration counter\n",
        "    if len(high_prob) == 0 and iterations > 0:\n",
        "      break\n",
        "\n",
        "    iterations += 1\n",
        ""
      ],
      "metadata": {
        "id": "MapFMlAAzelG"
      },
      "execution_count": null,
      "outputs": []
    },
    {
      "cell_type": "code",
      "source": [],
      "metadata": {
        "id": "h_ujqZJzz4Ct"
      },
      "execution_count": null,
      "outputs": []
    }
  ]
}